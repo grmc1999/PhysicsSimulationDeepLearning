{
 "cells": [
  {
   "cell_type": "code",
   "execution_count": 2,
   "id": "b05aa464-4590-4166-a97d-3333da95f14f",
   "metadata": {},
   "outputs": [],
   "source": [
    "import pandas as pd\n",
    "\n",
    "def solution_data_normalization(u,X,t):\n",
    "    data_dict={\n",
    "        \"u\":u,\n",
    "        \"x\":X[0],\n",
    "        \"y\":X[1],\n",
    "        \"z\":X[2],\n",
    "        \"t\":t if t!=None else [None for _ in X[0]]\n",
    "    }\n",
    "    return pd.DataFrame(data_dict)"
   ]
  },
  {
   "cell_type": "code",
   "execution_count": null,
   "id": "d98793de-80d6-421a-b857-b113f625cee2",
   "metadata": {},
   "outputs": [],
   "source": []
  }
 ],
 "metadata": {
  "kernelspec": {
   "display_name": "Python 3 (ipykernel)",
   "language": "python",
   "name": "python3"
  },
  "language_info": {
   "codemirror_mode": {
    "name": "ipython",
    "version": 3
   },
   "file_extension": ".py",
   "mimetype": "text/x-python",
   "name": "python",
   "nbconvert_exporter": "python",
   "pygments_lexer": "ipython3",
   "version": "3.12.3"
  }
 },
 "nbformat": 4,
 "nbformat_minor": 5
}

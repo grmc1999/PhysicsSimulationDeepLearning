{
 "cells": [
  {
   "cell_type": "code",
   "execution_count": 10,
   "id": "b78eebb1",
   "metadata": {},
   "outputs": [
    {
     "name": "stdout",
     "output_type": "stream",
     "text": [
      "/share_zeta/Proxy-Sim/PhysicsSimulationDeepLearning\n"
     ]
    },
    {
     "name": "stdout",
     "output_type": "stream",
     "text": [
      "Found existing installation: sympytorch 0.1.4\n",
      "Uninstalling sympytorch-0.1.4:\n",
      "  Successfully uninstalled sympytorch-0.1.4\n"
     ]
    }
   ],
   "source": [
    "! pwd\n",
    "! pip uninstall sympytorch -y"
   ]
  },
  {
   "cell_type": "code",
   "execution_count": 7,
   "id": "4865e9b0-c759-451f-a019-96d5da1ef942",
   "metadata": {},
   "outputs": [],
   "source": [
    "import os\n",
    "import sys\n",
    "\n",
    "\n",
    "ROOT=\"/home/guillermo.carrilho/PhysicsSimulationDeepLearning\"\n",
    "#ROOT=\"/share_zeta/Proxy-Sim/PhysicsSimulationDeepLearning\"\n",
    "\n",
    "sys.path.append(os.path.join(ROOT,\"Physical_models\"))"
   ]
  },
  {
   "cell_type": "markdown",
   "id": "79008c96",
   "metadata": {},
   "source": [
    "Equation solve by this algorithm is:\n",
    "$$\\textbf{u}=-\\frac{\\textbf{k}}{\\mu}(\\nabla p - \\rho g)$$\n",
    "\n",
    "### The case of this implementation is\n",
    "\n",
    "$$\\phi \\frac{\\partial p}{\\partial t} - \\frac{1}{\\mu} \\nabla \\cdot (\\textbf{k} \\nabla p) = q$$"
   ]
  },
  {
   "cell_type": "markdown",
   "id": "257873ee",
   "metadata": {},
   "source": [
    "# stable fluids approach"
   ]
  },
  {
   "cell_type": "markdown",
   "id": "20d4e38a",
   "metadata": {},
   "source": [
    "Equation solve by this algorithm is:\n",
    "$$\\textbf{u}=-\\frac{\\textbf{k}}{\\mu}(\\nabla p - \\rho g)$$\n",
    "\n",
    "### The case of this implementation is\n",
    "\n",
    "$$\\phi \\frac{\\partial p}{\\partial t} - \\frac{1}{\\mu} \\nabla \\cdot (\\textbf{k} \\nabla p) = q$$"
   ]
  },
  {
   "cell_type": "code",
   "execution_count": 8,
   "id": "708a3525",
   "metadata": {},
   "outputs": [],
   "source": [
    "#from Differentiable_simulation import dK_w,K_w,K_o,grad_phi_dK\n",
    "from phi.torch.flow import *\n",
    "from phi.torch.flow import diffuse, advect, Solve, fluid, math,Field, unstack,stack,batch,field,vec\n",
    "\n",
    "class darcy_flow_model(object):\n",
    "  def __init__(self,field,dt):\n",
    "    self.field=field\n",
    "    self.dt=dt\n",
    "\n",
    "  def nK(self,domain):\n",
    "    return 0.001*math.exp(-math.sum(((domain.center-0.5)**2),\"vector\")/(2*0.5))\n",
    "\n",
    "  def reaction_diffusion(self, u, dt):\n",
    "    su = self.nK(u.geometry) * field.laplace(u)\n",
    "    return u + dt * su\n",
    "  def step(self,v):\n",
    "    return self.reaction_diffusion(v,self.dt)\n",
    "  \n",
    "args={\"k\":0.1}\n",
    "  \n",
    "\n",
    "geo=UniformGrid(x=60, y=60,bounds=Box(x=1.0, y=1.0))\n",
    "phi_w=Field( geo,values=vec(x=0.0,y=0.0),\n",
    "      boundary= {\n",
    "          'x-': vec(x=0.1,y=0.0),\n",
    "          'x+': ZERO_GRADIENT,\n",
    "          'y-': 0,\n",
    "          'y+': 0\n",
    " })\n",
    "\n",
    "#phy=physical_model(\n",
    "#   phi_w,0.01\n",
    "#)"
   ]
  },
  {
   "cell_type": "markdown",
   "id": "0db465a1",
   "metadata": {},
   "source": [
    "## 2D"
   ]
  },
  {
   "cell_type": "code",
   "execution_count": 9,
   "id": "0b790691",
   "metadata": {},
   "outputs": [
    {
     "ename": "TypeError",
     "evalue": "darcy_flow_model.__init__() missing 2 required positional arguments: 'field' and 'dt'",
     "output_type": "error",
     "traceback": [
      "\u001b[0;31m---------------------------------------------------------------------------\u001b[0m",
      "\u001b[0;31mTypeError\u001b[0m                                 Traceback (most recent call last)",
      "Cell \u001b[0;32mIn[9], line 10\u001b[0m\n\u001b[1;32m      2\u001b[0m phi_w\u001b[38;5;241m=\u001b[39mField( geo,values\u001b[38;5;241m=\u001b[39mtensor(\u001b[38;5;241m0.0\u001b[39m),\n\u001b[1;32m      3\u001b[0m       boundary\u001b[38;5;241m=\u001b[39m {\n\u001b[1;32m      4\u001b[0m           \u001b[38;5;124m'\u001b[39m\u001b[38;5;124mx-\u001b[39m\u001b[38;5;124m'\u001b[39m: tensor(\u001b[38;5;241m0.01\u001b[39m),\n\u001b[0;32m   (...)\u001b[0m\n\u001b[1;32m      7\u001b[0m           \u001b[38;5;124m'\u001b[39m\u001b[38;5;124my+\u001b[39m\u001b[38;5;124m'\u001b[39m: \u001b[38;5;241m0\u001b[39m\n\u001b[1;32m      8\u001b[0m  })\n\u001b[1;32m      9\u001b[0m phi_w\n\u001b[0;32m---> 10\u001b[0m model\u001b[38;5;241m=\u001b[39m\u001b[43mdarcy_flow_model\u001b[49m\u001b[43m(\u001b[49m\u001b[43m)\u001b[49m\n",
      "\u001b[0;31mTypeError\u001b[0m: darcy_flow_model.__init__() missing 2 required positional arguments: 'field' and 'dt'"
     ]
    }
   ],
   "source": [
    "geo=UniformGrid(x=20, y=20,bounds=Box(x=1.0, y=1.0))\n",
    "phi_w=Field( geo,values=tensor(0.0),\n",
    "      boundary= {\n",
    "          'x-': tensor(0.01),\n",
    "          'x+': ZERO_GRADIENT,\n",
    "          'y-': 0,\n",
    "          'y+': 0\n",
    " })\n",
    "phi_w\n",
    "model=darcy_flow_model()"
   ]
  },
  {
   "cell_type": "code",
   "execution_count": 10,
   "id": "af91cc28",
   "metadata": {},
   "outputs": [],
   "source": [
    "class simple_cnn_model(torch.nn.Module):\n",
    "  def __init__(self):\n",
    "    super(simple_cnn_model,self).__init__()\n",
    "\n",
    "    self.conv1=torch.nn.Conv2d(2, 32, (9,9), padding=4)\n",
    "    self.conv2=torch.nn.Conv2d(32, 64, (9,9), padding=4)\n",
    "    self.conv3=torch.nn.Conv2d(64, 2, (9,9), padding=4)\n",
    "    self.act1=torch.nn.ReLU()\n",
    "    self.act2=torch.nn.ReLU()\n",
    "    self.act3=torch.nn.Tanh()\n",
    "  def forward(self,x):\n",
    "    x=self.act1(self.conv1(x))\n",
    "    x=self.act2(self.conv2(x))\n",
    "    x=self.act3(self.conv3(x))*1\n",
    "    #x=torch.clamp(x, min=-0.5, max=0.5)\n",
    "    return x[0]"
   ]
  },
  {
   "cell_type": "code",
   "execution_count": 11,
   "id": "4abcabb2",
   "metadata": {},
   "outputs": [],
   "source": [
    "model=simple_cnn_model().train()\n",
    "optimizer=torch.optim.Adam(model.parameters(),lr=1e-3)"
   ]
  },
  {
   "cell_type": "code",
   "execution_count": 12,
   "id": "75d56057",
   "metadata": {},
   "outputs": [
    {
     "ename": "NameError",
     "evalue": "name 'v0' is not defined",
     "output_type": "error",
     "traceback": [
      "\u001b[0;31m---------------------------------------------------------------------------\u001b[0m",
      "\u001b[0;31mNameError\u001b[0m                                 Traceback (most recent call last)",
      "Cell \u001b[0;32mIn[12], line 1\u001b[0m\n\u001b[0;32m----> 1\u001b[0m v,p \u001b[38;5;241m=\u001b[39m fluid\u001b[38;5;241m.\u001b[39mmake_incompressible(\u001b[43mv0\u001b[49m,solve\u001b[38;5;241m=\u001b[39mSolve(\u001b[38;5;124m'\u001b[39m\u001b[38;5;124mCG-adaptive\u001b[39m\u001b[38;5;124m'\u001b[39m,\u001b[38;5;241m1e-2\u001b[39m,\u001b[38;5;241m1e-2\u001b[39m))\n",
      "\u001b[0;31mNameError\u001b[0m: name 'v0' is not defined"
     ]
    }
   ],
   "source": [
    "v,p = fluid.make_incompressible(v0,solve=Solve('CG-adaptive',1e-2,1e-2))"
   ]
  },
  {
   "cell_type": "code",
   "execution_count": 14,
   "id": "8fa75c56",
   "metadata": {},
   "outputs": [],
   "source": [
    "from Train_differentiable_physics import PINNS_based_SOL_trainer\n",
    "import torch\n",
    "T=PINNS_based_SOL_trainer(\n",
    "    field=(v0,fluid.make_incompressible(v0,solve=Solve('CG-adaptive',1e-2,1e-2))[-1]),\n",
    "    model=model,\n",
    "    optimizer=optimizer,\n",
    "    simulation_steps=2,\n",
    "    time_step=0.1,\n",
    "    loss=torch.mean\n",
    "    )"
   ]
  },
  {
   "cell_type": "code",
   "execution_count": 16,
   "id": "e160081c",
   "metadata": {},
   "outputs": [
    {
     "ename": "TypeError",
     "evalue": "Random.randint() missing 2 required positional arguments: 'a' and 'b'",
     "output_type": "error",
     "traceback": [
      "\u001b[0;31m---------------------------------------------------------------------------\u001b[0m",
      "\u001b[0;31mTypeError\u001b[0m                                 Traceback (most recent call last)",
      "Cell \u001b[0;32mIn[16], line 2\u001b[0m\n\u001b[1;32m      1\u001b[0m \u001b[38;5;28;01mfrom\u001b[39;00m\u001b[38;5;250m \u001b[39m\u001b[38;5;21;01mrandom\u001b[39;00m\u001b[38;5;250m \u001b[39m\u001b[38;5;28;01mimport\u001b[39;00m randint\n\u001b[0;32m----> 2\u001b[0m \u001b[43mrandint\u001b[49m\u001b[43m(\u001b[49m\u001b[43m)\u001b[49m\n",
      "\u001b[0;31mTypeError\u001b[0m: Random.randint() missing 2 required positional arguments: 'a' and 'b'"
     ]
    }
   ],
   "source": [
    "from random import randint\n",
    "randint()"
   ]
  },
  {
   "cell_type": "code",
   "execution_count": 15,
   "id": "eb32fb74",
   "metadata": {},
   "outputs": [
    {
     "data": {
      "text/plain": [
       "[array(0.5626921, dtype=float32),\n",
       " array(-0.45075464, dtype=float32),\n",
       " array(-0.6038111, dtype=float32),\n",
       " array(-0.64447063, dtype=float32),\n",
       " array(-0.6510437, dtype=float32)]"
      ]
     },
     "execution_count": 15,
     "metadata": {},
     "output_type": "execute_result"
    }
   ],
   "source": [
    "T.train(5)"
   ]
  },
  {
   "cell_type": "markdown",
   "id": "5dbfa1cf",
   "metadata": {},
   "source": [
    "## 3D"
   ]
  },
  {
   "cell_type": "code",
   "execution_count": 6,
   "id": "fe15c639",
   "metadata": {},
   "outputs": [
    {
     "name": "stderr",
     "output_type": "stream",
     "text": [
      "/usr/local/lib/python3.10/dist-packages/phiml/math/_optimize.py:640: UserWarning: Possible rank deficiency detected. Matrix might be singular which can lead to convergence problems. Please specify using Solve(rank_deficiency=...).\n",
      "  warnings.warn(\"Possible rank deficiency detected. Matrix might be singular which can lead to convergence problems. Please specify using Solve(rank_deficiency=...).\")\n"
     ]
    },
    {
     "ename": "Diverged",
     "evalue": "Solve diverged within 819 iterations using Φ-ML CG (PyTorch*)",
     "output_type": "error",
     "traceback": [
      "\u001b[0;31m---------------------------------------------------------------------------\u001b[0m",
      "\u001b[0;31mDiverged\u001b[0m                                  Traceback (most recent call last)",
      "Cell \u001b[0;32mIn[6], line 3\u001b[0m\n\u001b[1;32m      1\u001b[0m \u001b[38;5;28;01mfrom\u001b[39;00m\u001b[38;5;250m \u001b[39m\u001b[38;5;21;01mTrain_differentiable_physics\u001b[39;00m\u001b[38;5;250m \u001b[39m\u001b[38;5;28;01mimport\u001b[39;00m PINNS_based_SOL_trainer\n\u001b[1;32m      2\u001b[0m \u001b[38;5;28;01mimport\u001b[39;00m\u001b[38;5;250m \u001b[39m\u001b[38;5;21;01mtorch\u001b[39;00m\n\u001b[0;32m----> 3\u001b[0m \u001b[43mPINNS_based_SOL_trainer\u001b[49m\u001b[43m(\u001b[49m\n\u001b[1;32m      4\u001b[0m \u001b[43m    \u001b[49m\u001b[43mfield\u001b[49m\u001b[38;5;241;43m=\u001b[39;49m\u001b[43mv0\u001b[49m\u001b[43m,\u001b[49m\n\u001b[1;32m      5\u001b[0m \u001b[43m    \u001b[49m\u001b[43mmodel\u001b[49m\u001b[38;5;241;43m=\u001b[39;49m\u001b[43mmodel\u001b[49m\u001b[43m,\u001b[49m\n\u001b[1;32m      6\u001b[0m \u001b[43m    \u001b[49m\u001b[43moptimizer\u001b[49m\u001b[38;5;241;43m=\u001b[39;49m\u001b[43moptimizer\u001b[49m\u001b[43m,\u001b[49m\n\u001b[1;32m      7\u001b[0m \u001b[43m    \u001b[49m\u001b[43msimulation_steps\u001b[49m\u001b[38;5;241;43m=\u001b[39;49m\u001b[38;5;241;43m10\u001b[39;49m\u001b[43m,\u001b[49m\n\u001b[1;32m      8\u001b[0m \u001b[43m    \u001b[49m\u001b[43mtime_step\u001b[49m\u001b[38;5;241;43m=\u001b[39;49m\u001b[38;5;241;43m0.1\u001b[39;49m\u001b[43m,\u001b[49m\n\u001b[1;32m      9\u001b[0m \u001b[43m    \u001b[49m\u001b[43mloss\u001b[49m\u001b[38;5;241;43m=\u001b[39;49m\u001b[43mtorch\u001b[49m\u001b[38;5;241;43m.\u001b[39;49m\u001b[43mmean\u001b[49m\n\u001b[1;32m     10\u001b[0m \u001b[43m    \u001b[49m\u001b[43m)\u001b[49m\n",
      "File \u001b[0;32m~/PhysicsSimulationDeepLearning/Train_differentiable_physics.py:503\u001b[0m, in \u001b[0;36mPINNS_based_SOL_trainer.__init__\u001b[0;34m(self, field, model, optimizer, simulation_steps, time_step, loss)\u001b[0m\n\u001b[1;32m    500\u001b[0m \u001b[38;5;28mself\u001b[39m\u001b[38;5;241m.\u001b[39minit_states_gt\u001b[38;5;241m=\u001b[39m[\u001b[38;5;28mself\u001b[39m\u001b[38;5;241m.\u001b[39mv]\n\u001b[1;32m    502\u001b[0m \u001b[38;5;28;01mfor\u001b[39;00m i \u001b[38;5;129;01min\u001b[39;00m \u001b[38;5;28mrange\u001b[39m(\u001b[38;5;241m50\u001b[39m):\n\u001b[0;32m--> 503\u001b[0m   \u001b[38;5;28mself\u001b[39m\u001b[38;5;241m.\u001b[39minit_states_gt\u001b[38;5;241m.\u001b[39mappend(\u001b[38;5;28;43mself\u001b[39;49m\u001b[38;5;241;43m.\u001b[39;49m\u001b[43mph_model\u001b[49m\u001b[38;5;241;43m.\u001b[39;49m\u001b[43mstep\u001b[49m\u001b[43m(\u001b[49m\u001b[38;5;28;43mself\u001b[39;49m\u001b[38;5;241;43m.\u001b[39;49m\u001b[43minit_states_gt\u001b[49m\u001b[43m[\u001b[49m\u001b[38;5;241;43m-\u001b[39;49m\u001b[38;5;241;43m1\u001b[39;49m\u001b[43m]\u001b[49m\u001b[43m)\u001b[49m)\n\u001b[1;32m    505\u001b[0m \u001b[38;5;28mself\u001b[39m\u001b[38;5;241m.\u001b[39mn_steps\u001b[38;5;241m=\u001b[39msimulation_steps\n\u001b[1;32m    506\u001b[0m \u001b[38;5;28mself\u001b[39m\u001b[38;5;241m.\u001b[39mst_model\u001b[38;5;241m=\u001b[39mmodel\n",
      "File \u001b[0;32m~/PhysicsSimulationDeepLearning/Physical_models/Differentiable_simulation.py:135\u001b[0m, in \u001b[0;36mphysical_model.step\u001b[0;34m(self, v)\u001b[0m\n\u001b[1;32m    134\u001b[0m \u001b[38;5;28;01mdef\u001b[39;00m\u001b[38;5;250m \u001b[39m\u001b[38;5;21mstep\u001b[39m(\u001b[38;5;28mself\u001b[39m,v):\n\u001b[0;32m--> 135\u001b[0m   \u001b[38;5;28;01mreturn\u001b[39;00m \u001b[38;5;28;43mself\u001b[39;49m\u001b[38;5;241;43m.\u001b[39;49m\u001b[43mimplicit_time_step\u001b[49m\u001b[43m(\u001b[49m\u001b[43mv\u001b[49m\u001b[43m,\u001b[49m\u001b[38;5;28;43mself\u001b[39;49m\u001b[38;5;241;43m.\u001b[39;49m\u001b[43mdt\u001b[49m\u001b[43m)\u001b[49m\n",
      "File \u001b[0;32m~/PhysicsSimulationDeepLearning/Physical_models/Differentiable_simulation.py:127\u001b[0m, in \u001b[0;36mphysical_model.implicit_time_step\u001b[0;34m(self, v, dt)\u001b[0m\n\u001b[1;32m    123\u001b[0m \u001b[38;5;28;01mdef\u001b[39;00m\u001b[38;5;250m \u001b[39m\u001b[38;5;21mimplicit_time_step\u001b[39m(\u001b[38;5;28mself\u001b[39m, v, dt):\n\u001b[1;32m    124\u001b[0m     v \u001b[38;5;241m=\u001b[39m math\u001b[38;5;241m.\u001b[39msolve_linear(\u001b[38;5;28mself\u001b[39m\u001b[38;5;241m.\u001b[39mmomentum_eq, v, Solve(\u001b[38;5;124m'\u001b[39m\u001b[38;5;124mCG-adaptive\u001b[39m\u001b[38;5;124m'\u001b[39m,\n\u001b[1;32m    125\u001b[0m                                                   \u001b[38;5;241m1e-2\u001b[39m,\n\u001b[1;32m    126\u001b[0m                                                   \u001b[38;5;241m1e-2\u001b[39m,x0\u001b[38;5;241m=\u001b[39mv), u_prev\u001b[38;5;241m=\u001b[39mv, dt\u001b[38;5;241m=\u001b[39m\u001b[38;5;241m-\u001b[39mdt)\n\u001b[0;32m--> 127\u001b[0m     v,p \u001b[38;5;241m=\u001b[39m \u001b[43mfluid\u001b[49m\u001b[38;5;241;43m.\u001b[39;49m\u001b[43mmake_incompressible\u001b[49m\u001b[43m(\u001b[49m\u001b[43mv\u001b[49m\u001b[43m,\u001b[49m\u001b[43msolve\u001b[49m\u001b[38;5;241;43m=\u001b[39;49m\u001b[43mSolve\u001b[49m\u001b[43m(\u001b[49m\u001b[38;5;124;43m'\u001b[39;49m\u001b[38;5;124;43mCG-adaptive\u001b[39;49m\u001b[38;5;124;43m'\u001b[39;49m\u001b[43m,\u001b[49m\n\u001b[1;32m    128\u001b[0m \u001b[43m                                                  \u001b[49m\u001b[38;5;241;43m1e-2\u001b[39;49m\u001b[43m,\u001b[49m\n\u001b[1;32m    129\u001b[0m \u001b[43m                                                  \u001b[49m\u001b[38;5;241;43m1e-2\u001b[39;49m\u001b[43m,\u001b[49m\n\u001b[1;32m    130\u001b[0m \u001b[43m                                                        \u001b[49m\u001b[38;5;66;43;03m#x0=self.p\u001b[39;49;00m\n\u001b[1;32m    131\u001b[0m \u001b[43m                                                        \u001b[49m\u001b[43m)\u001b[49m\u001b[43m)\u001b[49m\n\u001b[1;32m    132\u001b[0m     \u001b[38;5;28;01mreturn\u001b[39;00m v\n",
      "File \u001b[0;32m/PhiFlow/phi/physics/fluid.py:156\u001b[0m, in \u001b[0;36mmake_incompressible\u001b[0;34m(velocity, obstacles, solve, active, order, correct_skew, wide_stencil)\u001b[0m\n\u001b[1;32m    154\u001b[0m \u001b[38;5;28;01mif\u001b[39;00m wide_stencil \u001b[38;5;129;01mis\u001b[39;00m \u001b[38;5;28;01mNone\u001b[39;00m:\n\u001b[1;32m    155\u001b[0m     wide_stencil \u001b[38;5;241m=\u001b[39m \u001b[38;5;129;01mnot\u001b[39;00m velocity\u001b[38;5;241m.\u001b[39mis_staggered\n\u001b[0;32m--> 156\u001b[0m pressure \u001b[38;5;241m=\u001b[39m \u001b[43mmath\u001b[49m\u001b[38;5;241;43m.\u001b[39;49m\u001b[43msolve_linear\u001b[49m\u001b[43m(\u001b[49m\u001b[43mmasked_laplace\u001b[49m\u001b[43m,\u001b[49m\u001b[43m \u001b[49m\u001b[43mdiv\u001b[49m\u001b[43m,\u001b[49m\u001b[43m \u001b[49m\u001b[43msolve\u001b[49m\u001b[43m,\u001b[49m\u001b[43m \u001b[49m\u001b[43mvelocity\u001b[49m\u001b[38;5;241;43m.\u001b[39;49m\u001b[43mboundary\u001b[49m\u001b[43m,\u001b[49m\u001b[43m \u001b[49m\u001b[43mhard_bcs\u001b[49m\u001b[43m,\u001b[49m\u001b[43m \u001b[49m\u001b[43mactive\u001b[49m\u001b[43m,\u001b[49m\u001b[43m \u001b[49m\u001b[43mwide_stencil\u001b[49m\u001b[38;5;241;43m=\u001b[39;49m\u001b[43mwide_stencil\u001b[49m\u001b[43m,\u001b[49m\u001b[43m \u001b[49m\u001b[43morder\u001b[49m\u001b[38;5;241;43m=\u001b[39;49m\u001b[43morder\u001b[49m\u001b[43m,\u001b[49m\u001b[43m \u001b[49m\u001b[43mimplicit\u001b[49m\u001b[38;5;241;43m=\u001b[39;49m\u001b[38;5;28;43;01mNone\u001b[39;49;00m\u001b[43m,\u001b[49m\u001b[43m \u001b[49m\u001b[43mupwind\u001b[49m\u001b[38;5;241;43m=\u001b[39;49m\u001b[38;5;28;43;01mNone\u001b[39;49;00m\u001b[43m,\u001b[49m\u001b[43m \u001b[49m\u001b[43mcorrect_skew\u001b[49m\u001b[38;5;241;43m=\u001b[39;49m\u001b[43mcorrect_skew\u001b[49m\u001b[43m)\u001b[49m\n\u001b[1;32m    157\u001b[0m \u001b[38;5;66;03m# --- Subtract grad p ---\u001b[39;00m\n\u001b[1;32m    158\u001b[0m grad_pressure \u001b[38;5;241m=\u001b[39m field\u001b[38;5;241m.\u001b[39mspatial_gradient(pressure, input_velocity\u001b[38;5;241m.\u001b[39mextrapolation, at\u001b[38;5;241m=\u001b[39mvelocity\u001b[38;5;241m.\u001b[39msampled_at, order\u001b[38;5;241m=\u001b[39morder, scheme\u001b[38;5;241m=\u001b[39m\u001b[38;5;124m'\u001b[39m\u001b[38;5;124mgreen-gauss\u001b[39m\u001b[38;5;124m'\u001b[39m)\n",
      "File \u001b[0;32m/usr/local/lib/python3.10/dist-packages/phiml/math/_optimize.py:671\u001b[0m, in \u001b[0;36msolve_linear\u001b[0;34m(f, y, solve, grad_for_f, f_kwargs, *f_args, **f_kwargs_)\u001b[0m\n\u001b[1;32m    668\u001b[0m         \u001b[38;5;28;01mreturn\u001b[39;00m result  \u001b[38;5;66;03m# must return exactly `x` so gradient isn't computed w.r.t. other quantities\u001b[39;00m\n\u001b[1;32m    670\u001b[0m     _matrix_solve \u001b[38;5;241m=\u001b[39m attach_gradient_solve(_matrix_solve_forward, auxiliary_args\u001b[38;5;241m=\u001b[39m\u001b[38;5;124mf\u001b[39m\u001b[38;5;124m'\u001b[39m\u001b[38;5;124mis_backprop,solve\u001b[39m\u001b[38;5;132;01m{\u001b[39;00m\u001b[38;5;124m\"\u001b[39m\u001b[38;5;124m,matrix\u001b[39m\u001b[38;5;124m\"\u001b[39m\u001b[38;5;250m \u001b[39m\u001b[38;5;28;01mif\u001b[39;00m\u001b[38;5;250m \u001b[39mmatrix\u001b[38;5;241m.\u001b[39mbackend\u001b[38;5;250m \u001b[39m\u001b[38;5;241m==\u001b[39m\u001b[38;5;250m \u001b[39mNUMPY\u001b[38;5;250m \u001b[39m\u001b[38;5;28;01melse\u001b[39;00m\u001b[38;5;250m \u001b[39m\u001b[38;5;124m\"\u001b[39m\u001b[38;5;124m\"\u001b[39m\u001b[38;5;132;01m}\u001b[39;00m\u001b[38;5;124m'\u001b[39m, matrix_adjoint\u001b[38;5;241m=\u001b[39mgrad_for_f)\n\u001b[0;32m--> 671\u001b[0m     \u001b[38;5;28;01mreturn\u001b[39;00m \u001b[43m_matrix_solve\u001b[49m\u001b[43m(\u001b[49m\u001b[43my\u001b[49m\u001b[43m \u001b[49m\u001b[38;5;241;43m-\u001b[39;49m\u001b[43m \u001b[49m\u001b[43mbias\u001b[49m\u001b[43m,\u001b[49m\u001b[43m \u001b[49m\u001b[43msolve\u001b[49m\u001b[43m,\u001b[49m\u001b[43m \u001b[49m\u001b[43mmatrix\u001b[49m\u001b[43m)\u001b[49m\n\u001b[1;32m    672\u001b[0m \u001b[38;5;28;01melse\u001b[39;00m:  \u001b[38;5;66;03m# Matrix-free solve\u001b[39;00m\n\u001b[1;32m    673\u001b[0m     f_args \u001b[38;5;241m=\u001b[39m cached(f_args)\n",
      "File \u001b[0;32m/usr/local/lib/python3.10/dist-packages/phiml/math/_functional.py:963\u001b[0m, in \u001b[0;36mCustomGradientFunction.__call__\u001b[0;34m(self, *args, **kwargs)\u001b[0m\n\u001b[1;32m    958\u001b[0m             \u001b[38;5;28;01mif\u001b[39;00m \u001b[38;5;28mlen\u001b[39m(\u001b[38;5;28mself\u001b[39m\u001b[38;5;241m.\u001b[39mtraces) \u001b[38;5;241m>\u001b[39m\u001b[38;5;241m=\u001b[39m \u001b[38;5;241m8\u001b[39m:\n\u001b[1;32m    959\u001b[0m                 warnings\u001b[38;5;241m.\u001b[39mwarn(\u001b[38;5;124mf\u001b[39m\u001b[38;5;124m\"\"\"\u001b[39m\u001b[38;5;132;01m{\u001b[39;00m\u001b[38;5;28mself\u001b[39m\u001b[38;5;241m.\u001b[39m\u001b[38;5;18m__name__\u001b[39m\u001b[38;5;132;01m}\u001b[39;00m\u001b[38;5;124m has been traced \u001b[39m\u001b[38;5;132;01m{\u001b[39;00m\u001b[38;5;28mlen\u001b[39m(\u001b[38;5;28mself\u001b[39m\u001b[38;5;241m.\u001b[39mtraces)\u001b[38;5;132;01m}\u001b[39;00m\u001b[38;5;124m times.\u001b[39m\n\u001b[1;32m    960\u001b[0m \u001b[38;5;124mTo avoid memory leaks, call \u001b[39m\u001b[38;5;132;01m{\u001b[39;00mf_name(\u001b[38;5;28mself\u001b[39m\u001b[38;5;241m.\u001b[39mf)\u001b[38;5;132;01m}\u001b[39;00m\u001b[38;5;124m.traces.clear(), \u001b[39m\u001b[38;5;132;01m{\u001b[39;00mf_name(\u001b[38;5;28mself\u001b[39m\u001b[38;5;241m.\u001b[39mf)\u001b[38;5;132;01m}\u001b[39;00m\u001b[38;5;124m.recorded_mappings.clear().\u001b[39m\n\u001b[1;32m    961\u001b[0m \u001b[38;5;124mTraces can be avoided by jit-compiling the code that calls custom gradient functions.\u001b[39m\n\u001b[1;32m    962\u001b[0m \u001b[38;5;124m\"\"\"\u001b[39m, \u001b[38;5;167;01mRuntimeWarning\u001b[39;00m, stacklevel\u001b[38;5;241m=\u001b[39m\u001b[38;5;241m2\u001b[39m)\n\u001b[0;32m--> 963\u001b[0m         native_result \u001b[38;5;241m=\u001b[39m \u001b[38;5;28;43mself\u001b[39;49m\u001b[38;5;241;43m.\u001b[39;49m\u001b[43mtraces\u001b[49m\u001b[43m[\u001b[49m\u001b[43mkey\u001b[49m\u001b[43m]\u001b[49m\u001b[43m(\u001b[49m\u001b[38;5;241;43m*\u001b[39;49m\u001b[43mnatives\u001b[49m\u001b[43m)\u001b[49m  \u001b[38;5;66;03m# With PyTorch + jit, this does not call forward_native every time\u001b[39;00m\n\u001b[1;32m    964\u001b[0m         output_key \u001b[38;5;241m=\u001b[39m match_output_signature(key, \u001b[38;5;28mself\u001b[39m\u001b[38;5;241m.\u001b[39mrecorded_mappings, \u001b[38;5;28mself\u001b[39m)\n\u001b[1;32m    965\u001b[0m         output_tensors \u001b[38;5;241m=\u001b[39m assemble_tensors(native_result, output_key\u001b[38;5;241m.\u001b[39mspecs)\n",
      "File \u001b[0;32m/usr/local/lib/python3.10/dist-packages/phiml/backend/torch/_torch_backend.py:251\u001b[0m, in \u001b[0;36mTorchBackend.custom_gradient.<locals>.select_jit\u001b[0;34m(*args)\u001b[0m\n\u001b[1;32m    249\u001b[0m args \u001b[38;5;241m=\u001b[39m [\u001b[38;5;28mself\u001b[39m\u001b[38;5;241m.\u001b[39mas_tensor(arg) \u001b[38;5;28;01mfor\u001b[39;00m arg \u001b[38;5;129;01min\u001b[39;00m args]\n\u001b[1;32m    250\u001b[0m \u001b[38;5;28;01mif\u001b[39;00m \u001b[38;5;129;01mnot\u001b[39;00m CURRENT_JIT_CALLS:\n\u001b[0;32m--> 251\u001b[0m     \u001b[38;5;28;01mreturn\u001b[39;00m \u001b[43mtorch_function\u001b[49m\u001b[38;5;241;43m.\u001b[39;49m\u001b[43mapply\u001b[49m\u001b[43m(\u001b[49m\u001b[38;5;241;43m*\u001b[39;49m\u001b[43margs\u001b[49m\u001b[43m)\u001b[49m\n\u001b[1;32m    252\u001b[0m jit \u001b[38;5;241m=\u001b[39m CURRENT_JIT_CALLS[\u001b[38;5;241m-\u001b[39m\u001b[38;5;241m1\u001b[39m]\n\u001b[1;32m    253\u001b[0m \u001b[38;5;28;01mif\u001b[39;00m torch\u001b[38;5;241m.\u001b[39m_C\u001b[38;5;241m.\u001b[39m_get_tracing_state() \u001b[38;5;129;01mis\u001b[39;00m \u001b[38;5;28;01mNone\u001b[39;00m:  \u001b[38;5;66;03m# first call: record this function\u001b[39;00m\n",
      "File \u001b[0;32m/usr/local/lib/python3.10/dist-packages/torch/autograd/function.py:575\u001b[0m, in \u001b[0;36mFunction.apply\u001b[0;34m(cls, *args, **kwargs)\u001b[0m\n\u001b[1;32m    572\u001b[0m \u001b[38;5;28;01mif\u001b[39;00m \u001b[38;5;129;01mnot\u001b[39;00m torch\u001b[38;5;241m.\u001b[39m_C\u001b[38;5;241m.\u001b[39m_are_functorch_transforms_active():\n\u001b[1;32m    573\u001b[0m     \u001b[38;5;66;03m# See NOTE: [functorch vjp and autograd interaction]\u001b[39;00m\n\u001b[1;32m    574\u001b[0m     args \u001b[38;5;241m=\u001b[39m _functorch\u001b[38;5;241m.\u001b[39mutils\u001b[38;5;241m.\u001b[39munwrap_dead_wrappers(args)\n\u001b[0;32m--> 575\u001b[0m     \u001b[38;5;28;01mreturn\u001b[39;00m \u001b[38;5;28;43msuper\u001b[39;49m\u001b[43m(\u001b[49m\u001b[43m)\u001b[49m\u001b[38;5;241;43m.\u001b[39;49m\u001b[43mapply\u001b[49m\u001b[43m(\u001b[49m\u001b[38;5;241;43m*\u001b[39;49m\u001b[43margs\u001b[49m\u001b[43m,\u001b[49m\u001b[43m \u001b[49m\u001b[38;5;241;43m*\u001b[39;49m\u001b[38;5;241;43m*\u001b[39;49m\u001b[43mkwargs\u001b[49m\u001b[43m)\u001b[49m  \u001b[38;5;66;03m# type: ignore[misc]\u001b[39;00m\n\u001b[1;32m    577\u001b[0m \u001b[38;5;28;01mif\u001b[39;00m \u001b[38;5;129;01mnot\u001b[39;00m is_setup_ctx_defined:\n\u001b[1;32m    578\u001b[0m     \u001b[38;5;28;01mraise\u001b[39;00m \u001b[38;5;167;01mRuntimeError\u001b[39;00m(\n\u001b[1;32m    579\u001b[0m         \u001b[38;5;124m\"\u001b[39m\u001b[38;5;124mIn order to use an autograd.Function with functorch transforms \u001b[39m\u001b[38;5;124m\"\u001b[39m\n\u001b[1;32m    580\u001b[0m         \u001b[38;5;124m\"\u001b[39m\u001b[38;5;124m(vmap, grad, jvp, jacrev, ...), it must override the setup_context \u001b[39m\u001b[38;5;124m\"\u001b[39m\n\u001b[1;32m    581\u001b[0m         \u001b[38;5;124m\"\u001b[39m\u001b[38;5;124mstaticmethod. For more details, please see \u001b[39m\u001b[38;5;124m\"\u001b[39m\n\u001b[1;32m    582\u001b[0m         \u001b[38;5;124m\"\u001b[39m\u001b[38;5;124mhttps://pytorch.org/docs/main/notes/extending.func.html\u001b[39m\u001b[38;5;124m\"\u001b[39m\n\u001b[1;32m    583\u001b[0m     )\n",
      "File \u001b[0;32m/usr/local/lib/python3.10/dist-packages/phiml/backend/torch/_torch_backend.py:1206\u001b[0m, in \u001b[0;36mconstruct_torch_custom_function.<locals>.TorchCustomFunction.forward\u001b[0;34m(ctx, *args, **kwargs)\u001b[0m\n\u001b[1;32m   1204\u001b[0m     \u001b[38;5;28;01mreturn\u001b[39;00m f_example_output\n\u001b[1;32m   1205\u001b[0m ML_LOGGER\u001b[38;5;241m.\u001b[39mdebug(\u001b[38;5;124mf\u001b[39m\u001b[38;5;124m\"\u001b[39m\u001b[38;5;124mTorchScript -> run compiled \u001b[39m\u001b[38;5;132;01m{\u001b[39;00mf\u001b[38;5;241m.\u001b[39m\u001b[38;5;18m__name__\u001b[39m\u001b[38;5;132;01m}\u001b[39;00m\u001b[38;5;124m with args \u001b[39m\u001b[38;5;132;01m{\u001b[39;00m[(\u001b[38;5;28mtuple\u001b[39m(a\u001b[38;5;241m.\u001b[39mshape),\u001b[38;5;250m \u001b[39ma\u001b[38;5;241m.\u001b[39mrequires_grad)\u001b[38;5;250m \u001b[39m\u001b[38;5;28;01mfor\u001b[39;00m\u001b[38;5;250m \u001b[39ma\u001b[38;5;250m \u001b[39m\u001b[38;5;129;01min\u001b[39;00m\u001b[38;5;250m \u001b[39margs]\u001b[38;5;132;01m}\u001b[39;00m\u001b[38;5;124m\"\u001b[39m)\n\u001b[0;32m-> 1206\u001b[0m y \u001b[38;5;241m=\u001b[39m \u001b[43m(\u001b[49m\u001b[43mjit_f\u001b[49m\u001b[43m \u001b[49m\u001b[38;5;129;43;01mor\u001b[39;49;00m\u001b[43m \u001b[49m\u001b[43mf\u001b[49m\u001b[43m)\u001b[49m\u001b[43m(\u001b[49m\u001b[38;5;241;43m*\u001b[39;49m\u001b[43margs\u001b[49m\u001b[43m,\u001b[49m\u001b[43m \u001b[49m\u001b[38;5;241;43m*\u001b[39;49m\u001b[38;5;241;43m*\u001b[39;49m\u001b[43mkwargs\u001b[49m\u001b[43m)\u001b[49m\n\u001b[1;32m   1207\u001b[0m ctx\u001b[38;5;241m.\u001b[39msave_for_backward(\u001b[38;5;241m*\u001b[39margs, \u001b[38;5;241m*\u001b[39my)\n\u001b[1;32m   1208\u001b[0m ctx\u001b[38;5;241m.\u001b[39minput_count \u001b[38;5;241m=\u001b[39m \u001b[38;5;28mlen\u001b[39m(args)\n",
      "File \u001b[0;32m/usr/local/lib/python3.10/dist-packages/phiml/math/_functional.py:919\u001b[0m, in \u001b[0;36mCustomGradientFunction._trace.<locals>.forward_native\u001b[0;34m(*natives)\u001b[0m\n\u001b[1;32m    917\u001b[0m kwargs \u001b[38;5;241m=\u001b[39m assemble_tree(in_key\u001b[38;5;241m.\u001b[39mtree, in_tensors, attr_type\u001b[38;5;241m=\u001b[39mvariable_attributes)\n\u001b[1;32m    918\u001b[0m ML_LOGGER\u001b[38;5;241m.\u001b[39mdebug(\u001b[38;5;124mf\u001b[39m\u001b[38;5;124m\"\u001b[39m\u001b[38;5;124mRunning forward pass of custom op \u001b[39m\u001b[38;5;132;01m{\u001b[39;00mforward_native\u001b[38;5;241m.\u001b[39m\u001b[38;5;18m__name__\u001b[39m\u001b[38;5;132;01m}\u001b[39;00m\u001b[38;5;124m given args \u001b[39m\u001b[38;5;132;01m{\u001b[39;00m\u001b[38;5;28mtuple\u001b[39m(kwargs\u001b[38;5;241m.\u001b[39mkeys())\u001b[38;5;132;01m}\u001b[39;00m\u001b[38;5;124m containing \u001b[39m\u001b[38;5;132;01m{\u001b[39;00m\u001b[38;5;28mlen\u001b[39m(natives)\u001b[38;5;132;01m}\u001b[39;00m\u001b[38;5;124m native tensors\u001b[39m\u001b[38;5;124m\"\u001b[39m)\n\u001b[0;32m--> 919\u001b[0m result \u001b[38;5;241m=\u001b[39m \u001b[38;5;28;43mself\u001b[39;49m\u001b[38;5;241;43m.\u001b[39;49m\u001b[43mf\u001b[49m\u001b[43m(\u001b[49m\u001b[38;5;241;43m*\u001b[39;49m\u001b[38;5;241;43m*\u001b[39;49m\u001b[43mkwargs\u001b[49m\u001b[43m,\u001b[49m\u001b[43m \u001b[49m\u001b[38;5;241;43m*\u001b[39;49m\u001b[38;5;241;43m*\u001b[39;49m\u001b[43min_key\u001b[49m\u001b[38;5;241;43m.\u001b[39;49m\u001b[43mauxiliary_kwargs\u001b[49m\u001b[43m)\u001b[49m  \u001b[38;5;66;03m# Tensor or tuple/list of Tensors\u001b[39;00m\n\u001b[1;32m    920\u001b[0m nest, out_tensors \u001b[38;5;241m=\u001b[39m disassemble_tree(result, cache\u001b[38;5;241m=\u001b[39m\u001b[38;5;28;01mTrue\u001b[39;00m, attr_type\u001b[38;5;241m=\u001b[39mvariable_attributes)\n\u001b[1;32m    921\u001b[0m result_natives, result_shapes, specs \u001b[38;5;241m=\u001b[39m disassemble_tensors(out_tensors, expand\u001b[38;5;241m=\u001b[39m\u001b[38;5;28;01mTrue\u001b[39;00m)\n",
      "File \u001b[0;32m/usr/local/lib/python3.10/dist-packages/phiml/math/_optimize.py:667\u001b[0m, in \u001b[0;36msolve_linear.<locals>._matrix_solve_forward\u001b[0;34m(y, solve, matrix, is_backprop)\u001b[0m\n\u001b[1;32m    665\u001b[0m     idx \u001b[38;5;241m=\u001b[39m b\u001b[38;5;241m.\u001b[39mconcat([idx, new_col, new_row], \u001b[38;5;241m0\u001b[39m)\n\u001b[1;32m    666\u001b[0m     nat_matrix \u001b[38;5;241m=\u001b[39m b\u001b[38;5;241m.\u001b[39msparse_coo_tensor(idx, data, (N\u001b[38;5;241m+\u001b[39m\u001b[38;5;241m1\u001b[39m, N\u001b[38;5;241m+\u001b[39m\u001b[38;5;241m1\u001b[39m))\n\u001b[0;32m--> 667\u001b[0m result \u001b[38;5;241m=\u001b[39m \u001b[43m_linear_solve_forward\u001b[49m\u001b[43m(\u001b[49m\u001b[43my\u001b[49m\u001b[43m,\u001b[49m\u001b[43m \u001b[49m\u001b[43msolve\u001b[49m\u001b[43m,\u001b[49m\u001b[43m \u001b[49m\u001b[43mnat_matrix\u001b[49m\u001b[43m,\u001b[49m\u001b[43m \u001b[49m\u001b[43mpattern_dims_in\u001b[49m\u001b[43m,\u001b[49m\u001b[43m \u001b[49m\u001b[43mpattern_dims_out\u001b[49m\u001b[43m,\u001b[49m\u001b[43m \u001b[49m\u001b[43mpreconditioner\u001b[49m\u001b[43m,\u001b[49m\u001b[43m \u001b[49m\u001b[43mbackend\u001b[49m\u001b[43m,\u001b[49m\u001b[43m \u001b[49m\u001b[43mis_backprop\u001b[49m\u001b[43m)\u001b[49m\n\u001b[1;32m    668\u001b[0m \u001b[38;5;28;01mreturn\u001b[39;00m result\n",
      "File \u001b[0;32m/usr/local/lib/python3.10/dist-packages/phiml/math/_optimize.py:780\u001b[0m, in \u001b[0;36m_linear_solve_forward\u001b[0;34m(y, solve, native_lin_op, pattern_dims_in, pattern_dims_out, preconditioner, backend, is_backprop)\u001b[0m\n\u001b[1;32m    778\u001b[0m \u001b[38;5;28;01mfor\u001b[39;00m tape \u001b[38;5;129;01min\u001b[39;00m _SOLVE_TAPES:\n\u001b[1;32m    779\u001b[0m     tape\u001b[38;5;241m.\u001b[39m_add(solve, trj, result)\n\u001b[0;32m--> 780\u001b[0m \u001b[43mresult\u001b[49m\u001b[38;5;241;43m.\u001b[39;49m\u001b[43mconvergence_check\u001b[49m\u001b[43m(\u001b[49m\u001b[43mis_backprop\u001b[49m\u001b[43m \u001b[49m\u001b[38;5;129;43;01mand\u001b[39;49;00m\u001b[43m \u001b[49m\u001b[38;5;124;43m'\u001b[39;49m\u001b[38;5;124;43mTensorFlow\u001b[39;49m\u001b[38;5;124;43m'\u001b[39;49m\u001b[43m \u001b[49m\u001b[38;5;129;43;01min\u001b[39;49;00m\u001b[43m \u001b[49m\u001b[43mbackend\u001b[49m\u001b[38;5;241;43m.\u001b[39;49m\u001b[43mname\u001b[49m\u001b[43m)\u001b[49m  \u001b[38;5;66;03m# raises ConvergenceException\u001b[39;00m\n\u001b[1;32m    781\u001b[0m \u001b[38;5;28;01mreturn\u001b[39;00m final_x\n",
      "File \u001b[0;32m/usr/local/lib/python3.10/dist-packages/phiml/math/_optimize.py:202\u001b[0m, in \u001b[0;36mSolveInfo.convergence_check\u001b[0;34m(self, only_warn)\u001b[0m\n\u001b[1;32m    200\u001b[0m             warnings\u001b[38;5;241m.\u001b[39mwarn(\u001b[38;5;28mself\u001b[39m\u001b[38;5;241m.\u001b[39mmsg, ConvergenceWarning)\n\u001b[1;32m    201\u001b[0m         \u001b[38;5;28;01melse\u001b[39;00m:\n\u001b[0;32m--> 202\u001b[0m             \u001b[38;5;28;01mraise\u001b[39;00m Diverged(\u001b[38;5;28mself\u001b[39m)\n\u001b[1;32m    203\u001b[0m \u001b[38;5;28;01mif\u001b[39;00m \u001b[38;5;129;01mnot\u001b[39;00m \u001b[38;5;28mself\u001b[39m\u001b[38;5;241m.\u001b[39mconverged\u001b[38;5;241m.\u001b[39mtrajectory[\u001b[38;5;241m-\u001b[39m\u001b[38;5;241m1\u001b[39m]\u001b[38;5;241m.\u001b[39mall:\n\u001b[1;32m    204\u001b[0m     \u001b[38;5;28;01mif\u001b[39;00m NotConverged \u001b[38;5;129;01mnot\u001b[39;00m \u001b[38;5;129;01min\u001b[39;00m \u001b[38;5;28mself\u001b[39m\u001b[38;5;241m.\u001b[39msolve\u001b[38;5;241m.\u001b[39msuppress:\n",
      "\u001b[0;31mDiverged\u001b[0m: Solve diverged within 819 iterations using Φ-ML CG (PyTorch*)"
     ]
    }
   ],
   "source": []
  },
  {
   "cell_type": "code",
   "execution_count": 13,
   "id": "8e9fc234",
   "metadata": {},
   "outputs": [],
   "source": [
    "boundary = {'x-': vec(x=1.0,y=0.0,z=0.0),\n",
    "            'x+': ZERO_GRADIENT,\n",
    "            'y-':0,\n",
    "            'y+':0,\n",
    "            'z-':0,\n",
    "            'z+':0\n",
    "            }\n",
    "boundary\n",
    "geo=UniformGrid(x=128, y=128,z=128,bounds=Box(x=50, y=50,z=50))\n",
    "v0=Field(geo,values=vec(x=tensor(0.0),y=tensor(0.0),z=tensor(0.0)),boundary=boundary)\n",
    "\n",
    "phys=darcy_flow_model(v0,dt=0.1,\n",
    "                    #advection_solver=(lambda v: Solve('CG-adaptive',1e-2,1e-2,x0=v)),projection_solver=Solve('CG-adaptive',1e-2,1e-2)\n",
    "                    )"
   ]
  },
  {
   "cell_type": "code",
   "execution_count": 14,
   "id": "97156c00",
   "metadata": {},
   "outputs": [
    {
     "data": {
      "text/plain": [
       "Field[(xˢ=128, yˢ=128, zˢ=128, vectorᶜ=x,y,z)]"
      ]
     },
     "execution_count": 14,
     "metadata": {},
     "output_type": "execute_result"
    }
   ],
   "source": [
    "phys.step(v0)"
   ]
  },
  {
   "cell_type": "code",
   "execution_count": 15,
   "id": "5f901ee0",
   "metadata": {},
   "outputs": [
    {
     "data": {
      "text/plain": [
       "(xˢ=128, yˢ=128, zˢ=128), bounds=Box(x=(0, 50), y=(0, 50), z=(0, 50))"
      ]
     },
     "execution_count": 15,
     "metadata": {},
     "output_type": "execute_result"
    }
   ],
   "source": [
    "v0.geometry."
   ]
  },
  {
   "cell_type": "markdown",
   "id": "84c8ca0d",
   "metadata": {},
   "source": [
    "# Differentiable physics with PINNs"
   ]
  },
  {
   "cell_type": "markdown",
   "id": "f3014d77",
   "metadata": {},
   "source": [
    "## Linear Darcy model"
   ]
  },
  {
   "cell_type": "markdown",
   "id": "3460d960",
   "metadata": {},
   "source": [
    "with\n",
    "$$K(x)=\\exp((p-p_0)^2)$$"
   ]
  },
  {
   "cell_type": "markdown",
   "id": "4e52e1b0",
   "metadata": {},
   "source": [
    "### 2D"
   ]
  },
  {
   "cell_type": "markdown",
   "id": "f49d564d",
   "metadata": {},
   "source": [
    "#### Solver"
   ]
  },
  {
   "cell_type": "code",
   "execution_count": 16,
   "id": "5ef68251",
   "metadata": {},
   "outputs": [],
   "source": [
    "from phi.torch.flow import *\n",
    "class darcy_flow_model(object):\n",
    "  def __init__(self,field,dt):\n",
    "    self.field=field\n",
    "    self.dt=dt\n",
    "\n",
    "  def nK(self,domain):\n",
    "    return 0.001*math.exp(-math.sum(((domain.center-0.5)**2),\"vector\")/(2*0.5))\n",
    "\n",
    "  def reaction_diffusion(self, u, dt):\n",
    "    su = self.nK(u.geometry) * field.laplace(u)\n",
    "    return u + dt * su\n",
    "  def step(self,v):\n",
    "    return self.reaction_diffusion(v,self.dt)\n",
    "args={\"k\":0.1}\n"
   ]
  },
  {
   "cell_type": "code",
   "execution_count": 17,
   "id": "d25aeaab",
   "metadata": {},
   "outputs": [],
   "source": [
    "geo=UniformGrid(x=20, y=20,bounds=Box(x=1.0, y=1.0))\n",
    "phi_w=Field( geo,values=tensor(0.0),\n",
    "      boundary= {\n",
    "          'x-': tensor(0.01),\n",
    "          'x+': ZERO_GRADIENT,\n",
    "          'y-': 0,\n",
    "          'y+': 0\n",
    " })\n",
    "phi_w\n",
    "\n",
    "\n",
    "\n",
    "model=darcy_flow_model(phi_w,0.1)"
   ]
  },
  {
   "cell_type": "code",
   "execution_count": 24,
   "id": "67150506",
   "metadata": {},
   "outputs": [
    {
     "data": {
      "text/plain": [
       "torch.Size([20, 20, 2])"
      ]
     },
     "execution_count": 24,
     "metadata": {},
     "output_type": "execute_result"
    }
   ],
   "source": [
    "phi_w.geometry.center.native(\"x,y\").shape"
   ]
  },
  {
   "cell_type": "code",
   "execution_count": 5,
   "id": "a6b86ed5",
   "metadata": {},
   "outputs": [],
   "source": [
    "PHI=[]\n",
    "for i in range(100):\n",
    "  phi_w=model.reaction_diffusion(phi_w,0.01)\n",
    "  PHI.append(phi_w)"
   ]
  },
  {
   "cell_type": "code",
   "execution_count": null,
   "id": "61067ecd",
   "metadata": {},
   "outputs": [],
   "source": [
    "for i in PHI[::10]:\n",
    "  plot(i)"
   ]
  },
  {
   "cell_type": "markdown",
   "id": "f6001b61",
   "metadata": {},
   "source": [
    "#### Solver in the loop"
   ]
  },
  {
   "cell_type": "code",
   "execution_count": 43,
   "id": "eb526409",
   "metadata": {},
   "outputs": [],
   "source": [
    "from Train_differentiable_physics_with_PINNs import PINNS_based_SOL_trainer"
   ]
  },
  {
   "cell_type": "code",
   "execution_count": 199,
   "id": "c67b7475",
   "metadata": {},
   "outputs": [],
   "source": [
    "import torch\n",
    "\n",
    "\n",
    "def derivatives(u,x,n):\n",
    "    if n==0:\n",
    "        return u\n",
    "    else:\n",
    "        du=torch.autograd.grad(u,x,\n",
    "        grad_outputs=torch.ones_like(u).to(u.device),\n",
    "        create_graph=True,\n",
    "        retain_graph=True,\n",
    "        allow_unused=True\n",
    "        )[0]\n",
    "    return derivatives(du,x,n-1)\n",
    "\n",
    "\n",
    "def vector_jacobian(u,x):\n",
    "    unit_vectors=torch.eye(u.shape[-1])\n",
    "    jacobian_rows = [torch.autograd.grad(u, x, vec_.unsqueeze(0).unsqueeze(0).tile(u.shape[0],u.shape[1],1).to(u.device),\n",
    "            create_graph=True,\n",
    "            retain_graph=True,\n",
    "            allow_unused=True)[0]\n",
    "                     for vec_ in unit_vectors]\n",
    "    return torch.stack(jacobian_rows,axis=2)\n",
    "\n",
    "\n",
    "def vector_grad(u,x):\n",
    "    unit_vectors=torch.eye(u.shape[-1])\n",
    "    jacobian_rows = [torch.autograd.grad(u, x, vec_.unsqueeze(0).unsqueeze(0).tile(u.shape[0],u.shape[1],1).to(u.device),\n",
    "            create_graph=True,\n",
    "            retain_graph=True,\n",
    "            allow_unused=True)[0]\n",
    "                     for vec_ in unit_vectors]\n",
    "    return torch.diagonal(torch.stack(jacobian_rows,axis=2),dim1=-2,dim2=-1)\n",
    "\n",
    "def x_grad(u,x,i,n):\n",
    "    \"\"\"\n",
    "    gradient of degree n wrt x for component i of u\n",
    "    input:\n",
    "    u and x are tensors with vectors object at dimension -1\n",
    "    [b, n_vectors, vector_dimension]\n",
    "\n",
    "    output:\n",
    "    [b, n_vectors, input_vector_dimension]\n",
    "    \"\"\"\n",
    "    I=torch.eye(u.shape[-1])\n",
    "    print(\"x grad\")\n",
    "    print(x.shape)\n",
    "    print(u.shape)\n",
    "\n",
    "    u=torch.autograd.grad(u ,x,\n",
    "            I[i].unsqueeze(0).unsqueeze(0).tile(u.shape[0],u.shape[1],1).to(u.device),\n",
    "            create_graph=True,\n",
    "            retain_graph=True,\n",
    "            allow_unused=True)[0]\n",
    "    print(u)\n",
    "    if n > 1:\n",
    "        for i in range(n-1):\n",
    "            u=vector_grad(u,x)\n",
    "    return u"
   ]
  },
  {
   "cell_type": "code",
   "execution_count": 5,
   "id": "8bfc20b1",
   "metadata": {},
   "outputs": [
    {
     "name": "stderr",
     "output_type": "stream",
     "text": [
      "/usr/local/lib/python3.10/dist-packages/matplotlib/projections/__init__.py:63: UserWarning: Unable to import Axes3D. This may be due to multiple versions of Matplotlib being installed (e.g. as a system package and as a pip package). As a result, the 3D projection is not available.\n",
      "  warnings.warn(\"Unable to import Axes3D. This may be due to multiple versions of \"\n"
     ]
    }
   ],
   "source": [
    "import torch\n",
    "from einops import rearrange\n",
    "import matplotlib.pyplot as plt\n",
    "\n",
    "class simple_cnn_model(torch.nn.Module):\n",
    "  def __init__(self):\n",
    "    super(simple_cnn_model,self).__init__()\n",
    "\n",
    "    self.conv1=torch.nn.Conv2d(4, 32, (9,9), padding=4)\n",
    "    self.conv2=torch.nn.Conv2d(32, 64, (9,9), padding=4)\n",
    "    self.conv3=torch.nn.Conv2d(64, 1, (9,9), padding=4)\n",
    "    self.act1=torch.nn.ReLU()\n",
    "    self.act2=torch.nn.ReLU()\n",
    "    self.act3=torch.nn.Tanh()\n",
    "  def forward(self,x):\n",
    "    x=self.act1(self.conv1(x))\n",
    "    x=self.act2(self.conv2(x))\n",
    "    x=self.act3(self.conv3(x))*0.01\n",
    "    #x=torch.clamp(x, min=-0.5, max=0.5)\n",
    "    return x[0]\n",
    "  \n",
    "\n",
    "#class composed_loss(object):\n",
    "\n",
    "#from DL_models.PINNS.utils import x_grad\n",
    "\n",
    "def composed_loss(x,p):\n",
    "  \"\"\"\n",
    "  u: [b x y p]\n",
    "  x: [b x y (x y t)]\n",
    "  \"\"\"\n",
    "  print(\"p\",p.shape)\n",
    "  print(\"x\",x.shape)\n",
    "  p=rearrange(p,\"b p x y-> b (x y) p\")\n",
    "  #x=rearrange(x,\"b u x y-> b (x y) u\")\n",
    "  print(\"p\",p.shape)\n",
    "  print(\"x\",x.shape)\n",
    "  print(x_grad(p,x,0,1))\n",
    "  dpdt=x_grad(p,x,0,1)[...,2]\n",
    "  print(x_grad(p,x,0,2)[...,:2].shape)\n",
    "  lap_u=torch.sum(x_grad(p,x,0,2)[...,:2],axis=-1)\n",
    "  k=0.001*torch.exp(\n",
    "    -torch.sum(((x[...,:2]-torch.mean(x[...,:2]))**2),\"vector\")/(2*0.5))\n",
    "\n",
    "  return torch.mean(dpdt-k*lap_u)"
   ]
  },
  {
   "cell_type": "code",
   "execution_count": 78,
   "id": "b6cf4cbf",
   "metadata": {},
   "outputs": [],
   "source": [
    "st_model=simple_cnn_model()\n",
    "optimizer=torch.optim.Adam(st_model.parameters(),lr=1e-4)"
   ]
  },
  {
   "cell_type": "code",
   "execution_count": 3,
   "id": "538a1f42",
   "metadata": {},
   "outputs": [
    {
     "ename": "NameError",
     "evalue": "name 'geo' is not defined",
     "output_type": "error",
     "traceback": [
      "\u001b[0;31m---------------------------------------------------------------------------\u001b[0m",
      "\u001b[0;31mNameError\u001b[0m                                 Traceback (most recent call last)",
      "Cell \u001b[0;32mIn[3], line 1\u001b[0m\n\u001b[0;32m----> 1\u001b[0m \u001b[43mgeo\u001b[49m\n",
      "\u001b[0;31mNameError\u001b[0m: name 'geo' is not defined"
     ]
    }
   ],
   "source": [
    "geo"
   ]
  },
  {
   "cell_type": "code",
   "execution_count": null,
   "id": "9a7d7865",
   "metadata": {},
   "outputs": [
    {
     "ename": "NameError",
     "evalue": "name 'PINNS_based_SOL_trainer' is not defined",
     "output_type": "error",
     "traceback": [
      "\u001b[0;31m---------------------------------------------------------------------------\u001b[0m",
      "\u001b[0;31mNameError\u001b[0m                                 Traceback (most recent call last)",
      "Cell \u001b[0;32mIn[2], line 5\u001b[0m\n\u001b[1;32m      1\u001b[0m \u001b[38;5;28;01mfrom\u001b[39;00m\u001b[38;5;250m \u001b[39m\u001b[38;5;21;01mrandom\u001b[39;00m\u001b[38;5;250m \u001b[39m\u001b[38;5;28;01mimport\u001b[39;00m randint\n\u001b[1;32m      2\u001b[0m \u001b[38;5;28;01mfrom\u001b[39;00m\u001b[38;5;250m \u001b[39m\u001b[38;5;21;01mPhysical_models\u001b[39;00m\u001b[38;5;21;01m.\u001b[39;00m\u001b[38;5;21;01mDifferentiable_simulation\u001b[39;00m\u001b[38;5;250m \u001b[39m\u001b[38;5;28;01mimport\u001b[39;00m Space2Tensor,Tensor2Space\n\u001b[0;32m----> 5\u001b[0m \u001b[38;5;28;01mclass\u001b[39;00m\u001b[38;5;250m \u001b[39m\u001b[38;5;21;01mPINNS_based_SOL_trainer\u001b[39;00m(\u001b[43mPINNS_based_SOL_trainer\u001b[49m):\n\u001b[1;32m      7\u001b[0m     \u001b[38;5;28;01mdef\u001b[39;00m\u001b[38;5;250m \u001b[39m\u001b[38;5;21mgenerate_postion_time_code\u001b[39m(\u001b[38;5;28mself\u001b[39m,field,t):  \u001b[38;5;66;03m# Re implement if more dimensions are needed\u001b[39;00m\n\u001b[1;32m      8\u001b[0m       X\u001b[38;5;241m=\u001b[39mfield\u001b[38;5;241m.\u001b[39mgeometry\u001b[38;5;241m.\u001b[39mcenter\u001b[38;5;241m.\u001b[39mnative(\u001b[38;5;124m\"\u001b[39m\u001b[38;5;124mx,y\u001b[39m\u001b[38;5;124m\"\u001b[39m)\n",
      "\u001b[0;31mNameError\u001b[0m: name 'PINNS_based_SOL_trainer' is not defined"
     ]
    }
   ],
   "source": [
    "from random import randint\n",
    "from Physical_models.Differentiable_simulation import Space2Tensor,Tensor2Space\n",
    "\n",
    "\n",
    "class PINNS_based_SOL_trainer(PINNS_based_SOL_trainer):\n",
    "      \n",
    "    def generate_postion_time_code(self,field,t):  # Re implement if more dimensions are needed\n",
    "      X=field.geometry.center.native(\"x,y\")\n",
    "      T=torch.ones(X.shape[:2]+(1,))*t\n",
    "      XT=rearrange(torch.concat((X,T),axis=-1),\"x y c -> c x y\").unsqueeze(0)\n",
    "      return XT\n",
    "    \n",
    "    #def correct(self,states_pred):\n",
    "    #  XT=self.generate_postion_time_code(states_pred[-1],self.t)\n",
    "    #  #Up=torch.concat(tuple(map(lambda T:Space2Tensor(T,self.geometry),states_pred[-1])),axis=-1)\n",
    "    #  Up=Space2Tensor(states_pred[-1],self.geometry)\n",
    "    #  XTUp_1=torch.concat((XT,Up),axis=1) # [X Y T U P]\n",
    "    #  os=XTUp_1.shape\n",
    "    #  XTUp_1=rearrange(XTUp_1,\"b u x y-> b (x y) u\")\n",
    "    #  # TODO: implement a method to be re implemented for other architecures\n",
    "    #  XTUp=self.st_model(rearrange(XTUp_1,\" b (x y) u -> b u x y\",x=os[-2],y=os[-1]))\n",
    "    #  # GRAD HERE\n",
    "    #  print(\"taking grad in correction fom statistical model\")\n",
    "    #  x_grad(u,x.reshape(2,4,-1).transpose(1,-1),0,0)\n",
    "    #  return XTUp_1[0],XTUp\n",
    "\n",
    "\n",
    "    def correct(self,states_pred):\n",
    "      # TODO: implement a method to be re implemented for other architecures\n",
    "      XTUp=rearrange(self.st_model(rearrange(states_pred[-1],\" b (x y) u -> b u x y\",x=self.os_[0],y=self.os_[1])),\"b x y u  -> b (x y) u \")\n",
    "      # GRAD HERE\n",
    "      print(\"taking grad in correction fom statistical model\")\n",
    "      #x_grad(u,x.reshape(2,4,-1).transpose(1,-1),0,0)\n",
    "      return states_pred[-1][0],XTUp\n",
    "\n",
    "\n",
    "    def forward_prediction_correction(self):\n",
    "\n",
    "      # FIELD FORMAT\n",
    "      self.os_=self.v.geometry.center.native(\"x,y\").shape\n",
    "      # SQUARED TENSOR FORMAT\n",
    "      XT=self.generate_postion_time_code(self.v,self.t)\n",
    "      XTU=torch.concat((XT,Space2Tensor(self.v,self.geometry)),axis=1)\n",
    "\n",
    "      # TABULAR TENSOR FORMAT\n",
    "      states_pred=[rearrange(XTU,\"b u x y-> b (x y) u\")]  # START OF FLUX\n",
    "      XTUp_1,XTUp=self.correct(states_pred[-1])\n",
    "      \n",
    "      # OBS: correction is made in field forrmat, for no aparent reason (TODO: try to train in field format)\n",
    "      states_in=[XTUp_1]\n",
    "      states_corr=[XTUp]\n",
    "      states_pred=[\n",
    "        XTUp_1+XTUp\n",
    "        ]\n",
    "      # GRAD HERE\n",
    "\n",
    "      # For steps in correction run (4 in example) (incidencia nos iniciais)\n",
    "      for i in range(self.n_steps):\n",
    "        \n",
    "        # Step last in states_pred\n",
    "        U_space=Tensor2Space(rearrange(states_pred[-1],\" b (x y) u -> b u x y\",x=self.os_[0],y=self.os_[1]),self.geometry)\n",
    "        states_pred.append(self.ph_model.step(\n",
    "          U_space\n",
    "          ))\n",
    "        #U_tensor=Space2Tensor(U_space,self.geometry)\n",
    "        self.t=self.t+self.dt\n",
    "        XT=self.generate_postion_time_code(U_space,self.t)\n",
    "        XTU=torch.concat((XT,Space2Tensor(U_space,self.geometry)),axis=1)\n",
    "        # GRAD HERE\n",
    "        \n",
    "        states_pred[-1]=rearrange(XTU,\"b u x y-> b (x y) u\")\n",
    "        # Correct with model of last states_pred\n",
    "        XTUp_1,XTUp=self.correct(states_pred[-1])\n",
    "\n",
    "        states_in.append(XTUp_1)\n",
    "        states_corr.append(XTUp)\n",
    "        states_pred[-1]=[\n",
    "        XTUp_1+XTUp\n",
    "        ]\n",
    "\n",
    "      states_pred=list(map(lambda corr:Space2Tensor(corr,self.geometry),states_pred))\n",
    "\n",
    "      return states_pred,states_corr,states_in\n",
    "    \n",
    "    def detach_field(self,field):\n",
    "      tensor=Space2Tensor(field,self.geometry).detach()\n",
    "      return Tensor2Space(tensor[0],self.geometry)\n",
    "    \n",
    "    def train(self,epochs):\n",
    "      losses=[]\n",
    "      for i in range(epochs):\n",
    "        print(f\"epoch {i}\")\n",
    "        co_batch=[]\n",
    "        in_batch=[]\n",
    "        for b in range(5):\n",
    "\n",
    "          random_idx=randint(0,len(self.init_states_gt)-1)\n",
    "          self.v=self.detach_field(self.init_states_gt[random_idx])\n",
    "          self.t=self.T[random_idx]\n",
    "          states_pred,states_corr,states_in=self.forward_prediction_correction()\n",
    "          co_batch=co_batch+states_pred\n",
    "          in_batch=in_batch+states_in\n",
    "\n",
    "        states_in=torch.stack(in_batch,axis=0) # [B X Y U]\n",
    "        states_pred=torch.concat(co_batch,axis=0) # [B X Y U]\n",
    "        loss=self.loss(states_in,states_pred)\n",
    "\n",
    "\n",
    "        self.optimizer.zero_grad()\n",
    "        loss.backward()\n",
    "        self.optimizer.step()\n",
    "\n",
    "        losses.append(loss.cpu().detach().numpy())\n",
    "      return losses"
   ]
  },
  {
   "cell_type": "code",
   "execution_count": 4,
   "id": "dc3f01b2",
   "metadata": {},
   "outputs": [
    {
     "ename": "NameError",
     "evalue": "name 'phi_w' is not defined",
     "output_type": "error",
     "traceback": [
      "\u001b[0;31m---------------------------------------------------------------------------\u001b[0m",
      "\u001b[0;31mNameError\u001b[0m                                 Traceback (most recent call last)",
      "Cell \u001b[0;32mIn[4], line 1\u001b[0m\n\u001b[0;32m----> 1\u001b[0m \u001b[43mphi_w\u001b[49m\n",
      "\u001b[0;31mNameError\u001b[0m: name 'phi_w' is not defined"
     ]
    }
   ],
   "source": [
    "phi_w.|"
   ]
  },
  {
   "cell_type": "code",
   "execution_count": 97,
   "id": "209a5fa2",
   "metadata": {},
   "outputs": [],
   "source": [
    "T=PINNS_based_SOL_trainer(\n",
    "    field=phi_w,\n",
    "    physical_model=darcy_flow_model,\n",
    "    statistical_model=st_model,\n",
    "    optimizer=optimizer,\n",
    "    simulation_steps=1,\n",
    "    time_step=0.1,\n",
    "    loss=composed_loss\n",
    ")"
   ]
  },
  {
   "cell_type": "code",
   "execution_count": 98,
   "id": "28154acc",
   "metadata": {},
   "outputs": [
    {
     "name": "stdout",
     "output_type": "stream",
     "text": [
      "epoch 0\n",
      "p torch.Size([10, 1, 20, 20])\n",
      "x torch.Size([10, 400, 4])\n",
      "p torch.Size([10, 400, 1])\n",
      "x torch.Size([10, 400, 4])\n",
      "None\n"
     ]
    },
    {
     "ename": "TypeError",
     "evalue": "'NoneType' object is not subscriptable",
     "output_type": "error",
     "traceback": [
      "\u001b[0;31m---------------------------------------------------------------------------\u001b[0m",
      "\u001b[0;31mTypeError\u001b[0m                                 Traceback (most recent call last)",
      "Cell \u001b[0;32mIn[98], line 1\u001b[0m\n\u001b[0;32m----> 1\u001b[0m \u001b[43mT\u001b[49m\u001b[38;5;241;43m.\u001b[39;49m\u001b[43mtrain\u001b[49m\u001b[43m(\u001b[49m\u001b[38;5;241;43m2\u001b[39;49m\u001b[43m)\u001b[49m\n",
      "Cell \u001b[0;32mIn[96], line 72\u001b[0m, in \u001b[0;36mPINNS_based_SOL_trainer.train\u001b[0;34m(self, epochs)\u001b[0m\n\u001b[1;32m     70\u001b[0m states_in\u001b[38;5;241m=\u001b[39mtorch\u001b[38;5;241m.\u001b[39mstack(in_batch,axis\u001b[38;5;241m=\u001b[39m\u001b[38;5;241m0\u001b[39m) \u001b[38;5;66;03m# [B X Y U]\u001b[39;00m\n\u001b[1;32m     71\u001b[0m states_pred\u001b[38;5;241m=\u001b[39mtorch\u001b[38;5;241m.\u001b[39mconcat(co_batch,axis\u001b[38;5;241m=\u001b[39m\u001b[38;5;241m0\u001b[39m) \u001b[38;5;66;03m# [B X Y U]\u001b[39;00m\n\u001b[0;32m---> 72\u001b[0m loss\u001b[38;5;241m=\u001b[39m\u001b[38;5;28;43mself\u001b[39;49m\u001b[38;5;241;43m.\u001b[39;49m\u001b[43mloss\u001b[49m\u001b[43m(\u001b[49m\u001b[43mstates_in\u001b[49m\u001b[43m,\u001b[49m\u001b[43mstates_pred\u001b[49m\u001b[43m)\u001b[49m\n\u001b[1;32m     75\u001b[0m \u001b[38;5;28mself\u001b[39m\u001b[38;5;241m.\u001b[39moptimizer\u001b[38;5;241m.\u001b[39mzero_grad()\n\u001b[1;32m     76\u001b[0m loss\u001b[38;5;241m.\u001b[39mbackward()\n",
      "Cell \u001b[0;32mIn[77], line 39\u001b[0m, in \u001b[0;36mcomposed_loss\u001b[0;34m(x, p)\u001b[0m\n\u001b[1;32m     37\u001b[0m \u001b[38;5;28mprint\u001b[39m(\u001b[38;5;124m\"\u001b[39m\u001b[38;5;124mx\u001b[39m\u001b[38;5;124m\"\u001b[39m,x\u001b[38;5;241m.\u001b[39mshape)\n\u001b[1;32m     38\u001b[0m \u001b[38;5;28mprint\u001b[39m(x_grad(p,x,\u001b[38;5;241m0\u001b[39m,\u001b[38;5;241m1\u001b[39m))\n\u001b[0;32m---> 39\u001b[0m dpdt\u001b[38;5;241m=\u001b[39m\u001b[43mx_grad\u001b[49m\u001b[43m(\u001b[49m\u001b[43mp\u001b[49m\u001b[43m,\u001b[49m\u001b[43mx\u001b[49m\u001b[43m,\u001b[49m\u001b[38;5;241;43m0\u001b[39;49m\u001b[43m,\u001b[49m\u001b[38;5;241;43m1\u001b[39;49m\u001b[43m)\u001b[49m\u001b[43m[\u001b[49m\u001b[38;5;241;43m.\u001b[39;49m\u001b[38;5;241;43m.\u001b[39;49m\u001b[38;5;241;43m.\u001b[39;49m\u001b[43m,\u001b[49m\u001b[38;5;241;43m2\u001b[39;49m\u001b[43m]\u001b[49m\n\u001b[1;32m     40\u001b[0m \u001b[38;5;28mprint\u001b[39m(x_grad(p,x,\u001b[38;5;241m0\u001b[39m,\u001b[38;5;241m2\u001b[39m)[\u001b[38;5;241m.\u001b[39m\u001b[38;5;241m.\u001b[39m\u001b[38;5;241m.\u001b[39m,:\u001b[38;5;241m2\u001b[39m]\u001b[38;5;241m.\u001b[39mshape)\n\u001b[1;32m     41\u001b[0m lap_u\u001b[38;5;241m=\u001b[39mtorch\u001b[38;5;241m.\u001b[39msum(x_grad(p,x,\u001b[38;5;241m0\u001b[39m,\u001b[38;5;241m2\u001b[39m)[\u001b[38;5;241m.\u001b[39m\u001b[38;5;241m.\u001b[39m\u001b[38;5;241m.\u001b[39m,:\u001b[38;5;241m2\u001b[39m],axis\u001b[38;5;241m=\u001b[39m\u001b[38;5;241m-\u001b[39m\u001b[38;5;241m1\u001b[39m)\n",
      "\u001b[0;31mTypeError\u001b[0m: 'NoneType' object is not subscriptable"
     ]
    }
   ],
   "source": [
    "T.train(2)"
   ]
  },
  {
   "cell_type": "code",
   "execution_count": null,
   "id": "776d5b9a",
   "metadata": {},
   "outputs": [],
   "source": []
  },
  {
   "cell_type": "code",
   "execution_count": 15,
   "id": "1bd343ac",
   "metadata": {},
   "outputs": [
    {
     "name": "stdout",
     "output_type": "stream",
     "text": [
      "torch.Size([2, 2500, 4])\n",
      "torch.Size([1, 1, 50, 50])\n",
      "torch.Size([2, 2500, 4])\n",
      "torch.Size([1, 2500, 1])\n"
     ]
    }
   ],
   "source": [
    "#x=\n",
    "#x=rearrange(torch.randint(0,4,(2,4,50,50),requires_grad=True,dtype=torch.float),\"b u x y-> b (x y) u\")\n",
    "st_model=simple_cnn_model()\n",
    "x=torch.randint(0,4,(2,2500,4),requires_grad=True,dtype=torch.float)\n",
    "\n",
    "x=math.exp(x)\n",
    "\n",
    "u=st_model(rearrange(x,\"b (x y) u-> b u x y\",x=50,y=50)).unsqueeze(0)\n",
    "#u=st_model(x.reshape(2,4,50,50))\n",
    "print(x.shape)\n",
    "print(u.shape)\n",
    "\n",
    "u=rearrange(u,\"b p x y-> b (x y) p\")\n",
    "#u=u.reshape(2,1,-1).transpose(1,-1)\n",
    "\n",
    "#x=x.transpose(1,-1)\n",
    "\n",
    "print(x.shape)\n",
    "print(u.shape)\n",
    "x_grad(u,x,0,0)\n",
    "\n",
    "x_grad(u,x.reshape(2,4,-1).transpose(1,-1),0,0)"
   ]
  },
  {
   "cell_type": "code",
   "execution_count": 68,
   "id": "e18dc441",
   "metadata": {},
   "outputs": [],
   "source": [
    "class darcy_flow_model(object):\n",
    "  def __init__(self,field,dt):\n",
    "    self.field=field\n",
    "    self.dt=dt\n",
    "\n",
    "  def nK(self,domain):\n",
    "    return 0.001*math.exp(-math.sum(((domain.center-0.5)**2),\"vector\")/(2*0.5))\n",
    "\n",
    "  def reaction_diffusion(self, u, dt):\n",
    "    su = self.nK(u.geometry) * field.laplace(u)\n",
    "    return u + dt * su\n",
    "  def step(self,v):\n",
    "    return self.reaction_diffusion(v,self.dt)\n",
    "model=darcy_flow_model(phi_w,0.1)\n",
    "\n",
    "import torch\n",
    "from phi.torch.flow import *\n",
    "from DL_models.PINNS.utils import x_grad\n",
    "from Physical_models.Differentiable_simulation import Space2Tensor,Tensor2Space\n",
    "\n",
    "def generate_postion_time_code(field,t):  # Re implement if more dimensions are needed\n",
    "    X=field.geometry.center.native(\"x,y\")\n",
    "    T=torch.ones(X.shape[:2]+(1,))*t\n",
    "    XT=rearrange(torch.concat((X,T),axis=-1),\"x y c -> c x y\").unsqueeze(0)\n",
    "    return XT\n",
    "\n",
    "\n",
    "class simple_cnn_model(torch.nn.Module):\n",
    "  def __init__(self):\n",
    "    super(simple_cnn_model,self).__init__()\n",
    "\n",
    "    self.conv1=torch.nn.Conv2d(7, 32, (9,9), padding=4)\n",
    "    self.conv2=torch.nn.Conv2d(32, 64, (9,9), padding=4)\n",
    "    self.conv3=torch.nn.Conv2d(64, 1, (9,9), padding=4)\n",
    "    self.act1=torch.nn.ReLU()\n",
    "    self.act2=torch.nn.ReLU()\n",
    "    self.act3=torch.nn.Tanh()\n",
    "  def forward(self,x):\n",
    "    x=self.act1(self.conv1(x))\n",
    "    x=self.act2(self.conv2(x))\n",
    "    x=self.act3(self.conv3(x))*0.01\n",
    "    #x=torch.clamp(x, min=-0.5, max=0.5)\n",
    "    return x[0]"
   ]
  },
  {
   "cell_type": "code",
   "execution_count": 72,
   "id": "ff31aa4f",
   "metadata": {},
   "outputs": [
    {
     "name": "stdout",
     "output_type": "stream",
     "text": [
      "torch.Size([1, 4, 50, 50])\n"
     ]
    },
    {
     "data": {
      "text/plain": [
       "tensor([[[ 5.3229e-01,  1.1484e-04, -2.5526e-04,  1.4773e-04],\n",
       "         [ 7.1610e-01,  1.2463e-04, -3.0369e-04,  1.7276e-04],\n",
       "         [ 7.3567e-01,  1.2197e-04, -2.8085e-04,  2.2035e-04],\n",
       "         ...,\n",
       "         [ 7.3543e-01, -1.5188e-04, -2.6878e-04,  3.1183e-05],\n",
       "         [ 7.1576e-01, -1.1411e-04, -2.4443e-04, -5.9107e-05],\n",
       "         [ 5.3207e-01,  6.9688e-06, -1.1721e-04, -9.2476e-05]]],\n",
       "       grad_fn=<ReshapeAliasBackward0>)"
      ]
     },
     "execution_count": 72,
     "metadata": {},
     "output_type": "execute_result"
    }
   ],
   "source": [
    "st_model=simple_cnn_model()\n",
    "x=torch.randint(0,4,(1,2500,4),requires_grad=True,dtype=torch.float)\n",
    "\n",
    "xs=Tensor2Space(rearrange(x,\"b (x y) u-> b u x y\",x=50,y=50)[0],UniformGrid(x=50, y=50,bounds=Box(x=1.0, y=1.0)),'c x y-> x y c')\n",
    "\n",
    "xs=model.step(\n",
    "    xs\n",
    "    )\n",
    "xt=Space2Tensor(xs,UniformGrid(x=50, y=50,bounds=Box(x=1.0, y=1.0)),'x,y,vector')\n",
    "u=st_model(torch.concat(\n",
    "        (xt,generate_postion_time_code(Tensor2Space(rearrange(x,\"b (x y) u-> b u x y\",x=50,y=50)[0],UniformGrid(x=50, y=50,bounds=Box(x=1.0, y=1.0)),'c x y-> x y c'),0.1)),\n",
    "        axis=1\n",
    "        )).unsqueeze(0)\n",
    "u=u+xt\n",
    "print(xt.shape)\n",
    "xs=Tensor2Space(u[0],UniformGrid(x=50, y=50,bounds=Box(x=1.0, y=1.0)),'c x y-> x y c')\n",
    "xs=model.step(xs)\n",
    "xt=Space2Tensor(xs,UniformGrid(x=50, y=50,bounds=Box(x=1.0, y=1.0)),'x,y,vector')\n",
    "#x=math.exp(x)\n",
    "u=st_model(torch.concat(\n",
    "        (xt,generate_postion_time_code(Tensor2Space(rearrange(x,\"b (x y) u-> b u x y\",x=50,y=50)[0],UniformGrid(x=50, y=50,bounds=Box(x=1.0, y=1.0)),'c x y-> x y c'),0.1)),\n",
    "        axis=1\n",
    "        )).unsqueeze(0)\n",
    "u=u+xt\n",
    "##u=st_model(x.reshape(2,4,50,50))\n",
    "#print(x.shape)\n",
    "#print(u.shape)\n",
    "#\n",
    "u=rearrange(u,\"b p x y-> b (x y) p\")\n",
    "##u=u.reshape(2,1,-1).transpose(1,-1)\n",
    "#\n",
    "##x=x.transpose(1,-1)\n",
    "#\n",
    "#print(x.shape)\n",
    "#print(u.shape)\n",
    "x_grad(u,x,0,0)\n",
    "#\n",
    "#x_grad(u,x.reshape(2,4,-1).transpose(1,-1),0,0)"
   ]
  },
  {
   "cell_type": "code",
   "execution_count": 70,
   "id": "390bba95",
   "metadata": {},
   "outputs": [
    {
     "data": {
      "text/plain": [
       "torch.Size([1, 7, 50, 50])"
      ]
     },
     "execution_count": 70,
     "metadata": {},
     "output_type": "execute_result"
    }
   ],
   "source": [
    "torch.concat(\n",
    "        (xt,generate_postion_time_code(Tensor2Space(rearrange(x,\"b (x y) u-> b u x y\",x=50,y=50)[0],UniformGrid(x=50, y=50,bounds=Box(x=1.0, y=1.0)),'c x y-> x y c'),0.1)),\n",
    "        axis=1\n",
    "        ).shape"
   ]
  },
  {
   "cell_type": "code",
   "execution_count": 61,
   "id": "f368c7f6",
   "metadata": {},
   "outputs": [
    {
     "data": {
      "text/plain": [
       "torch.Size([1, 3, 50, 50])"
      ]
     },
     "execution_count": 61,
     "metadata": {},
     "output_type": "execute_result"
    }
   ],
   "source": [
    "generate_postion_time_code(Tensor2Space(rearrange(x,\"b (x y) u-> b u x y\",x=50,y=50)[0],UniformGrid(x=50, y=50,bounds=Box(x=1.0, y=1.0)),'c x y-> x y c'),0.1).shape"
   ]
  },
  {
   "cell_type": "code",
   "execution_count": 33,
   "id": "dbd68cb4",
   "metadata": {},
   "outputs": [
    {
     "name": "stdout",
     "output_type": "stream",
     "text": [
      "torch.Size([1, 2500, 4])\n",
      "Field[(xˢ=50, yˢ=50, vectorᶜ=4)]\n",
      "torch.Size([1, 4, 50, 50])\n"
     ]
    },
    {
     "data": {
      "text/plain": [
       "tensor([[[[ 2.4456e-04, -3.6087e-05,  2.6534e-05,  ..., -4.7920e-04,\n",
       "           -1.6923e-04,  1.2456e-04],\n",
       "          [-7.8309e-04, -1.0338e-03, -6.9462e-04,  ..., -1.1733e-03,\n",
       "           -4.3531e-04,  3.0210e-04],\n",
       "          [-5.7426e-04, -9.1421e-04,  9.6639e-04,  ..., -1.2151e-03,\n",
       "           -1.4550e-03, -3.1069e-04],\n",
       "          ...,\n",
       "          [-9.1590e-04, -3.0385e-04, -6.5880e-04,  ..., -9.1798e-04,\n",
       "            1.0899e-03,  1.4357e-03],\n",
       "          [-2.9862e-04,  6.3538e-04,  6.8159e-04,  ...,  9.2079e-04,\n",
       "            5.1439e-04,  7.3152e-04],\n",
       "          [ 1.1529e-04,  4.3320e-04,  4.4886e-04,  ...,  5.6771e-04,\n",
       "            7.5802e-04,  5.6851e-04]]]], grad_fn=<UnsqueezeBackward0>)"
      ]
     },
     "execution_count": 33,
     "metadata": {},
     "output_type": "execute_result"
    }
   ],
   "source": [
    "print(x.shape)\n",
    "print(xs)\n",
    "print(xt.shape)\n",
    "u"
   ]
  },
  {
   "cell_type": "code",
   "execution_count": 20,
   "id": "41f81ead",
   "metadata": {},
   "outputs": [
    {
     "ename": "NameError",
     "evalue": "name 'Tensor2Space' is not defined",
     "output_type": "error",
     "traceback": [
      "\u001b[0;31m---------------------------------------------------------------------------\u001b[0m",
      "\u001b[0;31mNameError\u001b[0m                                 Traceback (most recent call last)",
      "Cell \u001b[0;32mIn[20], line 10\u001b[0m\n\u001b[1;32m      1\u001b[0m \u001b[38;5;66;03m#geo=UniformGrid(x=50, y=50,bounds=Box(x=1.0, y=1.0))\u001b[39;00m\n\u001b[1;32m      2\u001b[0m \u001b[38;5;66;03m#phi_w=Field(geo, values=tensor(rearrange(x,\"b (x y) u-> b u x y\",x=50,y=50),),\u001b[39;00m\n\u001b[1;32m      3\u001b[0m \u001b[38;5;66;03m#      boundary= {\u001b[39;00m\n\u001b[0;32m   (...)\u001b[0m\n\u001b[1;32m      7\u001b[0m \u001b[38;5;66;03m#          'y+': 0\u001b[39;00m\n\u001b[1;32m      8\u001b[0m \u001b[38;5;66;03m# })\u001b[39;00m\n\u001b[0;32m---> 10\u001b[0m \u001b[43mTensor2Space\u001b[49m\n",
      "\u001b[0;31mNameError\u001b[0m: name 'Tensor2Space' is not defined"
     ]
    }
   ],
   "source": [
    "#geo=UniformGrid(x=50, y=50,bounds=Box(x=1.0, y=1.0))\n",
    "#phi_w=Field(geo, values=tensor(rearrange(x,\"b (x y) u-> b u x y\",x=50,y=50),),\n",
    "#      boundary= {\n",
    "#          'x-': tensor(0.01),\n",
    "#          'x+': ZERO_GRADIENT,\n",
    "#          'y-': 0,\n",
    "#          'y+': 0\n",
    "# })\n",
    "\n",
    "Tensor2Space"
   ]
  },
  {
   "cell_type": "code",
   "execution_count": 18,
   "id": "27b67e40",
   "metadata": {},
   "outputs": [
    {
     "name": "stdout",
     "output_type": "stream",
     "text": [
      "\u001b[0;31mInit signature:\u001b[0m\n",
      "\u001b[0mField\u001b[0m\u001b[0;34m(\u001b[0m\u001b[0;34m\u001b[0m\n",
      "\u001b[0;34m\u001b[0m    \u001b[0mgeometry\u001b[0m\u001b[0;34m:\u001b[0m \u001b[0mUnion\u001b[0m\u001b[0;34m[\u001b[0m\u001b[0mphi\u001b[0m\u001b[0;34m.\u001b[0m\u001b[0mgeom\u001b[0m\u001b[0;34m.\u001b[0m\u001b[0m_geom\u001b[0m\u001b[0;34m.\u001b[0m\u001b[0mGeometry\u001b[0m\u001b[0;34m,\u001b[0m \u001b[0mphiml\u001b[0m\u001b[0;34m.\u001b[0m\u001b[0mmath\u001b[0m\u001b[0;34m.\u001b[0m\u001b[0m_tensors\u001b[0m\u001b[0;34m.\u001b[0m\u001b[0mTensor\u001b[0m\u001b[0;34m]\u001b[0m\u001b[0;34m,\u001b[0m\u001b[0;34m\u001b[0m\n",
      "\u001b[0;34m\u001b[0m    \u001b[0mvalues\u001b[0m\u001b[0;34m:\u001b[0m \u001b[0mUnion\u001b[0m\u001b[0;34m[\u001b[0m\u001b[0mphiml\u001b[0m\u001b[0;34m.\u001b[0m\u001b[0mmath\u001b[0m\u001b[0;34m.\u001b[0m\u001b[0m_tensors\u001b[0m\u001b[0;34m.\u001b[0m\u001b[0mTensor\u001b[0m\u001b[0;34m,\u001b[0m \u001b[0mnumbers\u001b[0m\u001b[0;34m.\u001b[0m\u001b[0mNumber\u001b[0m\u001b[0;34m,\u001b[0m \u001b[0mbool\u001b[0m\u001b[0;34m,\u001b[0m \u001b[0mCallable\u001b[0m\u001b[0;34m,\u001b[0m \u001b[0mphi\u001b[0m\u001b[0;34m.\u001b[0m\u001b[0mfield\u001b[0m\u001b[0;34m.\u001b[0m\u001b[0m_field\u001b[0m\u001b[0;34m.\u001b[0m\u001b[0mFieldInitializer\u001b[0m\u001b[0;34m,\u001b[0m \u001b[0mphi\u001b[0m\u001b[0;34m.\u001b[0m\u001b[0mgeom\u001b[0m\u001b[0;34m.\u001b[0m\u001b[0m_geom\u001b[0m\u001b[0;34m.\u001b[0m\u001b[0mGeometry\u001b[0m\u001b[0;34m,\u001b[0m \u001b[0mForwardRef\u001b[0m\u001b[0;34m(\u001b[0m\u001b[0;34m'Field'\u001b[0m\u001b[0;34m)\u001b[0m\u001b[0;34m]\u001b[0m\u001b[0;34m,\u001b[0m\u001b[0;34m\u001b[0m\n",
      "\u001b[0;34m\u001b[0m    \u001b[0mboundary\u001b[0m\u001b[0;34m:\u001b[0m \u001b[0mUnion\u001b[0m\u001b[0;34m[\u001b[0m\u001b[0mnumbers\u001b[0m\u001b[0;34m.\u001b[0m\u001b[0mNumber\u001b[0m\u001b[0;34m,\u001b[0m \u001b[0mphiml\u001b[0m\u001b[0;34m.\u001b[0m\u001b[0mmath\u001b[0m\u001b[0;34m.\u001b[0m\u001b[0mextrapolation\u001b[0m\u001b[0;34m.\u001b[0m\u001b[0mExtrapolation\u001b[0m\u001b[0;34m,\u001b[0m \u001b[0mForwardRef\u001b[0m\u001b[0;34m(\u001b[0m\u001b[0;34m'Field'\u001b[0m\u001b[0;34m)\u001b[0m\u001b[0;34m,\u001b[0m \u001b[0mdict\u001b[0m\u001b[0;34m]\u001b[0m \u001b[0;34m=\u001b[0m \u001b[0;36m0.0\u001b[0m\u001b[0;34m,\u001b[0m\u001b[0;34m\u001b[0m\n",
      "\u001b[0;34m\u001b[0m    \u001b[0mvariable_attrs\u001b[0m\u001b[0;34m=\u001b[0m\u001b[0;34m(\u001b[0m\u001b[0;34m'values'\u001b[0m\u001b[0;34m,\u001b[0m\u001b[0;34m)\u001b[0m\u001b[0;34m,\u001b[0m\u001b[0;34m\u001b[0m\n",
      "\u001b[0;34m\u001b[0m    \u001b[0mvalue_attrs\u001b[0m\u001b[0;34m=\u001b[0m\u001b[0;34m(\u001b[0m\u001b[0;34m'values'\u001b[0m\u001b[0;34m,\u001b[0m\u001b[0;34m)\u001b[0m\u001b[0;34m,\u001b[0m\u001b[0;34m\u001b[0m\n",
      "\u001b[0;34m\u001b[0m    \u001b[0;34m**\u001b[0m\u001b[0msampling_kwargs\u001b[0m\u001b[0;34m,\u001b[0m\u001b[0;34m\u001b[0m\n",
      "\u001b[0;34m\u001b[0m\u001b[0;34m)\u001b[0m\u001b[0;34m\u001b[0m\u001b[0;34m\u001b[0m\u001b[0m\n",
      "\u001b[0;31mDocstring:\u001b[0m     \n",
      "A `Field` represents a discretized physical quantity (like temperature field or velocity field).\n",
      "The sample points and their relation are encoded in the `geometry` property and the corresponding values are stored as one `Tensor` in `values`.\n",
      "The boundary conditions and values outside the geometry are determined by `boundary`.\n",
      "\n",
      "Examples:\n",
      "    Create a periodic 2D grid, initialized via noise fluctuations.\n",
      "    >>> Field(UniformGrid(x=32, y=32), values=Noise(), boundary=PERIODIC)\n",
      "\n",
      "    Create a field on an unstructured mesh loaded from a .gmsh file\n",
      "    >>> mesh = phi.geom.load_gmsh('cylinder.msh', ('y-', 'x+', 'y+', 'x-', 'cyl+', 'cyl-'))\n",
      "    >>> Field(mesh, values=vec(x=1, y=0), boundary={'x': ZERO_GRADIENT, 'y': 0, 'cyl': 0})\n",
      "\n",
      "    Create two cubes and compute a scalar values for each.\n",
      "    >>> Field(Cuboid(vec(x=[0, 2], y=0), x=1, y=1), values=lambda x,y: x)\n",
      "\n",
      "See the `phi.field` module documentation at https://tum-pbs.github.io/PhiFlow/Fields.html\n",
      "\u001b[0;31mFile:\u001b[0m           /PhiFlow/phi/field/_field.py\n",
      "\u001b[0;31mType:\u001b[0m           _FieldType\n",
      "\u001b[0;31mSubclasses:\u001b[0m     "
     ]
    }
   ],
   "source": [
    "\n",
    "Field?"
   ]
  }
 ],
 "metadata": {
  "kernelspec": {
   "display_name": "Python 3 (ipykernel)",
   "language": "python",
   "name": "python3"
  },
  "language_info": {
   "codemirror_mode": {
    "name": "ipython",
    "version": 3
   },
   "file_extension": ".py",
   "mimetype": "text/x-python",
   "name": "python",
   "nbconvert_exporter": "python",
   "pygments_lexer": "ipython3",
   "version": "3.10.12"
  }
 },
 "nbformat": 4,
 "nbformat_minor": 5
}

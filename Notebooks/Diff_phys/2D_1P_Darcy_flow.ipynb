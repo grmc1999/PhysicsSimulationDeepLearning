{
 "cells": [
  {
   "cell_type": "code",
   "execution_count": 10,
   "id": "b78eebb1",
   "metadata": {},
   "outputs": [
    {
     "name": "stdout",
     "output_type": "stream",
     "text": [
      "/share_zeta/Proxy-Sim/PhysicsSimulationDeepLearning\n"
     ]
    },
    {
     "name": "stdout",
     "output_type": "stream",
     "text": [
      "Found existing installation: sympytorch 0.1.4\n",
      "Uninstalling sympytorch-0.1.4:\n",
      "  Successfully uninstalled sympytorch-0.1.4\n"
     ]
    }
   ],
   "source": [
    "! pwd\n",
    "! pip uninstall sympytorch -y"
   ]
  },
  {
   "cell_type": "code",
   "execution_count": 1,
   "id": "4865e9b0-c759-451f-a019-96d5da1ef942",
   "metadata": {},
   "outputs": [],
   "source": [
    "import os\n",
    "import sys\n",
    "\n",
    "\n",
    "ROOT=\"/home/guillermo.carrilho/PhysicsSimulationDeepLearning\"\n",
    "#ROOT=\"/share_zeta/Proxy-Sim/PhysicsSimulationDeepLearning\"\n",
    "\n",
    "sys.path.append(os.path.join(ROOT,\"Physical_models\"))"
   ]
  },
  {
   "cell_type": "markdown",
   "id": "79008c96",
   "metadata": {},
   "source": [
    "Equation solve by this algorithm is:\n",
    "$$\\textbf{u}=-\\frac{\\textbf{k}}{\\mu}(\\nabla p - \\rho g)$$\n",
    "\n",
    "### The case of this implementation is\n",
    "\n",
    "$$\\phi \\frac{\\partial p}{\\partial t} - \\frac{1}{\\mu} \\nabla \\cdot (\\textbf{k} \\nabla p) = q$$"
   ]
  },
  {
   "cell_type": "markdown",
   "id": "257873ee",
   "metadata": {},
   "source": [
    "# stable fluids approach"
   ]
  },
  {
   "cell_type": "markdown",
   "id": "20d4e38a",
   "metadata": {},
   "source": [
    "Equation solve by this algorithm is:\n",
    "$$\\textbf{u}=-\\frac{\\textbf{k}}{\\mu}(\\nabla p - \\rho g)$$\n",
    "\n",
    "### The case of this implementation is\n",
    "\n",
    "$$\\phi \\frac{\\partial p}{\\partial t} - \\frac{1}{\\mu} \\nabla \\cdot (\\textbf{k} \\nabla p) = q$$"
   ]
  },
  {
   "cell_type": "code",
   "execution_count": 5,
   "id": "708a3525",
   "metadata": {},
   "outputs": [
    {
     "ename": "NameError",
     "evalue": "name 'physical_model' is not defined",
     "output_type": "error",
     "traceback": [
      "\u001b[0;31m---------------------------------------------------------------------------\u001b[0m",
      "\u001b[0;31mNameError\u001b[0m                                 Traceback (most recent call last)",
      "Cell \u001b[0;32mIn[5], line 31\u001b[0m\n\u001b[1;32m     22\u001b[0m geo\u001b[38;5;241m=\u001b[39mUniformGrid(x\u001b[38;5;241m=\u001b[39m\u001b[38;5;241m60\u001b[39m, y\u001b[38;5;241m=\u001b[39m\u001b[38;5;241m60\u001b[39m,bounds\u001b[38;5;241m=\u001b[39mBox(x\u001b[38;5;241m=\u001b[39m\u001b[38;5;241m1.0\u001b[39m, y\u001b[38;5;241m=\u001b[39m\u001b[38;5;241m1.0\u001b[39m))\n\u001b[1;32m     23\u001b[0m phi_w\u001b[38;5;241m=\u001b[39mField( geo,values\u001b[38;5;241m=\u001b[39mvec(x\u001b[38;5;241m=\u001b[39m\u001b[38;5;241m0.0\u001b[39m,y\u001b[38;5;241m=\u001b[39m\u001b[38;5;241m0.0\u001b[39m),\n\u001b[1;32m     24\u001b[0m       boundary\u001b[38;5;241m=\u001b[39m {\n\u001b[1;32m     25\u001b[0m           \u001b[38;5;124m'\u001b[39m\u001b[38;5;124mx-\u001b[39m\u001b[38;5;124m'\u001b[39m: vec(x\u001b[38;5;241m=\u001b[39m\u001b[38;5;241m0.1\u001b[39m,y\u001b[38;5;241m=\u001b[39m\u001b[38;5;241m0.0\u001b[39m),\n\u001b[0;32m   (...)\u001b[0m\n\u001b[1;32m     28\u001b[0m           \u001b[38;5;124m'\u001b[39m\u001b[38;5;124my+\u001b[39m\u001b[38;5;124m'\u001b[39m: \u001b[38;5;241m0\u001b[39m\n\u001b[1;32m     29\u001b[0m  })\n\u001b[0;32m---> 31\u001b[0m phy\u001b[38;5;241m=\u001b[39m\u001b[43mphysical_model\u001b[49m(\n\u001b[1;32m     32\u001b[0m    phi_w,\u001b[38;5;241m0.01\u001b[39m\n\u001b[1;32m     33\u001b[0m )\n",
      "\u001b[0;31mNameError\u001b[0m: name 'physical_model' is not defined"
     ]
    }
   ],
   "source": [
    "#from Differentiable_simulation import dK_w,K_w,K_o,grad_phi_dK\n",
    "from phi.torch.flow import *\n",
    "from phi.torch.flow import diffuse, advect, Solve, fluid, math,Field, unstack,stack,batch,field,vec\n",
    "\n",
    "class darcy_flow_model(object):\n",
    "  def __init__(self,field,dt):\n",
    "    self.field=field\n",
    "    self.dt=dt\n",
    "\n",
    "  def nK(self,domain):\n",
    "    return 0.001*math.exp(-math.sum(((domain.center-0.5)**2),\"vector\")/(2*0.5))\n",
    "\n",
    "  def reaction_diffusion(self, u, dt):\n",
    "    su = self.nK(u.geometry) * field.laplace(u)\n",
    "    return u + dt * su\n",
    "  def step(self,v):\n",
    "    return self.reaction_diffusion(v,self.dt)\n",
    "  \n",
    "args={\"k\":0.1}\n",
    "  \n",
    "\n",
    "geo=UniformGrid(x=60, y=60,bounds=Box(x=1.0, y=1.0))\n",
    "phi_w=Field( geo,values=vec(x=0.0,y=0.0),\n",
    "      boundary= {\n",
    "          'x-': vec(x=0.1,y=0.0),\n",
    "          'x+': ZERO_GRADIENT,\n",
    "          'y-': 0,\n",
    "          'y+': 0\n",
    " })\n",
    "\n",
    "phy=physical_model(\n",
    "   phi_w,0.01\n",
    ")"
   ]
  },
  {
   "cell_type": "markdown",
   "id": "0db465a1",
   "metadata": {},
   "source": [
    "## 2D"
   ]
  },
  {
   "cell_type": "code",
   "execution_count": null,
   "id": "0b790691",
   "metadata": {},
   "outputs": [],
   "source": [
    "geo=UniformGrid(x=20, y=20,bounds=Box(x=1.0, y=1.0))\n",
    "phi_w=Field( geo,values=tensor(0.0),\n",
    "      boundary= {\n",
    "          'x-': tensor(0.01),\n",
    "          'x+': ZERO_GRADIENT,\n",
    "          'y-': 0,\n",
    "          'y+': 0\n",
    " })\n",
    "phi_w\n",
    "model=darcy_flow_model()"
   ]
  },
  {
   "cell_type": "code",
   "execution_count": 3,
   "id": "af91cc28",
   "metadata": {},
   "outputs": [],
   "source": [
    "class simple_cnn_model(torch.nn.Module):\n",
    "  def __init__(self):\n",
    "    super(simple_cnn_model,self).__init__()\n",
    "\n",
    "    self.conv1=torch.nn.Conv2d(2, 32, (9,9), padding=4)\n",
    "    self.conv2=torch.nn.Conv2d(32, 64, (9,9), padding=4)\n",
    "    self.conv3=torch.nn.Conv2d(64, 2, (9,9), padding=4)\n",
    "    self.act1=torch.nn.ReLU()\n",
    "    self.act2=torch.nn.ReLU()\n",
    "    self.act3=torch.nn.Tanh()\n",
    "  def forward(self,x):\n",
    "    x=self.act1(self.conv1(x))\n",
    "    x=self.act2(self.conv2(x))\n",
    "    x=self.act3(self.conv3(x))*1\n",
    "    #x=torch.clamp(x, min=-0.5, max=0.5)\n",
    "    return x[0]"
   ]
  },
  {
   "cell_type": "code",
   "execution_count": null,
   "id": "4abcabb2",
   "metadata": {},
   "outputs": [],
   "source": [
    "model=simple_cnn_model().train()\n",
    "optimizer=torch.optim.Adam(model.parameters(),lr=1e-3)"
   ]
  },
  {
   "cell_type": "code",
   "execution_count": 17,
   "id": "75d56057",
   "metadata": {},
   "outputs": [
    {
     "name": "stderr",
     "output_type": "stream",
     "text": [
      "/usr/local/lib/python3.10/dist-packages/phiml/math/_optimize.py:640: UserWarning: Possible rank deficiency detected. Matrix might be singular which can lead to convergence problems. Please specify using Solve(rank_deficiency=...).\n",
      "  warnings.warn(\"Possible rank deficiency detected. Matrix might be singular which can lead to convergence problems. Please specify using Solve(rank_deficiency=...).\")\n"
     ]
    }
   ],
   "source": [
    "v,p = fluid.make_incompressible(v0,solve=Solve('CG-adaptive',1e-2,1e-2))"
   ]
  },
  {
   "cell_type": "code",
   "execution_count": 14,
   "id": "8fa75c56",
   "metadata": {},
   "outputs": [],
   "source": [
    "from Train_differentiable_physics import PINNS_based_SOL_trainer\n",
    "import torch\n",
    "T=PINNS_based_SOL_trainer(\n",
    "    field=(v0,fluid.make_incompressible(v0,solve=Solve('CG-adaptive',1e-2,1e-2))[-1]),\n",
    "    model=model,\n",
    "    optimizer=optimizer,\n",
    "    simulation_steps=2,\n",
    "    time_step=0.1,\n",
    "    loss=torch.mean\n",
    "    )"
   ]
  },
  {
   "cell_type": "code",
   "execution_count": 16,
   "id": "e160081c",
   "metadata": {},
   "outputs": [
    {
     "ename": "TypeError",
     "evalue": "Random.randint() missing 2 required positional arguments: 'a' and 'b'",
     "output_type": "error",
     "traceback": [
      "\u001b[0;31m---------------------------------------------------------------------------\u001b[0m",
      "\u001b[0;31mTypeError\u001b[0m                                 Traceback (most recent call last)",
      "Cell \u001b[0;32mIn[16], line 2\u001b[0m\n\u001b[1;32m      1\u001b[0m \u001b[38;5;28;01mfrom\u001b[39;00m\u001b[38;5;250m \u001b[39m\u001b[38;5;21;01mrandom\u001b[39;00m\u001b[38;5;250m \u001b[39m\u001b[38;5;28;01mimport\u001b[39;00m randint\n\u001b[0;32m----> 2\u001b[0m \u001b[43mrandint\u001b[49m\u001b[43m(\u001b[49m\u001b[43m)\u001b[49m\n",
      "\u001b[0;31mTypeError\u001b[0m: Random.randint() missing 2 required positional arguments: 'a' and 'b'"
     ]
    }
   ],
   "source": [
    "from random import randint\n",
    "randint()"
   ]
  },
  {
   "cell_type": "code",
   "execution_count": 15,
   "id": "eb32fb74",
   "metadata": {},
   "outputs": [
    {
     "data": {
      "text/plain": [
       "[array(0.5626921, dtype=float32),\n",
       " array(-0.45075464, dtype=float32),\n",
       " array(-0.6038111, dtype=float32),\n",
       " array(-0.64447063, dtype=float32),\n",
       " array(-0.6510437, dtype=float32)]"
      ]
     },
     "execution_count": 15,
     "metadata": {},
     "output_type": "execute_result"
    }
   ],
   "source": [
    "T.train(5)"
   ]
  },
  {
   "cell_type": "markdown",
   "id": "5dbfa1cf",
   "metadata": {},
   "source": [
    "## 3D"
   ]
  },
  {
   "cell_type": "code",
   "execution_count": 6,
   "id": "fe15c639",
   "metadata": {},
   "outputs": [
    {
     "name": "stderr",
     "output_type": "stream",
     "text": [
      "/usr/local/lib/python3.10/dist-packages/phiml/math/_optimize.py:640: UserWarning: Possible rank deficiency detected. Matrix might be singular which can lead to convergence problems. Please specify using Solve(rank_deficiency=...).\n",
      "  warnings.warn(\"Possible rank deficiency detected. Matrix might be singular which can lead to convergence problems. Please specify using Solve(rank_deficiency=...).\")\n"
     ]
    },
    {
     "ename": "Diverged",
     "evalue": "Solve diverged within 819 iterations using Φ-ML CG (PyTorch*)",
     "output_type": "error",
     "traceback": [
      "\u001b[0;31m---------------------------------------------------------------------------\u001b[0m",
      "\u001b[0;31mDiverged\u001b[0m                                  Traceback (most recent call last)",
      "Cell \u001b[0;32mIn[6], line 3\u001b[0m\n\u001b[1;32m      1\u001b[0m \u001b[38;5;28;01mfrom\u001b[39;00m\u001b[38;5;250m \u001b[39m\u001b[38;5;21;01mTrain_differentiable_physics\u001b[39;00m\u001b[38;5;250m \u001b[39m\u001b[38;5;28;01mimport\u001b[39;00m PINNS_based_SOL_trainer\n\u001b[1;32m      2\u001b[0m \u001b[38;5;28;01mimport\u001b[39;00m\u001b[38;5;250m \u001b[39m\u001b[38;5;21;01mtorch\u001b[39;00m\n\u001b[0;32m----> 3\u001b[0m \u001b[43mPINNS_based_SOL_trainer\u001b[49m\u001b[43m(\u001b[49m\n\u001b[1;32m      4\u001b[0m \u001b[43m    \u001b[49m\u001b[43mfield\u001b[49m\u001b[38;5;241;43m=\u001b[39;49m\u001b[43mv0\u001b[49m\u001b[43m,\u001b[49m\n\u001b[1;32m      5\u001b[0m \u001b[43m    \u001b[49m\u001b[43mmodel\u001b[49m\u001b[38;5;241;43m=\u001b[39;49m\u001b[43mmodel\u001b[49m\u001b[43m,\u001b[49m\n\u001b[1;32m      6\u001b[0m \u001b[43m    \u001b[49m\u001b[43moptimizer\u001b[49m\u001b[38;5;241;43m=\u001b[39;49m\u001b[43moptimizer\u001b[49m\u001b[43m,\u001b[49m\n\u001b[1;32m      7\u001b[0m \u001b[43m    \u001b[49m\u001b[43msimulation_steps\u001b[49m\u001b[38;5;241;43m=\u001b[39;49m\u001b[38;5;241;43m10\u001b[39;49m\u001b[43m,\u001b[49m\n\u001b[1;32m      8\u001b[0m \u001b[43m    \u001b[49m\u001b[43mtime_step\u001b[49m\u001b[38;5;241;43m=\u001b[39;49m\u001b[38;5;241;43m0.1\u001b[39;49m\u001b[43m,\u001b[49m\n\u001b[1;32m      9\u001b[0m \u001b[43m    \u001b[49m\u001b[43mloss\u001b[49m\u001b[38;5;241;43m=\u001b[39;49m\u001b[43mtorch\u001b[49m\u001b[38;5;241;43m.\u001b[39;49m\u001b[43mmean\u001b[49m\n\u001b[1;32m     10\u001b[0m \u001b[43m    \u001b[49m\u001b[43m)\u001b[49m\n",
      "File \u001b[0;32m~/PhysicsSimulationDeepLearning/Train_differentiable_physics.py:503\u001b[0m, in \u001b[0;36mPINNS_based_SOL_trainer.__init__\u001b[0;34m(self, field, model, optimizer, simulation_steps, time_step, loss)\u001b[0m\n\u001b[1;32m    500\u001b[0m \u001b[38;5;28mself\u001b[39m\u001b[38;5;241m.\u001b[39minit_states_gt\u001b[38;5;241m=\u001b[39m[\u001b[38;5;28mself\u001b[39m\u001b[38;5;241m.\u001b[39mv]\n\u001b[1;32m    502\u001b[0m \u001b[38;5;28;01mfor\u001b[39;00m i \u001b[38;5;129;01min\u001b[39;00m \u001b[38;5;28mrange\u001b[39m(\u001b[38;5;241m50\u001b[39m):\n\u001b[0;32m--> 503\u001b[0m   \u001b[38;5;28mself\u001b[39m\u001b[38;5;241m.\u001b[39minit_states_gt\u001b[38;5;241m.\u001b[39mappend(\u001b[38;5;28;43mself\u001b[39;49m\u001b[38;5;241;43m.\u001b[39;49m\u001b[43mph_model\u001b[49m\u001b[38;5;241;43m.\u001b[39;49m\u001b[43mstep\u001b[49m\u001b[43m(\u001b[49m\u001b[38;5;28;43mself\u001b[39;49m\u001b[38;5;241;43m.\u001b[39;49m\u001b[43minit_states_gt\u001b[49m\u001b[43m[\u001b[49m\u001b[38;5;241;43m-\u001b[39;49m\u001b[38;5;241;43m1\u001b[39;49m\u001b[43m]\u001b[49m\u001b[43m)\u001b[49m)\n\u001b[1;32m    505\u001b[0m \u001b[38;5;28mself\u001b[39m\u001b[38;5;241m.\u001b[39mn_steps\u001b[38;5;241m=\u001b[39msimulation_steps\n\u001b[1;32m    506\u001b[0m \u001b[38;5;28mself\u001b[39m\u001b[38;5;241m.\u001b[39mst_model\u001b[38;5;241m=\u001b[39mmodel\n",
      "File \u001b[0;32m~/PhysicsSimulationDeepLearning/Physical_models/Differentiable_simulation.py:135\u001b[0m, in \u001b[0;36mphysical_model.step\u001b[0;34m(self, v)\u001b[0m\n\u001b[1;32m    134\u001b[0m \u001b[38;5;28;01mdef\u001b[39;00m\u001b[38;5;250m \u001b[39m\u001b[38;5;21mstep\u001b[39m(\u001b[38;5;28mself\u001b[39m,v):\n\u001b[0;32m--> 135\u001b[0m   \u001b[38;5;28;01mreturn\u001b[39;00m \u001b[38;5;28;43mself\u001b[39;49m\u001b[38;5;241;43m.\u001b[39;49m\u001b[43mimplicit_time_step\u001b[49m\u001b[43m(\u001b[49m\u001b[43mv\u001b[49m\u001b[43m,\u001b[49m\u001b[38;5;28;43mself\u001b[39;49m\u001b[38;5;241;43m.\u001b[39;49m\u001b[43mdt\u001b[49m\u001b[43m)\u001b[49m\n",
      "File \u001b[0;32m~/PhysicsSimulationDeepLearning/Physical_models/Differentiable_simulation.py:127\u001b[0m, in \u001b[0;36mphysical_model.implicit_time_step\u001b[0;34m(self, v, dt)\u001b[0m\n\u001b[1;32m    123\u001b[0m \u001b[38;5;28;01mdef\u001b[39;00m\u001b[38;5;250m \u001b[39m\u001b[38;5;21mimplicit_time_step\u001b[39m(\u001b[38;5;28mself\u001b[39m, v, dt):\n\u001b[1;32m    124\u001b[0m     v \u001b[38;5;241m=\u001b[39m math\u001b[38;5;241m.\u001b[39msolve_linear(\u001b[38;5;28mself\u001b[39m\u001b[38;5;241m.\u001b[39mmomentum_eq, v, Solve(\u001b[38;5;124m'\u001b[39m\u001b[38;5;124mCG-adaptive\u001b[39m\u001b[38;5;124m'\u001b[39m,\n\u001b[1;32m    125\u001b[0m                                                   \u001b[38;5;241m1e-2\u001b[39m,\n\u001b[1;32m    126\u001b[0m                                                   \u001b[38;5;241m1e-2\u001b[39m,x0\u001b[38;5;241m=\u001b[39mv), u_prev\u001b[38;5;241m=\u001b[39mv, dt\u001b[38;5;241m=\u001b[39m\u001b[38;5;241m-\u001b[39mdt)\n\u001b[0;32m--> 127\u001b[0m     v,p \u001b[38;5;241m=\u001b[39m \u001b[43mfluid\u001b[49m\u001b[38;5;241;43m.\u001b[39;49m\u001b[43mmake_incompressible\u001b[49m\u001b[43m(\u001b[49m\u001b[43mv\u001b[49m\u001b[43m,\u001b[49m\u001b[43msolve\u001b[49m\u001b[38;5;241;43m=\u001b[39;49m\u001b[43mSolve\u001b[49m\u001b[43m(\u001b[49m\u001b[38;5;124;43m'\u001b[39;49m\u001b[38;5;124;43mCG-adaptive\u001b[39;49m\u001b[38;5;124;43m'\u001b[39;49m\u001b[43m,\u001b[49m\n\u001b[1;32m    128\u001b[0m \u001b[43m                                                  \u001b[49m\u001b[38;5;241;43m1e-2\u001b[39;49m\u001b[43m,\u001b[49m\n\u001b[1;32m    129\u001b[0m \u001b[43m                                                  \u001b[49m\u001b[38;5;241;43m1e-2\u001b[39;49m\u001b[43m,\u001b[49m\n\u001b[1;32m    130\u001b[0m \u001b[43m                                                        \u001b[49m\u001b[38;5;66;43;03m#x0=self.p\u001b[39;49;00m\n\u001b[1;32m    131\u001b[0m \u001b[43m                                                        \u001b[49m\u001b[43m)\u001b[49m\u001b[43m)\u001b[49m\n\u001b[1;32m    132\u001b[0m     \u001b[38;5;28;01mreturn\u001b[39;00m v\n",
      "File \u001b[0;32m/PhiFlow/phi/physics/fluid.py:156\u001b[0m, in \u001b[0;36mmake_incompressible\u001b[0;34m(velocity, obstacles, solve, active, order, correct_skew, wide_stencil)\u001b[0m\n\u001b[1;32m    154\u001b[0m \u001b[38;5;28;01mif\u001b[39;00m wide_stencil \u001b[38;5;129;01mis\u001b[39;00m \u001b[38;5;28;01mNone\u001b[39;00m:\n\u001b[1;32m    155\u001b[0m     wide_stencil \u001b[38;5;241m=\u001b[39m \u001b[38;5;129;01mnot\u001b[39;00m velocity\u001b[38;5;241m.\u001b[39mis_staggered\n\u001b[0;32m--> 156\u001b[0m pressure \u001b[38;5;241m=\u001b[39m \u001b[43mmath\u001b[49m\u001b[38;5;241;43m.\u001b[39;49m\u001b[43msolve_linear\u001b[49m\u001b[43m(\u001b[49m\u001b[43mmasked_laplace\u001b[49m\u001b[43m,\u001b[49m\u001b[43m \u001b[49m\u001b[43mdiv\u001b[49m\u001b[43m,\u001b[49m\u001b[43m \u001b[49m\u001b[43msolve\u001b[49m\u001b[43m,\u001b[49m\u001b[43m \u001b[49m\u001b[43mvelocity\u001b[49m\u001b[38;5;241;43m.\u001b[39;49m\u001b[43mboundary\u001b[49m\u001b[43m,\u001b[49m\u001b[43m \u001b[49m\u001b[43mhard_bcs\u001b[49m\u001b[43m,\u001b[49m\u001b[43m \u001b[49m\u001b[43mactive\u001b[49m\u001b[43m,\u001b[49m\u001b[43m \u001b[49m\u001b[43mwide_stencil\u001b[49m\u001b[38;5;241;43m=\u001b[39;49m\u001b[43mwide_stencil\u001b[49m\u001b[43m,\u001b[49m\u001b[43m \u001b[49m\u001b[43morder\u001b[49m\u001b[38;5;241;43m=\u001b[39;49m\u001b[43morder\u001b[49m\u001b[43m,\u001b[49m\u001b[43m \u001b[49m\u001b[43mimplicit\u001b[49m\u001b[38;5;241;43m=\u001b[39;49m\u001b[38;5;28;43;01mNone\u001b[39;49;00m\u001b[43m,\u001b[49m\u001b[43m \u001b[49m\u001b[43mupwind\u001b[49m\u001b[38;5;241;43m=\u001b[39;49m\u001b[38;5;28;43;01mNone\u001b[39;49;00m\u001b[43m,\u001b[49m\u001b[43m \u001b[49m\u001b[43mcorrect_skew\u001b[49m\u001b[38;5;241;43m=\u001b[39;49m\u001b[43mcorrect_skew\u001b[49m\u001b[43m)\u001b[49m\n\u001b[1;32m    157\u001b[0m \u001b[38;5;66;03m# --- Subtract grad p ---\u001b[39;00m\n\u001b[1;32m    158\u001b[0m grad_pressure \u001b[38;5;241m=\u001b[39m field\u001b[38;5;241m.\u001b[39mspatial_gradient(pressure, input_velocity\u001b[38;5;241m.\u001b[39mextrapolation, at\u001b[38;5;241m=\u001b[39mvelocity\u001b[38;5;241m.\u001b[39msampled_at, order\u001b[38;5;241m=\u001b[39morder, scheme\u001b[38;5;241m=\u001b[39m\u001b[38;5;124m'\u001b[39m\u001b[38;5;124mgreen-gauss\u001b[39m\u001b[38;5;124m'\u001b[39m)\n",
      "File \u001b[0;32m/usr/local/lib/python3.10/dist-packages/phiml/math/_optimize.py:671\u001b[0m, in \u001b[0;36msolve_linear\u001b[0;34m(f, y, solve, grad_for_f, f_kwargs, *f_args, **f_kwargs_)\u001b[0m\n\u001b[1;32m    668\u001b[0m         \u001b[38;5;28;01mreturn\u001b[39;00m result  \u001b[38;5;66;03m# must return exactly `x` so gradient isn't computed w.r.t. other quantities\u001b[39;00m\n\u001b[1;32m    670\u001b[0m     _matrix_solve \u001b[38;5;241m=\u001b[39m attach_gradient_solve(_matrix_solve_forward, auxiliary_args\u001b[38;5;241m=\u001b[39m\u001b[38;5;124mf\u001b[39m\u001b[38;5;124m'\u001b[39m\u001b[38;5;124mis_backprop,solve\u001b[39m\u001b[38;5;132;01m{\u001b[39;00m\u001b[38;5;124m\"\u001b[39m\u001b[38;5;124m,matrix\u001b[39m\u001b[38;5;124m\"\u001b[39m\u001b[38;5;250m \u001b[39m\u001b[38;5;28;01mif\u001b[39;00m\u001b[38;5;250m \u001b[39mmatrix\u001b[38;5;241m.\u001b[39mbackend\u001b[38;5;250m \u001b[39m\u001b[38;5;241m==\u001b[39m\u001b[38;5;250m \u001b[39mNUMPY\u001b[38;5;250m \u001b[39m\u001b[38;5;28;01melse\u001b[39;00m\u001b[38;5;250m \u001b[39m\u001b[38;5;124m\"\u001b[39m\u001b[38;5;124m\"\u001b[39m\u001b[38;5;132;01m}\u001b[39;00m\u001b[38;5;124m'\u001b[39m, matrix_adjoint\u001b[38;5;241m=\u001b[39mgrad_for_f)\n\u001b[0;32m--> 671\u001b[0m     \u001b[38;5;28;01mreturn\u001b[39;00m \u001b[43m_matrix_solve\u001b[49m\u001b[43m(\u001b[49m\u001b[43my\u001b[49m\u001b[43m \u001b[49m\u001b[38;5;241;43m-\u001b[39;49m\u001b[43m \u001b[49m\u001b[43mbias\u001b[49m\u001b[43m,\u001b[49m\u001b[43m \u001b[49m\u001b[43msolve\u001b[49m\u001b[43m,\u001b[49m\u001b[43m \u001b[49m\u001b[43mmatrix\u001b[49m\u001b[43m)\u001b[49m\n\u001b[1;32m    672\u001b[0m \u001b[38;5;28;01melse\u001b[39;00m:  \u001b[38;5;66;03m# Matrix-free solve\u001b[39;00m\n\u001b[1;32m    673\u001b[0m     f_args \u001b[38;5;241m=\u001b[39m cached(f_args)\n",
      "File \u001b[0;32m/usr/local/lib/python3.10/dist-packages/phiml/math/_functional.py:963\u001b[0m, in \u001b[0;36mCustomGradientFunction.__call__\u001b[0;34m(self, *args, **kwargs)\u001b[0m\n\u001b[1;32m    958\u001b[0m             \u001b[38;5;28;01mif\u001b[39;00m \u001b[38;5;28mlen\u001b[39m(\u001b[38;5;28mself\u001b[39m\u001b[38;5;241m.\u001b[39mtraces) \u001b[38;5;241m>\u001b[39m\u001b[38;5;241m=\u001b[39m \u001b[38;5;241m8\u001b[39m:\n\u001b[1;32m    959\u001b[0m                 warnings\u001b[38;5;241m.\u001b[39mwarn(\u001b[38;5;124mf\u001b[39m\u001b[38;5;124m\"\"\"\u001b[39m\u001b[38;5;132;01m{\u001b[39;00m\u001b[38;5;28mself\u001b[39m\u001b[38;5;241m.\u001b[39m\u001b[38;5;18m__name__\u001b[39m\u001b[38;5;132;01m}\u001b[39;00m\u001b[38;5;124m has been traced \u001b[39m\u001b[38;5;132;01m{\u001b[39;00m\u001b[38;5;28mlen\u001b[39m(\u001b[38;5;28mself\u001b[39m\u001b[38;5;241m.\u001b[39mtraces)\u001b[38;5;132;01m}\u001b[39;00m\u001b[38;5;124m times.\u001b[39m\n\u001b[1;32m    960\u001b[0m \u001b[38;5;124mTo avoid memory leaks, call \u001b[39m\u001b[38;5;132;01m{\u001b[39;00mf_name(\u001b[38;5;28mself\u001b[39m\u001b[38;5;241m.\u001b[39mf)\u001b[38;5;132;01m}\u001b[39;00m\u001b[38;5;124m.traces.clear(), \u001b[39m\u001b[38;5;132;01m{\u001b[39;00mf_name(\u001b[38;5;28mself\u001b[39m\u001b[38;5;241m.\u001b[39mf)\u001b[38;5;132;01m}\u001b[39;00m\u001b[38;5;124m.recorded_mappings.clear().\u001b[39m\n\u001b[1;32m    961\u001b[0m \u001b[38;5;124mTraces can be avoided by jit-compiling the code that calls custom gradient functions.\u001b[39m\n\u001b[1;32m    962\u001b[0m \u001b[38;5;124m\"\"\"\u001b[39m, \u001b[38;5;167;01mRuntimeWarning\u001b[39;00m, stacklevel\u001b[38;5;241m=\u001b[39m\u001b[38;5;241m2\u001b[39m)\n\u001b[0;32m--> 963\u001b[0m         native_result \u001b[38;5;241m=\u001b[39m \u001b[38;5;28;43mself\u001b[39;49m\u001b[38;5;241;43m.\u001b[39;49m\u001b[43mtraces\u001b[49m\u001b[43m[\u001b[49m\u001b[43mkey\u001b[49m\u001b[43m]\u001b[49m\u001b[43m(\u001b[49m\u001b[38;5;241;43m*\u001b[39;49m\u001b[43mnatives\u001b[49m\u001b[43m)\u001b[49m  \u001b[38;5;66;03m# With PyTorch + jit, this does not call forward_native every time\u001b[39;00m\n\u001b[1;32m    964\u001b[0m         output_key \u001b[38;5;241m=\u001b[39m match_output_signature(key, \u001b[38;5;28mself\u001b[39m\u001b[38;5;241m.\u001b[39mrecorded_mappings, \u001b[38;5;28mself\u001b[39m)\n\u001b[1;32m    965\u001b[0m         output_tensors \u001b[38;5;241m=\u001b[39m assemble_tensors(native_result, output_key\u001b[38;5;241m.\u001b[39mspecs)\n",
      "File \u001b[0;32m/usr/local/lib/python3.10/dist-packages/phiml/backend/torch/_torch_backend.py:251\u001b[0m, in \u001b[0;36mTorchBackend.custom_gradient.<locals>.select_jit\u001b[0;34m(*args)\u001b[0m\n\u001b[1;32m    249\u001b[0m args \u001b[38;5;241m=\u001b[39m [\u001b[38;5;28mself\u001b[39m\u001b[38;5;241m.\u001b[39mas_tensor(arg) \u001b[38;5;28;01mfor\u001b[39;00m arg \u001b[38;5;129;01min\u001b[39;00m args]\n\u001b[1;32m    250\u001b[0m \u001b[38;5;28;01mif\u001b[39;00m \u001b[38;5;129;01mnot\u001b[39;00m CURRENT_JIT_CALLS:\n\u001b[0;32m--> 251\u001b[0m     \u001b[38;5;28;01mreturn\u001b[39;00m \u001b[43mtorch_function\u001b[49m\u001b[38;5;241;43m.\u001b[39;49m\u001b[43mapply\u001b[49m\u001b[43m(\u001b[49m\u001b[38;5;241;43m*\u001b[39;49m\u001b[43margs\u001b[49m\u001b[43m)\u001b[49m\n\u001b[1;32m    252\u001b[0m jit \u001b[38;5;241m=\u001b[39m CURRENT_JIT_CALLS[\u001b[38;5;241m-\u001b[39m\u001b[38;5;241m1\u001b[39m]\n\u001b[1;32m    253\u001b[0m \u001b[38;5;28;01mif\u001b[39;00m torch\u001b[38;5;241m.\u001b[39m_C\u001b[38;5;241m.\u001b[39m_get_tracing_state() \u001b[38;5;129;01mis\u001b[39;00m \u001b[38;5;28;01mNone\u001b[39;00m:  \u001b[38;5;66;03m# first call: record this function\u001b[39;00m\n",
      "File \u001b[0;32m/usr/local/lib/python3.10/dist-packages/torch/autograd/function.py:575\u001b[0m, in \u001b[0;36mFunction.apply\u001b[0;34m(cls, *args, **kwargs)\u001b[0m\n\u001b[1;32m    572\u001b[0m \u001b[38;5;28;01mif\u001b[39;00m \u001b[38;5;129;01mnot\u001b[39;00m torch\u001b[38;5;241m.\u001b[39m_C\u001b[38;5;241m.\u001b[39m_are_functorch_transforms_active():\n\u001b[1;32m    573\u001b[0m     \u001b[38;5;66;03m# See NOTE: [functorch vjp and autograd interaction]\u001b[39;00m\n\u001b[1;32m    574\u001b[0m     args \u001b[38;5;241m=\u001b[39m _functorch\u001b[38;5;241m.\u001b[39mutils\u001b[38;5;241m.\u001b[39munwrap_dead_wrappers(args)\n\u001b[0;32m--> 575\u001b[0m     \u001b[38;5;28;01mreturn\u001b[39;00m \u001b[38;5;28;43msuper\u001b[39;49m\u001b[43m(\u001b[49m\u001b[43m)\u001b[49m\u001b[38;5;241;43m.\u001b[39;49m\u001b[43mapply\u001b[49m\u001b[43m(\u001b[49m\u001b[38;5;241;43m*\u001b[39;49m\u001b[43margs\u001b[49m\u001b[43m,\u001b[49m\u001b[43m \u001b[49m\u001b[38;5;241;43m*\u001b[39;49m\u001b[38;5;241;43m*\u001b[39;49m\u001b[43mkwargs\u001b[49m\u001b[43m)\u001b[49m  \u001b[38;5;66;03m# type: ignore[misc]\u001b[39;00m\n\u001b[1;32m    577\u001b[0m \u001b[38;5;28;01mif\u001b[39;00m \u001b[38;5;129;01mnot\u001b[39;00m is_setup_ctx_defined:\n\u001b[1;32m    578\u001b[0m     \u001b[38;5;28;01mraise\u001b[39;00m \u001b[38;5;167;01mRuntimeError\u001b[39;00m(\n\u001b[1;32m    579\u001b[0m         \u001b[38;5;124m\"\u001b[39m\u001b[38;5;124mIn order to use an autograd.Function with functorch transforms \u001b[39m\u001b[38;5;124m\"\u001b[39m\n\u001b[1;32m    580\u001b[0m         \u001b[38;5;124m\"\u001b[39m\u001b[38;5;124m(vmap, grad, jvp, jacrev, ...), it must override the setup_context \u001b[39m\u001b[38;5;124m\"\u001b[39m\n\u001b[1;32m    581\u001b[0m         \u001b[38;5;124m\"\u001b[39m\u001b[38;5;124mstaticmethod. For more details, please see \u001b[39m\u001b[38;5;124m\"\u001b[39m\n\u001b[1;32m    582\u001b[0m         \u001b[38;5;124m\"\u001b[39m\u001b[38;5;124mhttps://pytorch.org/docs/main/notes/extending.func.html\u001b[39m\u001b[38;5;124m\"\u001b[39m\n\u001b[1;32m    583\u001b[0m     )\n",
      "File \u001b[0;32m/usr/local/lib/python3.10/dist-packages/phiml/backend/torch/_torch_backend.py:1206\u001b[0m, in \u001b[0;36mconstruct_torch_custom_function.<locals>.TorchCustomFunction.forward\u001b[0;34m(ctx, *args, **kwargs)\u001b[0m\n\u001b[1;32m   1204\u001b[0m     \u001b[38;5;28;01mreturn\u001b[39;00m f_example_output\n\u001b[1;32m   1205\u001b[0m ML_LOGGER\u001b[38;5;241m.\u001b[39mdebug(\u001b[38;5;124mf\u001b[39m\u001b[38;5;124m\"\u001b[39m\u001b[38;5;124mTorchScript -> run compiled \u001b[39m\u001b[38;5;132;01m{\u001b[39;00mf\u001b[38;5;241m.\u001b[39m\u001b[38;5;18m__name__\u001b[39m\u001b[38;5;132;01m}\u001b[39;00m\u001b[38;5;124m with args \u001b[39m\u001b[38;5;132;01m{\u001b[39;00m[(\u001b[38;5;28mtuple\u001b[39m(a\u001b[38;5;241m.\u001b[39mshape),\u001b[38;5;250m \u001b[39ma\u001b[38;5;241m.\u001b[39mrequires_grad)\u001b[38;5;250m \u001b[39m\u001b[38;5;28;01mfor\u001b[39;00m\u001b[38;5;250m \u001b[39ma\u001b[38;5;250m \u001b[39m\u001b[38;5;129;01min\u001b[39;00m\u001b[38;5;250m \u001b[39margs]\u001b[38;5;132;01m}\u001b[39;00m\u001b[38;5;124m\"\u001b[39m)\n\u001b[0;32m-> 1206\u001b[0m y \u001b[38;5;241m=\u001b[39m \u001b[43m(\u001b[49m\u001b[43mjit_f\u001b[49m\u001b[43m \u001b[49m\u001b[38;5;129;43;01mor\u001b[39;49;00m\u001b[43m \u001b[49m\u001b[43mf\u001b[49m\u001b[43m)\u001b[49m\u001b[43m(\u001b[49m\u001b[38;5;241;43m*\u001b[39;49m\u001b[43margs\u001b[49m\u001b[43m,\u001b[49m\u001b[43m \u001b[49m\u001b[38;5;241;43m*\u001b[39;49m\u001b[38;5;241;43m*\u001b[39;49m\u001b[43mkwargs\u001b[49m\u001b[43m)\u001b[49m\n\u001b[1;32m   1207\u001b[0m ctx\u001b[38;5;241m.\u001b[39msave_for_backward(\u001b[38;5;241m*\u001b[39margs, \u001b[38;5;241m*\u001b[39my)\n\u001b[1;32m   1208\u001b[0m ctx\u001b[38;5;241m.\u001b[39minput_count \u001b[38;5;241m=\u001b[39m \u001b[38;5;28mlen\u001b[39m(args)\n",
      "File \u001b[0;32m/usr/local/lib/python3.10/dist-packages/phiml/math/_functional.py:919\u001b[0m, in \u001b[0;36mCustomGradientFunction._trace.<locals>.forward_native\u001b[0;34m(*natives)\u001b[0m\n\u001b[1;32m    917\u001b[0m kwargs \u001b[38;5;241m=\u001b[39m assemble_tree(in_key\u001b[38;5;241m.\u001b[39mtree, in_tensors, attr_type\u001b[38;5;241m=\u001b[39mvariable_attributes)\n\u001b[1;32m    918\u001b[0m ML_LOGGER\u001b[38;5;241m.\u001b[39mdebug(\u001b[38;5;124mf\u001b[39m\u001b[38;5;124m\"\u001b[39m\u001b[38;5;124mRunning forward pass of custom op \u001b[39m\u001b[38;5;132;01m{\u001b[39;00mforward_native\u001b[38;5;241m.\u001b[39m\u001b[38;5;18m__name__\u001b[39m\u001b[38;5;132;01m}\u001b[39;00m\u001b[38;5;124m given args \u001b[39m\u001b[38;5;132;01m{\u001b[39;00m\u001b[38;5;28mtuple\u001b[39m(kwargs\u001b[38;5;241m.\u001b[39mkeys())\u001b[38;5;132;01m}\u001b[39;00m\u001b[38;5;124m containing \u001b[39m\u001b[38;5;132;01m{\u001b[39;00m\u001b[38;5;28mlen\u001b[39m(natives)\u001b[38;5;132;01m}\u001b[39;00m\u001b[38;5;124m native tensors\u001b[39m\u001b[38;5;124m\"\u001b[39m)\n\u001b[0;32m--> 919\u001b[0m result \u001b[38;5;241m=\u001b[39m \u001b[38;5;28;43mself\u001b[39;49m\u001b[38;5;241;43m.\u001b[39;49m\u001b[43mf\u001b[49m\u001b[43m(\u001b[49m\u001b[38;5;241;43m*\u001b[39;49m\u001b[38;5;241;43m*\u001b[39;49m\u001b[43mkwargs\u001b[49m\u001b[43m,\u001b[49m\u001b[43m \u001b[49m\u001b[38;5;241;43m*\u001b[39;49m\u001b[38;5;241;43m*\u001b[39;49m\u001b[43min_key\u001b[49m\u001b[38;5;241;43m.\u001b[39;49m\u001b[43mauxiliary_kwargs\u001b[49m\u001b[43m)\u001b[49m  \u001b[38;5;66;03m# Tensor or tuple/list of Tensors\u001b[39;00m\n\u001b[1;32m    920\u001b[0m nest, out_tensors \u001b[38;5;241m=\u001b[39m disassemble_tree(result, cache\u001b[38;5;241m=\u001b[39m\u001b[38;5;28;01mTrue\u001b[39;00m, attr_type\u001b[38;5;241m=\u001b[39mvariable_attributes)\n\u001b[1;32m    921\u001b[0m result_natives, result_shapes, specs \u001b[38;5;241m=\u001b[39m disassemble_tensors(out_tensors, expand\u001b[38;5;241m=\u001b[39m\u001b[38;5;28;01mTrue\u001b[39;00m)\n",
      "File \u001b[0;32m/usr/local/lib/python3.10/dist-packages/phiml/math/_optimize.py:667\u001b[0m, in \u001b[0;36msolve_linear.<locals>._matrix_solve_forward\u001b[0;34m(y, solve, matrix, is_backprop)\u001b[0m\n\u001b[1;32m    665\u001b[0m     idx \u001b[38;5;241m=\u001b[39m b\u001b[38;5;241m.\u001b[39mconcat([idx, new_col, new_row], \u001b[38;5;241m0\u001b[39m)\n\u001b[1;32m    666\u001b[0m     nat_matrix \u001b[38;5;241m=\u001b[39m b\u001b[38;5;241m.\u001b[39msparse_coo_tensor(idx, data, (N\u001b[38;5;241m+\u001b[39m\u001b[38;5;241m1\u001b[39m, N\u001b[38;5;241m+\u001b[39m\u001b[38;5;241m1\u001b[39m))\n\u001b[0;32m--> 667\u001b[0m result \u001b[38;5;241m=\u001b[39m \u001b[43m_linear_solve_forward\u001b[49m\u001b[43m(\u001b[49m\u001b[43my\u001b[49m\u001b[43m,\u001b[49m\u001b[43m \u001b[49m\u001b[43msolve\u001b[49m\u001b[43m,\u001b[49m\u001b[43m \u001b[49m\u001b[43mnat_matrix\u001b[49m\u001b[43m,\u001b[49m\u001b[43m \u001b[49m\u001b[43mpattern_dims_in\u001b[49m\u001b[43m,\u001b[49m\u001b[43m \u001b[49m\u001b[43mpattern_dims_out\u001b[49m\u001b[43m,\u001b[49m\u001b[43m \u001b[49m\u001b[43mpreconditioner\u001b[49m\u001b[43m,\u001b[49m\u001b[43m \u001b[49m\u001b[43mbackend\u001b[49m\u001b[43m,\u001b[49m\u001b[43m \u001b[49m\u001b[43mis_backprop\u001b[49m\u001b[43m)\u001b[49m\n\u001b[1;32m    668\u001b[0m \u001b[38;5;28;01mreturn\u001b[39;00m result\n",
      "File \u001b[0;32m/usr/local/lib/python3.10/dist-packages/phiml/math/_optimize.py:780\u001b[0m, in \u001b[0;36m_linear_solve_forward\u001b[0;34m(y, solve, native_lin_op, pattern_dims_in, pattern_dims_out, preconditioner, backend, is_backprop)\u001b[0m\n\u001b[1;32m    778\u001b[0m \u001b[38;5;28;01mfor\u001b[39;00m tape \u001b[38;5;129;01min\u001b[39;00m _SOLVE_TAPES:\n\u001b[1;32m    779\u001b[0m     tape\u001b[38;5;241m.\u001b[39m_add(solve, trj, result)\n\u001b[0;32m--> 780\u001b[0m \u001b[43mresult\u001b[49m\u001b[38;5;241;43m.\u001b[39;49m\u001b[43mconvergence_check\u001b[49m\u001b[43m(\u001b[49m\u001b[43mis_backprop\u001b[49m\u001b[43m \u001b[49m\u001b[38;5;129;43;01mand\u001b[39;49;00m\u001b[43m \u001b[49m\u001b[38;5;124;43m'\u001b[39;49m\u001b[38;5;124;43mTensorFlow\u001b[39;49m\u001b[38;5;124;43m'\u001b[39;49m\u001b[43m \u001b[49m\u001b[38;5;129;43;01min\u001b[39;49;00m\u001b[43m \u001b[49m\u001b[43mbackend\u001b[49m\u001b[38;5;241;43m.\u001b[39;49m\u001b[43mname\u001b[49m\u001b[43m)\u001b[49m  \u001b[38;5;66;03m# raises ConvergenceException\u001b[39;00m\n\u001b[1;32m    781\u001b[0m \u001b[38;5;28;01mreturn\u001b[39;00m final_x\n",
      "File \u001b[0;32m/usr/local/lib/python3.10/dist-packages/phiml/math/_optimize.py:202\u001b[0m, in \u001b[0;36mSolveInfo.convergence_check\u001b[0;34m(self, only_warn)\u001b[0m\n\u001b[1;32m    200\u001b[0m             warnings\u001b[38;5;241m.\u001b[39mwarn(\u001b[38;5;28mself\u001b[39m\u001b[38;5;241m.\u001b[39mmsg, ConvergenceWarning)\n\u001b[1;32m    201\u001b[0m         \u001b[38;5;28;01melse\u001b[39;00m:\n\u001b[0;32m--> 202\u001b[0m             \u001b[38;5;28;01mraise\u001b[39;00m Diverged(\u001b[38;5;28mself\u001b[39m)\n\u001b[1;32m    203\u001b[0m \u001b[38;5;28;01mif\u001b[39;00m \u001b[38;5;129;01mnot\u001b[39;00m \u001b[38;5;28mself\u001b[39m\u001b[38;5;241m.\u001b[39mconverged\u001b[38;5;241m.\u001b[39mtrajectory[\u001b[38;5;241m-\u001b[39m\u001b[38;5;241m1\u001b[39m]\u001b[38;5;241m.\u001b[39mall:\n\u001b[1;32m    204\u001b[0m     \u001b[38;5;28;01mif\u001b[39;00m NotConverged \u001b[38;5;129;01mnot\u001b[39;00m \u001b[38;5;129;01min\u001b[39;00m \u001b[38;5;28mself\u001b[39m\u001b[38;5;241m.\u001b[39msolve\u001b[38;5;241m.\u001b[39msuppress:\n",
      "\u001b[0;31mDiverged\u001b[0m: Solve diverged within 819 iterations using Φ-ML CG (PyTorch*)"
     ]
    }
   ],
   "source": []
  },
  {
   "cell_type": "code",
   "execution_count": 4,
   "id": "8e9fc234",
   "metadata": {},
   "outputs": [
    {
     "ename": "TypeError",
     "evalue": "darcy_flow_model.__init__() got an unexpected keyword argument 'dt'",
     "output_type": "error",
     "traceback": [
      "\u001b[0;31m---------------------------------------------------------------------------\u001b[0m",
      "\u001b[0;31mTypeError\u001b[0m                                 Traceback (most recent call last)",
      "Cell \u001b[0;32mIn[4], line 12\u001b[0m\n\u001b[1;32m      9\u001b[0m geo\u001b[38;5;241m=\u001b[39mUniformGrid(x\u001b[38;5;241m=\u001b[39m\u001b[38;5;241m128\u001b[39m, y\u001b[38;5;241m=\u001b[39m\u001b[38;5;241m128\u001b[39m,z\u001b[38;5;241m=\u001b[39m\u001b[38;5;241m128\u001b[39m,bounds\u001b[38;5;241m=\u001b[39mBox(x\u001b[38;5;241m=\u001b[39m\u001b[38;5;241m50\u001b[39m, y\u001b[38;5;241m=\u001b[39m\u001b[38;5;241m50\u001b[39m,z\u001b[38;5;241m=\u001b[39m\u001b[38;5;241m50\u001b[39m))\n\u001b[1;32m     10\u001b[0m v0\u001b[38;5;241m=\u001b[39mField(geo,values\u001b[38;5;241m=\u001b[39mvec(x\u001b[38;5;241m=\u001b[39mtensor(\u001b[38;5;241m0.0\u001b[39m),y\u001b[38;5;241m=\u001b[39mtensor(\u001b[38;5;241m0.0\u001b[39m),z\u001b[38;5;241m=\u001b[39mtensor(\u001b[38;5;241m0.0\u001b[39m)),boundary\u001b[38;5;241m=\u001b[39mboundary)\n\u001b[0;32m---> 12\u001b[0m phys\u001b[38;5;241m=\u001b[39m\u001b[43mdarcy_flow_model\u001b[49m\u001b[43m(\u001b[49m\u001b[43mv0\u001b[49m\u001b[43m,\u001b[49m\u001b[43mdt\u001b[49m\u001b[38;5;241;43m=\u001b[39;49m\u001b[38;5;241;43m0.1\u001b[39;49m\u001b[43m,\u001b[49m\n\u001b[1;32m     13\u001b[0m \u001b[43m                    \u001b[49m\u001b[38;5;66;43;03m#advection_solver=(lambda v: Solve('CG-adaptive',1e-2,1e-2,x0=v)),projection_solver=Solve('CG-adaptive',1e-2,1e-2)\u001b[39;49;00m\n\u001b[1;32m     14\u001b[0m \u001b[43m                    \u001b[49m\u001b[43m)\u001b[49m\n",
      "\u001b[0;31mTypeError\u001b[0m: darcy_flow_model.__init__() got an unexpected keyword argument 'dt'"
     ]
    }
   ],
   "source": [
    "boundary = {'x-': vec(x=1.0,y=0.0,z=0.0),\n",
    "            'x+': ZERO_GRADIENT,\n",
    "            'y-':0,\n",
    "            'y+':0,\n",
    "            'z-':0,\n",
    "            'z+':0\n",
    "            }\n",
    "boundary\n",
    "geo=UniformGrid(x=128, y=128,z=128,bounds=Box(x=50, y=50,z=50))\n",
    "v0=Field(geo,values=vec(x=tensor(0.0),y=tensor(0.0),z=tensor(0.0)),boundary=boundary)\n",
    "\n",
    "phys=darcy_flow_model(v0,dt=0.1,\n",
    "                    #advection_solver=(lambda v: Solve('CG-adaptive',1e-2,1e-2,x0=v)),projection_solver=Solve('CG-adaptive',1e-2,1e-2)\n",
    "                    )"
   ]
  },
  {
   "cell_type": "code",
   "execution_count": 125,
   "id": "97156c00",
   "metadata": {},
   "outputs": [
    {
     "name": "stderr",
     "output_type": "stream",
     "text": [
      "/usr/local/lib/python3.10/dist-packages/phiml/math/_optimize.py:640: UserWarning: Possible rank deficiency detected. Matrix might be singular which can lead to convergence problems. Please specify using Solve(rank_deficiency=...).\n",
      "  warnings.warn(\"Possible rank deficiency detected. Matrix might be singular which can lead to convergence problems. Please specify using Solve(rank_deficiency=...).\")\n"
     ]
    },
    {
     "data": {
      "text/plain": [
       "Field[(xˢ=128, yˢ=128, zˢ=128, vectorᶜ=x,y,z)]"
      ]
     },
     "execution_count": 125,
     "metadata": {},
     "output_type": "execute_result"
    }
   ],
   "source": [
    "phys.step(v0)"
   ]
  },
  {
   "cell_type": "code",
   "execution_count": 130,
   "id": "5f901ee0",
   "metadata": {},
   "outputs": [
    {
     "data": {
      "text/plain": [
       "(xˢ=128, yˢ=128), bounds=Box(x=(0, 50), y=(0, 50))"
      ]
     },
     "execution_count": 130,
     "metadata": {},
     "output_type": "execute_result"
    }
   ],
   "source": [
    "v0.geometry"
   ]
  },
  {
   "cell_type": "markdown",
   "id": "84c8ca0d",
   "metadata": {},
   "source": [
    "# Differentiable physics with PINNs"
   ]
  },
  {
   "cell_type": "markdown",
   "id": "f3014d77",
   "metadata": {},
   "source": [
    "## Linear Darcy model"
   ]
  },
  {
   "cell_type": "markdown",
   "id": "3460d960",
   "metadata": {},
   "source": [
    "with\n",
    "$$K(x)=\\exp((p-p_0)^2)$$"
   ]
  },
  {
   "cell_type": "markdown",
   "id": "4e52e1b0",
   "metadata": {},
   "source": [
    "### 2D"
   ]
  },
  {
   "cell_type": "markdown",
   "id": "f49d564d",
   "metadata": {},
   "source": [
    "#### Solver"
   ]
  },
  {
   "cell_type": "code",
   "execution_count": 6,
   "id": "5ef68251",
   "metadata": {},
   "outputs": [],
   "source": [
    "from phi.torch.flow import *\n",
    "class darcy_flow_model(object):\n",
    "  def __init__(self,field,dt):\n",
    "    self.field=field\n",
    "    self.dt=dt\n",
    "\n",
    "  def nK(self,domain):\n",
    "    return 0.001*math.exp(-math.sum(((domain.center-0.5)**2),\"vector\")/(2*0.5))\n",
    "\n",
    "  def reaction_diffusion(self, u, dt):\n",
    "    su = self.nK(u.geometry) * field.laplace(u)\n",
    "    return u + dt * su\n",
    "  def step(self,v):\n",
    "    return self.reaction_diffusion(v,self.dt)\n",
    "args={\"k\":0.1}\n"
   ]
  },
  {
   "cell_type": "code",
   "execution_count": 7,
   "id": "d25aeaab",
   "metadata": {},
   "outputs": [],
   "source": [
    "geo=UniformGrid(x=20, y=20,bounds=Box(x=1.0, y=1.0))\n",
    "phi_w=Field( geo,values=tensor(0.0),\n",
    "      boundary= {\n",
    "          'x-': tensor(0.01),\n",
    "          'x+': ZERO_GRADIENT,\n",
    "          'y-': 0,\n",
    "          'y+': 0\n",
    " })\n",
    "phi_w\n",
    "model=darcy_flow_model(phi_w,0.1)"
   ]
  },
  {
   "cell_type": "code",
   "execution_count": 8,
   "id": "a6b86ed5",
   "metadata": {},
   "outputs": [],
   "source": [
    "PHI=[]\n",
    "for i in range(100):\n",
    "  phi_w=model.reaction_diffusion(phi_w,0.01)\n",
    "  PHI.append(phi_w)"
   ]
  },
  {
   "cell_type": "code",
   "execution_count": null,
   "id": "61067ecd",
   "metadata": {},
   "outputs": [
    {
     "name": "stderr",
     "output_type": "stream",
     "text": [
      "/usr/local/lib/python3.10/dist-packages/matplotlib/projections/__init__.py:63: UserWarning: Unable to import Axes3D. This may be due to multiple versions of Matplotlib being installed (e.g. as a system package and as a pip package). As a result, the 3D projection is not available.\n",
      "  warnings.warn(\"Unable to import Axes3D. This may be due to multiple versions of \"\n"
     ]
    },
    {
     "ename": "RuntimeError",
     "evalue": "No user interface available.",
     "output_type": "error",
     "traceback": [
      "\u001b[0;31m---------------------------------------------------------------------------\u001b[0m",
      "\u001b[0;31mRuntimeError\u001b[0m                              Traceback (most recent call last)",
      "Cell \u001b[0;32mIn[7], line 2\u001b[0m\n\u001b[1;32m      1\u001b[0m \u001b[38;5;28;01mfor\u001b[39;00m i \u001b[38;5;129;01min\u001b[39;00m PHI[::\u001b[38;5;241m10\u001b[39m]:\n\u001b[0;32m----> 2\u001b[0m   \u001b[43mplot\u001b[49m\u001b[43m(\u001b[49m\u001b[43mi\u001b[49m\u001b[43m)\u001b[49m\n",
      "File \u001b[0;32m/PhiFlow/phi/vis/_vis.py:254\u001b[0m, in \u001b[0;36mplot\u001b[0;34m(lib, row_dims, col_dims, animate, overlay, title, size, same_scale, log_dims, show_color_bar, color, alpha, err, frame_time, repeat, plt_params, max_subfigures, *fields)\u001b[0m\n\u001b[1;32m    252\u001b[0m positioning, indices \u001b[38;5;241m=\u001b[39m layout_sub_figures(data, row_dims, col_dims, animate, overlay, \u001b[38;5;241m0\u001b[39m, \u001b[38;5;241m0\u001b[39m)\n\u001b[1;32m    253\u001b[0m \u001b[38;5;66;03m# --- Process arguments ---\u001b[39;00m\n\u001b[0;32m--> 254\u001b[0m plots \u001b[38;5;241m=\u001b[39m \u001b[43mdefault_plots\u001b[49m\u001b[43m(\u001b[49m\u001b[43mpositioning\u001b[49m\u001b[43m)\u001b[49m \u001b[38;5;28;01mif\u001b[39;00m lib \u001b[38;5;129;01mis\u001b[39;00m \u001b[38;5;28;01mNone\u001b[39;00m \u001b[38;5;28;01melse\u001b[39;00m get_plots(lib)\n\u001b[1;32m    255\u001b[0m plt_params \u001b[38;5;241m=\u001b[39m {} \u001b[38;5;28;01mif\u001b[39;00m plt_params \u001b[38;5;129;01mis\u001b[39;00m \u001b[38;5;28;01mNone\u001b[39;00m \u001b[38;5;28;01melse\u001b[39;00m \u001b[38;5;28mdict\u001b[39m(\u001b[38;5;241m*\u001b[39m\u001b[38;5;241m*\u001b[39mplt_params)\n\u001b[1;32m    256\u001b[0m size \u001b[38;5;241m=\u001b[39m (\u001b[38;5;28;01mNone\u001b[39;00m, \u001b[38;5;28;01mNone\u001b[39;00m) \u001b[38;5;28;01mif\u001b[39;00m size \u001b[38;5;129;01mis\u001b[39;00m \u001b[38;5;28;01mNone\u001b[39;00m \u001b[38;5;28;01melse\u001b[39;00m size\n",
      "File \u001b[0;32m/PhiFlow/phi/vis/_vis.py:553\u001b[0m, in \u001b[0;36mdefault_plots\u001b[0;34m(content)\u001b[0m\n\u001b[1;32m    551\u001b[0m     \u001b[38;5;28;01mexcept\u001b[39;00m \u001b[38;5;167;01mImportError\u001b[39;00m \u001b[38;5;28;01mas\u001b[39;00m import_error:\n\u001b[1;32m    552\u001b[0m         warnings\u001b[38;5;241m.\u001b[39mwarn(\u001b[38;5;124mf\u001b[39m\u001b[38;5;124m\"\u001b[39m\u001b[38;5;132;01m{\u001b[39;00moption\u001b[38;5;132;01m}\u001b[39;00m\u001b[38;5;124m user interface is unavailable because of missing dependency: \u001b[39m\u001b[38;5;132;01m{\u001b[39;00mimport_error\u001b[38;5;132;01m}\u001b[39;00m\u001b[38;5;124m.\u001b[39m\u001b[38;5;124m\"\u001b[39m, \u001b[38;5;167;01mImportWarning\u001b[39;00m)\n\u001b[0;32m--> 553\u001b[0m \u001b[38;5;28;01mraise\u001b[39;00m \u001b[38;5;167;01mRuntimeError\u001b[39;00m(\u001b[38;5;124m\"\u001b[39m\u001b[38;5;124mNo user interface available.\u001b[39m\u001b[38;5;124m\"\u001b[39m)\n",
      "\u001b[0;31mRuntimeError\u001b[0m: No user interface available."
     ]
    }
   ],
   "source": [
    "for i in PHI[::10]:\n",
    "  plot(i)"
   ]
  },
  {
   "cell_type": "markdown",
   "id": "f6001b61",
   "metadata": {},
   "source": [
    "#### Solver in the loop"
   ]
  },
  {
   "cell_type": "code",
   "execution_count": 9,
   "id": "eb526409",
   "metadata": {},
   "outputs": [],
   "source": [
    "from Train_differentiable_physics_with_PINNs import PINNS_based_SOL_trainer"
   ]
  },
  {
   "cell_type": "code",
   "execution_count": null,
   "id": "8bfc20b1",
   "metadata": {},
   "outputs": [
    {
     "ename": "SyntaxError",
     "evalue": "incomplete input (2844890087.py, line 23)",
     "output_type": "error",
     "traceback": [
      "\u001b[0;36m  Cell \u001b[0;32mIn[13], line 23\u001b[0;36m\u001b[0m\n\u001b[0;31m    class composed_loss(object):\u001b[0m\n\u001b[0m                                ^\u001b[0m\n\u001b[0;31mSyntaxError\u001b[0m\u001b[0;31m:\u001b[0m incomplete input\n"
     ]
    }
   ],
   "source": [
    "import torch\n",
    "from einops import rearrange\n",
    "import matplotlib.pyplot as plt\n",
    "\n",
    "class simple_cnn_model(torch.nn.Module):\n",
    "  def __init__(self):\n",
    "    super(simple_cnn_model,self).__init__()\n",
    "\n",
    "    self.conv1=torch.nn.Conv2d(1, 32, (9,9), padding=4)\n",
    "    self.conv2=torch.nn.Conv2d(32, 64, (9,9), padding=4)\n",
    "    self.conv3=torch.nn.Conv2d(64, 1, (9,9), padding=4)\n",
    "    self.act1=torch.nn.ReLU()\n",
    "    self.act2=torch.nn.ReLU()\n",
    "    self.act3=torch.nn.Tanh()\n",
    "  def forward(self,x):\n",
    "    x=self.act1(self.conv1(x))\n",
    "    x=self.act2(self.conv2(x))\n",
    "    x=self.act3(self.conv3(x))*0.01\n",
    "    #x=torch.clamp(x, min=-0.5, max=0.5)\n",
    "    return x\n",
    "  \n",
    "\n",
    "#class composed_loss(object):\n",
    "\n",
    "from DL_models.PINNS.utils import x_grad\n",
    "\n",
    "def composed_loss(p,x):\n",
    "  \"\"\"\n",
    "  u: [b x y p]\n",
    "  x: [b x y (x y t)]\n",
    "  \"\"\"\n",
    "  p=rearrange(p,\"b x y-> b (x y)\")\n",
    "  x=rearrange(x,\"b x y p-> b (x y) p\")\n",
    "  dpdt=x_grad(p,x,0,1)[...,2]\n",
    "  print(x_grad(p,x,0,2)[...,:2].shape)\n",
    "  lap_u=torch.sum(x_grad(p,x,0,2)[...,:2],axis=-1)\n",
    "  k=0.001*torch.exp(\n",
    "    -torch.sum(((x[...,:2]-torch.mean(x[...,:2]))**2),\"vector\")/(2*0.5))\n",
    "\n",
    "  return torch.mean(dpdt-k*lap_u)"
   ]
  },
  {
   "cell_type": "code",
   "execution_count": 12,
   "id": "b6cf4cbf",
   "metadata": {},
   "outputs": [],
   "source": [
    "st_model=simple_cnn_model()\n",
    "optimizer=torch.optim.Adam(st_model.parameters(),lr=1e-4)"
   ]
  },
  {
   "cell_type": "code",
   "execution_count": null,
   "id": "209a5fa2",
   "metadata": {},
   "outputs": [],
   "source": [
    "PINNS_based_SOL_trainer(\n",
    "    field=phi_w,\n",
    "    physical_model=model,\n",
    "    statistical_model=st_model,\n",
    "    optimizer=optimizer,\n",
    "    simulation_steps=3,\n",
    "    time_step=0.1,\n",
    "    loss=lambda x,y: (x-y)**2\n",
    ")"
   ]
  }
 ],
 "metadata": {
  "kernelspec": {
   "display_name": "Python 3 (ipykernel)",
   "language": "python",
   "name": "python3"
  },
  "language_info": {
   "codemirror_mode": {
    "name": "ipython",
    "version": 3
   },
   "file_extension": ".py",
   "mimetype": "text/x-python",
   "name": "python",
   "nbconvert_exporter": "python",
   "pygments_lexer": "ipython3",
   "version": "3.10.12"
  }
 },
 "nbformat": 4,
 "nbformat_minor": 5
}

{
 "cells": [
  {
   "cell_type": "code",
   "execution_count": 1,
   "metadata": {},
   "outputs": [
    {
     "name": "stdout",
     "output_type": "stream",
     "text": [
      "/home/guillermo.carrilho/PhysicsSimulationDeepLearning\n"
     ]
    }
   ],
   "source": [
    "! pwd"
   ]
  },
  {
   "cell_type": "code",
   "execution_count": 1,
   "id": "4865e9b0-c759-451f-a019-96d5da1ef942",
   "metadata": {},
   "outputs": [],
   "source": [
    "import os\n",
    "import sys\n",
    "\n",
    "\n",
    "ROOT=\"/home/guillermo.carrilho/PhysicsSimulationDeepLearning\"\n",
    "\n",
    "sys.path.append(os.path.join(ROOT,\"Physical_models\"))"
   ]
  },
  {
   "cell_type": "code",
   "execution_count": 2,
   "metadata": {},
   "outputs": [],
   "source": [
    "from Differentiable_simulation import two_phase_flow,dK_w,K_w,K_o\n",
    "from phi.torch.flow import *\n",
    "\n",
    "\n",
    "geo_w=UniformGrid(x=32, y=32)\n",
    "phi_w=Field(geo_w,values=tensor(0.1),\n",
    "      boundary= {\n",
    "          'x-':0.5,\n",
    "          'x+': ZERO_GRADIENT,\n",
    "          'y-': ZERO_GRADIENT,\n",
    "          'y+': ZERO_GRADIENT\n",
    " })\n",
    "\n",
    "geo_o=UniformGrid(x=32, y=32)\n",
    "phi_o=Field(geo_o,values=tensor(0.0),\n",
    "      boundary= {\n",
    "          'x-': ZERO_GRADIENT,\n",
    "          'x+': 0.5,\n",
    "          'y-': ZERO_GRADIENT,\n",
    "          'y+': ZERO_GRADIENT\n",
    " })\n",
    "\n",
    "phy=two_phase_flow(\n",
    "    phi_w,\n",
    "    phi_o,\n",
    "    dt=0.01,\n",
    "    advection_solver=lambda v: Solve('CG-adaptive',1e-3,1e-3,x0=v)\n",
    ")"
   ]
  },
  {
   "cell_type": "code",
   "execution_count": 3,
   "id": "1788d435-03f2-4f1a-ab17-3e6c9c4e6e6c",
   "metadata": {},
   "outputs": [
    {
     "name": "stderr",
     "output_type": "stream",
     "text": [
      "/usr/local/lib/python3.10/dist-packages/phiml/backend/torch/_torch_backend.py:837: UserWarning: Sparse CSR tensor support is in beta state. If you miss a functionality in the sparse tensor support, please submit a feature request to https://github.com/pytorch/pytorch/issues. (Triggered internally at /pytorch/aten/src/ATen/SparseCsrTensorImpl.cpp:53.)\n",
      "  return torch.sparse_csr_tensor(row_pointers, column_indices, values, shape, device=values.device)\n"
     ]
    },
    {
     "data": {
      "text/plain": [
       "Field[(xˢ=32, yˢ=32, vectorᶜ=x,y)]"
      ]
     },
     "execution_count": 3,
     "metadata": {},
     "output_type": "execute_result"
    }
   ],
   "source": [
    "phy.compute_p_c(phy.phi_o,phy.phi_o)\n",
    "phy.momentum_eq(u=phy.phi_o,dt=0.1)"
   ]
  },
  {
   "cell_type": "code",
   "execution_count": 4,
   "metadata": {},
   "outputs": [
    {
     "data": {
      "text/plain": [
       "Field[(xˢ=32, yˢ=32, vectorᶜ=x,y)]"
      ]
     },
     "execution_count": 4,
     "metadata": {},
     "output_type": "execute_result"
    }
   ],
   "source": [
    "advect.semi_lagrangian(field.spatial_gradient(phi_o),\n",
    "                       phy.compute_convective_velocity(phy.phi_w,phy.phi_o,dK_w),0.1)\n",
    "\n",
    "#field.spatial_gradient(phy.phi_o)"
   ]
  },
  {
   "cell_type": "code",
   "execution_count": 18,
   "id": "5ef545e8-222a-45b6-8207-391ea7be37a4",
   "metadata": {},
   "outputs": [
    {
     "data": {
      "text/plain": [
       "Field[(xˢ=32, yˢ=32)]"
      ]
     },
     "execution_count": 18,
     "metadata": {},
     "output_type": "execute_result"
    }
   ],
   "source": [
    "#from Differentiable_simulation import K_w,K_o\n",
    "import anisotropic_diffusion\n",
    "\n",
    "#differential(u=phy.phi_o,diffusivity=K_o(phy.compute_p_c(phy.phi_w,phy.phi_o)))\n",
    "\n",
    "#explicit(u=phy.phi_o,diffusivity=K_o(phy.compute_p_c(phy.phi_w,phy.phi_o)),dt=0.1)\n",
    "\n",
    "\n",
    "anisotropic_diffusion.implicit(phy.phi_o,\n",
    "             diffusivity=K_o(phy.compute_p_c(phy.phi_w,phy.phi_o))*1e-8,\n",
    "             dt=0.001,solve=Solve('CG'))\n"
   ]
  },
  {
   "cell_type": "code",
   "execution_count": 22,
   "metadata": {},
   "outputs": [
    {
     "name": "stderr",
     "output_type": "stream",
     "text": [
      "/usr/local/lib/python3.10/dist-packages/phiml/math/_magic_ops.py:259: UserWarning: Failed to concat values using value attributes because attributes differ among values [\u001b[93mfloat64\u001b[0m \u001b[94m0.5\u001b[0m, zero-gradient]\n",
      "  warnings.warn(f\"Failed to concat values using value attributes because attributes differ among values {values}\")\n"
     ]
    },
    {
     "ename": "MagicNotImplemented",
     "evalue": "At least one item in values must be Shapable but got types [<class 'phiml.math.extrapolation.ConstantExtrapolation'>, <class 'phiml.math.extrapolation._ZeroGradient'>]",
     "output_type": "error",
     "traceback": [
      "\u001b[0;31m---------------------------------------------------------------------------\u001b[0m",
      "\u001b[0;31mNoBackendFound\u001b[0m                            Traceback (most recent call last)",
      "File \u001b[0;32m/usr/local/lib/python3.10/dist-packages/phiml/math/_tensors.py:1766\u001b[0m, in \u001b[0;36mtensor\u001b[0;34m(data, convert, default_list_dim, *shape)\u001b[0m\n\u001b[1;32m   1765\u001b[0m \u001b[38;5;28;01mtry\u001b[39;00m:\n\u001b[0;32m-> 1766\u001b[0m     backend \u001b[38;5;241m=\u001b[39m \u001b[43mchoose_backend\u001b[49m\u001b[43m(\u001b[49m\u001b[43mdata\u001b[49m\u001b[43m)\u001b[49m\n\u001b[1;32m   1767\u001b[0m     sizes \u001b[38;5;241m=\u001b[39m backend\u001b[38;5;241m.\u001b[39mstaticshape(data)\n",
      "File \u001b[0;32m/usr/local/lib/python3.10/dist-packages/phiml/backend/_backend.py:1768\u001b[0m, in \u001b[0;36mchoose_backend\u001b[0;34m(prefer_default, *values)\u001b[0m\n\u001b[1;32m   1767\u001b[0m     \u001b[38;5;28;01melse\u001b[39;00m:\n\u001b[0;32m-> 1768\u001b[0m         \u001b[38;5;28;01mraise\u001b[39;00m NoBackendFound(\u001b[38;5;124mf\u001b[39m\u001b[38;5;124m\"\u001b[39m\u001b[38;5;124mNot a native tensor \u001b[39m\u001b[38;5;132;01m{\u001b[39;00m[\u001b[38;5;28mtype\u001b[39m(v)\u001b[38;5;241m.\u001b[39m\u001b[38;5;18m__name__\u001b[39m\u001b[38;5;250m \u001b[39m\u001b[38;5;28;01mfor\u001b[39;00m\u001b[38;5;250m \u001b[39mv\u001b[38;5;250m \u001b[39m\u001b[38;5;129;01min\u001b[39;00m\u001b[38;5;250m \u001b[39munknown_values]\u001b[38;5;132;01m}\u001b[39;00m\u001b[38;5;124m\"\u001b[39m)\n\u001b[1;32m   1769\u001b[0m \u001b[38;5;28;01melse\u001b[39;00m:\n",
      "\u001b[0;31mNoBackendFound\u001b[0m: Not a native tensor ['ConstantExtrapolation']",
      "\nDuring handling of the above exception, another exception occurred:\n",
      "\u001b[0;31mValueError\u001b[0m                                Traceback (most recent call last)",
      "File \u001b[0;32m/usr/local/lib/python3.10/dist-packages/phiml/math/_magic_ops.py:273\u001b[0m, in \u001b[0;36mstack\u001b[0;34m(values, dim, expand_values, simplify, layout_non_matching, **kwargs)\u001b[0m\n\u001b[1;32m    272\u001b[0m \u001b[38;5;28;01mtry\u001b[39;00m:\n\u001b[0;32m--> 273\u001b[0m     values \u001b[38;5;241m=\u001b[39m \u001b[38;5;28mtuple\u001b[39m([wrap(v) \u001b[38;5;28;01mfor\u001b[39;00m v \u001b[38;5;129;01min\u001b[39;00m values])\n\u001b[1;32m    274\u001b[0m \u001b[38;5;28;01mexcept\u001b[39;00m \u001b[38;5;167;01mValueError\u001b[39;00m:\n",
      "File \u001b[0;32m/usr/local/lib/python3.10/dist-packages/phiml/math/_magic_ops.py:273\u001b[0m, in \u001b[0;36m<listcomp>\u001b[0;34m(.0)\u001b[0m\n\u001b[1;32m    272\u001b[0m \u001b[38;5;28;01mtry\u001b[39;00m:\n\u001b[0;32m--> 273\u001b[0m     values \u001b[38;5;241m=\u001b[39m \u001b[38;5;28mtuple\u001b[39m([\u001b[43mwrap\u001b[49m\u001b[43m(\u001b[49m\u001b[43mv\u001b[49m\u001b[43m)\u001b[49m \u001b[38;5;28;01mfor\u001b[39;00m v \u001b[38;5;129;01min\u001b[39;00m values])\n\u001b[1;32m    274\u001b[0m \u001b[38;5;28;01mexcept\u001b[39;00m \u001b[38;5;167;01mValueError\u001b[39;00m:\n",
      "File \u001b[0;32m/usr/local/lib/python3.10/dist-packages/phiml/math/_tensors.py:1796\u001b[0m, in \u001b[0;36mwrap\u001b[0;34m(data, default_list_dim, *shape)\u001b[0m\n\u001b[1;32m   1795\u001b[0m \u001b[38;5;250m\u001b[39m\u001b[38;5;124;03m\"\"\" Short for `phiml.math.tensor()` with `convert=False`. \"\"\"\u001b[39;00m\n\u001b[0;32m-> 1796\u001b[0m \u001b[38;5;28;01mreturn\u001b[39;00m \u001b[43mtensor\u001b[49m\u001b[43m(\u001b[49m\u001b[43mdata\u001b[49m\u001b[43m,\u001b[49m\u001b[43m \u001b[49m\u001b[38;5;241;43m*\u001b[39;49m\u001b[43mshape\u001b[49m\u001b[43m,\u001b[49m\u001b[43m \u001b[49m\u001b[43mconvert\u001b[49m\u001b[38;5;241;43m=\u001b[39;49m\u001b[38;5;28;43;01mFalse\u001b[39;49;00m\u001b[43m,\u001b[49m\u001b[43m \u001b[49m\u001b[43mdefault_list_dim\u001b[49m\u001b[38;5;241;43m=\u001b[39;49m\u001b[43mdefault_list_dim\u001b[49m\u001b[43m)\u001b[49m\n",
      "File \u001b[0;32m/usr/local/lib/python3.10/dist-packages/phiml/math/_tensors.py:1791\u001b[0m, in \u001b[0;36mtensor\u001b[0;34m(data, convert, default_list_dim, *shape)\u001b[0m\n\u001b[1;32m   1790\u001b[0m \u001b[38;5;28;01mexcept\u001b[39;00m NoBackendFound:\n\u001b[0;32m-> 1791\u001b[0m     \u001b[38;5;28;01mraise\u001b[39;00m \u001b[38;5;167;01mValueError\u001b[39;00m(\u001b[38;5;124mf\u001b[39m\u001b[38;5;124m\"\u001b[39m\u001b[38;5;132;01m{\u001b[39;00m\u001b[38;5;28mtype\u001b[39m(data)\u001b[38;5;132;01m}\u001b[39;00m\u001b[38;5;124m is not supported. Only (Tensor, tuple, list, np.ndarray, native tensors) are allowed.\u001b[39m\u001b[38;5;130;01m\\n\u001b[39;00m\u001b[38;5;124mCurrent backends: \u001b[39m\u001b[38;5;132;01m{\u001b[39;00mBACKENDS\u001b[38;5;132;01m}\u001b[39;00m\u001b[38;5;124m\"\u001b[39m)\n",
      "\u001b[0;31mValueError\u001b[0m: <class 'phiml.math.extrapolation.ConstantExtrapolation'> is not supported. Only (Tensor, tuple, list, np.ndarray, native tensors) are allowed.\nCurrent backends: [numpy, Python, torch]",
      "\nDuring handling of the above exception, another exception occurred:\n",
      "\u001b[0;31mMagicNotImplemented\u001b[0m                       Traceback (most recent call last)",
      "Cell \u001b[0;32mIn[22], line 2\u001b[0m\n\u001b[1;32m      1\u001b[0m \u001b[38;5;66;03m#v = math.solve_linear(self.momentum_eq, v, self.advection_solver(v), dt=-dt)\u001b[39;00m\n\u001b[0;32m----> 2\u001b[0m \u001b[43mstack\u001b[49m\u001b[43m(\u001b[49m\u001b[43m[\u001b[49m\u001b[43mphy\u001b[49m\u001b[38;5;241;43m.\u001b[39;49m\u001b[43mphi_o\u001b[49m\u001b[43m,\u001b[49m\u001b[43mphy\u001b[49m\u001b[38;5;241;43m.\u001b[39;49m\u001b[43mphi_w\u001b[49m\u001b[43m]\u001b[49m\u001b[43m,\u001b[49m\u001b[38;5;124;43m\"\u001b[39;49m\u001b[38;5;124;43ma\u001b[39;49m\u001b[38;5;124;43m\"\u001b[39;49m\u001b[43m)\u001b[49m\n",
      "File \u001b[0;32m/usr/local/lib/python3.10/dist-packages/phiml/math/_magic_ops.py:215\u001b[0m, in \u001b[0;36mstack\u001b[0;34m(values, dim, expand_values, simplify, layout_non_matching, **kwargs)\u001b[0m\n\u001b[1;32m    213\u001b[0m \u001b[38;5;28;01mfor\u001b[39;00m v \u001b[38;5;129;01min\u001b[39;00m values:\n\u001b[1;32m    214\u001b[0m     \u001b[38;5;28;01mif\u001b[39;00m \u001b[38;5;28mhasattr\u001b[39m(v, \u001b[38;5;124m'\u001b[39m\u001b[38;5;124m__stack__\u001b[39m\u001b[38;5;124m'\u001b[39m):\n\u001b[0;32m--> 215\u001b[0m         result \u001b[38;5;241m=\u001b[39m \u001b[43mv\u001b[49m\u001b[38;5;241;43m.\u001b[39;49m\u001b[43m__stack__\u001b[49m\u001b[43m(\u001b[49m\u001b[43mvalues\u001b[49m\u001b[43m,\u001b[49m\u001b[43m \u001b[49m\u001b[43mdim\u001b[49m\u001b[43m,\u001b[49m\u001b[43m \u001b[49m\u001b[38;5;241;43m*\u001b[39;49m\u001b[38;5;241;43m*\u001b[39;49m\u001b[43mkwargs\u001b[49m\u001b[43m)\u001b[49m\n\u001b[1;32m    216\u001b[0m         \u001b[38;5;28;01mif\u001b[39;00m result \u001b[38;5;129;01mis\u001b[39;00m \u001b[38;5;129;01mnot\u001b[39;00m \u001b[38;5;28mNotImplemented\u001b[39m:\n\u001b[1;32m    217\u001b[0m             \u001b[38;5;28;01mif\u001b[39;00m DEBUG_CHECKS:\n",
      "File \u001b[0;32m/PhiFlow/phi/field/_field.py:609\u001b[0m, in \u001b[0;36mField.__stack__\u001b[0;34m(values, dim, **kwargs)\u001b[0m\n\u001b[1;32m    606\u001b[0m \u001b[38;5;129m@staticmethod\u001b[39m\n\u001b[1;32m    607\u001b[0m \u001b[38;5;28;01mdef\u001b[39;00m\u001b[38;5;250m \u001b[39m\u001b[38;5;21m__stack__\u001b[39m(values: \u001b[38;5;28mtuple\u001b[39m, dim: Shape, \u001b[38;5;241m*\u001b[39m\u001b[38;5;241m*\u001b[39mkwargs) \u001b[38;5;241m-\u001b[39m\u001b[38;5;241m>\u001b[39m \u001b[38;5;124m'\u001b[39m\u001b[38;5;124mField\u001b[39m\u001b[38;5;124m'\u001b[39m:\n\u001b[1;32m    608\u001b[0m     \u001b[38;5;28;01mfrom\u001b[39;00m\u001b[38;5;250m \u001b[39m\u001b[38;5;21;01m.\u001b[39;00m\u001b[38;5;21;01m_field_math\u001b[39;00m\u001b[38;5;250m \u001b[39m\u001b[38;5;28;01mimport\u001b[39;00m stack\n\u001b[0;32m--> 609\u001b[0m     \u001b[38;5;28;01mreturn\u001b[39;00m \u001b[43mstack\u001b[49m\u001b[43m(\u001b[49m\u001b[43mvalues\u001b[49m\u001b[43m,\u001b[49m\u001b[43m \u001b[49m\u001b[43mdim\u001b[49m\u001b[43m,\u001b[49m\u001b[43m \u001b[49m\u001b[43mkwargs\u001b[49m\u001b[38;5;241;43m.\u001b[39;49m\u001b[43mget\u001b[49m\u001b[43m(\u001b[49m\u001b[38;5;124;43m'\u001b[39;49m\u001b[38;5;124;43mbounds\u001b[39;49m\u001b[38;5;124;43m'\u001b[39;49m\u001b[43m,\u001b[49m\u001b[43m \u001b[49m\u001b[38;5;28;43;01mNone\u001b[39;49;00m\u001b[43m)\u001b[49m\u001b[43m)\u001b[49m\n",
      "File \u001b[0;32m/PhiFlow/phi/field/_field_math.py:966\u001b[0m, in \u001b[0;36mstack\u001b[0;34m(fields, dim, dim_bounds)\u001b[0m\n\u001b[1;32m    964\u001b[0m     \u001b[38;5;28;01mreturn\u001b[39;00m math\u001b[38;5;241m.\u001b[39mlayout(fields, dim)\n\u001b[1;32m    965\u001b[0m \u001b[38;5;28;01mif\u001b[39;00m \u001b[38;5;28many\u001b[39m(f\u001b[38;5;241m.\u001b[39mboundary \u001b[38;5;241m!=\u001b[39m fields[\u001b[38;5;241m0\u001b[39m]\u001b[38;5;241m.\u001b[39mboundary \u001b[38;5;28;01mfor\u001b[39;00m f \u001b[38;5;129;01min\u001b[39;00m fields):\n\u001b[0;32m--> 966\u001b[0m     boundary \u001b[38;5;241m=\u001b[39m \u001b[43mmath\u001b[49m\u001b[38;5;241;43m.\u001b[39;49m\u001b[43mstack\u001b[49m\u001b[43m(\u001b[49m\u001b[43m[\u001b[49m\u001b[43mf\u001b[49m\u001b[38;5;241;43m.\u001b[39;49m\u001b[43mboundary\u001b[49m\u001b[43m \u001b[49m\u001b[38;5;28;43;01mfor\u001b[39;49;00m\u001b[43m \u001b[49m\u001b[43mf\u001b[49m\u001b[43m \u001b[49m\u001b[38;5;129;43;01min\u001b[39;49;00m\u001b[43m \u001b[49m\u001b[43mfields\u001b[49m\u001b[43m]\u001b[49m\u001b[43m,\u001b[49m\u001b[43m \u001b[49m\u001b[43mdim\u001b[49m\u001b[43m)\u001b[49m\n\u001b[1;32m    967\u001b[0m \u001b[38;5;28;01melse\u001b[39;00m:\n\u001b[1;32m    968\u001b[0m     boundary \u001b[38;5;241m=\u001b[39m fields[\u001b[38;5;241m0\u001b[39m]\u001b[38;5;241m.\u001b[39mboundary\n",
      "File \u001b[0;32m/usr/local/lib/python3.10/dist-packages/phiml/math/_magic_ops.py:256\u001b[0m, in \u001b[0;36mstack\u001b[0;34m(values, dim, expand_values, simplify, layout_non_matching, **kwargs)\u001b[0m\n\u001b[1;32m    254\u001b[0m             new_attrs[a] \u001b[38;5;241m=\u001b[39m expand(a_values[\u001b[38;5;241m0\u001b[39m], dim, \u001b[38;5;241m*\u001b[39m\u001b[38;5;241m*\u001b[39mkwargs) \u001b[38;5;28;01mif\u001b[39;00m a_values[\u001b[38;5;241m0\u001b[39m] \u001b[38;5;129;01mis\u001b[39;00m \u001b[38;5;129;01mnot\u001b[39;00m \u001b[38;5;28;01mNone\u001b[39;00m \u001b[38;5;28;01melse\u001b[39;00m a_values[\u001b[38;5;241m0\u001b[39m]\n\u001b[1;32m    255\u001b[0m         \u001b[38;5;28;01melse\u001b[39;00m:\n\u001b[0;32m--> 256\u001b[0m             new_attrs[a] \u001b[38;5;241m=\u001b[39m \u001b[43mstack\u001b[49m\u001b[43m(\u001b[49m\u001b[43ma_values\u001b[49m\u001b[43m,\u001b[49m\u001b[43m \u001b[49m\u001b[43mdim\u001b[49m\u001b[43m,\u001b[49m\u001b[43m \u001b[49m\u001b[43mexpand_values\u001b[49m\u001b[38;5;241;43m=\u001b[39;49m\u001b[43mexpand_values\u001b[49m\u001b[43m,\u001b[49m\u001b[43m \u001b[49m\u001b[43msimplify\u001b[49m\u001b[38;5;241;43m=\u001b[39;49m\u001b[43msimplify\u001b[49m\u001b[43m,\u001b[49m\u001b[43m \u001b[49m\u001b[38;5;241;43m*\u001b[39;49m\u001b[38;5;241;43m*\u001b[39;49m\u001b[43mkwargs\u001b[49m\u001b[43m)\u001b[49m\n\u001b[1;32m    257\u001b[0m     \u001b[38;5;28;01mreturn\u001b[39;00m copy_with(values[\u001b[38;5;241m0\u001b[39m], \u001b[38;5;241m*\u001b[39m\u001b[38;5;241m*\u001b[39mnew_attrs)\n\u001b[1;32m    258\u001b[0m \u001b[38;5;28;01melse\u001b[39;00m:\n",
      "File \u001b[0;32m/usr/local/lib/python3.10/dist-packages/phiml/math/_magic_ops.py:236\u001b[0m, in \u001b[0;36mstack\u001b[0;34m(values, dim, expand_values, simplify, layout_non_matching, **kwargs)\u001b[0m\n\u001b[1;32m    234\u001b[0m     \u001b[38;5;28;01mfor\u001b[39;00m k \u001b[38;5;129;01min\u001b[39;00m keys:\n\u001b[1;32m    235\u001b[0m         k_values \u001b[38;5;241m=\u001b[39m [v[k] \u001b[38;5;28;01mfor\u001b[39;00m v \u001b[38;5;129;01min\u001b[39;00m values]\n\u001b[0;32m--> 236\u001b[0m         new_dict[k] \u001b[38;5;241m=\u001b[39m \u001b[43mstack\u001b[49m\u001b[43m(\u001b[49m\u001b[43mk_values\u001b[49m\u001b[43m,\u001b[49m\u001b[43m \u001b[49m\u001b[43mdim\u001b[49m\u001b[43m,\u001b[49m\u001b[43m \u001b[49m\u001b[43mexpand_values\u001b[49m\u001b[38;5;241;43m=\u001b[39;49m\u001b[43mexpand_values\u001b[49m\u001b[43m,\u001b[49m\u001b[43m \u001b[49m\u001b[43msimplify\u001b[49m\u001b[38;5;241;43m=\u001b[39;49m\u001b[43msimplify\u001b[49m\u001b[43m,\u001b[49m\u001b[43m \u001b[49m\u001b[38;5;241;43m*\u001b[39;49m\u001b[38;5;241;43m*\u001b[39;49m\u001b[43mkwargs\u001b[49m\u001b[43m)\u001b[49m\n\u001b[1;32m    237\u001b[0m     \u001b[38;5;28;01mreturn\u001b[39;00m new_dict\n\u001b[1;32m    238\u001b[0m \u001b[38;5;28;01mraise\u001b[39;00m \u001b[38;5;167;01mNotImplementedError\u001b[39;00m\n",
      "File \u001b[0;32m/usr/local/lib/python3.10/dist-packages/phiml/math/_magic_ops.py:275\u001b[0m, in \u001b[0;36mstack\u001b[0;34m(values, dim, expand_values, simplify, layout_non_matching, **kwargs)\u001b[0m\n\u001b[1;32m    273\u001b[0m         values \u001b[38;5;241m=\u001b[39m \u001b[38;5;28mtuple\u001b[39m([wrap(v) \u001b[38;5;28;01mfor\u001b[39;00m v \u001b[38;5;129;01min\u001b[39;00m values])\n\u001b[1;32m    274\u001b[0m     \u001b[38;5;28;01mexcept\u001b[39;00m \u001b[38;5;167;01mValueError\u001b[39;00m:\n\u001b[0;32m--> 275\u001b[0m         \u001b[38;5;28;01mraise\u001b[39;00m MagicNotImplemented(\u001b[38;5;124mf\u001b[39m\u001b[38;5;124m\"\u001b[39m\u001b[38;5;124mAt least one item in values must be Shapable but got types \u001b[39m\u001b[38;5;132;01m{\u001b[39;00m[\u001b[38;5;28mtype\u001b[39m(v)\u001b[38;5;250m \u001b[39m\u001b[38;5;28;01mfor\u001b[39;00m\u001b[38;5;250m \u001b[39mv\u001b[38;5;250m \u001b[39m\u001b[38;5;129;01min\u001b[39;00m\u001b[38;5;250m \u001b[39mvalues]\u001b[38;5;132;01m}\u001b[39;00m\u001b[38;5;124m\"\u001b[39m)\n\u001b[1;32m    276\u001b[0m     \u001b[38;5;28;01mreturn\u001b[39;00m values[\u001b[38;5;241m0\u001b[39m]\u001b[38;5;241m.\u001b[39m__stack__(values, dim, \u001b[38;5;241m*\u001b[39m\u001b[38;5;241m*\u001b[39mkwargs)\n\u001b[1;32m    277\u001b[0m \u001b[38;5;28;01melse\u001b[39;00m:  \u001b[38;5;66;03m# multi-dim stack\u001b[39;00m\n",
      "\u001b[0;31mMagicNotImplemented\u001b[0m: At least one item in values must be Shapable but got types [<class 'phiml.math.extrapolation.ConstantExtrapolation'>, <class 'phiml.math.extrapolation._ZeroGradient'>]"
     ]
    }
   ],
   "source": [
    "#v = math.solve_linear(self.momentum_eq, v, self.advection_solver(v), dt=-dt)\n",
    "stack([phy.phi_o,phy.phi_w],\"a\")"
   ]
  },
  {
   "cell_type": "code",
   "execution_count": 98,
   "metadata": {},
   "outputs": [
    {
     "data": {
      "text/plain": [
       "Field[(wˢ=x,y, oˢ=x,y, vectorᶜ=w,o, xˢ=32, yˢ=32)]"
      ]
     },
     "execution_count": 98,
     "metadata": {},
     "output_type": "execute_result"
    }
   ],
   "source": [
    "geo_w=UniformGrid(x=32, y=32)\n",
    "#phi_comp=Field(geo_w,values=stack([vec(\"w\",x=0.1,y=0.1),vec(\"w\",x=0.1,y=0.1)],dim=\"p\"),\n",
    "#phi_comp=(geo_w,values=Field(geo_w,values=vec(w=vec(\"w\",x=0.1,y=0.1),o=vec(\"o\",x=0.1,y=0.1)),dim=\"p\"),\n",
    "phi_comp=Field(geo_w,values=vec(w=vec(\"w\",x=0.1,y=0.1),o=vec(\"o\",x=0.1,y=0.1)),dim=\"p\",\n",
    "boundary= {\"w\":{\n",
    "          'x-':ZERO_GRADIENT,\n",
    "          'x+': vec(x=0.1,y=0.1),\n",
    "          'y-': ZERO_GRADIENT,\n",
    "          'y+': ZERO_GRADIENT},\n",
    "          \"o\":{\n",
    "          'x-':vec(x=0.1,y=0.1),\n",
    "          'x+': ZERO_GRADIENT,\n",
    "          'y-': ZERO_GRADIENT,\n",
    "          'y+': ZERO_GRADIENT}\n",
    "          }\n",
    "          \n",
    "          )\n",
    "phi_comp"
   ]
  },
  {
   "cell_type": "code",
   "execution_count": 103,
   "metadata": {},
   "outputs": [
    {
     "ename": "NameError",
     "evalue": "name 'phi_' is not defined",
     "output_type": "error",
     "traceback": [
      "\u001b[0;31m---------------------------------------------------------------------------\u001b[0m",
      "\u001b[0;31mNameError\u001b[0m                                 Traceback (most recent call last)",
      "Cell \u001b[0;32mIn[103], line 1\u001b[0m\n\u001b[0;32m----> 1\u001b[0m \u001b[43mphi_\u001b[49m\u001b[38;5;241m.\u001b[39mextrapolation\u001b[38;5;241m.\u001b[39mdetermines_boundary_values(\u001b[38;5;124m\"\u001b[39m\u001b[38;5;124mx-\u001b[39m\u001b[38;5;124m\"\u001b[39m)\n\u001b[1;32m      3\u001b[0m \u001b[38;5;66;03m#math.extrapolation.determines_boundary_values(phi_comp)\u001b[39;00m\n",
      "\u001b[0;31mNameError\u001b[0m: name 'phi_' is not defined"
     ]
    }
   ],
   "source": [
    "phi_.extrapolation.determines_boundary_values(\"x-\")\n",
    "\n",
    "#math.extrapolation.determines_boundary_values(phi_comp)"
   ]
  },
  {
   "cell_type": "code",
   "execution_count": 72,
   "metadata": {},
   "outputs": [
    {
     "data": {
      "text/plain": [
       "Dense.wˢ=x,y"
      ]
     },
     "execution_count": 72,
     "metadata": {},
     "output_type": "execute_result"
    }
   ],
   "source": [
    "\n",
    "#stack([vec(\"w\",x=0.1,y=0.1),vec(\"o\",x=0.1,y=0.1)],\"w,o\")\n",
    "vec(w=vec(\"w\",x=0.1,y=0.1),o=vec(\"o\",x=0.1,y=0.1))\n",
    "#tensor?"
   ]
  },
  {
   "cell_type": "code",
   "execution_count": 69,
   "metadata": {},
   "outputs": [
    {
     "data": {
      "text/plain": [
       "\u001b[94m(x=0.100, y=0.100)\u001b[0m \u001b[93mfloat64\u001b[0m"
      ]
     },
     "execution_count": 69,
     "metadata": {},
     "output_type": "execute_result"
    }
   ],
   "source": [
    "vec(x=0.1,y=0.1)"
   ]
  },
  {
   "cell_type": "code",
   "execution_count": 46,
   "metadata": {},
   "outputs": [
    {
     "data": {
      "text/plain": [
       "{'x-': \u001b[94m(x=0.100, y=0.100)\u001b[0m; \u001b[94m(x=0.100, y=0.100)\u001b[0m \u001b[92m(pˢ=2, vectorᶜ=x,y)\u001b[0m, 'x+': zero-gradient, 'y-': zero-gradient, 'y+': zero-gradient}"
      ]
     },
     "execution_count": 46,
     "metadata": {},
     "output_type": "execute_result"
    }
   ],
   "source": [
    "phi_comp.boundary"
   ]
  },
  {
   "cell_type": "code",
   "execution_count": 83,
   "metadata": {},
   "outputs": [
    {
     "ename": "AssertionError",
     "evalue": "Nested mixed extrapolations not supported",
     "output_type": "error",
     "traceback": [
      "\u001b[0;31m---------------------------------------------------------------------------\u001b[0m",
      "\u001b[0;31mAssertionError\u001b[0m                            Traceback (most recent call last)",
      "Cell \u001b[0;32mIn[83], line 2\u001b[0m\n\u001b[1;32m      1\u001b[0m \u001b[38;5;28;01mfrom\u001b[39;00m\u001b[38;5;250m \u001b[39m\u001b[38;5;21;01mphiml\u001b[39;00m\u001b[38;5;250m \u001b[39m\u001b[38;5;28;01mimport\u001b[39;00m math\n\u001b[0;32m----> 2\u001b[0m \u001b[43mmath\u001b[49m\u001b[38;5;241;43m.\u001b[39;49m\u001b[43mextrapolation\u001b[49m\u001b[38;5;241;43m.\u001b[39;49m\u001b[43mas_extrapolation\u001b[49m\u001b[43m(\u001b[49m\n\u001b[1;32m      3\u001b[0m \u001b[43m    \u001b[49m\u001b[43m{\u001b[49m\u001b[38;5;124;43m\"\u001b[39;49m\u001b[38;5;124;43mw\u001b[39;49m\u001b[38;5;124;43m\"\u001b[39;49m\u001b[43m:\u001b[49m\u001b[43m{\u001b[49m\u001b[38;5;124;43m\"\u001b[39;49m\u001b[38;5;124;43my\u001b[39;49m\u001b[38;5;124;43m\"\u001b[39;49m\u001b[43m:\u001b[49m\u001b[38;5;241;43m0\u001b[39;49m\u001b[43m,\u001b[49m\u001b[38;5;124;43m\"\u001b[39;49m\u001b[38;5;124;43mx\u001b[39;49m\u001b[38;5;124;43m\"\u001b[39;49m\u001b[43m:\u001b[49m\u001b[38;5;241;43m0\u001b[39;49m\u001b[43m}\u001b[49m\u001b[43m,\u001b[49m\n\u001b[1;32m      4\u001b[0m \u001b[43m     \u001b[49m\u001b[38;5;124;43m\"\u001b[39;49m\u001b[38;5;124;43mo\u001b[39;49m\u001b[38;5;124;43m\"\u001b[39;49m\u001b[43m:\u001b[49m\u001b[43m{\u001b[49m\u001b[38;5;124;43m\"\u001b[39;49m\u001b[38;5;124;43my\u001b[39;49m\u001b[38;5;124;43m\"\u001b[39;49m\u001b[43m:\u001b[49m\u001b[38;5;241;43m0\u001b[39;49m\u001b[43m,\u001b[49m\u001b[38;5;124;43m\"\u001b[39;49m\u001b[38;5;124;43mx\u001b[39;49m\u001b[38;5;124;43m\"\u001b[39;49m\u001b[43m:\u001b[49m\u001b[38;5;241;43m0.1\u001b[39;49m\u001b[43m}\u001b[49m\n\u001b[1;32m      5\u001b[0m \u001b[43m     \u001b[49m\u001b[43m}\u001b[49m\n\u001b[1;32m      6\u001b[0m \u001b[43m    \u001b[49m\u001b[43m)\u001b[49m\n",
      "File \u001b[0;32m/usr/local/lib/python3.10/dist-packages/phiml/math/extrapolation.py:1207\u001b[0m, in \u001b[0;36mas_extrapolation\u001b[0;34m(obj)\u001b[0m\n\u001b[1;32m   1205\u001b[0m         \u001b[38;5;28;01mreturn\u001b[39;00m combine_by_direction(normal\u001b[38;5;241m=\u001b[39mnormal, tangential\u001b[38;5;241m=\u001b[39mtangential)\n\u001b[1;32m   1206\u001b[0m     \u001b[38;5;28;01melse\u001b[39;00m:\n\u001b[0;32m-> 1207\u001b[0m         \u001b[38;5;28;01mreturn\u001b[39;00m \u001b[43mcombine_sides\u001b[49m\u001b[43m(\u001b[49m\u001b[43mobj\u001b[49m\u001b[43m)\u001b[49m\n\u001b[1;32m   1208\u001b[0m \u001b[38;5;28;01mreturn\u001b[39;00m ConstantExtrapolation(obj)\n",
      "File \u001b[0;32m/usr/local/lib/python3.10/dist-packages/phiml/math/extrapolation.py:1235\u001b[0m, in \u001b[0;36mcombine_sides\u001b[0;34m(boundary_dict, **extrapolations)\u001b[0m\n\u001b[1;32m   1233\u001b[0m     \u001b[38;5;28;01mreturn\u001b[39;00m \u001b[38;5;28mnext\u001b[39m(\u001b[38;5;28miter\u001b[39m(result\u001b[38;5;241m.\u001b[39mvalues()))\n\u001b[1;32m   1234\u001b[0m \u001b[38;5;28;01melse\u001b[39;00m:\n\u001b[0;32m-> 1235\u001b[0m     \u001b[38;5;28;01mreturn\u001b[39;00m \u001b[43m_MixedExtrapolation\u001b[49m\u001b[43m(\u001b[49m\u001b[43mresult\u001b[49m\u001b[43m)\u001b[49m\n",
      "File \u001b[0;32m/usr/local/lib/python3.10/dist-packages/phiml/math/extrapolation.py:1251\u001b[0m, in \u001b[0;36m_MixedExtrapolation.__init__\u001b[0;34m(self, ext_by_boundary)\u001b[0m\n\u001b[1;32m   1249\u001b[0m \u001b[38;5;28msuper\u001b[39m()\u001b[38;5;241m.\u001b[39m\u001b[38;5;21m__init__\u001b[39m(pad_rank\u001b[38;5;241m=\u001b[39m\u001b[38;5;28;01mNone\u001b[39;00m)\n\u001b[1;32m   1250\u001b[0m \u001b[38;5;28;01massert\u001b[39;00m \u001b[38;5;28mall\u001b[39m(\u001b[38;5;28misinstance\u001b[39m(e, Extrapolation) \u001b[38;5;28;01mfor\u001b[39;00m e \u001b[38;5;129;01min\u001b[39;00m ext_by_boundary\u001b[38;5;241m.\u001b[39mvalues())\n\u001b[0;32m-> 1251\u001b[0m \u001b[38;5;28;01massert\u001b[39;00m \u001b[38;5;28mall\u001b[39m(\u001b[38;5;129;01mnot\u001b[39;00m \u001b[38;5;28misinstance\u001b[39m(e, _MixedExtrapolation) \u001b[38;5;28;01mfor\u001b[39;00m e \u001b[38;5;129;01min\u001b[39;00m ext_by_boundary\u001b[38;5;241m.\u001b[39mvalues()), \u001b[38;5;124mf\u001b[39m\u001b[38;5;124m\"\u001b[39m\u001b[38;5;124mNested mixed extrapolations not supported\u001b[39m\u001b[38;5;124m\"\u001b[39m\n\u001b[1;32m   1252\u001b[0m \u001b[38;5;28;01massert\u001b[39;00m \u001b[38;5;28mall\u001b[39m(\u001b[38;5;28misinstance\u001b[39m(k, \u001b[38;5;28mstr\u001b[39m) \u001b[38;5;28;01mfor\u001b[39;00m k \u001b[38;5;129;01min\u001b[39;00m ext_by_boundary\u001b[38;5;241m.\u001b[39mkeys())\n\u001b[1;32m   1253\u001b[0m \u001b[38;5;28;01massert\u001b[39;00m \u001b[38;5;28mlen\u001b[39m(\u001b[38;5;28mset\u001b[39m(ext_by_boundary\u001b[38;5;241m.\u001b[39mvalues())) \u001b[38;5;241m>\u001b[39m\u001b[38;5;241m=\u001b[39m \u001b[38;5;241m2\u001b[39m, \u001b[38;5;124mf\u001b[39m\u001b[38;5;124m\"\u001b[39m\u001b[38;5;124mExtrapolation can be simplified: \u001b[39m\u001b[38;5;132;01m{\u001b[39;00mext_by_boundary\u001b[38;5;132;01m}\u001b[39;00m\u001b[38;5;124m\"\u001b[39m\n",
      "\u001b[0;31mAssertionError\u001b[0m: Nested mixed extrapolations not supported"
     ]
    }
   ],
   "source": [
    "from phiml import math\n",
    "math.extrapolation.as_extrapolation(\n",
    "    {\"w\":{\"y\":0,\"x\":0},\n",
    "     \"o\":{\"y\":0,\"x\":0.1}\n",
    "     }\n",
    "    )"
   ]
  },
  {
   "cell_type": "markdown",
   "metadata": {},
   "source": [
    "# Gradient Notes"
   ]
  },
  {
   "cell_type": "code",
   "execution_count": null,
   "metadata": {},
   "outputs": [],
   "source": [
    "import torch"
   ]
  },
  {
   "cell_type": "markdown",
   "metadata": {},
   "source": [
    "### Grandient example"
   ]
  },
  {
   "cell_type": "code",
   "execution_count": null,
   "metadata": {},
   "outputs": [
    {
     "name": "stdout",
     "output_type": "stream",
     "text": [
      "tensor([[[1., 1., 1.]],\n",
      "\n",
      "        [[1., 1., 1.]],\n",
      "\n",
      "        [[1., 1., 1.]]], requires_grad=True)\n",
      "tensor([[[1.0000, 1.8415, 0.5403, 1.0000]],\n",
      "\n",
      "        [[1.0000, 1.8415, 0.5403, 1.0000]],\n",
      "\n",
      "        [[1.0000, 1.8415, 0.5403, 1.0000]]], grad_fn=<StackBackward0>)\n",
      "torch.Size([3, 1, 4])\n"
     ]
    },
    {
     "data": {
      "text/plain": [
       "(tensor([[[0.1585, 2.5403, 0.0000]],\n",
       " \n",
       "         [[0.1585, 2.5403, 0.0000]],\n",
       " \n",
       "         [[0.1585, 2.5403, 0.0000]]], grad_fn=<AddBackward0>),)"
      ]
     },
     "execution_count": 194,
     "metadata": {},
     "output_type": "execute_result"
    }
   ],
   "source": [
    "x1 = torch.ones((3,1,3)).requires_grad_(True)  #\n",
    "print(x1)\n",
    "\n",
    "u1 = torch.stack([\n",
    "    x1[:,:,0]**0.5,\n",
    "    torch.sin(x1[:,:,1])+x1[:,:,0]**0.5,\n",
    "    torch.cos(x1[:,:,0]),\n",
    "    x1[:,:,1]**2,\n",
    "    ],axis=2)\n",
    "\n",
    "#u1 = torch.matmul(M,x1)\n",
    "\n",
    "\n",
    "#u1=torch.sin(torch.matmul(torch.rand(2,2).requires_grad_(True),x1))\n",
    "print(u1)\n",
    "print(u1.shape)\n",
    "torch.autograd.grad(\n",
    "    u1,x1,\n",
    "            grad_outputs=torch.ones_like(u1).to(u1.device),\n",
    "            create_graph=True,\n",
    "            retain_graph=True,\n",
    "            allow_unused=True\n",
    "            )"
   ]
  },
  {
   "cell_type": "markdown",
   "metadata": {},
   "source": [
    "### Jacobian computation\n",
    "\n",
    "Expressed in pytorch with torch.autograd.grad\n",
    "\n",
    "$$ \\textbf{u} \\in \\mathbb{R}^n \\\\ \\textbf{x},\\textbf{e}_i \\in \\mathbb{R}^m $$\n",
    "$$ T_{ag} (\\textbf{u},\\textbf{x},\\textbf{e}_i) = \\nabla_{\\textbf{x}} \\textbf{u}_i  $$\n",
    "$$ T_{ag} (\\textbf{u},\\textbf{x},\\textbf{e}_i) = \\nabla_{\\textbf{x}} \\textbf{u}_i  $$\n",
    "$$ T_{ag} (\\textbf{u},\\textbf{x},\\textbf{e}_i+\\textbf{e}_j) = \\nabla_{\\textbf{x}} \\textbf{u}_i + \\nabla_{\\textbf{x}} \\textbf{u}_j $$\n",
    "$$ [T_{ag} (\\textbf{u},\\textbf{x},\\textbf{e}_i)]_{i=1}^n = J_{\\textbf{x}}(\\textbf{u})$$\n"
   ]
  },
  {
   "cell_type": "code",
   "execution_count": null,
   "metadata": {},
   "outputs": [
    {
     "name": "stdout",
     "output_type": "stream",
     "text": [
      "tensor([[[1.0000, 1.8415, 0.5403, 1.0000]],\n",
      "\n",
      "        [[1.0000, 1.8415, 0.5403, 1.0000]],\n",
      "\n",
      "        [[1.0000, 1.8415, 0.5403, 1.0000]]], grad_fn=<StackBackward0>)\n",
      "[tensor([[[0.5000, 0.0000, 0.0000]],\n",
      "\n",
      "        [[0.5000, 0.0000, 0.0000]],\n",
      "\n",
      "        [[0.5000, 0.0000, 0.0000]]], grad_fn=<AddBackward0>), tensor([[[0.5000, 0.5403, 0.0000]],\n",
      "\n",
      "        [[0.5000, 0.5403, 0.0000]],\n",
      "\n",
      "        [[0.5000, 0.5403, 0.0000]]], grad_fn=<AddBackward0>), tensor([[[-0.8415,  0.0000,  0.0000]],\n",
      "\n",
      "        [[-0.8415,  0.0000,  0.0000]],\n",
      "\n",
      "        [[-0.8415,  0.0000,  0.0000]]], grad_fn=<AddBackward0>), tensor([[[0., 2., 0.]],\n",
      "\n",
      "        [[0., 2., 0.]],\n",
      "\n",
      "        [[0., 2., 0.]]], grad_fn=<AddBackward0>)]\n",
      "tensor([[[[ 0.5000,  0.0000,  0.0000],\n",
      "          [ 0.5000,  0.5403,  0.0000],\n",
      "          [-0.8415,  0.0000,  0.0000],\n",
      "          [ 0.0000,  2.0000,  0.0000]]],\n",
      "\n",
      "\n",
      "        [[[ 0.5000,  0.0000,  0.0000],\n",
      "          [ 0.5000,  0.5403,  0.0000],\n",
      "          [-0.8415,  0.0000,  0.0000],\n",
      "          [ 0.0000,  2.0000,  0.0000]]],\n",
      "\n",
      "\n",
      "        [[[ 0.5000,  0.0000,  0.0000],\n",
      "          [ 0.5000,  0.5403,  0.0000],\n",
      "          [-0.8415,  0.0000,  0.0000],\n",
      "          [ 0.0000,  2.0000,  0.0000]]]], grad_fn=<StackBackward0>)\n",
      "torch.Size([3, 1, 4, 3])\n"
     ]
    },
    {
     "data": {
      "text/plain": [
       "torch.Size([3, 1, 3])"
      ]
     },
     "execution_count": 195,
     "metadata": {},
     "output_type": "execute_result"
    }
   ],
   "source": [
    "unit_vectors=torch.eye(4)\n",
    "print(u1)\n",
    "jacobian_rows = [torch.autograd.grad(u1, x1, vec_.unsqueeze(0).unsqueeze(0).tile(u1.shape[0],u1.shape[1],1),\n",
    "            create_graph=True,\n",
    "            retain_graph=True,\n",
    "            allow_unused=True)[0]\n",
    "                     for vec_ in unit_vectors]\n",
    "print(jacobian_rows)\n",
    "print(torch.stack(jacobian_rows,axis=2))\n",
    "print(torch.stack(jacobian_rows,axis=2).shape)\n",
    "\n",
    "torch.autograd.grad(u1, x1, unit_vectors[1].unsqueeze(0).unsqueeze(0).tile(u1.shape[0],u1.shape[1],1),\n",
    "            create_graph=True,\n",
    "            retain_graph=True,\n",
    "            allow_unused=True)[0].shape"
   ]
  },
  {
   "cell_type": "code",
   "execution_count": null,
   "metadata": {},
   "outputs": [],
   "source": [
    "#\n",
    "\n",
    "def vector_jacobian(u,x):\n",
    "    unit_vectors=torch.eye(u.shape[-1])\n",
    "    jacobian_rows = [torch.autograd.grad(u, x, vec_.unsqueeze(0).unsqueeze(0).tile(u.shape[0],u.shape[1],1),\n",
    "            create_graph=True,\n",
    "            retain_graph=True,\n",
    "            allow_unused=True)[0]\n",
    "                     for vec_ in unit_vectors]\n",
    "    return torch.stack(jacobian_rows,axis=2)\n",
    "\n",
    "\n",
    "def vector_grad(u,x):\n",
    "    unit_vectors=torch.eye(u.shape[-1])\n",
    "    jacobian_rows = [torch.autograd.grad(u, x, vec_.unsqueeze(0).unsqueeze(0).tile(u.shape[0],u.shape[1],1),\n",
    "            create_graph=True,\n",
    "            retain_graph=True,\n",
    "            allow_unused=True)[0]\n",
    "                     for vec_ in unit_vectors]\n",
    "    return torch.diagonal(torch.stack(jacobian_rows,axis=2),dim1=-2,dim2=-1)\n",
    "\n",
    "def x_grad(u,x,i,n):\n",
    "    \"\"\"\n",
    "    gradient of degree wrt x for componen i for u\n",
    "    input:\n",
    "    u and x are tensors with vectors object at dimension -1\n",
    "    [b, n_vectors, vector_dimension]\n",
    "\n",
    "    output:\n",
    "    [b, n_vectors, input_vector_dimension]\n",
    "    \"\"\"\n",
    "    I=torch.eye(u.shape[-1])\n",
    "\n",
    "    u=torch.autograd.grad(u ,x,\n",
    "            I[i].unsqueeze(0).unsqueeze(0).tile(u.shape[0],u.shape[1],1).to(u.device),\n",
    "            create_graph=True,\n",
    "            retain_graph=True,\n",
    "            allow_unused=True)[0]\n",
    "    if n > 1:\n",
    "        for i in range(n-1):\n",
    "            u=vector_grad(u,x)\n",
    "    return u"
   ]
  },
  {
   "cell_type": "code",
   "execution_count": null,
   "metadata": {},
   "outputs": [
    {
     "name": "stdout",
     "output_type": "stream",
     "text": [
      "tensor([[[0.5000, 0.0000, 0.0000]],\n",
      "\n",
      "        [[0.5000, 0.0000, 0.0000]],\n",
      "\n",
      "        [[0.5000, 0.0000, 0.0000]]], grad_fn=<AddBackward0>)\n"
     ]
    }
   ],
   "source": [
    "print(x_grad(u1,x1,0,1))\n",
    "udx=x_grad(u1,x1,0,1)\n"
   ]
  },
  {
   "cell_type": "code",
   "execution_count": null,
   "metadata": {},
   "outputs": [
    {
     "name": "stdout",
     "output_type": "stream",
     "text": [
      "torch.Size([3, 1, 3])\n"
     ]
    },
    {
     "data": {
      "text/plain": [
       "tensor([[[1., 1., 1.]],\n",
       "\n",
       "        [[1., 1., 1.]],\n",
       "\n",
       "        [[1., 1., 1.]]], requires_grad=True)"
      ]
     },
     "execution_count": 198,
     "metadata": {},
     "output_type": "execute_result"
    }
   ],
   "source": [
    "print(x1.shape)\n",
    "x1"
   ]
  },
  {
   "cell_type": "code",
   "execution_count": null,
   "metadata": {},
   "outputs": [
    {
     "data": {
      "text/plain": [
       "tensor([[0.5000],\n",
       "        [0.5000],\n",
       "        [0.5000]], grad_fn=<SumBackward1>)"
      ]
     },
     "execution_count": 199,
     "metadata": {},
     "output_type": "execute_result"
    }
   ],
   "source": [
    "torch.sum(x1*udx,axis=-1)"
   ]
  },
  {
   "cell_type": "code",
   "execution_count": null,
   "metadata": {},
   "outputs": [
    {
     "data": {
      "text/plain": [
       "tensor([[[0.5000, 0.0000]],\n",
       "\n",
       "        [[0.5000, 0.0000]],\n",
       "\n",
       "        [[0.5000, 0.0000]]], grad_fn=<SliceBackward0>)"
      ]
     },
     "execution_count": 204,
     "metadata": {},
     "output_type": "execute_result"
    }
   ],
   "source": [
    "udx[:,:,:2]"
   ]
  },
  {
   "cell_type": "markdown",
   "metadata": {},
   "source": [
    "# Residuals debug"
   ]
  },
  {
   "cell_type": "markdown",
   "metadata": {},
   "source": [
    "## NS reesidual"
   ]
  },
  {
   "cell_type": "code",
   "execution_count": null,
   "metadata": {},
   "outputs": [],
   "source": [
    "def incompresibble_fluid_loss(up,xt,mu=1,rho=1):\n",
    "    l=0\n",
    "    # x-velocity components\n",
    "    l+=x_grad(up,xt,0,1)[...,2] # dudt\n",
    "    l+=torch.sum(up[...,:1]*x_grad(up,xt,0,1)[...,:2],axis=-1) # u * grad u\n",
    "    l+=(mu/rho)*(x_grad(up,xt,2,1)[...,0]) #  dpdx\n",
    "    l-=(mu/rho)*torch.sum(x_grad(up,xt,0,2)[...,:2],axis=-1) # grad**2 u\n",
    "    # y-velocity components\n",
    "    l+=x_grad(up,xt,1,1)[...,2] # dvdt\n",
    "    l+=torch.sum(up[...,1:2]*x_grad(up,xt,0,1)[...,:2],axis=-1) # v * grad v\n",
    "    l+=(mu/rho)*(x_grad(up,xt,2,1)[...,1]) #  dpdy\n",
    "    l-=(mu/rho)*torch.sum(x_grad(up,xt,1,2)[...,:2],axis=-1) # grad**2 v\n",
    "    return l"
   ]
  },
  {
   "cell_type": "markdown",
   "metadata": {},
   "source": [
    "### Debug"
   ]
  },
  {
   "cell_type": "code",
   "execution_count": null,
   "metadata": {},
   "outputs": [
    {
     "name": "stdout",
     "output_type": "stream",
     "text": [
      "tensor([[[-1.5316, -0.0218,  1.3527]],\n",
      "\n",
      "        [[ 2.0246,  0.5625, -0.8633]],\n",
      "\n",
      "        [[ 0.5488, -0.9313,  0.3730]]], requires_grad=True)\n",
      "torch.Size([3, 1, 3])\n",
      "torch.Size([3, 1, 3])\n"
     ]
    }
   ],
   "source": [
    "x1 = torch.randn((3,1,3)).requires_grad_(True)  #\n",
    "print(x1)\n",
    "print(x1.shape)\n",
    "\n",
    "u1 = torch.stack([\n",
    "    x1[:,:,0]**0.5,\n",
    "    torch.sin(x1[:,:,1])+x1[:,:,0]**0.5,\n",
    "    torch.cos(x1[:,:,0]),\n",
    "    ],axis=2)\n",
    "\n",
    "print(u1.shape)"
   ]
  },
  {
   "cell_type": "code",
   "execution_count": null,
   "metadata": {},
   "outputs": [
    {
     "data": {
      "text/plain": [
       "tensor([[   nan],\n",
       "        [0.9955],\n",
       "        [0.3642]], grad_fn=<SubBackward0>)"
      ]
     },
     "execution_count": 263,
     "metadata": {},
     "output_type": "execute_result"
    }
   ],
   "source": [
    "incompresibble_fluid_loss(u1,x1,1,1)-0\n",
    "#x_grad(u1,x1,0,1)[...,0]\n",
    "#print(x1[:,:,:1])\n",
    "#print(x_grad(u1,x1,0,1)[...,:2])\n",
    "#x_grad(u1,x1,0,1)[...,2]\n",
    "#x_grad(u1,x1,0,2)[...,:2]"
   ]
  }
 ],
 "metadata": {
  "kernelspec": {
   "display_name": "Python 3 (ipykernel)",
   "language": "python",
   "name": "python3"
  },
  "language_info": {
   "codemirror_mode": {
    "name": "ipython",
    "version": 3
   },
   "file_extension": ".py",
   "mimetype": "text/x-python",
   "name": "python",
   "nbconvert_exporter": "python",
   "pygments_lexer": "ipython3",
   "version": "3.10.12"
  }
 },
 "nbformat": 4,
 "nbformat_minor": 5
}

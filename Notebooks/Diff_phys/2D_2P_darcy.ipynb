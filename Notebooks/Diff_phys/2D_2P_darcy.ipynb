{
 "cells": [
  {
   "cell_type": "code",
   "execution_count": 1,
   "metadata": {},
   "outputs": [
    {
     "name": "stdout",
     "output_type": "stream",
     "text": [
      "/home/guillermo.carrilho/PhysicsSimulationDeepLearning\n"
     ]
    }
   ],
   "source": [
    "! pwd"
   ]
  },
  {
   "cell_type": "code",
   "execution_count": 1,
   "id": "4865e9b0-c759-451f-a019-96d5da1ef942",
   "metadata": {},
   "outputs": [],
   "source": [
    "import os\n",
    "import sys\n",
    "\n",
    "\n",
    "ROOT=\"/home/guillermo.carrilho/PhysicsSimulationDeepLearning\"\n",
    "\n",
    "sys.path.append(os.path.join(ROOT,\"Physical_models\"))"
   ]
  },
  {
   "cell_type": "code",
   "execution_count": 46,
   "metadata": {},
   "outputs": [
    {
     "data": {
      "text/plain": [
       "(xˢ=64, yˢ=64), bounds=Box(x=(0, 1), y=(0, 1))"
      ]
     },
     "execution_count": 46,
     "metadata": {},
     "output_type": "execute_result"
    }
   ],
   "source": [
    "#mesh = geom.build_mesh(Box(x=1, y=1), x=100, y=100)\n",
    "#CenteredGrid(0, 0, x=32, y=32, bounds=Box(x=1, y=1)).geometry\n",
    "\n",
    "#resolution = math.linspace(0, 1, spatial(y=31))\n",
    "#Box(resolution)\n",
    "#Box?\n",
    "UniformGrid(x=64, y=64,bounds=Box(x=1, y=1))"
   ]
  },
  {
   "cell_type": "code",
   "execution_count": 575,
   "metadata": {},
   "outputs": [],
   "source": [
    "#from Differentiable_simulation import two_phase_flow,dK_w,K_w,K_o\n",
    "from phi.torch.flow import *\n",
    "\n",
    "\n",
    "geo_w=UniformGrid(x=64, y=64,bounds=Box(x=5e3, y=5e3))\n",
    "phi_w=Field( geo_w,values=tensor(0.0),\n",
    "      boundary= {\n",
    "          'x-':3e3,\n",
    "          'x+': ZERO_GRADIENT,\n",
    "          'y-': ZERO_GRADIENT,\n",
    "          'y+': ZERO_GRADIENT\n",
    " })\n",
    "\n",
    "geo_o=UniformGrid(x=64, y=64,bounds=Box(x=5e3, y=5e3))\n",
    "phi_o=Field( geo_o,values=tensor(0.0),\n",
    "      boundary= {\n",
    "          'x-': ZERO_GRADIENT,\n",
    "          'x+': ZERO_GRADIENT,\n",
    "          'y-': ZERO_GRADIENT,\n",
    "          'y+': ZERO_GRADIENT\n",
    " })\n",
    "\n",
    "phy=two_phase_flow(\n",
    "    phi_w,\n",
    "    phi_o,\n",
    "    dt=0.01,\n",
    "    w_advection_solver=lambda v: Solve('CG-adaptive',1e-4,1e-4,x0=v),\n",
    "    o_advection_solver=lambda v: Solve('CG-adaptive',1e-4,1e-4,x0=v)\n",
    "    #advection_solver=lambda v: Solve('CG-adaptive',1e-3,1e-3,x0=v)\n",
    ")"
   ]
  },
  {
   "cell_type": "code",
   "execution_count": 574,
   "metadata": {},
   "outputs": [],
   "source": [
    "from Differentiable_simulation import K_w_f_t,K_o_f_t,dsdpc,dsK_w_f_t,dsK_o_f_t,grad_phi_dK\n",
    "SWR=0.3\n",
    "SOR=0.1\n",
    "KRW=0.05\n",
    "KRO=0.7\n",
    "NW=2.0\n",
    "NO=3.5\n",
    "MUW=1.0\n",
    "MUO=1.0\n",
    "PD=2*(1e3) # Pa\n",
    "LAMBDA=1\n",
    "\n",
    "#S_w=(lambda p_c:math.clip(SWR+(1-SWR)*(p_c/PD)**(-1*LAMBDA),1.0,0.0)) # add conditions for p_c=0\n",
    "\n",
    "#dsdpc=(lambda p_c:(((SWR-1)*LAMBDA)/PD)*((math.clip(p_c,PD))/(PD))**(-1*(LAMBDA + 1)))\n",
    "\n",
    "dsdpc=(lambda p_c:math.clip((-1*LAMBDA)*((S_w(p_c)-SWR)/PD),lower_limit=1e-6))\n",
    "\n",
    "S_w=(lambda p_c:math.clip(SWR+(1-SWR)*(p_c/PD)**(-1*LAMBDA),SWR,(1-SOR))) # add conditions for p_c=0\n",
    "#S_w=(lambda p_c:SWR+(1-SWR)*(math.clip(p_c,PD)/PD)**(-1*LAMBDA)) # add conditions for p_c=0\n",
    "\n",
    "K_w=lambda p_c:stack(\n",
    "    [stack([K_w_f_t(S_w(p_c))/(MUW*dsdpc(p_c)),math.zeros_like(p_c)],batch(\"k\") ),\n",
    "    stack([math.zeros_like(p_c),K_w_f_t(S_w(p_c))/(MUW*dsdpc(p_c))],batch(\"k\") )],batch(\"KK\"))\n",
    "\n",
    "K_o=lambda p_c:stack(\n",
    "    [stack([K_o_f_t(S_w(p_c))/(MUW*dsdpc(p_c)),math.zeros_like(p_c)],batch(\"k\") ),\n",
    "    stack([math.zeros_like(p_c),K_o_f_t(S_w(p_c))/(MUW*dsdpc(p_c))],batch(\"k\") )],batch(\"KK\"))\n",
    "\n",
    "dK_w=lambda p_c:stack(\n",
    "    [stack([dsdpc(p_c)*dsK_w_f_t(S_w(p_c))/(MUW*dsdpc(p_c)),math.zeros_like(p_c)],batch(\"dk\") ),\n",
    "    stack([math.zeros_like(p_c),dsdpc(p_c)*dsK_w_f_t(S_w(p_c))/(MUW*dsdpc(p_c))],batch(\"dk\") )],batch(\"dKK\"))\n",
    "\n",
    "dK_o=lambda p_c:stack(\n",
    "    [stack([dsdpc(p_c)*dsK_o_f_t(S_w(p_c))/(MUW*dsdpc(p_c)),math.zeros_like(p_c)],batch(\"dk\") ),\n",
    "    stack([math.zeros_like(p_c),dsdpc(p_c)*dsK_o_f_t(S_w(p_c))/(MUW*dsdpc(p_c))],batch(\"dk\") )],batch(\"dKK\"))\n",
    "\n",
    "\n",
    "class two_phase_flow(object):\n",
    "  def __init__(self,phi_w,phi_o,dt,w_advection_solver,o_advection_solver):\n",
    "    #self.v0=v0\n",
    "    self.phi_w=phi_w\n",
    "    self.phi_o=phi_o\n",
    "    self.dt=dt\n",
    "    self.p=None\n",
    "    self.w_advection_solver=w_advection_solver\n",
    "    self.o_advection_solver=o_advection_solver\n",
    "\n",
    "\n",
    "  def compute_p_c(self,phi_w,phi_o):\n",
    "    p_c=phi_w.sample(phi_w.geometry) -\\\n",
    "    phi_o.sample(phi_o.geometry)\n",
    "    return p_c\n",
    "\n",
    "  def compute_convective_velocity(self,phi_a,phi_b,dK_a):\n",
    "    p_c=self.compute_p_c(self.phi_w,self.phi_o)\n",
    "    convective_velocity = grad_phi_dK(phi_a,dK_a(p_c))\\\n",
    "                         - grad_phi_dK(phi_b,dK_a(p_c))\n",
    "\n",
    "    V=unstack(convective_velocity,\"dk\")\n",
    "    convective_velocity=Field(self.phi_o.geometry,values=vec(x=V[0],y=V[1]))\n",
    "    return convective_velocity\n",
    "\n",
    "  #def compute_anisotropic_viscosity_effect(self):\n",
    "    # reformulate differential solver\n",
    "    \n",
    "  def phi_w_momentum_eq(self,phi_w,phi_o, dt):\n",
    "    #grad_phi_w=field.spatial_gradient(self.phi_w,self.phi_w.boundary)\n",
    "    p_c=self.compute_p_c(phi_w,phi_o)\n",
    "    w_advection_term = dt * advect.semi_lagrangian((phi_o),\n",
    "                                                    self.compute_convective_velocity(phi_w,phi_o,dK_w),\n",
    "                                                    dt).sample(phi_w.geometry)\n",
    "    o_advection_term = dt * advect.semi_lagrangian((phi_w),\n",
    "                                                    self.compute_convective_velocity(phi_o,phi_w,dK_o),\n",
    "                                                    dt).sample(phi_w.geometry)\n",
    "    w_diffusion_term = dt * anisotropic_diffusion.implicit(phi_w,K_w(p_c), dt=dt,correct_skew=False).sample(phi_w.geometry)\n",
    "    o_diffusion_term = dt * anisotropic_diffusion.implicit(phi_o,K_o(p_c), dt=dt,correct_skew=False).sample(phi_w.geometry)\n",
    "\n",
    "    return phi_w + phi_w.with_values(w_advection_term + o_advection_term) + phi_w.with_values(w_diffusion_term - o_diffusion_term)\n",
    "  \n",
    "  def phi_o_momentum_eq(self,phi_o,phi_w, dt):\n",
    "    #grad_phi_w=field.spatial_gradient(phi_w,phi_w.boundary)\n",
    "    p_c=self.compute_p_c(phi_w,phi_o)\n",
    "    w_advection_term = dt * advect.semi_lagrangian((phi_o),\n",
    "                                                    self.compute_convective_velocity(phi_o,phi_w,dK_w),\n",
    "                                                    dt).sample(phi_o.geometry)\n",
    "    o_advection_term = dt * advect.semi_lagrangian((phi_w),\n",
    "                                                    self.compute_convective_velocity(phi_w,phi_o,dK_o),\n",
    "                                                    dt).sample(phi_o.geometry)\n",
    "    w_diffusion_term = dt * anisotropic_diffusion.implicit(phi_w,K_w(p_c), dt=dt,correct_skew=False).sample(phi_o.geometry)\n",
    "    o_diffusion_term = dt * anisotropic_diffusion.implicit(phi_o,K_o(p_c), dt=dt,correct_skew=False).sample(phi_o.geometry)\n",
    "\n",
    "    return phi_o + phi_o.with_values(w_advection_term + o_advection_term) + phi_o.with_values(o_diffusion_term - w_diffusion_term)\n",
    "\n",
    "\n",
    "  def implicit_time_step(self, phi_w,phi_o, dt):\n",
    "    new_phi_w = math.solve_linear(self.phi_w_momentum_eq, phi_w, self.w_advection_solver(phi_w),phi_o, dt=-dt)\n",
    "    new_phi_o = math.solve_linear(self.phi_o_momentum_eq, phi_o, self.o_advection_solver(phi_o),phi_w, dt=-dt)\n",
    "    return new_phi_w,new_phi_o"
   ]
  },
  {
   "cell_type": "code",
   "execution_count": 576,
   "metadata": {},
   "outputs": [
    {
     "name": "stdout",
     "output_type": "stream",
     "text": [
      "\u001b[92m(xˢ=64, yˢ=64)\u001b[0m \u001b[94mconst 0.8999999761581421\u001b[0m\n",
      "\u001b[92m(xˢ=64, yˢ=64)\u001b[0m \u001b[94mconst 9.999999974752427e-07\u001b[0m\n",
      "\u001b[92m(xˢ=64, yˢ=64)\u001b[0m \u001b[94mconst 0.0\u001b[0m\n",
      "\u001b[92m(dKKᵇ=2, dkᵇ=2, xˢ=64, yˢ=64)\u001b[0m \u001b[94m0.245 ± 0.245\u001b[0m \u001b[37m(0e+00...5e-01)\u001b[0m\n",
      "\u001b[92m(KKᵇ=2, kᵇ=2, xˢ=64, yˢ=64)\u001b[0m \u001b[94m7.35e+04 ± 7.3e+04\u001b[0m \u001b[37m(0e+00...1e+05)\u001b[0m\n",
      "\u001b[92m(xˢ=64, yˢ=64, vectorᶜ=x,y)\u001b[0m \u001b[94m-0.073 ± 0.828\u001b[0m \u001b[37m(-9e+00...0e+00)\u001b[0m\n",
      "\u001b[92m(KKᵇ=2, kᵇ=2, xˢ=64, yˢ=64)\u001b[0m \u001b[94mconst 0.0 / nan\u001b[0m\n",
      "\u001b[92m(dKKᵇ=2, dkᵇ=2, xˢ=64, yˢ=64)\u001b[0m \u001b[94mconst 0.0 / nan\u001b[0m\n",
      "\u001b[92m(xˢ=64, yˢ=64, vectorᶜ=x,y)\u001b[0m \u001b[94mnan ± nan\u001b[0m \u001b[37m(nan...nan)\u001b[0m\n"
     ]
    }
   ],
   "source": [
    "#from Differentiable_simulation import K_o_f_t,S_w,dK_o,dK_w,dK_o,dsdpc\n",
    "import anisotropic_diffusion\n",
    "print(S_w(phy.compute_p_c(phi_w,phi_o)))\n",
    "print(dsdpc(phy.compute_p_c(phi_w,phi_o)))\n",
    "print(phy.compute_p_c(phi_w,phi_o))\n",
    "print(dK_w(phy.compute_p_c(phi_w,phi_o)))\n",
    "print(K_w(phy.compute_p_c(phi_w,phi_o)))\n",
    "print(phy.compute_convective_velocity(phi_w,phi_o,dK_w).sample(phi_w.geometry))\n",
    "print(K_o(phy.compute_p_c(phi_w,phi_o)))\n",
    "print(dK_o(phy.compute_p_c(phi_w,phi_o)))\n",
    "print(phy.compute_convective_velocity(phi_w,phi_o,dK_o).sample(phi_o.geometry))"
   ]
  },
  {
   "cell_type": "code",
   "execution_count": 577,
   "metadata": {},
   "outputs": [],
   "source": [
    "phi=(phi_w,phi_o)"
   ]
  },
  {
   "cell_type": "code",
   "execution_count": 581,
   "metadata": {},
   "outputs": [
    {
     "ename": "NotConverged",
     "evalue": "Φ-ML CG (PyTorch*) did not converge to rel_tol=1e-05, abs_tol=1e-05 within 1000 iterations. Max residual: nan",
     "output_type": "error",
     "traceback": [
      "\u001b[0;31m---------------------------------------------------------------------------\u001b[0m",
      "\u001b[0;31mNotConverged\u001b[0m                              Traceback (most recent call last)",
      "Cell \u001b[0;32mIn[581], line 2\u001b[0m\n\u001b[1;32m      1\u001b[0m \u001b[38;5;28;01mfor\u001b[39;00m i \u001b[38;5;129;01min\u001b[39;00m \u001b[38;5;28mrange\u001b[39m(\u001b[38;5;241m1\u001b[39m):\n\u001b[0;32m----> 2\u001b[0m     phi\u001b[38;5;241m=\u001b[39m\u001b[43mphy\u001b[49m\u001b[38;5;241;43m.\u001b[39;49m\u001b[43mimplicit_time_step\u001b[49m\u001b[43m(\u001b[49m\u001b[38;5;241;43m*\u001b[39;49m\u001b[43mphi\u001b[49m\u001b[43m,\u001b[49m\u001b[38;5;241;43m1e-5\u001b[39;49m\u001b[43m)\u001b[49m\n",
      "Cell \u001b[0;32mIn[574], line 97\u001b[0m, in \u001b[0;36mtwo_phase_flow.implicit_time_step\u001b[0;34m(self, phi_w, phi_o, dt)\u001b[0m\n\u001b[1;32m     96\u001b[0m \u001b[38;5;28;01mdef\u001b[39;00m\u001b[38;5;250m \u001b[39m\u001b[38;5;21mimplicit_time_step\u001b[39m(\u001b[38;5;28mself\u001b[39m, phi_w,phi_o, dt):\n\u001b[0;32m---> 97\u001b[0m   new_phi_w \u001b[38;5;241m=\u001b[39m \u001b[43mmath\u001b[49m\u001b[38;5;241;43m.\u001b[39;49m\u001b[43msolve_linear\u001b[49m\u001b[43m(\u001b[49m\u001b[38;5;28;43mself\u001b[39;49m\u001b[38;5;241;43m.\u001b[39;49m\u001b[43mphi_w_momentum_eq\u001b[49m\u001b[43m,\u001b[49m\u001b[43m \u001b[49m\u001b[43mphi_w\u001b[49m\u001b[43m,\u001b[49m\u001b[43m \u001b[49m\u001b[38;5;28;43mself\u001b[39;49m\u001b[38;5;241;43m.\u001b[39;49m\u001b[43mw_advection_solver\u001b[49m\u001b[43m(\u001b[49m\u001b[43mphi_w\u001b[49m\u001b[43m)\u001b[49m\u001b[43m,\u001b[49m\u001b[43mphi_o\u001b[49m\u001b[43m,\u001b[49m\u001b[43m \u001b[49m\u001b[43mdt\u001b[49m\u001b[38;5;241;43m=\u001b[39;49m\u001b[38;5;241;43m-\u001b[39;49m\u001b[43mdt\u001b[49m\u001b[43m)\u001b[49m\n\u001b[1;32m     98\u001b[0m   new_phi_o \u001b[38;5;241m=\u001b[39m math\u001b[38;5;241m.\u001b[39msolve_linear(\u001b[38;5;28mself\u001b[39m\u001b[38;5;241m.\u001b[39mphi_o_momentum_eq, phi_o, \u001b[38;5;28mself\u001b[39m\u001b[38;5;241m.\u001b[39mo_advection_solver(phi_o),phi_w, dt\u001b[38;5;241m=\u001b[39m\u001b[38;5;241m-\u001b[39mdt)\n\u001b[1;32m     99\u001b[0m   \u001b[38;5;28;01mreturn\u001b[39;00m new_phi_w,new_phi_o\n",
      "File \u001b[0;32m/usr/local/lib/python3.10/dist-packages/phiml/math/_optimize.py:701\u001b[0m, in \u001b[0;36msolve_linear\u001b[0;34m(f, y, solve, grad_for_f, f_kwargs, *f_args, **f_kwargs_)\u001b[0m\n\u001b[1;32m    698\u001b[0m     \u001b[38;5;28;01mreturn\u001b[39;00m result  \u001b[38;5;66;03m# must return exactly `x` so gradient isn't computed w.r.t. other quantities\u001b[39;00m\n\u001b[1;32m    700\u001b[0m _function_solve \u001b[38;5;241m=\u001b[39m attach_gradient_solve(_function_solve_forward, auxiliary_args\u001b[38;5;241m=\u001b[39m\u001b[38;5;124m'\u001b[39m\u001b[38;5;124mis_backprop,f_kwargs,solve\u001b[39m\u001b[38;5;124m'\u001b[39m, matrix_adjoint\u001b[38;5;241m=\u001b[39mgrad_for_f)\n\u001b[0;32m--> 701\u001b[0m \u001b[38;5;28;01mreturn\u001b[39;00m \u001b[43m_function_solve\u001b[49m\u001b[43m(\u001b[49m\u001b[43my\u001b[49m\u001b[43m,\u001b[49m\u001b[43m \u001b[49m\u001b[43msolve\u001b[49m\u001b[43m,\u001b[49m\u001b[43m \u001b[49m\u001b[43mf_args\u001b[49m\u001b[43m,\u001b[49m\u001b[43m \u001b[49m\u001b[43mf_kwargs\u001b[49m\u001b[38;5;241;43m=\u001b[39;49m\u001b[43mf_kwargs\u001b[49m\u001b[43m)\u001b[49m\n",
      "File \u001b[0;32m/usr/local/lib/python3.10/dist-packages/phiml/math/_functional.py:963\u001b[0m, in \u001b[0;36mCustomGradientFunction.__call__\u001b[0;34m(self, *args, **kwargs)\u001b[0m\n\u001b[1;32m    958\u001b[0m             \u001b[38;5;28;01mif\u001b[39;00m \u001b[38;5;28mlen\u001b[39m(\u001b[38;5;28mself\u001b[39m\u001b[38;5;241m.\u001b[39mtraces) \u001b[38;5;241m>\u001b[39m\u001b[38;5;241m=\u001b[39m \u001b[38;5;241m8\u001b[39m:\n\u001b[1;32m    959\u001b[0m                 warnings\u001b[38;5;241m.\u001b[39mwarn(\u001b[38;5;124mf\u001b[39m\u001b[38;5;124m\"\"\"\u001b[39m\u001b[38;5;132;01m{\u001b[39;00m\u001b[38;5;28mself\u001b[39m\u001b[38;5;241m.\u001b[39m\u001b[38;5;18m__name__\u001b[39m\u001b[38;5;132;01m}\u001b[39;00m\u001b[38;5;124m has been traced \u001b[39m\u001b[38;5;132;01m{\u001b[39;00m\u001b[38;5;28mlen\u001b[39m(\u001b[38;5;28mself\u001b[39m\u001b[38;5;241m.\u001b[39mtraces)\u001b[38;5;132;01m}\u001b[39;00m\u001b[38;5;124m times.\u001b[39m\n\u001b[1;32m    960\u001b[0m \u001b[38;5;124mTo avoid memory leaks, call \u001b[39m\u001b[38;5;132;01m{\u001b[39;00mf_name(\u001b[38;5;28mself\u001b[39m\u001b[38;5;241m.\u001b[39mf)\u001b[38;5;132;01m}\u001b[39;00m\u001b[38;5;124m.traces.clear(), \u001b[39m\u001b[38;5;132;01m{\u001b[39;00mf_name(\u001b[38;5;28mself\u001b[39m\u001b[38;5;241m.\u001b[39mf)\u001b[38;5;132;01m}\u001b[39;00m\u001b[38;5;124m.recorded_mappings.clear().\u001b[39m\n\u001b[1;32m    961\u001b[0m \u001b[38;5;124mTraces can be avoided by jit-compiling the code that calls custom gradient functions.\u001b[39m\n\u001b[1;32m    962\u001b[0m \u001b[38;5;124m\"\"\"\u001b[39m, \u001b[38;5;167;01mRuntimeWarning\u001b[39;00m, stacklevel\u001b[38;5;241m=\u001b[39m\u001b[38;5;241m2\u001b[39m)\n\u001b[0;32m--> 963\u001b[0m         native_result \u001b[38;5;241m=\u001b[39m \u001b[38;5;28;43mself\u001b[39;49m\u001b[38;5;241;43m.\u001b[39;49m\u001b[43mtraces\u001b[49m\u001b[43m[\u001b[49m\u001b[43mkey\u001b[49m\u001b[43m]\u001b[49m\u001b[43m(\u001b[49m\u001b[38;5;241;43m*\u001b[39;49m\u001b[43mnatives\u001b[49m\u001b[43m)\u001b[49m  \u001b[38;5;66;03m# With PyTorch + jit, this does not call forward_native every time\u001b[39;00m\n\u001b[1;32m    964\u001b[0m         output_key \u001b[38;5;241m=\u001b[39m match_output_signature(key, \u001b[38;5;28mself\u001b[39m\u001b[38;5;241m.\u001b[39mrecorded_mappings, \u001b[38;5;28mself\u001b[39m)\n\u001b[1;32m    965\u001b[0m         output_tensors \u001b[38;5;241m=\u001b[39m assemble_tensors(native_result, output_key\u001b[38;5;241m.\u001b[39mspecs)\n",
      "File \u001b[0;32m/usr/local/lib/python3.10/dist-packages/phiml/backend/torch/_torch_backend.py:251\u001b[0m, in \u001b[0;36mTorchBackend.custom_gradient.<locals>.select_jit\u001b[0;34m(*args)\u001b[0m\n\u001b[1;32m    249\u001b[0m args \u001b[38;5;241m=\u001b[39m [\u001b[38;5;28mself\u001b[39m\u001b[38;5;241m.\u001b[39mas_tensor(arg) \u001b[38;5;28;01mfor\u001b[39;00m arg \u001b[38;5;129;01min\u001b[39;00m args]\n\u001b[1;32m    250\u001b[0m \u001b[38;5;28;01mif\u001b[39;00m \u001b[38;5;129;01mnot\u001b[39;00m CURRENT_JIT_CALLS:\n\u001b[0;32m--> 251\u001b[0m     \u001b[38;5;28;01mreturn\u001b[39;00m \u001b[43mtorch_function\u001b[49m\u001b[38;5;241;43m.\u001b[39;49m\u001b[43mapply\u001b[49m\u001b[43m(\u001b[49m\u001b[38;5;241;43m*\u001b[39;49m\u001b[43margs\u001b[49m\u001b[43m)\u001b[49m\n\u001b[1;32m    252\u001b[0m jit \u001b[38;5;241m=\u001b[39m CURRENT_JIT_CALLS[\u001b[38;5;241m-\u001b[39m\u001b[38;5;241m1\u001b[39m]\n\u001b[1;32m    253\u001b[0m \u001b[38;5;28;01mif\u001b[39;00m torch\u001b[38;5;241m.\u001b[39m_C\u001b[38;5;241m.\u001b[39m_get_tracing_state() \u001b[38;5;129;01mis\u001b[39;00m \u001b[38;5;28;01mNone\u001b[39;00m:  \u001b[38;5;66;03m# first call: record this function\u001b[39;00m\n",
      "File \u001b[0;32m/usr/local/lib/python3.10/dist-packages/torch/autograd/function.py:575\u001b[0m, in \u001b[0;36mFunction.apply\u001b[0;34m(cls, *args, **kwargs)\u001b[0m\n\u001b[1;32m    572\u001b[0m \u001b[38;5;28;01mif\u001b[39;00m \u001b[38;5;129;01mnot\u001b[39;00m torch\u001b[38;5;241m.\u001b[39m_C\u001b[38;5;241m.\u001b[39m_are_functorch_transforms_active():\n\u001b[1;32m    573\u001b[0m     \u001b[38;5;66;03m# See NOTE: [functorch vjp and autograd interaction]\u001b[39;00m\n\u001b[1;32m    574\u001b[0m     args \u001b[38;5;241m=\u001b[39m _functorch\u001b[38;5;241m.\u001b[39mutils\u001b[38;5;241m.\u001b[39munwrap_dead_wrappers(args)\n\u001b[0;32m--> 575\u001b[0m     \u001b[38;5;28;01mreturn\u001b[39;00m \u001b[38;5;28;43msuper\u001b[39;49m\u001b[43m(\u001b[49m\u001b[43m)\u001b[49m\u001b[38;5;241;43m.\u001b[39;49m\u001b[43mapply\u001b[49m\u001b[43m(\u001b[49m\u001b[38;5;241;43m*\u001b[39;49m\u001b[43margs\u001b[49m\u001b[43m,\u001b[49m\u001b[43m \u001b[49m\u001b[38;5;241;43m*\u001b[39;49m\u001b[38;5;241;43m*\u001b[39;49m\u001b[43mkwargs\u001b[49m\u001b[43m)\u001b[49m  \u001b[38;5;66;03m# type: ignore[misc]\u001b[39;00m\n\u001b[1;32m    577\u001b[0m \u001b[38;5;28;01mif\u001b[39;00m \u001b[38;5;129;01mnot\u001b[39;00m is_setup_ctx_defined:\n\u001b[1;32m    578\u001b[0m     \u001b[38;5;28;01mraise\u001b[39;00m \u001b[38;5;167;01mRuntimeError\u001b[39;00m(\n\u001b[1;32m    579\u001b[0m         \u001b[38;5;124m\"\u001b[39m\u001b[38;5;124mIn order to use an autograd.Function with functorch transforms \u001b[39m\u001b[38;5;124m\"\u001b[39m\n\u001b[1;32m    580\u001b[0m         \u001b[38;5;124m\"\u001b[39m\u001b[38;5;124m(vmap, grad, jvp, jacrev, ...), it must override the setup_context \u001b[39m\u001b[38;5;124m\"\u001b[39m\n\u001b[1;32m    581\u001b[0m         \u001b[38;5;124m\"\u001b[39m\u001b[38;5;124mstaticmethod. For more details, please see \u001b[39m\u001b[38;5;124m\"\u001b[39m\n\u001b[1;32m    582\u001b[0m         \u001b[38;5;124m\"\u001b[39m\u001b[38;5;124mhttps://pytorch.org/docs/main/notes/extending.func.html\u001b[39m\u001b[38;5;124m\"\u001b[39m\n\u001b[1;32m    583\u001b[0m     )\n",
      "File \u001b[0;32m/usr/local/lib/python3.10/dist-packages/phiml/backend/torch/_torch_backend.py:1206\u001b[0m, in \u001b[0;36mconstruct_torch_custom_function.<locals>.TorchCustomFunction.forward\u001b[0;34m(ctx, *args, **kwargs)\u001b[0m\n\u001b[1;32m   1204\u001b[0m     \u001b[38;5;28;01mreturn\u001b[39;00m f_example_output\n\u001b[1;32m   1205\u001b[0m ML_LOGGER\u001b[38;5;241m.\u001b[39mdebug(\u001b[38;5;124mf\u001b[39m\u001b[38;5;124m\"\u001b[39m\u001b[38;5;124mTorchScript -> run compiled \u001b[39m\u001b[38;5;132;01m{\u001b[39;00mf\u001b[38;5;241m.\u001b[39m\u001b[38;5;18m__name__\u001b[39m\u001b[38;5;132;01m}\u001b[39;00m\u001b[38;5;124m with args \u001b[39m\u001b[38;5;132;01m{\u001b[39;00m[(\u001b[38;5;28mtuple\u001b[39m(a\u001b[38;5;241m.\u001b[39mshape),\u001b[38;5;250m \u001b[39ma\u001b[38;5;241m.\u001b[39mrequires_grad)\u001b[38;5;250m \u001b[39m\u001b[38;5;28;01mfor\u001b[39;00m\u001b[38;5;250m \u001b[39ma\u001b[38;5;250m \u001b[39m\u001b[38;5;129;01min\u001b[39;00m\u001b[38;5;250m \u001b[39margs]\u001b[38;5;132;01m}\u001b[39;00m\u001b[38;5;124m\"\u001b[39m)\n\u001b[0;32m-> 1206\u001b[0m y \u001b[38;5;241m=\u001b[39m \u001b[43m(\u001b[49m\u001b[43mjit_f\u001b[49m\u001b[43m \u001b[49m\u001b[38;5;129;43;01mor\u001b[39;49;00m\u001b[43m \u001b[49m\u001b[43mf\u001b[49m\u001b[43m)\u001b[49m\u001b[43m(\u001b[49m\u001b[38;5;241;43m*\u001b[39;49m\u001b[43margs\u001b[49m\u001b[43m,\u001b[49m\u001b[43m \u001b[49m\u001b[38;5;241;43m*\u001b[39;49m\u001b[38;5;241;43m*\u001b[39;49m\u001b[43mkwargs\u001b[49m\u001b[43m)\u001b[49m\n\u001b[1;32m   1207\u001b[0m ctx\u001b[38;5;241m.\u001b[39msave_for_backward(\u001b[38;5;241m*\u001b[39margs, \u001b[38;5;241m*\u001b[39my)\n\u001b[1;32m   1208\u001b[0m ctx\u001b[38;5;241m.\u001b[39minput_count \u001b[38;5;241m=\u001b[39m \u001b[38;5;28mlen\u001b[39m(args)\n",
      "File \u001b[0;32m/usr/local/lib/python3.10/dist-packages/phiml/math/_functional.py:919\u001b[0m, in \u001b[0;36mCustomGradientFunction._trace.<locals>.forward_native\u001b[0;34m(*natives)\u001b[0m\n\u001b[1;32m    917\u001b[0m kwargs \u001b[38;5;241m=\u001b[39m assemble_tree(in_key\u001b[38;5;241m.\u001b[39mtree, in_tensors, attr_type\u001b[38;5;241m=\u001b[39mvariable_attributes)\n\u001b[1;32m    918\u001b[0m ML_LOGGER\u001b[38;5;241m.\u001b[39mdebug(\u001b[38;5;124mf\u001b[39m\u001b[38;5;124m\"\u001b[39m\u001b[38;5;124mRunning forward pass of custom op \u001b[39m\u001b[38;5;132;01m{\u001b[39;00mforward_native\u001b[38;5;241m.\u001b[39m\u001b[38;5;18m__name__\u001b[39m\u001b[38;5;132;01m}\u001b[39;00m\u001b[38;5;124m given args \u001b[39m\u001b[38;5;132;01m{\u001b[39;00m\u001b[38;5;28mtuple\u001b[39m(kwargs\u001b[38;5;241m.\u001b[39mkeys())\u001b[38;5;132;01m}\u001b[39;00m\u001b[38;5;124m containing \u001b[39m\u001b[38;5;132;01m{\u001b[39;00m\u001b[38;5;28mlen\u001b[39m(natives)\u001b[38;5;132;01m}\u001b[39;00m\u001b[38;5;124m native tensors\u001b[39m\u001b[38;5;124m\"\u001b[39m)\n\u001b[0;32m--> 919\u001b[0m result \u001b[38;5;241m=\u001b[39m \u001b[38;5;28;43mself\u001b[39;49m\u001b[38;5;241;43m.\u001b[39;49m\u001b[43mf\u001b[49m\u001b[43m(\u001b[49m\u001b[38;5;241;43m*\u001b[39;49m\u001b[38;5;241;43m*\u001b[39;49m\u001b[43mkwargs\u001b[49m\u001b[43m,\u001b[49m\u001b[43m \u001b[49m\u001b[38;5;241;43m*\u001b[39;49m\u001b[38;5;241;43m*\u001b[39;49m\u001b[43min_key\u001b[49m\u001b[38;5;241;43m.\u001b[39;49m\u001b[43mauxiliary_kwargs\u001b[49m\u001b[43m)\u001b[49m  \u001b[38;5;66;03m# Tensor or tuple/list of Tensors\u001b[39;00m\n\u001b[1;32m    920\u001b[0m nest, out_tensors \u001b[38;5;241m=\u001b[39m disassemble_tree(result, cache\u001b[38;5;241m=\u001b[39m\u001b[38;5;28;01mTrue\u001b[39;00m, attr_type\u001b[38;5;241m=\u001b[39mvariable_attributes)\n\u001b[1;32m    921\u001b[0m result_natives, result_shapes, specs \u001b[38;5;241m=\u001b[39m disassemble_tensors(out_tensors, expand\u001b[38;5;241m=\u001b[39m\u001b[38;5;28;01mTrue\u001b[39;00m)\n",
      "File \u001b[0;32m/usr/local/lib/python3.10/dist-packages/phiml/math/_optimize.py:697\u001b[0m, in \u001b[0;36msolve_linear.<locals>._function_solve_forward\u001b[0;34m(y, solve, f_args, f_kwargs, is_backprop)\u001b[0m\n\u001b[1;32m    694\u001b[0m         y_native \u001b[38;5;241m=\u001b[39m y_native[batch_index]\n\u001b[1;32m    695\u001b[0m     \u001b[38;5;28;01mreturn\u001b[39;00m y_native\n\u001b[0;32m--> 697\u001b[0m result \u001b[38;5;241m=\u001b[39m \u001b[43m_linear_solve_forward\u001b[49m\u001b[43m(\u001b[49m\u001b[43my\u001b[49m\u001b[43m,\u001b[49m\u001b[43m \u001b[49m\u001b[43msolve\u001b[49m\u001b[43m,\u001b[49m\u001b[43m \u001b[49m\u001b[43mnative_lin_f\u001b[49m\u001b[43m,\u001b[49m\u001b[43m \u001b[49m\u001b[43mpattern_dims_in\u001b[49m\u001b[38;5;241;43m=\u001b[39;49m\u001b[43mnon_batch\u001b[49m\u001b[43m(\u001b[49m\u001b[43mx0_tensor\u001b[49m\u001b[43m)\u001b[49m\u001b[38;5;241;43m.\u001b[39;49m\u001b[43mnames\u001b[49m\u001b[43m,\u001b[49m\u001b[43m \u001b[49m\u001b[43mpattern_dims_out\u001b[49m\u001b[38;5;241;43m=\u001b[39;49m\u001b[43mnon_batch\u001b[49m\u001b[43m(\u001b[49m\u001b[43my_tensor\u001b[49m\u001b[43m)\u001b[49m\u001b[38;5;241;43m.\u001b[39;49m\u001b[43mnames\u001b[49m\u001b[43m,\u001b[49m\u001b[43m \u001b[49m\u001b[43mpreconditioner\u001b[49m\u001b[38;5;241;43m=\u001b[39;49m\u001b[38;5;28;43;01mNone\u001b[39;49;00m\u001b[43m,\u001b[49m\u001b[43m \u001b[49m\u001b[43mbackend\u001b[49m\u001b[38;5;241;43m=\u001b[39;49m\u001b[43mbackend\u001b[49m\u001b[43m,\u001b[49m\u001b[43m \u001b[49m\u001b[43mis_backprop\u001b[49m\u001b[38;5;241;43m=\u001b[39;49m\u001b[43mis_backprop\u001b[49m\u001b[43m)\u001b[49m\n\u001b[1;32m    698\u001b[0m \u001b[38;5;28;01mreturn\u001b[39;00m result\n",
      "File \u001b[0;32m/usr/local/lib/python3.10/dist-packages/phiml/math/_optimize.py:753\u001b[0m, in \u001b[0;36m_linear_solve_forward\u001b[0;34m(y, solve, native_lin_op, pattern_dims_in, pattern_dims_out, preconditioner, backend, is_backprop)\u001b[0m\n\u001b[1;32m    751\u001b[0m     method \u001b[38;5;241m=\u001b[39m \u001b[38;5;124m'\u001b[39m\u001b[38;5;124mscipy-\u001b[39m\u001b[38;5;124m'\u001b[39m \u001b[38;5;241m+\u001b[39m method\n\u001b[1;32m    752\u001b[0m t \u001b[38;5;241m=\u001b[39m time\u001b[38;5;241m.\u001b[39mperf_counter()\n\u001b[0;32m--> 753\u001b[0m ret \u001b[38;5;241m=\u001b[39m \u001b[43mbackend\u001b[49m\u001b[38;5;241;43m.\u001b[39;49m\u001b[43mlinear_solve\u001b[49m\u001b[43m(\u001b[49m\u001b[43mmethod\u001b[49m\u001b[43m,\u001b[49m\u001b[43m \u001b[49m\u001b[43mnative_lin_op\u001b[49m\u001b[43m,\u001b[49m\u001b[43m \u001b[49m\u001b[43my_native\u001b[49m\u001b[43m,\u001b[49m\u001b[43m \u001b[49m\u001b[43mx0_native\u001b[49m\u001b[43m,\u001b[49m\u001b[43m \u001b[49m\u001b[43mrtol\u001b[49m\u001b[43m,\u001b[49m\u001b[43m \u001b[49m\u001b[43matol\u001b[49m\u001b[43m,\u001b[49m\u001b[43m \u001b[49m\u001b[43mmax_iter\u001b[49m\u001b[43m,\u001b[49m\u001b[43m \u001b[49m\u001b[43mpreconditioner\u001b[49m\u001b[43m,\u001b[49m\u001b[43m \u001b[49m\u001b[43mmatrix_offset\u001b[49m\u001b[43m)\u001b[49m\n\u001b[1;32m    754\u001b[0m t \u001b[38;5;241m=\u001b[39m time\u001b[38;5;241m.\u001b[39mperf_counter() \u001b[38;5;241m-\u001b[39m t\n\u001b[1;32m    755\u001b[0m trj_dims \u001b[38;5;241m=\u001b[39m [batch(trajectory\u001b[38;5;241m=\u001b[39m\u001b[38;5;28mlen\u001b[39m(max_iter))] \u001b[38;5;28;01mif\u001b[39;00m trj \u001b[38;5;28;01melse\u001b[39;00m []\n",
      "File \u001b[0;32m/usr/local/lib/python3.10/dist-packages/phiml/backend/_backend.py:1483\u001b[0m, in \u001b[0;36mBackend.linear_solve\u001b[0;34m(self, method, lin, y, x0, rtol, atol, max_iter, pre, matrix_offset)\u001b[0m\n\u001b[1;32m   1481\u001b[0m     \u001b[38;5;28;01mreturn\u001b[39;00m \u001b[38;5;28mself\u001b[39m\u001b[38;5;241m.\u001b[39mconjugate_gradient(lin, y, x0, rtol, atol, max_iter, pre, matrix_offset)\n\u001b[1;32m   1482\u001b[0m \u001b[38;5;28;01melif\u001b[39;00m method \u001b[38;5;241m==\u001b[39m \u001b[38;5;124m'\u001b[39m\u001b[38;5;124mCG-adaptive\u001b[39m\u001b[38;5;124m'\u001b[39m:\n\u001b[0;32m-> 1483\u001b[0m     \u001b[38;5;28;01mreturn\u001b[39;00m \u001b[38;5;28;43mself\u001b[39;49m\u001b[38;5;241;43m.\u001b[39;49m\u001b[43mconjugate_gradient_adaptive\u001b[49m\u001b[43m(\u001b[49m\u001b[43mlin\u001b[49m\u001b[43m,\u001b[49m\u001b[43m \u001b[49m\u001b[43my\u001b[49m\u001b[43m,\u001b[49m\u001b[43m \u001b[49m\u001b[43mx0\u001b[49m\u001b[43m,\u001b[49m\u001b[43m \u001b[49m\u001b[43mrtol\u001b[49m\u001b[43m,\u001b[49m\u001b[43m \u001b[49m\u001b[43matol\u001b[49m\u001b[43m,\u001b[49m\u001b[43m \u001b[49m\u001b[43mmax_iter\u001b[49m\u001b[43m,\u001b[49m\u001b[43m \u001b[49m\u001b[43mpre\u001b[49m\u001b[43m,\u001b[49m\u001b[43m \u001b[49m\u001b[43mmatrix_offset\u001b[49m\u001b[43m)\u001b[49m\n\u001b[1;32m   1484\u001b[0m \u001b[38;5;28;01melif\u001b[39;00m method \u001b[38;5;129;01min\u001b[39;00m [\u001b[38;5;124m'\u001b[39m\u001b[38;5;124mbiCG\u001b[39m\u001b[38;5;124m'\u001b[39m, \u001b[38;5;124m'\u001b[39m\u001b[38;5;124mbiCG-stab(0)\u001b[39m\u001b[38;5;124m'\u001b[39m]:\n\u001b[1;32m   1485\u001b[0m     \u001b[38;5;28;01mreturn\u001b[39;00m \u001b[38;5;28mself\u001b[39m\u001b[38;5;241m.\u001b[39mbi_conjugate_gradient(lin, y, x0, rtol, atol, max_iter, pre, matrix_offset, poly_order\u001b[38;5;241m=\u001b[39m\u001b[38;5;241m0\u001b[39m)\n",
      "File \u001b[0;32m/usr/local/lib/python3.10/dist-packages/phiml/backend/torch/_torch_backend.py:916\u001b[0m, in \u001b[0;36mTorchBackend.conjugate_gradient_adaptive\u001b[0;34m(self, lin, y, x0, rtol, atol, max_iter, pre, matrix_offset)\u001b[0m\n\u001b[1;32m    914\u001b[0m     \u001b[38;5;28;01mif\u001b[39;00m \u001b[38;5;129;01mnot\u001b[39;00m \u001b[38;5;28mself\u001b[39m\u001b[38;5;241m.\u001b[39mis_available(y):\n\u001b[1;32m    915\u001b[0m         warnings\u001b[38;5;241m.\u001b[39mwarn(\u001b[38;5;124mf\u001b[39m\u001b[38;5;124m\"\u001b[39m\u001b[38;5;124mCG with preconditioners is not optimized for PyTorch and will always run the maximum number of iterations when JIT-compiled (max_iter=\u001b[39m\u001b[38;5;132;01m{\u001b[39;00mmax_iter\u001b[38;5;132;01m}\u001b[39;00m\u001b[38;5;124m).\u001b[39m\u001b[38;5;124m\"\u001b[39m, \u001b[38;5;167;01mRuntimeWarning\u001b[39;00m)\n\u001b[0;32m--> 916\u001b[0m     \u001b[38;5;28;01mreturn\u001b[39;00m \u001b[43mBackend\u001b[49m\u001b[38;5;241;43m.\u001b[39;49m\u001b[43mconjugate_gradient_adaptive\u001b[49m\u001b[43m(\u001b[49m\u001b[38;5;28;43mself\u001b[39;49m\u001b[43m,\u001b[49m\u001b[43m \u001b[49m\u001b[43mlin\u001b[49m\u001b[43m,\u001b[49m\u001b[43m \u001b[49m\u001b[43my\u001b[49m\u001b[43m,\u001b[49m\u001b[43m \u001b[49m\u001b[43mx0\u001b[49m\u001b[43m,\u001b[49m\u001b[43m \u001b[49m\u001b[43mrtol\u001b[49m\u001b[43m,\u001b[49m\u001b[43m \u001b[49m\u001b[43matol\u001b[49m\u001b[43m,\u001b[49m\u001b[43m \u001b[49m\u001b[43mmax_iter\u001b[49m\u001b[43m,\u001b[49m\u001b[43m \u001b[49m\u001b[43mpre\u001b[49m\u001b[43m,\u001b[49m\u001b[43m \u001b[49m\u001b[43mmatrix_offset\u001b[49m\u001b[43m)\u001b[49m\n\u001b[1;32m    917\u001b[0m \u001b[38;5;28;01massert\u001b[39;00m \u001b[38;5;28misinstance\u001b[39m(lin, torch\u001b[38;5;241m.\u001b[39mTensor), \u001b[38;5;124m\"\u001b[39m\u001b[38;5;124mBatched matrices are not yet supported\u001b[39m\u001b[38;5;124m\"\u001b[39m\n\u001b[1;32m    918\u001b[0m batch_size \u001b[38;5;241m=\u001b[39m \u001b[38;5;28mself\u001b[39m\u001b[38;5;241m.\u001b[39mstaticshape(y)[\u001b[38;5;241m0\u001b[39m]\n",
      "File \u001b[0;32m/usr/local/lib/python3.10/dist-packages/phiml/backend/_backend.py:1502\u001b[0m, in \u001b[0;36mBackend.conjugate_gradient_adaptive\u001b[0;34m(self, lin, y, x0, rtol, atol, max_iter, pre, matrix_offset)\u001b[0m\n\u001b[1;32m   1500\u001b[0m \u001b[38;5;250m\u001b[39m\u001b[38;5;124;03m\"\"\" Conjugate gradient algorithm with adaptive step size. Signature matches to `Backend.linear_solve()`. \"\"\"\u001b[39;00m\n\u001b[1;32m   1501\u001b[0m \u001b[38;5;28;01mfrom\u001b[39;00m\u001b[38;5;250m \u001b[39m\u001b[38;5;21;01m.\u001b[39;00m\u001b[38;5;21;01m_linalg\u001b[39;00m\u001b[38;5;250m \u001b[39m\u001b[38;5;28;01mimport\u001b[39;00m cg_adaptive\n\u001b[0;32m-> 1502\u001b[0m \u001b[38;5;28;01mreturn\u001b[39;00m \u001b[43mcg_adaptive\u001b[49m\u001b[43m(\u001b[49m\u001b[38;5;28;43mself\u001b[39;49m\u001b[43m,\u001b[49m\u001b[43m \u001b[49m\u001b[43mlin\u001b[49m\u001b[43m,\u001b[49m\u001b[43m \u001b[49m\u001b[43my\u001b[49m\u001b[43m,\u001b[49m\u001b[43m \u001b[49m\u001b[43mx0\u001b[49m\u001b[43m,\u001b[49m\u001b[43m \u001b[49m\u001b[43mrtol\u001b[49m\u001b[43m,\u001b[49m\u001b[43m \u001b[49m\u001b[43matol\u001b[49m\u001b[43m,\u001b[49m\u001b[43m \u001b[49m\u001b[43mmax_iter\u001b[49m\u001b[43m,\u001b[49m\u001b[43m \u001b[49m\u001b[43mpre\u001b[49m\u001b[43m,\u001b[49m\u001b[43m \u001b[49m\u001b[43mmatrix_offset\u001b[49m\u001b[43m)\u001b[49m\n",
      "File \u001b[0;32m/usr/local/lib/python3.10/dist-packages/phiml/backend/_linalg.py:104\u001b[0m, in \u001b[0;36mcg_adaptive\u001b[0;34m(b, lin, y, x0, rtol, atol, max_iter, pre, matrix_offset)\u001b[0m\n\u001b[1;32m    102\u001b[0m batch_size \u001b[38;5;241m=\u001b[39m b\u001b[38;5;241m.\u001b[39mstaticshape(y)[\u001b[38;5;241m0\u001b[39m]\n\u001b[1;32m    103\u001b[0m x \u001b[38;5;241m=\u001b[39m x0\n\u001b[0;32m--> 104\u001b[0m dx \u001b[38;5;241m=\u001b[39m residual \u001b[38;5;241m=\u001b[39m y \u001b[38;5;241m-\u001b[39m \u001b[43mlinear\u001b[49m\u001b[43m(\u001b[49m\u001b[43mb\u001b[49m\u001b[43m,\u001b[49m\u001b[43m \u001b[49m\u001b[43mlin\u001b[49m\u001b[43m,\u001b[49m\u001b[43m \u001b[49m\u001b[43mx\u001b[49m\u001b[43m,\u001b[49m\u001b[43m \u001b[49m\u001b[43mmatrix_offset\u001b[49m\u001b[43m)\u001b[49m\n\u001b[1;32m    105\u001b[0m dy \u001b[38;5;241m=\u001b[39m linear(b, lin, dx, matrix_offset)\n\u001b[1;32m    106\u001b[0m iterations \u001b[38;5;241m=\u001b[39m b\u001b[38;5;241m.\u001b[39mzeros([batch_size], INT32)\n",
      "File \u001b[0;32m/usr/local/lib/python3.10/dist-packages/phiml/backend/_linalg.py:831\u001b[0m, in \u001b[0;36mlinear\u001b[0;34m(b, lin, vector, matrix_offset, get_without_offset)\u001b[0m\n\u001b[1;32m    829\u001b[0m \u001b[38;5;28;01mdef\u001b[39;00m\u001b[38;5;250m \u001b[39m\u001b[38;5;21mlinear\u001b[39m(b: Backend, lin, vector, matrix_offset, get_without_offset\u001b[38;5;241m=\u001b[39m\u001b[38;5;28;01mFalse\u001b[39;00m):\n\u001b[1;32m    830\u001b[0m \u001b[38;5;250m    \u001b[39m\u001b[38;5;124;03m\"\"\"Apply linear function with matrix offset to vector, i.e. `(lin+matrix_offset) @ vector`\"\"\"\u001b[39;00m\n\u001b[0;32m--> 831\u001b[0m     result \u001b[38;5;241m=\u001b[39m result_wo_offset \u001b[38;5;241m=\u001b[39m \u001b[43mb\u001b[49m\u001b[38;5;241;43m.\u001b[39;49m\u001b[43mlinear\u001b[49m\u001b[43m(\u001b[49m\u001b[43mlin\u001b[49m\u001b[43m,\u001b[49m\u001b[43m \u001b[49m\u001b[43mvector\u001b[49m\u001b[43m)\u001b[49m\n\u001b[1;32m    832\u001b[0m     \u001b[38;5;28;01mif\u001b[39;00m matrix_offset \u001b[38;5;129;01mis\u001b[39;00m \u001b[38;5;129;01mnot\u001b[39;00m \u001b[38;5;28;01mNone\u001b[39;00m:\n\u001b[1;32m    833\u001b[0m         result \u001b[38;5;241m+\u001b[39m\u001b[38;5;241m=\u001b[39m b\u001b[38;5;241m.\u001b[39msum(vector, \u001b[38;5;241m1\u001b[39m, keepdims\u001b[38;5;241m=\u001b[39m\u001b[38;5;28;01mTrue\u001b[39;00m) \u001b[38;5;241m*\u001b[39m matrix_offset[:, \u001b[38;5;28;01mNone\u001b[39;00m]\n",
      "File \u001b[0;32m/usr/local/lib/python3.10/dist-packages/phiml/backend/_backend.py:1511\u001b[0m, in \u001b[0;36mBackend.linear\u001b[0;34m(self, lin, vector)\u001b[0m\n\u001b[1;32m   1509\u001b[0m \u001b[38;5;28;01mdef\u001b[39;00m\u001b[38;5;250m \u001b[39m\u001b[38;5;21mlinear\u001b[39m(\u001b[38;5;28mself\u001b[39m, lin, vector):\n\u001b[1;32m   1510\u001b[0m     \u001b[38;5;28;01mif\u001b[39;00m \u001b[38;5;28mcallable\u001b[39m(lin):\n\u001b[0;32m-> 1511\u001b[0m         \u001b[38;5;28;01mreturn\u001b[39;00m \u001b[43mlin\u001b[49m\u001b[43m(\u001b[49m\u001b[43mvector\u001b[49m\u001b[43m)\u001b[49m\n\u001b[1;32m   1512\u001b[0m     \u001b[38;5;28;01melif\u001b[39;00m \u001b[38;5;28misinstance\u001b[39m(lin, (\u001b[38;5;28mtuple\u001b[39m, \u001b[38;5;28mlist\u001b[39m)):\n\u001b[1;32m   1513\u001b[0m         \u001b[38;5;28;01mfor\u001b[39;00m lin_i \u001b[38;5;129;01min\u001b[39;00m lin:\n",
      "File \u001b[0;32m/usr/local/lib/python3.10/dist-packages/phiml/math/_optimize.py:689\u001b[0m, in \u001b[0;36msolve_linear.<locals>._function_solve_forward.<locals>.native_lin_f\u001b[0;34m(native_x, batch_index)\u001b[0m\n\u001b[1;32m    687\u001b[0m     native_x \u001b[38;5;241m=\u001b[39m backend\u001b[38;5;241m.\u001b[39mtile(backend\u001b[38;5;241m.\u001b[39mexpand_dims(native_x), [batches\u001b[38;5;241m.\u001b[39mvolume, \u001b[38;5;241m1\u001b[39m])\n\u001b[1;32m    688\u001b[0m x \u001b[38;5;241m=\u001b[39m assemble_tree(x0_nest, [reshaped_tensor(native_x, [batches, non_batch(x0_tensor)] \u001b[38;5;28;01mif\u001b[39;00m backend\u001b[38;5;241m.\u001b[39mndims(native_x) \u001b[38;5;241m>\u001b[39m\u001b[38;5;241m=\u001b[39m \u001b[38;5;241m2\u001b[39m \u001b[38;5;28;01melse\u001b[39;00m [non_batch(x0_tensor)], convert\u001b[38;5;241m=\u001b[39m\u001b[38;5;28;01mFalse\u001b[39;00m)], attr_type\u001b[38;5;241m=\u001b[39mvariable_attributes)\n\u001b[0;32m--> 689\u001b[0m y_ \u001b[38;5;241m=\u001b[39m \u001b[43mf\u001b[49m\u001b[43m(\u001b[49m\u001b[43mx\u001b[49m\u001b[43m,\u001b[49m\u001b[43m \u001b[49m\u001b[38;5;241;43m*\u001b[39;49m\u001b[43mf_args\u001b[49m\u001b[43m,\u001b[49m\u001b[43m \u001b[49m\u001b[38;5;241;43m*\u001b[39;49m\u001b[38;5;241;43m*\u001b[39;49m\u001b[43mf_kwargs\u001b[49m\u001b[43m)\u001b[49m\n\u001b[1;32m    690\u001b[0m _, (y_tensor_,) \u001b[38;5;241m=\u001b[39m disassemble_tree(y_, cache\u001b[38;5;241m=\u001b[39m\u001b[38;5;28;01mFalse\u001b[39;00m, attr_type\u001b[38;5;241m=\u001b[39mvalue_attributes)\n\u001b[1;32m    691\u001b[0m \u001b[38;5;28;01massert\u001b[39;00m \u001b[38;5;28mset\u001b[39m(non_batch(y_tensor_)) \u001b[38;5;241m==\u001b[39m \u001b[38;5;28mset\u001b[39m(non_batch(y_tensor)), \u001b[38;5;124mf\u001b[39m\u001b[38;5;124m\"\u001b[39m\u001b[38;5;124mFunction returned dimensions \u001b[39m\u001b[38;5;132;01m{\u001b[39;00my_tensor_\u001b[38;5;241m.\u001b[39mshape\u001b[38;5;132;01m}\u001b[39;00m\u001b[38;5;124m but right-hand-side has shape \u001b[39m\u001b[38;5;132;01m{\u001b[39;00my_tensor\u001b[38;5;241m.\u001b[39mshape\u001b[38;5;132;01m}\u001b[39;00m\u001b[38;5;124m\"\u001b[39m\n",
      "Cell \u001b[0;32mIn[574], line 77\u001b[0m, in \u001b[0;36mtwo_phase_flow.phi_w_momentum_eq\u001b[0;34m(self, phi_w, phi_o, dt)\u001b[0m\n\u001b[1;32m     73\u001b[0m o_advection_term \u001b[38;5;241m=\u001b[39m dt \u001b[38;5;241m*\u001b[39m advect\u001b[38;5;241m.\u001b[39msemi_lagrangian((phi_w),\n\u001b[1;32m     74\u001b[0m                                                 \u001b[38;5;28mself\u001b[39m\u001b[38;5;241m.\u001b[39mcompute_convective_velocity(phi_o,phi_w,dK_o),\n\u001b[1;32m     75\u001b[0m                                                 dt)\u001b[38;5;241m.\u001b[39msample(phi_w\u001b[38;5;241m.\u001b[39mgeometry)\n\u001b[1;32m     76\u001b[0m w_diffusion_term \u001b[38;5;241m=\u001b[39m dt \u001b[38;5;241m*\u001b[39m anisotropic_diffusion\u001b[38;5;241m.\u001b[39mimplicit(phi_w,K_w(p_c), dt\u001b[38;5;241m=\u001b[39mdt,correct_skew\u001b[38;5;241m=\u001b[39m\u001b[38;5;28;01mFalse\u001b[39;00m)\u001b[38;5;241m.\u001b[39msample(phi_w\u001b[38;5;241m.\u001b[39mgeometry)\n\u001b[0;32m---> 77\u001b[0m o_diffusion_term \u001b[38;5;241m=\u001b[39m dt \u001b[38;5;241m*\u001b[39m \u001b[43manisotropic_diffusion\u001b[49m\u001b[38;5;241;43m.\u001b[39;49m\u001b[43mimplicit\u001b[49m\u001b[43m(\u001b[49m\u001b[43mphi_o\u001b[49m\u001b[43m,\u001b[49m\u001b[43mK_o\u001b[49m\u001b[43m(\u001b[49m\u001b[43mp_c\u001b[49m\u001b[43m)\u001b[49m\u001b[43m,\u001b[49m\u001b[43m \u001b[49m\u001b[43mdt\u001b[49m\u001b[38;5;241;43m=\u001b[39;49m\u001b[43mdt\u001b[49m\u001b[43m,\u001b[49m\u001b[43mcorrect_skew\u001b[49m\u001b[38;5;241;43m=\u001b[39;49m\u001b[38;5;28;43;01mFalse\u001b[39;49;00m\u001b[43m)\u001b[49m\u001b[38;5;241m.\u001b[39msample(phi_w\u001b[38;5;241m.\u001b[39mgeometry)\n\u001b[1;32m     79\u001b[0m \u001b[38;5;28;01mreturn\u001b[39;00m phi_w \u001b[38;5;241m+\u001b[39m phi_w\u001b[38;5;241m.\u001b[39mwith_values(w_advection_term \u001b[38;5;241m+\u001b[39m o_advection_term) \u001b[38;5;241m+\u001b[39m phi_w\u001b[38;5;241m.\u001b[39mwith_values(w_diffusion_term \u001b[38;5;241m-\u001b[39m o_diffusion_term)\n",
      "File \u001b[0;32m~/PhysicsSimulationDeepLearning/Physical_models/anisotropic_diffusion.py:96\u001b[0m, in \u001b[0;36mimplicit\u001b[0;34m(field, diffusivity, dt, solve, gradient, upwind, correct_skew, gradient_for_diffusivity)\u001b[0m\n\u001b[1;32m     94\u001b[0m \u001b[38;5;28;01mif\u001b[39;00m \u001b[38;5;129;01mnot\u001b[39;00m solve\u001b[38;5;241m.\u001b[39mx0:\n\u001b[1;32m     95\u001b[0m     solve \u001b[38;5;241m=\u001b[39m copy_with(solve, x0\u001b[38;5;241m=\u001b[39mfield)\n\u001b[0;32m---> 96\u001b[0m \u001b[38;5;28;01mreturn\u001b[39;00m \u001b[43msolve_linear\u001b[49m\u001b[43m(\u001b[49m\u001b[43msharpen\u001b[49m\u001b[43m,\u001b[49m\u001b[43m \u001b[49m\u001b[43my\u001b[49m\u001b[38;5;241;43m=\u001b[39;49m\u001b[43mfield\u001b[49m\u001b[43m,\u001b[49m\u001b[43m \u001b[49m\u001b[43msolve\u001b[49m\u001b[38;5;241;43m=\u001b[39;49m\u001b[43msolve\u001b[49m\u001b[43m,\u001b[49m\u001b[43m \u001b[49m\u001b[43mgrad_for_f\u001b[49m\u001b[38;5;241;43m=\u001b[39;49m\u001b[43mgradient_for_diffusivity\u001b[49m\u001b[43m)\u001b[49m\n",
      "File \u001b[0;32m/usr/local/lib/python3.10/dist-packages/phiml/math/_optimize.py:671\u001b[0m, in \u001b[0;36msolve_linear\u001b[0;34m(f, y, solve, grad_for_f, f_kwargs, *f_args, **f_kwargs_)\u001b[0m\n\u001b[1;32m    668\u001b[0m         \u001b[38;5;28;01mreturn\u001b[39;00m result  \u001b[38;5;66;03m# must return exactly `x` so gradient isn't computed w.r.t. other quantities\u001b[39;00m\n\u001b[1;32m    670\u001b[0m     _matrix_solve \u001b[38;5;241m=\u001b[39m attach_gradient_solve(_matrix_solve_forward, auxiliary_args\u001b[38;5;241m=\u001b[39m\u001b[38;5;124mf\u001b[39m\u001b[38;5;124m'\u001b[39m\u001b[38;5;124mis_backprop,solve\u001b[39m\u001b[38;5;132;01m{\u001b[39;00m\u001b[38;5;124m\"\u001b[39m\u001b[38;5;124m,matrix\u001b[39m\u001b[38;5;124m\"\u001b[39m\u001b[38;5;250m \u001b[39m\u001b[38;5;28;01mif\u001b[39;00m\u001b[38;5;250m \u001b[39mmatrix\u001b[38;5;241m.\u001b[39mbackend\u001b[38;5;250m \u001b[39m\u001b[38;5;241m==\u001b[39m\u001b[38;5;250m \u001b[39mNUMPY\u001b[38;5;250m \u001b[39m\u001b[38;5;28;01melse\u001b[39;00m\u001b[38;5;250m \u001b[39m\u001b[38;5;124m\"\u001b[39m\u001b[38;5;124m\"\u001b[39m\u001b[38;5;132;01m}\u001b[39;00m\u001b[38;5;124m'\u001b[39m, matrix_adjoint\u001b[38;5;241m=\u001b[39mgrad_for_f)\n\u001b[0;32m--> 671\u001b[0m     \u001b[38;5;28;01mreturn\u001b[39;00m \u001b[43m_matrix_solve\u001b[49m\u001b[43m(\u001b[49m\u001b[43my\u001b[49m\u001b[43m \u001b[49m\u001b[38;5;241;43m-\u001b[39;49m\u001b[43m \u001b[49m\u001b[43mbias\u001b[49m\u001b[43m,\u001b[49m\u001b[43m \u001b[49m\u001b[43msolve\u001b[49m\u001b[43m,\u001b[49m\u001b[43m \u001b[49m\u001b[43mmatrix\u001b[49m\u001b[43m)\u001b[49m\n\u001b[1;32m    672\u001b[0m \u001b[38;5;28;01melse\u001b[39;00m:  \u001b[38;5;66;03m# Matrix-free solve\u001b[39;00m\n\u001b[1;32m    673\u001b[0m     f_args \u001b[38;5;241m=\u001b[39m cached(f_args)\n",
      "File \u001b[0;32m/usr/local/lib/python3.10/dist-packages/phiml/math/_functional.py:963\u001b[0m, in \u001b[0;36mCustomGradientFunction.__call__\u001b[0;34m(self, *args, **kwargs)\u001b[0m\n\u001b[1;32m    958\u001b[0m             \u001b[38;5;28;01mif\u001b[39;00m \u001b[38;5;28mlen\u001b[39m(\u001b[38;5;28mself\u001b[39m\u001b[38;5;241m.\u001b[39mtraces) \u001b[38;5;241m>\u001b[39m\u001b[38;5;241m=\u001b[39m \u001b[38;5;241m8\u001b[39m:\n\u001b[1;32m    959\u001b[0m                 warnings\u001b[38;5;241m.\u001b[39mwarn(\u001b[38;5;124mf\u001b[39m\u001b[38;5;124m\"\"\"\u001b[39m\u001b[38;5;132;01m{\u001b[39;00m\u001b[38;5;28mself\u001b[39m\u001b[38;5;241m.\u001b[39m\u001b[38;5;18m__name__\u001b[39m\u001b[38;5;132;01m}\u001b[39;00m\u001b[38;5;124m has been traced \u001b[39m\u001b[38;5;132;01m{\u001b[39;00m\u001b[38;5;28mlen\u001b[39m(\u001b[38;5;28mself\u001b[39m\u001b[38;5;241m.\u001b[39mtraces)\u001b[38;5;132;01m}\u001b[39;00m\u001b[38;5;124m times.\u001b[39m\n\u001b[1;32m    960\u001b[0m \u001b[38;5;124mTo avoid memory leaks, call \u001b[39m\u001b[38;5;132;01m{\u001b[39;00mf_name(\u001b[38;5;28mself\u001b[39m\u001b[38;5;241m.\u001b[39mf)\u001b[38;5;132;01m}\u001b[39;00m\u001b[38;5;124m.traces.clear(), \u001b[39m\u001b[38;5;132;01m{\u001b[39;00mf_name(\u001b[38;5;28mself\u001b[39m\u001b[38;5;241m.\u001b[39mf)\u001b[38;5;132;01m}\u001b[39;00m\u001b[38;5;124m.recorded_mappings.clear().\u001b[39m\n\u001b[1;32m    961\u001b[0m \u001b[38;5;124mTraces can be avoided by jit-compiling the code that calls custom gradient functions.\u001b[39m\n\u001b[1;32m    962\u001b[0m \u001b[38;5;124m\"\"\"\u001b[39m, \u001b[38;5;167;01mRuntimeWarning\u001b[39;00m, stacklevel\u001b[38;5;241m=\u001b[39m\u001b[38;5;241m2\u001b[39m)\n\u001b[0;32m--> 963\u001b[0m         native_result \u001b[38;5;241m=\u001b[39m \u001b[38;5;28;43mself\u001b[39;49m\u001b[38;5;241;43m.\u001b[39;49m\u001b[43mtraces\u001b[49m\u001b[43m[\u001b[49m\u001b[43mkey\u001b[49m\u001b[43m]\u001b[49m\u001b[43m(\u001b[49m\u001b[38;5;241;43m*\u001b[39;49m\u001b[43mnatives\u001b[49m\u001b[43m)\u001b[49m  \u001b[38;5;66;03m# With PyTorch + jit, this does not call forward_native every time\u001b[39;00m\n\u001b[1;32m    964\u001b[0m         output_key \u001b[38;5;241m=\u001b[39m match_output_signature(key, \u001b[38;5;28mself\u001b[39m\u001b[38;5;241m.\u001b[39mrecorded_mappings, \u001b[38;5;28mself\u001b[39m)\n\u001b[1;32m    965\u001b[0m         output_tensors \u001b[38;5;241m=\u001b[39m assemble_tensors(native_result, output_key\u001b[38;5;241m.\u001b[39mspecs)\n",
      "File \u001b[0;32m/usr/local/lib/python3.10/dist-packages/phiml/backend/torch/_torch_backend.py:251\u001b[0m, in \u001b[0;36mTorchBackend.custom_gradient.<locals>.select_jit\u001b[0;34m(*args)\u001b[0m\n\u001b[1;32m    249\u001b[0m args \u001b[38;5;241m=\u001b[39m [\u001b[38;5;28mself\u001b[39m\u001b[38;5;241m.\u001b[39mas_tensor(arg) \u001b[38;5;28;01mfor\u001b[39;00m arg \u001b[38;5;129;01min\u001b[39;00m args]\n\u001b[1;32m    250\u001b[0m \u001b[38;5;28;01mif\u001b[39;00m \u001b[38;5;129;01mnot\u001b[39;00m CURRENT_JIT_CALLS:\n\u001b[0;32m--> 251\u001b[0m     \u001b[38;5;28;01mreturn\u001b[39;00m \u001b[43mtorch_function\u001b[49m\u001b[38;5;241;43m.\u001b[39;49m\u001b[43mapply\u001b[49m\u001b[43m(\u001b[49m\u001b[38;5;241;43m*\u001b[39;49m\u001b[43margs\u001b[49m\u001b[43m)\u001b[49m\n\u001b[1;32m    252\u001b[0m jit \u001b[38;5;241m=\u001b[39m CURRENT_JIT_CALLS[\u001b[38;5;241m-\u001b[39m\u001b[38;5;241m1\u001b[39m]\n\u001b[1;32m    253\u001b[0m \u001b[38;5;28;01mif\u001b[39;00m torch\u001b[38;5;241m.\u001b[39m_C\u001b[38;5;241m.\u001b[39m_get_tracing_state() \u001b[38;5;129;01mis\u001b[39;00m \u001b[38;5;28;01mNone\u001b[39;00m:  \u001b[38;5;66;03m# first call: record this function\u001b[39;00m\n",
      "File \u001b[0;32m/usr/local/lib/python3.10/dist-packages/torch/autograd/function.py:575\u001b[0m, in \u001b[0;36mFunction.apply\u001b[0;34m(cls, *args, **kwargs)\u001b[0m\n\u001b[1;32m    572\u001b[0m \u001b[38;5;28;01mif\u001b[39;00m \u001b[38;5;129;01mnot\u001b[39;00m torch\u001b[38;5;241m.\u001b[39m_C\u001b[38;5;241m.\u001b[39m_are_functorch_transforms_active():\n\u001b[1;32m    573\u001b[0m     \u001b[38;5;66;03m# See NOTE: [functorch vjp and autograd interaction]\u001b[39;00m\n\u001b[1;32m    574\u001b[0m     args \u001b[38;5;241m=\u001b[39m _functorch\u001b[38;5;241m.\u001b[39mutils\u001b[38;5;241m.\u001b[39munwrap_dead_wrappers(args)\n\u001b[0;32m--> 575\u001b[0m     \u001b[38;5;28;01mreturn\u001b[39;00m \u001b[38;5;28;43msuper\u001b[39;49m\u001b[43m(\u001b[49m\u001b[43m)\u001b[49m\u001b[38;5;241;43m.\u001b[39;49m\u001b[43mapply\u001b[49m\u001b[43m(\u001b[49m\u001b[38;5;241;43m*\u001b[39;49m\u001b[43margs\u001b[49m\u001b[43m,\u001b[49m\u001b[43m \u001b[49m\u001b[38;5;241;43m*\u001b[39;49m\u001b[38;5;241;43m*\u001b[39;49m\u001b[43mkwargs\u001b[49m\u001b[43m)\u001b[49m  \u001b[38;5;66;03m# type: ignore[misc]\u001b[39;00m\n\u001b[1;32m    577\u001b[0m \u001b[38;5;28;01mif\u001b[39;00m \u001b[38;5;129;01mnot\u001b[39;00m is_setup_ctx_defined:\n\u001b[1;32m    578\u001b[0m     \u001b[38;5;28;01mraise\u001b[39;00m \u001b[38;5;167;01mRuntimeError\u001b[39;00m(\n\u001b[1;32m    579\u001b[0m         \u001b[38;5;124m\"\u001b[39m\u001b[38;5;124mIn order to use an autograd.Function with functorch transforms \u001b[39m\u001b[38;5;124m\"\u001b[39m\n\u001b[1;32m    580\u001b[0m         \u001b[38;5;124m\"\u001b[39m\u001b[38;5;124m(vmap, grad, jvp, jacrev, ...), it must override the setup_context \u001b[39m\u001b[38;5;124m\"\u001b[39m\n\u001b[1;32m    581\u001b[0m         \u001b[38;5;124m\"\u001b[39m\u001b[38;5;124mstaticmethod. For more details, please see \u001b[39m\u001b[38;5;124m\"\u001b[39m\n\u001b[1;32m    582\u001b[0m         \u001b[38;5;124m\"\u001b[39m\u001b[38;5;124mhttps://pytorch.org/docs/main/notes/extending.func.html\u001b[39m\u001b[38;5;124m\"\u001b[39m\n\u001b[1;32m    583\u001b[0m     )\n",
      "File \u001b[0;32m/usr/local/lib/python3.10/dist-packages/phiml/backend/torch/_torch_backend.py:1206\u001b[0m, in \u001b[0;36mconstruct_torch_custom_function.<locals>.TorchCustomFunction.forward\u001b[0;34m(ctx, *args, **kwargs)\u001b[0m\n\u001b[1;32m   1204\u001b[0m     \u001b[38;5;28;01mreturn\u001b[39;00m f_example_output\n\u001b[1;32m   1205\u001b[0m ML_LOGGER\u001b[38;5;241m.\u001b[39mdebug(\u001b[38;5;124mf\u001b[39m\u001b[38;5;124m\"\u001b[39m\u001b[38;5;124mTorchScript -> run compiled \u001b[39m\u001b[38;5;132;01m{\u001b[39;00mf\u001b[38;5;241m.\u001b[39m\u001b[38;5;18m__name__\u001b[39m\u001b[38;5;132;01m}\u001b[39;00m\u001b[38;5;124m with args \u001b[39m\u001b[38;5;132;01m{\u001b[39;00m[(\u001b[38;5;28mtuple\u001b[39m(a\u001b[38;5;241m.\u001b[39mshape),\u001b[38;5;250m \u001b[39ma\u001b[38;5;241m.\u001b[39mrequires_grad)\u001b[38;5;250m \u001b[39m\u001b[38;5;28;01mfor\u001b[39;00m\u001b[38;5;250m \u001b[39ma\u001b[38;5;250m \u001b[39m\u001b[38;5;129;01min\u001b[39;00m\u001b[38;5;250m \u001b[39margs]\u001b[38;5;132;01m}\u001b[39;00m\u001b[38;5;124m\"\u001b[39m)\n\u001b[0;32m-> 1206\u001b[0m y \u001b[38;5;241m=\u001b[39m \u001b[43m(\u001b[49m\u001b[43mjit_f\u001b[49m\u001b[43m \u001b[49m\u001b[38;5;129;43;01mor\u001b[39;49;00m\u001b[43m \u001b[49m\u001b[43mf\u001b[49m\u001b[43m)\u001b[49m\u001b[43m(\u001b[49m\u001b[38;5;241;43m*\u001b[39;49m\u001b[43margs\u001b[49m\u001b[43m,\u001b[49m\u001b[43m \u001b[49m\u001b[38;5;241;43m*\u001b[39;49m\u001b[38;5;241;43m*\u001b[39;49m\u001b[43mkwargs\u001b[49m\u001b[43m)\u001b[49m\n\u001b[1;32m   1207\u001b[0m ctx\u001b[38;5;241m.\u001b[39msave_for_backward(\u001b[38;5;241m*\u001b[39margs, \u001b[38;5;241m*\u001b[39my)\n\u001b[1;32m   1208\u001b[0m ctx\u001b[38;5;241m.\u001b[39minput_count \u001b[38;5;241m=\u001b[39m \u001b[38;5;28mlen\u001b[39m(args)\n",
      "File \u001b[0;32m/usr/local/lib/python3.10/dist-packages/phiml/math/_functional.py:919\u001b[0m, in \u001b[0;36mCustomGradientFunction._trace.<locals>.forward_native\u001b[0;34m(*natives)\u001b[0m\n\u001b[1;32m    917\u001b[0m kwargs \u001b[38;5;241m=\u001b[39m assemble_tree(in_key\u001b[38;5;241m.\u001b[39mtree, in_tensors, attr_type\u001b[38;5;241m=\u001b[39mvariable_attributes)\n\u001b[1;32m    918\u001b[0m ML_LOGGER\u001b[38;5;241m.\u001b[39mdebug(\u001b[38;5;124mf\u001b[39m\u001b[38;5;124m\"\u001b[39m\u001b[38;5;124mRunning forward pass of custom op \u001b[39m\u001b[38;5;132;01m{\u001b[39;00mforward_native\u001b[38;5;241m.\u001b[39m\u001b[38;5;18m__name__\u001b[39m\u001b[38;5;132;01m}\u001b[39;00m\u001b[38;5;124m given args \u001b[39m\u001b[38;5;132;01m{\u001b[39;00m\u001b[38;5;28mtuple\u001b[39m(kwargs\u001b[38;5;241m.\u001b[39mkeys())\u001b[38;5;132;01m}\u001b[39;00m\u001b[38;5;124m containing \u001b[39m\u001b[38;5;132;01m{\u001b[39;00m\u001b[38;5;28mlen\u001b[39m(natives)\u001b[38;5;132;01m}\u001b[39;00m\u001b[38;5;124m native tensors\u001b[39m\u001b[38;5;124m\"\u001b[39m)\n\u001b[0;32m--> 919\u001b[0m result \u001b[38;5;241m=\u001b[39m \u001b[38;5;28;43mself\u001b[39;49m\u001b[38;5;241;43m.\u001b[39;49m\u001b[43mf\u001b[49m\u001b[43m(\u001b[49m\u001b[38;5;241;43m*\u001b[39;49m\u001b[38;5;241;43m*\u001b[39;49m\u001b[43mkwargs\u001b[49m\u001b[43m,\u001b[49m\u001b[43m \u001b[49m\u001b[38;5;241;43m*\u001b[39;49m\u001b[38;5;241;43m*\u001b[39;49m\u001b[43min_key\u001b[49m\u001b[38;5;241;43m.\u001b[39;49m\u001b[43mauxiliary_kwargs\u001b[49m\u001b[43m)\u001b[49m  \u001b[38;5;66;03m# Tensor or tuple/list of Tensors\u001b[39;00m\n\u001b[1;32m    920\u001b[0m nest, out_tensors \u001b[38;5;241m=\u001b[39m disassemble_tree(result, cache\u001b[38;5;241m=\u001b[39m\u001b[38;5;28;01mTrue\u001b[39;00m, attr_type\u001b[38;5;241m=\u001b[39mvariable_attributes)\n\u001b[1;32m    921\u001b[0m result_natives, result_shapes, specs \u001b[38;5;241m=\u001b[39m disassemble_tensors(out_tensors, expand\u001b[38;5;241m=\u001b[39m\u001b[38;5;28;01mTrue\u001b[39;00m)\n",
      "File \u001b[0;32m/usr/local/lib/python3.10/dist-packages/phiml/math/_optimize.py:667\u001b[0m, in \u001b[0;36msolve_linear.<locals>._matrix_solve_forward\u001b[0;34m(y, solve, matrix, is_backprop)\u001b[0m\n\u001b[1;32m    665\u001b[0m     idx \u001b[38;5;241m=\u001b[39m b\u001b[38;5;241m.\u001b[39mconcat([idx, new_col, new_row], \u001b[38;5;241m0\u001b[39m)\n\u001b[1;32m    666\u001b[0m     nat_matrix \u001b[38;5;241m=\u001b[39m b\u001b[38;5;241m.\u001b[39msparse_coo_tensor(idx, data, (N\u001b[38;5;241m+\u001b[39m\u001b[38;5;241m1\u001b[39m, N\u001b[38;5;241m+\u001b[39m\u001b[38;5;241m1\u001b[39m))\n\u001b[0;32m--> 667\u001b[0m result \u001b[38;5;241m=\u001b[39m \u001b[43m_linear_solve_forward\u001b[49m\u001b[43m(\u001b[49m\u001b[43my\u001b[49m\u001b[43m,\u001b[49m\u001b[43m \u001b[49m\u001b[43msolve\u001b[49m\u001b[43m,\u001b[49m\u001b[43m \u001b[49m\u001b[43mnat_matrix\u001b[49m\u001b[43m,\u001b[49m\u001b[43m \u001b[49m\u001b[43mpattern_dims_in\u001b[49m\u001b[43m,\u001b[49m\u001b[43m \u001b[49m\u001b[43mpattern_dims_out\u001b[49m\u001b[43m,\u001b[49m\u001b[43m \u001b[49m\u001b[43mpreconditioner\u001b[49m\u001b[43m,\u001b[49m\u001b[43m \u001b[49m\u001b[43mbackend\u001b[49m\u001b[43m,\u001b[49m\u001b[43m \u001b[49m\u001b[43mis_backprop\u001b[49m\u001b[43m)\u001b[49m\n\u001b[1;32m    668\u001b[0m \u001b[38;5;28;01mreturn\u001b[39;00m result\n",
      "File \u001b[0;32m/usr/local/lib/python3.10/dist-packages/phiml/math/_optimize.py:780\u001b[0m, in \u001b[0;36m_linear_solve_forward\u001b[0;34m(y, solve, native_lin_op, pattern_dims_in, pattern_dims_out, preconditioner, backend, is_backprop)\u001b[0m\n\u001b[1;32m    778\u001b[0m \u001b[38;5;28;01mfor\u001b[39;00m tape \u001b[38;5;129;01min\u001b[39;00m _SOLVE_TAPES:\n\u001b[1;32m    779\u001b[0m     tape\u001b[38;5;241m.\u001b[39m_add(solve, trj, result)\n\u001b[0;32m--> 780\u001b[0m \u001b[43mresult\u001b[49m\u001b[38;5;241;43m.\u001b[39;49m\u001b[43mconvergence_check\u001b[49m\u001b[43m(\u001b[49m\u001b[43mis_backprop\u001b[49m\u001b[43m \u001b[49m\u001b[38;5;129;43;01mand\u001b[39;49;00m\u001b[43m \u001b[49m\u001b[38;5;124;43m'\u001b[39;49m\u001b[38;5;124;43mTensorFlow\u001b[39;49m\u001b[38;5;124;43m'\u001b[39;49m\u001b[43m \u001b[49m\u001b[38;5;129;43;01min\u001b[39;49;00m\u001b[43m \u001b[49m\u001b[43mbackend\u001b[49m\u001b[38;5;241;43m.\u001b[39;49m\u001b[43mname\u001b[49m\u001b[43m)\u001b[49m  \u001b[38;5;66;03m# raises ConvergenceException\u001b[39;00m\n\u001b[1;32m    781\u001b[0m \u001b[38;5;28;01mreturn\u001b[39;00m final_x\n",
      "File \u001b[0;32m/usr/local/lib/python3.10/dist-packages/phiml/math/_optimize.py:208\u001b[0m, in \u001b[0;36mSolveInfo.convergence_check\u001b[0;34m(self, only_warn)\u001b[0m\n\u001b[1;32m    206\u001b[0m     warnings\u001b[38;5;241m.\u001b[39mwarn(\u001b[38;5;28mself\u001b[39m\u001b[38;5;241m.\u001b[39mmsg, ConvergenceWarning)\n\u001b[1;32m    207\u001b[0m \u001b[38;5;28;01melse\u001b[39;00m:\n\u001b[0;32m--> 208\u001b[0m     \u001b[38;5;28;01mraise\u001b[39;00m NotConverged(\u001b[38;5;28mself\u001b[39m)\n",
      "\u001b[0;31mNotConverged\u001b[0m: Φ-ML CG (PyTorch*) did not converge to rel_tol=1e-05, abs_tol=1e-05 within 1000 iterations. Max residual: nan"
     ]
    }
   ],
   "source": [
    "for i in range(1):\n",
    "    phi=phy.implicit_time_step(*phi,1e-5)"
   ]
  },
  {
   "cell_type": "code",
   "execution_count": null,
   "metadata": {},
   "outputs": [
    {
     "name": "stdout",
     "output_type": "stream",
     "text": [
      "\u001b[92m(xˢ=64, yˢ=64)\u001b[0m \u001b[94m-0.774 ± 5.948\u001b[0m \u001b[37m(-5e+01...0e+00)\u001b[0m\n"
     ]
    },
    {
     "data": {
      "image/png": "[encoded data removed]",
      "text/plain": [
       "<Figure size 640x480 with 1 Axes>"
      ]
     },
     "metadata": {},
     "output_type": "display_data"
    },
    {
     "name": "stdout",
     "output_type": "stream",
     "text": [
      "\u001b[92m(xˢ=64, yˢ=64)\u001b[0m \u001b[94mconst 0.0\u001b[0m\n"
     ]
    },
    {
     "data": {
      "image/png": "[encoded data removed]",
      "text/plain": [
       "<Figure size 640x480 with 1 Axes>"
      ]
     },
     "metadata": {},
     "output_type": "display_data"
    },
    {
     "name": "stdout",
     "output_type": "stream",
     "text": [
      "\u001b[92m(xˢ=64, yˢ=64)\u001b[0m \u001b[94m0.595 ± 0.127\u001b[0m \u001b[37m(3e-01...6e-01)\u001b[0m\n"
     ]
    },
    {
     "data": {
      "text/plain": [
       "\u001b[92m(xˢ=64, yˢ=64)\u001b[0m \u001b[94m-0.774 ± 5.948\u001b[0m \u001b[37m(-5e+01...0e+00)\u001b[0m"
      ]
     },
     "execution_count": 562,
     "metadata": {},
     "output_type": "execute_result"
    },
    {
     "data": {
      "image/png": "[encoded data removed]",
      "text/plain": [
       "<Figure size 640x480 with 1 Axes>"
      ]
     },
     "metadata": {},
     "output_type": "display_data"
    }
   ],
   "source": [
    "print(phi[0].sample(geo_w))\n",
    "plt.imshow(phi[0].sample(geo_w).native(\"x,y\"))\n",
    "plt.show()\n",
    "print(phi[1].sample(geo_w))\n",
    "plt.imshow(phi[1].sample(geo_o).native(\"x,y\"))\n",
    "plt.show()\n",
    "plt.imshow(S_w(phy.compute_p_c(*phi)))\n",
    "print(S_w(phy.compute_p_c(*phi)))\n",
    "\n",
    "phy.compute_p_c(*phi)"
   ]
  },
  {
   "cell_type": "code",
   "execution_count": 568,
   "metadata": {},
   "outputs": [
    {
     "name": "stdout",
     "output_type": "stream",
     "text": [
      "tensor([[0.3000, 0.3000, 0.3000,  ..., 0.3000, 0.3000, 0.3000],\n",
      "        [0.3000, 0.3000, 0.3000,  ..., 0.3000, 0.3000, 0.3000],\n",
      "        [0.3000, 0.3000, 0.3000,  ..., 0.3000, 0.3000, 0.3000],\n",
      "        ...,\n",
      "        [0.6500, 0.6500, 0.6500,  ..., 0.6500, 0.6500, 0.6500],\n",
      "        [0.6500, 0.6500, 0.6500,  ..., 0.6500, 0.6500, 0.6500],\n",
      "        [0.6500, 0.6500, 0.6500,  ..., 0.6500, 0.6500, 0.6500]])\n"
     ]
    }
   ],
   "source": [
    "print(S_w(phy.compute_p_c(*phi)).native(\"x,y\"))"
   ]
  },
  {
   "cell_type": "markdown",
   "metadata": {},
   "source": [
    "# Gradient Notes"
   ]
  },
  {
   "cell_type": "code",
   "execution_count": null,
   "metadata": {},
   "outputs": [],
   "source": [
    "import torch"
   ]
  },
  {
   "cell_type": "markdown",
   "metadata": {},
   "source": [
    "### Grandient example"
   ]
  },
  {
   "cell_type": "code",
   "execution_count": null,
   "metadata": {},
   "outputs": [
    {
     "name": "stdout",
     "output_type": "stream",
     "text": [
      "tensor([[[1., 1., 1.]],\n",
      "\n",
      "        [[1., 1., 1.]],\n",
      "\n",
      "        [[1., 1., 1.]]], requires_grad=True)\n",
      "tensor([[[1.0000, 1.8415, 0.5403, 1.0000]],\n",
      "\n",
      "        [[1.0000, 1.8415, 0.5403, 1.0000]],\n",
      "\n",
      "        [[1.0000, 1.8415, 0.5403, 1.0000]]], grad_fn=<StackBackward0>)\n",
      "torch.Size([3, 1, 4])\n"
     ]
    },
    {
     "data": {
      "text/plain": [
       "(tensor([[[0.1585, 2.5403, 0.0000]],\n",
       " \n",
       "         [[0.1585, 2.5403, 0.0000]],\n",
       " \n",
       "         [[0.1585, 2.5403, 0.0000]]], grad_fn=<AddBackward0>),)"
      ]
     },
     "execution_count": 194,
     "metadata": {},
     "output_type": "execute_result"
    }
   ],
   "source": [
    "x1 = torch.ones((3,1,3)).requires_grad_(True)  #\n",
    "print(x1)\n",
    "\n",
    "u1 = torch.stack([\n",
    "    x1[:,:,0]**0.5,\n",
    "    torch.sin(x1[:,:,1])+x1[:,:,0]**0.5,\n",
    "    torch.cos(x1[:,:,0]),\n",
    "    x1[:,:,1]**2,\n",
    "    ],axis=2)\n",
    "\n",
    "#u1 = torch.matmul(M,x1)\n",
    "\n",
    "\n",
    "#u1=torch.sin(torch.matmul(torch.rand(2,2).requires_grad_(True),x1))\n",
    "print(u1)\n",
    "print(u1.shape)\n",
    "torch.autograd.grad(\n",
    "    u1,x1,\n",
    "            grad_outputs=torch.ones_like(u1).to(u1.device),\n",
    "            create_graph=True,\n",
    "            retain_graph=True,\n",
    "            allow_unused=True\n",
    "            )"
   ]
  },
  {
   "cell_type": "markdown",
   "metadata": {},
   "source": [
    "### Jacobian computation\n",
    "\n",
    "Expressed in pytorch with torch.autograd.grad\n",
    "\n",
    "$$ \\textbf{u} \\in \\mathbb{R}^n \\\\ \\textbf{x},\\textbf{e}_i \\in \\mathbb{R}^m $$\n",
    "$$ T_{ag} (\\textbf{u},\\textbf{x},\\textbf{e}_i) = \\nabla_{\\textbf{x}} \\textbf{u}_i  $$\n",
    "$$ T_{ag} (\\textbf{u},\\textbf{x},\\textbf{e}_i) = \\nabla_{\\textbf{x}} \\textbf{u}_i  $$\n",
    "$$ T_{ag} (\\textbf{u},\\textbf{x},\\textbf{e}_i+\\textbf{e}_j) = \\nabla_{\\textbf{x}} \\textbf{u}_i + \\nabla_{\\textbf{x}} \\textbf{u}_j $$\n",
    "$$ [T_{ag} (\\textbf{u},\\textbf{x},\\textbf{e}_i)]_{i=1}^n = J_{\\textbf{x}}(\\textbf{u})$$\n"
   ]
  },
  {
   "cell_type": "code",
   "execution_count": null,
   "metadata": {},
   "outputs": [
    {
     "name": "stdout",
     "output_type": "stream",
     "text": [
      "tensor([[[1.0000, 1.8415, 0.5403, 1.0000]],\n",
      "\n",
      "        [[1.0000, 1.8415, 0.5403, 1.0000]],\n",
      "\n",
      "        [[1.0000, 1.8415, 0.5403, 1.0000]]], grad_fn=<StackBackward0>)\n",
      "[tensor([[[0.5000, 0.0000, 0.0000]],\n",
      "\n",
      "        [[0.5000, 0.0000, 0.0000]],\n",
      "\n",
      "        [[0.5000, 0.0000, 0.0000]]], grad_fn=<AddBackward0>), tensor([[[0.5000, 0.5403, 0.0000]],\n",
      "\n",
      "        [[0.5000, 0.5403, 0.0000]],\n",
      "\n",
      "        [[0.5000, 0.5403, 0.0000]]], grad_fn=<AddBackward0>), tensor([[[-0.8415,  0.0000,  0.0000]],\n",
      "\n",
      "        [[-0.8415,  0.0000,  0.0000]],\n",
      "\n",
      "        [[-0.8415,  0.0000,  0.0000]]], grad_fn=<AddBackward0>), tensor([[[0., 2., 0.]],\n",
      "\n",
      "        [[0., 2., 0.]],\n",
      "\n",
      "        [[0., 2., 0.]]], grad_fn=<AddBackward0>)]\n",
      "tensor([[[[ 0.5000,  0.0000,  0.0000],\n",
      "          [ 0.5000,  0.5403,  0.0000],\n",
      "          [-0.8415,  0.0000,  0.0000],\n",
      "          [ 0.0000,  2.0000,  0.0000]]],\n",
      "\n",
      "\n",
      "        [[[ 0.5000,  0.0000,  0.0000],\n",
      "          [ 0.5000,  0.5403,  0.0000],\n",
      "          [-0.8415,  0.0000,  0.0000],\n",
      "          [ 0.0000,  2.0000,  0.0000]]],\n",
      "\n",
      "\n",
      "        [[[ 0.5000,  0.0000,  0.0000],\n",
      "          [ 0.5000,  0.5403,  0.0000],\n",
      "          [-0.8415,  0.0000,  0.0000],\n",
      "          [ 0.0000,  2.0000,  0.0000]]]], grad_fn=<StackBackward0>)\n",
      "torch.Size([3, 1, 4, 3])\n"
     ]
    },
    {
     "data": {
      "text/plain": [
       "torch.Size([3, 1, 3])"
      ]
     },
     "execution_count": 195,
     "metadata": {},
     "output_type": "execute_result"
    }
   ],
   "source": [
    "unit_vectors=torch.eye(4)\n",
    "print(u1)\n",
    "jacobian_rows = [torch.autograd.grad(u1, x1, vec_.unsqueeze(0).unsqueeze(0).tile(u1.shape[0],u1.shape[1],1),\n",
    "            create_graph=True,\n",
    "            retain_graph=True,\n",
    "            allow_unused=True)[0]\n",
    "                     for vec_ in unit_vectors]\n",
    "print(jacobian_rows)\n",
    "print(torch.stack(jacobian_rows,axis=2))\n",
    "print(torch.stack(jacobian_rows,axis=2).shape)\n",
    "\n",
    "torch.autograd.grad(u1, x1, unit_vectors[1].unsqueeze(0).unsqueeze(0).tile(u1.shape[0],u1.shape[1],1),\n",
    "            create_graph=True,\n",
    "            retain_graph=True,\n",
    "            allow_unused=True)[0].shape"
   ]
  },
  {
   "cell_type": "code",
   "execution_count": null,
   "metadata": {},
   "outputs": [],
   "source": [
    "#\n",
    "\n",
    "def vector_jacobian(u,x):\n",
    "    unit_vectors=torch.eye(u.shape[-1])\n",
    "    jacobian_rows = [torch.autograd.grad(u, x, vec_.unsqueeze(0).unsqueeze(0).tile(u.shape[0],u.shape[1],1),\n",
    "            create_graph=True,\n",
    "            retain_graph=True,\n",
    "            allow_unused=True)[0]\n",
    "                     for vec_ in unit_vectors]\n",
    "    return torch.stack(jacobian_rows,axis=2)\n",
    "\n",
    "\n",
    "def vector_grad(u,x):\n",
    "    unit_vectors=torch.eye(u.shape[-1])\n",
    "    jacobian_rows = [torch.autograd.grad(u, x, vec_.unsqueeze(0).unsqueeze(0).tile(u.shape[0],u.shape[1],1),\n",
    "            create_graph=True,\n",
    "            retain_graph=True,\n",
    "            allow_unused=True)[0]\n",
    "                     for vec_ in unit_vectors]\n",
    "    return torch.diagonal(torch.stack(jacobian_rows,axis=2),dim1=-2,dim2=-1)\n",
    "\n",
    "def x_grad(u,x,i,n):\n",
    "    \"\"\"\n",
    "    gradient of degree wrt x for componen i for u\n",
    "    input:\n",
    "    u and x are tensors with vectors object at dimension -1\n",
    "    [b, n_vectors, vector_dimension]\n",
    "\n",
    "    output:\n",
    "    [b, n_vectors, input_vector_dimension]\n",
    "    \"\"\"\n",
    "    I=torch.eye(u.shape[-1])\n",
    "\n",
    "    u=torch.autograd.grad(u ,x,\n",
    "            I[i].unsqueeze(0).unsqueeze(0).tile(u.shape[0],u.shape[1],1).to(u.device),\n",
    "            create_graph=True,\n",
    "            retain_graph=True,\n",
    "            allow_unused=True)[0]\n",
    "    if n > 1:\n",
    "        for i in range(n-1):\n",
    "            u=vector_grad(u,x)\n",
    "    return u"
   ]
  },
  {
   "cell_type": "code",
   "execution_count": null,
   "metadata": {},
   "outputs": [
    {
     "name": "stdout",
     "output_type": "stream",
     "text": [
      "tensor([[[0.5000, 0.0000, 0.0000]],\n",
      "\n",
      "        [[0.5000, 0.0000, 0.0000]],\n",
      "\n",
      "        [[0.5000, 0.0000, 0.0000]]], grad_fn=<AddBackward0>)\n"
     ]
    }
   ],
   "source": [
    "print(x_grad(u1,x1,0,1))\n",
    "udx=x_grad(u1,x1,0,1)\n"
   ]
  },
  {
   "cell_type": "code",
   "execution_count": null,
   "metadata": {},
   "outputs": [
    {
     "name": "stdout",
     "output_type": "stream",
     "text": [
      "torch.Size([3, 1, 3])\n"
     ]
    },
    {
     "data": {
      "text/plain": [
       "tensor([[[1., 1., 1.]],\n",
       "\n",
       "        [[1., 1., 1.]],\n",
       "\n",
       "        [[1., 1., 1.]]], requires_grad=True)"
      ]
     },
     "execution_count": 198,
     "metadata": {},
     "output_type": "execute_result"
    }
   ],
   "source": [
    "print(x1.shape)\n",
    "x1"
   ]
  },
  {
   "cell_type": "code",
   "execution_count": null,
   "metadata": {},
   "outputs": [
    {
     "data": {
      "text/plain": [
       "tensor([[0.5000],\n",
       "        [0.5000],\n",
       "        [0.5000]], grad_fn=<SumBackward1>)"
      ]
     },
     "execution_count": 199,
     "metadata": {},
     "output_type": "execute_result"
    }
   ],
   "source": [
    "torch.sum(x1*udx,axis=-1)"
   ]
  },
  {
   "cell_type": "code",
   "execution_count": null,
   "metadata": {},
   "outputs": [
    {
     "data": {
      "text/plain": [
       "tensor([[[0.5000, 0.0000]],\n",
       "\n",
       "        [[0.5000, 0.0000]],\n",
       "\n",
       "        [[0.5000, 0.0000]]], grad_fn=<SliceBackward0>)"
      ]
     },
     "execution_count": 204,
     "metadata": {},
     "output_type": "execute_result"
    }
   ],
   "source": [
    "udx[:,:,:2]"
   ]
  },
  {
   "cell_type": "markdown",
   "metadata": {},
   "source": [
    "# Residuals debug"
   ]
  },
  {
   "cell_type": "markdown",
   "metadata": {},
   "source": [
    "## NS reesidual"
   ]
  },
  {
   "cell_type": "code",
   "execution_count": null,
   "metadata": {},
   "outputs": [],
   "source": [
    "def incompresibble_fluid_loss(up,xt,mu=1,rho=1):\n",
    "    l=0\n",
    "    # x-velocity components\n",
    "    l+=x_grad(up,xt,0,1)[...,2] # dudt\n",
    "    l+=torch.sum(up[...,:1]*x_grad(up,xt,0,1)[...,:2],axis=-1) # u * grad u\n",
    "    l+=(mu/rho)*(x_grad(up,xt,2,1)[...,0]) #  dpdx\n",
    "    l-=(mu/rho)*torch.sum(x_grad(up,xt,0,2)[...,:2],axis=-1) # grad**2 u\n",
    "    # y-velocity components\n",
    "    l+=x_grad(up,xt,1,1)[...,2] # dvdt\n",
    "    l+=torch.sum(up[...,1:2]*x_grad(up,xt,0,1)[...,:2],axis=-1) # v * grad v\n",
    "    l+=(mu/rho)*(x_grad(up,xt,2,1)[...,1]) #  dpdy\n",
    "    l-=(mu/rho)*torch.sum(x_grad(up,xt,1,2)[...,:2],axis=-1) # grad**2 v\n",
    "    return l"
   ]
  },
  {
   "cell_type": "markdown",
   "metadata": {},
   "source": [
    "### Debug"
   ]
  },
  {
   "cell_type": "code",
   "execution_count": null,
   "metadata": {},
   "outputs": [
    {
     "name": "stdout",
     "output_type": "stream",
     "text": [
      "tensor([[[-1.5316, -0.0218,  1.3527]],\n",
      "\n",
      "        [[ 2.0246,  0.5625, -0.8633]],\n",
      "\n",
      "        [[ 0.5488, -0.9313,  0.3730]]], requires_grad=True)\n",
      "torch.Size([3, 1, 3])\n",
      "torch.Size([3, 1, 3])\n"
     ]
    }
   ],
   "source": [
    "x1 = torch.randn((3,1,3)).requires_grad_(True)  #\n",
    "print(x1)\n",
    "print(x1.shape)\n",
    "\n",
    "u1 = torch.stack([\n",
    "    x1[:,:,0]**0.5,\n",
    "    torch.sin(x1[:,:,1])+x1[:,:,0]**0.5,\n",
    "    torch.cos(x1[:,:,0]),\n",
    "    ],axis=2)\n",
    "\n",
    "print(u1.shape)"
   ]
  },
  {
   "cell_type": "code",
   "execution_count": null,
   "metadata": {},
   "outputs": [
    {
     "data": {
      "text/plain": [
       "tensor([[   nan],\n",
       "        [0.9955],\n",
       "        [0.3642]], grad_fn=<SubBackward0>)"
      ]
     },
     "execution_count": 263,
     "metadata": {},
     "output_type": "execute_result"
    }
   ],
   "source": [
    "incompresibble_fluid_loss(u1,x1,1,1)-0\n",
    "#x_grad(u1,x1,0,1)[...,0]\n",
    "#print(x1[:,:,:1])\n",
    "#print(x_grad(u1,x1,0,1)[...,:2])\n",
    "#x_grad(u1,x1,0,1)[...,2]\n",
    "#x_grad(u1,x1,0,2)[...,:2]"
   ]
  }
 ],
 "metadata": {
  "kernelspec": {
   "display_name": "Python 3 (ipykernel)",
   "language": "python",
   "name": "python3"
  },
  "language_info": {
   "codemirror_mode": {
    "name": "ipython",
    "version": 3
   },
   "file_extension": ".py",
   "mimetype": "text/x-python",
   "name": "python",
   "nbconvert_exporter": "python",
   "pygments_lexer": "ipython3",
   "version": "3.10.12"
  }
 },
 "nbformat": 4,
 "nbformat_minor": 5
}

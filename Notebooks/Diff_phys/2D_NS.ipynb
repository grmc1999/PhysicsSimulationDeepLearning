{
 "cells": [
  {
   "cell_type": "code",
   "execution_count": 10,
   "id": "b78eebb1",
   "metadata": {},
   "outputs": [
    {
     "name": "stdout",
     "output_type": "stream",
     "text": [
      "/share_zeta/Proxy-Sim/PhysicsSimulationDeepLearning\n"
     ]
    },
    {
     "name": "stdout",
     "output_type": "stream",
     "text": [
      "Found existing installation: sympytorch 0.1.4\n",
      "Uninstalling sympytorch-0.1.4:\n",
      "  Successfully uninstalled sympytorch-0.1.4\n"
     ]
    }
   ],
   "source": [
    "! pwd\n",
    "! pip uninstall sympytorch -y"
   ]
  },
  {
   "cell_type": "code",
   "execution_count": 1,
   "id": "4865e9b0-c759-451f-a019-96d5da1ef942",
   "metadata": {},
   "outputs": [],
   "source": [
    "import os\n",
    "import sys\n",
    "\n",
    "\n",
    "ROOT=\"/home/guillermo.carrilho/PhysicsSimulationDeepLearning\"\n",
    "#ROOT=\"/share_zeta/Proxy-Sim/PhysicsSimulationDeepLearning\"\n",
    "\n",
    "sys.path.append(os.path.join(ROOT,\"Physical_models\"))"
   ]
  },
  {
   "cell_type": "code",
   "execution_count": 2,
   "id": "f02eb676",
   "metadata": {},
   "outputs": [
    {
     "data": {
      "text/plain": [
       "'3.3.0'"
      ]
     },
     "execution_count": 2,
     "metadata": {},
     "output_type": "execute_result"
    }
   ],
   "source": [
    "import phi\n",
    "phi.__version__"
   ]
  },
  {
   "cell_type": "markdown",
   "id": "257873ee",
   "metadata": {},
   "source": [
    "# stable fluids approach"
   ]
  },
  {
   "cell_type": "code",
   "execution_count": 2,
   "id": "708a3525",
   "metadata": {},
   "outputs": [],
   "source": [
    "#from Differentiable_simulation import dK_w,K_w,K_o,grad_phi_dK\n",
    "from phi.torch.flow import *\n",
    "from phi.torch.flow import diffuse, advect, Solve, fluid, math,Field, unstack,stack,batch,field,vec\n",
    "\n",
    "\n",
    "class physical_model(object):\n",
    "  def __init__(self,domain,dt):\n",
    "    #self.v0=v0\n",
    "    self.domain=domain\n",
    "    self.dt=dt\n",
    "    self.p=None\n",
    "\n",
    "  def momentum_eq(self,u, u_prev, dt, diffusivity=0.01):\n",
    "    diffusion_term = dt * diffuse.implicit(u,diffusivity, dt=dt,correct_skew=False)\n",
    "    advection_term = dt * advect.semi_lagrangian(u, u_prev,dt)\n",
    "    return u + advection_term + diffusion_term\n",
    "\n",
    "\n",
    "  def implicit_time_step(self, v, dt):\n",
    "      v = math.solve_linear(self.momentum_eq, v, Solve('CG-adaptive',\n",
    "                                                    1e-2,\n",
    "                                                    1e-2,x0=v), u_prev=v, dt=-dt)\n",
    "      v,p = fluid.make_incompressible(v,solve=Solve('CG-adaptive',\n",
    "                                                    1e-2,\n",
    "                                                    1e-2,\n",
    "                                                          #x0=self.p\n",
    "                                                          ))\n",
    "      return v\n",
    "\n",
    "  def step(self,v):\n",
    "    return self.implicit_time_step(v,self.dt)\n",
    "  \n",
    "\n",
    "geo=UniformGrid(x=60, y=60,bounds=Box(x=1.0, y=1.0))\n",
    "phi_w=Field( geo,values=vec(x=0.0,y=0.0),\n",
    "      boundary= {\n",
    "          'x-': vec(x=0.1,y=0.0),\n",
    "          'x+': ZERO_GRADIENT,\n",
    "          'y-': 0,\n",
    "          'y+': 0\n",
    " })\n",
    "\n",
    "phy=physical_model(\n",
    "   phi_w,0.01\n",
    ")"
   ]
  },
  {
   "cell_type": "markdown",
   "id": "0db465a1",
   "metadata": {},
   "source": [
    "## 2D"
   ]
  },
  {
   "cell_type": "code",
   "execution_count": 3,
   "id": "4abcabb2",
   "metadata": {},
   "outputs": [
    {
     "name": "stderr",
     "output_type": "stream",
     "text": [
      "/usr/local/lib/python3.10/dist-packages/matplotlib/projections/__init__.py:63: UserWarning: Unable to import Axes3D. This may be due to multiple versions of Matplotlib being installed (e.g. as a system package and as a pip package). As a result, the 3D projection is not available.\n",
      "  warnings.warn(\"Unable to import Axes3D. This may be due to multiple versions of \"\n"
     ]
    }
   ],
   "source": [
    "boundary = {'x-': vec(x=1.0,y=0.0),\n",
    "            'x+': ZERO_GRADIENT,\n",
    "            'y-':0,\n",
    "            'y+':0\n",
    "            }\n",
    "boundary\n",
    "geo=UniformGrid(x=128, y=128,bounds=Box(x=50, y=50))\n",
    "v0=Field(geo,values=vec(x=tensor(0.0),y=tensor(0.0)),boundary=boundary)\n",
    "\n",
    "phys=physical_model(v0,dt=0.1,\n",
    "                    #advection_solver=(lambda v: Solve('CG-adaptive',1e-2,1e-2,x0=v)),projection_solver=Solve('CG-adaptive',1e-2,1e-2)\n",
    "                    )\n",
    "\n",
    "from DL_models.Models.CNN_models import simple_cnn_model\n",
    "\n",
    "model=simple_cnn_model().train()\n",
    "optimizer=torch.optim.Adam(model.parameters(),lr=1e-4)"
   ]
  },
  {
   "cell_type": "code",
   "execution_count": 4,
   "id": "a09d46b4",
   "metadata": {},
   "outputs": [
    {
     "name": "stderr",
     "output_type": "stream",
     "text": [
      "/usr/local/lib/python3.10/dist-packages/phiml/backend/torch/_torch_backend.py:837: UserWarning: Sparse CSR tensor support is in beta state. If you miss a functionality in the sparse tensor support, please submit a feature request to https://github.com/pytorch/pytorch/issues. (Triggered internally at /pytorch/aten/src/ATen/SparseCsrTensorImpl.cpp:53.)\n",
      "  return torch.sparse_csr_tensor(row_pointers, column_indices, values, shape, device=values.device)\n",
      "/usr/local/lib/python3.10/dist-packages/phiml/math/_optimize.py:640: UserWarning: Possible rank deficiency detected. Matrix might be singular which can lead to convergence problems. Please specify using Solve(rank_deficiency=...).\n",
      "  warnings.warn(\"Possible rank deficiency detected. Matrix might be singular which can lead to convergence problems. Please specify using Solve(rank_deficiency=...).\")\n"
     ]
    },
    {
     "data": {
      "text/plain": [
       "Field[(xˢ=128, yˢ=128, vectorᶜ=x,y)]"
      ]
     },
     "execution_count": 4,
     "metadata": {},
     "output_type": "execute_result"
    }
   ],
   "source": [
    "phys.step(v0)"
   ]
  },
  {
   "cell_type": "code",
   "execution_count": 5,
   "id": "fe15c639",
   "metadata": {},
   "outputs": [
    {
     "ename": "AttributeError",
     "evalue": "'PINNS_based_SOL_trainer' object has no attribute 'v_gt'",
     "output_type": "error",
     "traceback": [
      "\u001b[0;31m---------------------------------------------------------------------------\u001b[0m",
      "\u001b[0;31mAttributeError\u001b[0m                            Traceback (most recent call last)",
      "Cell \u001b[0;32mIn[5], line 3\u001b[0m\n\u001b[1;32m      1\u001b[0m \u001b[38;5;28;01mfrom\u001b[39;00m\u001b[38;5;250m \u001b[39m\u001b[38;5;21;01mTrain_differentiable_physics\u001b[39;00m\u001b[38;5;250m \u001b[39m\u001b[38;5;28;01mimport\u001b[39;00m PINNS_based_SOL_trainer\n\u001b[1;32m      2\u001b[0m \u001b[38;5;28;01mimport\u001b[39;00m\u001b[38;5;250m \u001b[39m\u001b[38;5;21;01mtorch\u001b[39;00m\n\u001b[0;32m----> 3\u001b[0m \u001b[43mPINNS_based_SOL_trainer\u001b[49m\u001b[43m(\u001b[49m\n\u001b[1;32m      4\u001b[0m \u001b[43m    \u001b[49m\u001b[43mfield\u001b[49m\u001b[38;5;241;43m=\u001b[39;49m\u001b[43mv0\u001b[49m\u001b[43m,\u001b[49m\n\u001b[1;32m      5\u001b[0m \u001b[43m    \u001b[49m\u001b[43mmodel\u001b[49m\u001b[38;5;241;43m=\u001b[39;49m\u001b[43mmodel\u001b[49m\u001b[43m,\u001b[49m\n\u001b[1;32m      6\u001b[0m \u001b[43m    \u001b[49m\u001b[43moptimizer\u001b[49m\u001b[38;5;241;43m=\u001b[39;49m\u001b[43moptimizer\u001b[49m\u001b[43m,\u001b[49m\n\u001b[1;32m      7\u001b[0m \u001b[43m    \u001b[49m\u001b[43msimulation_steps\u001b[49m\u001b[38;5;241;43m=\u001b[39;49m\u001b[38;5;241;43m10\u001b[39;49m\u001b[43m,\u001b[49m\n\u001b[1;32m      8\u001b[0m \u001b[43m    \u001b[49m\u001b[43mtime_step\u001b[49m\u001b[38;5;241;43m=\u001b[39;49m\u001b[38;5;241;43m0.1\u001b[39;49m\u001b[43m,\u001b[49m\n\u001b[1;32m      9\u001b[0m \u001b[43m    \u001b[49m\u001b[43mloss\u001b[49m\u001b[38;5;241;43m=\u001b[39;49m\u001b[43mtorch\u001b[49m\u001b[38;5;241;43m.\u001b[39;49m\u001b[43mmean\u001b[49m\n\u001b[1;32m     10\u001b[0m \u001b[43m    \u001b[49m\u001b[43m)\u001b[49m\n",
      "File \u001b[0;32m~/PhysicsSimulationDeepLearning/Train_differentiable_physics.py:500\u001b[0m, in \u001b[0;36mPINNS_based_SOL_trainer.__init__\u001b[0;34m(self, field, model, optimizer, simulation_steps, time_step, loss)\u001b[0m\n\u001b[1;32m    496\u001b[0m \u001b[38;5;66;03m#self.v=Field(self.geo_co,values=self.IC,boundary=self.boundary) # add initial conditions\u001b[39;00m\n\u001b[1;32m    498\u001b[0m \u001b[38;5;28mself\u001b[39m\u001b[38;5;241m.\u001b[39mph_model\u001b[38;5;241m=\u001b[39mphysical_model(\u001b[38;5;28mself\u001b[39m\u001b[38;5;241m.\u001b[39mv,dt\u001b[38;5;241m=\u001b[39m\u001b[38;5;28mself\u001b[39m\u001b[38;5;241m.\u001b[39mdt)\n\u001b[0;32m--> 500\u001b[0m \u001b[38;5;28mself\u001b[39m\u001b[38;5;241m.\u001b[39minit_states_gt\u001b[38;5;241m=\u001b[39m[\u001b[38;5;28;43mself\u001b[39;49m\u001b[38;5;241;43m.\u001b[39;49m\u001b[43mv_gt\u001b[49m]\n\u001b[1;32m    502\u001b[0m \u001b[38;5;28;01mfor\u001b[39;00m i \u001b[38;5;129;01min\u001b[39;00m \u001b[38;5;28mrange\u001b[39m(\u001b[38;5;241m50\u001b[39m):\n\u001b[1;32m    503\u001b[0m   \u001b[38;5;28mself\u001b[39m\u001b[38;5;241m.\u001b[39minit_states_gt\u001b[38;5;241m.\u001b[39mappend(\u001b[38;5;28mself\u001b[39m\u001b[38;5;241m.\u001b[39mph_model\u001b[38;5;241m.\u001b[39mstep(\u001b[38;5;28mself\u001b[39m\u001b[38;5;241m.\u001b[39minit_states_gt[\u001b[38;5;241m-\u001b[39m\u001b[38;5;241m1\u001b[39m]))\n",
      "\u001b[0;31mAttributeError\u001b[0m: 'PINNS_based_SOL_trainer' object has no attribute 'v_gt'"
     ]
    }
   ],
   "source": [
    "from Train_differentiable_physics import PINNS_based_SOL_trainer\n",
    "import torch\n",
    "PINNS_based_SOL_trainer(\n",
    "    field=v0,\n",
    "    model=model,\n",
    "    optimizer=optimizer,\n",
    "    simulation_steps=10,\n",
    "    time_step=0.1,\n",
    "    loss=torch.mean\n",
    "    )"
   ]
  },
  {
   "cell_type": "markdown",
   "id": "5dbfa1cf",
   "metadata": {},
   "source": [
    "## 3D"
   ]
  },
  {
   "cell_type": "code",
   "execution_count": 124,
   "id": "8e9fc234",
   "metadata": {},
   "outputs": [],
   "source": [
    "boundary = {'x-': vec(x=1.0,y=0.0,z=0.0),\n",
    "            'x+': ZERO_GRADIENT,\n",
    "            'y-':0,\n",
    "            'y+':0,\n",
    "            'z-':0,\n",
    "            'z+':0\n",
    "            }\n",
    "boundary\n",
    "geo=UniformGrid(x=128, y=128,z=128,bounds=Box(x=50, y=50,z=50))\n",
    "v0=Field(geo,values=vec(x=tensor(0.0),y=tensor(0.0),z=tensor(0.0)),boundary=boundary)\n",
    "\n",
    "phys=physical_model(v0,dt=0.1,\n",
    "                    #advection_solver=(lambda v: Solve('CG-adaptive',1e-2,1e-2,x0=v)),projection_solver=Solve('CG-adaptive',1e-2,1e-2)\n",
    "                    )"
   ]
  },
  {
   "cell_type": "code",
   "execution_count": 125,
   "id": "97156c00",
   "metadata": {},
   "outputs": [
    {
     "name": "stderr",
     "output_type": "stream",
     "text": [
      "/usr/local/lib/python3.10/dist-packages/phiml/math/_optimize.py:640: UserWarning: Possible rank deficiency detected. Matrix might be singular which can lead to convergence problems. Please specify using Solve(rank_deficiency=...).\n",
      "  warnings.warn(\"Possible rank deficiency detected. Matrix might be singular which can lead to convergence problems. Please specify using Solve(rank_deficiency=...).\")\n"
     ]
    },
    {
     "data": {
      "text/plain": [
       "Field[(xˢ=128, yˢ=128, zˢ=128, vectorᶜ=x,y,z)]"
      ]
     },
     "execution_count": 125,
     "metadata": {},
     "output_type": "execute_result"
    }
   ],
   "source": [
    "phys.step(v0)"
   ]
  },
  {
   "cell_type": "code",
   "execution_count": 130,
   "id": "5f901ee0",
   "metadata": {},
   "outputs": [
    {
     "data": {
      "text/plain": [
       "(xˢ=128, yˢ=128), bounds=Box(x=(0, 50), y=(0, 50))"
      ]
     },
     "execution_count": 130,
     "metadata": {},
     "output_type": "execute_result"
    }
   ],
   "source": [
    "v0.geometry"
   ]
  }
 ],
 "metadata": {
  "kernelspec": {
   "display_name": "Python 3 (ipykernel)",
   "language": "python",
   "name": "python3"
  },
  "language_info": {
   "codemirror_mode": {
    "name": "ipython",
    "version": 3
   },
   "file_extension": ".py",
   "mimetype": "text/x-python",
   "name": "python",
   "nbconvert_exporter": "python",
   "pygments_lexer": "ipython3",
   "version": "3.10.12"
  }
 },
 "nbformat": 4,
 "nbformat_minor": 5
}

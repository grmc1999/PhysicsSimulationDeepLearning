{
 "cells": [
  {
   "cell_type": "markdown",
   "id": "02358f0b-d7da-4455-9c86-93e89d3bfcfb",
   "metadata": {},
   "source": [
    "## Darcy 3D"
   ]
  },
  {
   "cell_type": "code",
   "execution_count": null,
   "id": "763d8a56-6a50-42b2-9635-1191497d4125",
   "metadata": {},
   "outputs": [],
   "source": [
    "from dolfinx import mesh\n",
    "domain = mesh.create_unit_square(MPI.COMM_WORLD, 8, 8, mesh.CellType.quadrilateral)"
   ]
  },
  {
   "cell_type": "code",
   "execution_count": null,
   "id": "14d3f567-1916-4701-8988-44b972ace15f",
   "metadata": {},
   "outputs": [],
   "source": [
    "from dolfin import *\n",
    "\n",
    "class Bottom(SubDomain):\n",
    "    def inside(self,x, on_boundary):\n",
    "        return near(x[2],0) and on_boundary\n",
    "\n",
    "class Top(SubDomain):\n",
    "    def inside(self,x, on_boundary):\n",
    "        return near(x[2],1) and on_boundary\n",
    "\n",
    "def wall(x, on_boundary):\n",
    "        return (near(x[0],0) or near(x[0],1) or near(x[1],0) or near(x[1],1)) and on_boundary\n",
    "\n",
    "### MESH & FUNCTION SPACE ###\n",
    "\n",
    "mesh    = UnitCubeMesh(10,10,10)\n",
    "\n",
    "Qe      = FiniteElement(\"Lagrange\", mesh.ufl_cell(), 1)\n",
    "Be      = FiniteElement(\"Bubble\",   mesh.ufl_cell(), 4)\n",
    "Ve      = VectorElement(NodalEnrichedElement(Qe, Be))\n",
    "element = MixedElement(Ve,Qe)\n",
    "W       = FunctionSpace(mesh, element)\n",
    "\n",
    "n       = FacetNormal(mesh)\n",
    "u,p     = TrialFunctions(W)\n",
    "v,q     = TestFunctions(W)"
   ]
  },
  {
   "cell_type": "code",
   "execution_count": null,
   "id": "997b2d76-f1bc-423b-b3f4-e56c68f1c2fc",
   "metadata": {},
   "outputs": [],
   "source": [
    "### SUB-DOMAINS ###\n",
    "\n",
    "bottom = Bottom()\n",
    "top    = Top()\n",
    "\n",
    "sub_domains = MeshFunction('size_t', mesh, 1)\n",
    "sub_domains.set_all(0)\n",
    "\n",
    "bottom.mark(sub_domains, 1)\n",
    "top.mark(sub_domains, 2)\n",
    "\n",
    "ds = Measure('ds', domain=mesh, subdomain_data=sub_domains)\n",
    "\n",
    "### BOUNDARY CONDITION ###\n",
    "\n",
    "bc = DirichletBC(W.sub(0), Constant((0,0,0)), wall)\n",
    "\n",
    "### VARIATIONAL FORMULATION ###\n",
    "\n",
    "a =  (dot(u,v) - div(v)*p - div(u)*q)*dx\n",
    "L = -Constant(1)*dot(n,v)*ds(1) + Constant(2)*dot(n,v)*ds(2)\n",
    "\n",
    "w = Function(W)\n",
    "\n",
    "solve(a == L, w, bc, solver_parameters={'linear_solver': 'mumps'})\n",
    "\n",
    "file = File(\"flow.pvd\")\n",
    "file << w.split()[0]\n",
    "\n",
    "file = File(\"pressure.pvd\")\n",
    "file << w.split()[1]\n",
    "\n",
    "file = File(\"subdomains.pvd\")\n",
    "file << sub_domains"
   ]
  }
 ],
 "metadata": {
  "kernelspec": {
   "display_name": "Python 3 (ipykernel)",
   "language": "python",
   "name": "python3"
  },
  "language_info": {
   "codemirror_mode": {
    "name": "ipython",
    "version": 3
   },
   "file_extension": ".py",
   "mimetype": "text/x-python",
   "name": "python",
   "nbconvert_exporter": "python",
   "pygments_lexer": "ipython3",
   "version": "3.12.3"
  }
 },
 "nbformat": 4,
 "nbformat_minor": 5
}

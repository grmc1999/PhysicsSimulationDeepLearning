{
 "cells": [
  {
   "cell_type": "markdown",
   "id": "0225e1bf-f445-4221-81b5-604c526fd1fe",
   "metadata": {},
   "source": [
    "$$\\rho \\left( \\frac{\\partial u}{\\partial t} + u \\cdot \\nabla u \\right) = \\nabla \\cdot \\sigma (u,p)+f$$\n",
    "$$\\nabla \\cdot u = 0$$\n",
    "\n",
    "$$ \\sigma (u,p) = 2 \\mu \\epsilon(u)-p I$$\n",
    "\n",
    "$$\\epsilon(u) = \\frac{1}{2} (\\nabla u + (\\nabla u)^T)$$\n",
    "\n",
    "\n"
   ]
  },
  {
   "cell_type": "code",
   "execution_count": 14,
   "id": "e346320b-8a11-4781-b679-fdb56a440b73",
   "metadata": {},
   "outputs": [],
   "source": [
    "from mpi4py import MPI\n",
    "from dolfinx import mesh\n",
    "import ufl\n",
    "import numpy as np\n",
    "from dolfinx import fem\n",
    "\n",
    "class BoundaryCondition():\n",
    "    def __init__(self, type, marker, values, ds,facet_tag):\n",
    "        self._type = type\n",
    "        if type == \"Dirichlet\":\n",
    "            u_D = fem.Function(V)\n",
    "            u_D.interpolate(values)\n",
    "            facets = facet_tag.find(marker)\n",
    "            dofs = fem.locate_dofs_topological(V, fdim, facets)\n",
    "            self._bc = fem.dirichletbc(u_D, dofs)\n",
    "        elif type == \"Neumann\":\n",
    "                self._bc = ufl.inner(values, v) * ds(marker)\n",
    "        elif type == \"Robin\":\n",
    "            self._bc = values[0] * ufl.inner(u-values[1], v)* ds(marker)\n",
    "        else:\n",
    "            raise TypeError(\"Unknown boundary condition: {0:s}\".format(type))\n",
    "    @property\n",
    "    def bc(self):\n",
    "        return self._bc\n",
    "\n",
    "    @property\n",
    "    def type(self):\n",
    "        return self._type"
   ]
  },
  {
   "cell_type": "code",
   "execution_count": 12,
   "id": "b22204c8-e4e1-494a-aaab-c3399a8fea01",
   "metadata": {},
   "outputs": [],
   "source": [
    "import numpy as np\n",
    "from dolfinx import fem\n",
    "from dolfinx import mesh\n",
    "import ufl\n",
    "from mpi4py import MPI\n",
    "from petsc4py import PETSc\n",
    "\n",
    "from basix.ufl import element\n",
    "\n"
   ]
  },
  {
   "cell_type": "code",
   "execution_count": 9,
   "id": "0f16d870-b208-4f5d-a8a4-29e675d0ba74",
   "metadata": {},
   "outputs": [],
   "source": [
    "domain = mesh.create_unit_square(MPI.COMM_WORLD, 10, 10)\n",
    "t = 0\n",
    "T = 10\n",
    "num_steps = 500\n",
    "\n",
    "dt = T / num_steps\n",
    "\n",
    "#Elements\n",
    "v_cg2 = element(\"Lagrange\", domain.topology.cell_name(), 2, shape=(domain.geometry.dim, ))\n",
    "s_cg1 = element(\"Lagrange\", domain.topology.cell_name(), 1)\n",
    "V = functionspace(mesh, v_cg2)\n",
    "Q = functionspace(mesh, s_cg1)\n",
    "\n",
    "u = TrialFunction(V)\n",
    "v = TestFunction(V)\n",
    "p = TrialFunction(Q)\n",
    "q = TestFunction(Q)\n",
    "\n",
    "#Boundaries\n",
    "boundaries=[\n",
    "    (1, lambda x: np.isclose(x[0],0)),\n",
    "    (2, lambda x: np.isclose(x[0],1)),\n",
    "    (3, lambda x: np.isclose(x[1],0)),\n",
    "    (4, lambda x: np.isclose(x[1],1))\n",
    "]\n",
    "\n",
    "boundary_conditions = [BoundaryCondition(\"Dirichlet\", 1, u_ex,ds,facet_tag),\n",
    "                       BoundaryCondition(\"Dirichlet\", 2, u_ex,ds,facet_tag),\n",
    "                       BoundaryCondition(\"Robin\", 3, (r, s),ds,facet_tag),\n",
    "                       BoundaryCondition(\"Neumann\", 4, g,ds,facet_tag)]"
   ]
  },
  {
   "cell_type": "code",
   "execution_count": 10,
   "id": "44192ea9-a59c-4f1d-88eb-09f6aac43b96",
   "metadata": {},
   "outputs": [
    {
     "data": {
      "text/plain": [
       "'triangle'"
      ]
     },
     "execution_count": 10,
     "metadata": {},
     "output_type": "execute_result"
    }
   ],
   "source": [
    "domain.topology.cell_name()\n",
    "\n"
   ]
  },
  {
   "cell_type": "code",
   "execution_count": 15,
   "id": "31df1af3-6af7-4e7a-a8c4-74f497e6311b",
   "metadata": {},
   "outputs": [
    {
     "data": {
      "text/plain": [
       "\u001b[0;31mSignature:\u001b[0m \u001b[0mufl\u001b[0m\u001b[0;34m.\u001b[0m\u001b[0msym\u001b[0m\u001b[0;34m(\u001b[0m\u001b[0mA\u001b[0m\u001b[0;34m)\u001b[0m\u001b[0;34m\u001b[0m\u001b[0;34m\u001b[0m\u001b[0m\n",
       "\u001b[0;31mDocstring:\u001b[0m Take the symmetric part of A.\n",
       "\u001b[0;31mFile:\u001b[0m      /dolfinx-env/lib/python3.12/site-packages/ufl/operators.py\n",
       "\u001b[0;31mType:\u001b[0m      function"
      ]
     },
     "metadata": {},
     "output_type": "display_data"
    }
   ],
   "source": [
    "ufl.sym?"
   ]
  }
 ],
 "metadata": {
  "kernelspec": {
   "display_name": "Python 3 (ipykernel)",
   "language": "python",
   "name": "python3"
  },
  "language_info": {
   "codemirror_mode": {
    "name": "ipython",
    "version": 3
   },
   "file_extension": ".py",
   "mimetype": "text/x-python",
   "name": "python",
   "nbconvert_exporter": "python",
   "pygments_lexer": "ipython3",
   "version": "3.12.3"
  }
 },
 "nbformat": 4,
 "nbformat_minor": 5
}

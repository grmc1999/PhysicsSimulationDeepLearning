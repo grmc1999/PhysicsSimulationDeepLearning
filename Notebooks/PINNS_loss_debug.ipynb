{
 "cells": [
  {
   "cell_type": "markdown",
   "id": "1e951d77-0ee0-4320-8e8b-4fd739711728",
   "metadata": {},
   "source": [
    "# GAN_PI data"
   ]
  },
  {
   "cell_type": "code",
   "execution_count": 1,
   "id": "e4c1c928-c7d8-4487-9046-18288c742b3d",
   "metadata": {},
   "outputs": [
    {
     "name": "stdout",
     "output_type": "stream",
     "text": [
      "Collecting scipy\n",
      "  Downloading scipy-1.15.1-cp312-cp312-manylinux_2_17_x86_64.manylinux2014_x86_64.whl.metadata (61 kB)\n",
      "Requirement already satisfied: numpy<2.5,>=1.23.5 in /dolfinx-env/lib/python3.12/site-packages (from scipy) (2.0.2)\n",
      "Downloading scipy-1.15.1-cp312-cp312-manylinux_2_17_x86_64.manylinux2014_x86_64.whl (40.2 MB)\n",
      "\u001b[2K   \u001b[90m━━━━━━━━━━━━━━━━━━━━━━━━━━━━━━━━━━━━━━━━\u001b[0m \u001b[32m40.2/40.2 MB\u001b[0m \u001b[31m30.7 MB/s\u001b[0m eta \u001b[36m0:00:00\u001b[0ma \u001b[36m0:00:01\u001b[0m\n",
      "\u001b[?25hInstalling collected packages: scipy\n",
      "Successfully installed scipy-1.15.1\n",
      "\n",
      "\u001b[1m[\u001b[0m\u001b[34;49mnotice\u001b[0m\u001b[1;39;49m]\u001b[0m\u001b[39;49m A new release of pip is available: \u001b[0m\u001b[31;49m25.0\u001b[0m\u001b[39;49m -> \u001b[0m\u001b[32;49m25.0.1\u001b[0m\n",
      "\u001b[1m[\u001b[0m\u001b[34;49mnotice\u001b[0m\u001b[1;39;49m]\u001b[0m\u001b[39;49m To update, run: \u001b[0m\u001b[32;49mpip install --upgrade pip\u001b[0m\n"
     ]
    }
   ],
   "source": [
    "!pip install scipy"
   ]
  },
  {
   "cell_type": "code",
   "execution_count": 11,
   "id": "4865e9b0-c759-451f-a019-96d5da1ef942",
   "metadata": {},
   "outputs": [],
   "source": [
    "import scipy\n",
    "import os"
   ]
  },
  {
   "cell_type": "code",
   "execution_count": 9,
   "id": "e701d86b-911d-45e9-a0ff-5d75b9c3c1ce",
   "metadata": {},
   "outputs": [
    {
     "name": "stdout",
     "output_type": "stream",
     "text": [
      "Buckley_Swc_0_Sor_0_M_2.mat  burgers_shock.mat\n"
     ]
    }
   ],
   "source": [
    "!ls ../../gan-pi/resources/data"
   ]
  },
  {
   "cell_type": "code",
   "execution_count": 14,
   "id": "0d3e095b-b0b1-4647-bbb8-1ba25d61a593",
   "metadata": {},
   "outputs": [],
   "source": [
    "path_lib = os.path.dirname(os.getcwd())\n",
    "path_resources = os.path.join(\"../../gan-pi\", 'resources')\n",
    "path_data = os.path.join(path_resources, 'data')\n",
    "\n",
    "filename = 'Buckley_Swc_0_Sor_0_M_2.mat'\n",
    "path_file = os.path.join(path_data, filename)\n",
    "data = scipy.io.loadmat(path_file)"
   ]
  },
  {
   "cell_type": "code",
   "execution_count": 16,
   "id": "1788d435-03f2-4f1a-ab17-3e6c9c4e6e6c",
   "metadata": {},
   "outputs": [
    {
     "data": {
      "text/plain": [
       "dict_keys(['__header__', '__version__', '__globals__', 't', 'usol', 'x'])"
      ]
     },
     "execution_count": 16,
     "metadata": {},
     "output_type": "execute_result"
    }
   ],
   "source": [
    "data.keys()"
   ]
  },
  {
   "cell_type": "code",
   "execution_count": 17,
   "id": "5ef545e8-222a-45b6-8207-391ea7be37a4",
   "metadata": {},
   "outputs": [
    {
     "data": {
      "text/plain": [
       "256"
      ]
     },
     "execution_count": 17,
     "metadata": {},
     "output_type": "execute_result"
    }
   ],
   "source": [
    "len(data[\"usol\"])"
   ]
  },
  {
   "cell_type": "markdown",
   "metadata": {},
   "source": [
    "# Gradient Notes"
   ]
  },
  {
   "cell_type": "code",
   "execution_count": 1,
   "metadata": {},
   "outputs": [],
   "source": [
    "import torch"
   ]
  },
  {
   "cell_type": "markdown",
   "metadata": {},
   "source": [
    "### Grandient example"
   ]
  },
  {
   "cell_type": "code",
   "execution_count": 194,
   "metadata": {},
   "outputs": [
    {
     "name": "stdout",
     "output_type": "stream",
     "text": [
      "tensor([[[1., 1., 1.]],\n",
      "\n",
      "        [[1., 1., 1.]],\n",
      "\n",
      "        [[1., 1., 1.]]], requires_grad=True)\n",
      "tensor([[[1.0000, 1.8415, 0.5403, 1.0000]],\n",
      "\n",
      "        [[1.0000, 1.8415, 0.5403, 1.0000]],\n",
      "\n",
      "        [[1.0000, 1.8415, 0.5403, 1.0000]]], grad_fn=<StackBackward0>)\n",
      "torch.Size([3, 1, 4])\n"
     ]
    },
    {
     "data": {
      "text/plain": [
       "(tensor([[[0.1585, 2.5403, 0.0000]],\n",
       " \n",
       "         [[0.1585, 2.5403, 0.0000]],\n",
       " \n",
       "         [[0.1585, 2.5403, 0.0000]]], grad_fn=<AddBackward0>),)"
      ]
     },
     "execution_count": 194,
     "metadata": {},
     "output_type": "execute_result"
    }
   ],
   "source": [
    "x1 = torch.ones((3,1,3)).requires_grad_(True)  #\n",
    "print(x1)\n",
    "\n",
    "u1 = torch.stack([\n",
    "    x1[:,:,0]**0.5,\n",
    "    torch.sin(x1[:,:,1])+x1[:,:,0]**0.5,\n",
    "    torch.cos(x1[:,:,0]),\n",
    "    x1[:,:,1]**2,\n",
    "    ],axis=2)\n",
    "\n",
    "#u1 = torch.matmul(M,x1)\n",
    "\n",
    "\n",
    "#u1=torch.sin(torch.matmul(torch.rand(2,2).requires_grad_(True),x1))\n",
    "print(u1)\n",
    "print(u1.shape)\n",
    "torch.autograd.grad(\n",
    "    u1,x1,\n",
    "            grad_outputs=torch.ones_like(u1).to(u1.device),\n",
    "            create_graph=True,\n",
    "            retain_graph=True,\n",
    "            allow_unused=True\n",
    "            )"
   ]
  },
  {
   "cell_type": "markdown",
   "metadata": {},
   "source": [
    "### Jacobian computation\n",
    "\n",
    "Expressed in pytorch with torch.autograd.grad\n",
    "\n",
    "$$ \\textbf{u} \\in \\mathbb{R}^n \\\\ \\textbf{x},\\textbf{e}_i \\in \\mathbb{R}^m $$\n",
    "$$ T_{ag} (\\textbf{u},\\textbf{x},\\textbf{e}_i) = \\nabla_{\\textbf{x}} \\textbf{u}_i  $$\n",
    "$$ T_{ag} (\\textbf{u},\\textbf{x},\\textbf{e}_i) = \\nabla_{\\textbf{x}} \\textbf{u}_i  $$\n",
    "$$ T_{ag} (\\textbf{u},\\textbf{x},\\textbf{e}_i+\\textbf{e}_j) = \\nabla_{\\textbf{x}} \\textbf{u}_i + \\nabla_{\\textbf{x}} \\textbf{u}_j $$\n",
    "$$ [T_{ag} (\\textbf{u},\\textbf{x},\\textbf{e}_i)]_{i=1}^n = J_{\\textbf{x}}(\\textbf{u})$$\n"
   ]
  },
  {
   "cell_type": "code",
   "execution_count": 195,
   "metadata": {},
   "outputs": [
    {
     "name": "stdout",
     "output_type": "stream",
     "text": [
      "tensor([[[1.0000, 1.8415, 0.5403, 1.0000]],\n",
      "\n",
      "        [[1.0000, 1.8415, 0.5403, 1.0000]],\n",
      "\n",
      "        [[1.0000, 1.8415, 0.5403, 1.0000]]], grad_fn=<StackBackward0>)\n",
      "[tensor([[[0.5000, 0.0000, 0.0000]],\n",
      "\n",
      "        [[0.5000, 0.0000, 0.0000]],\n",
      "\n",
      "        [[0.5000, 0.0000, 0.0000]]], grad_fn=<AddBackward0>), tensor([[[0.5000, 0.5403, 0.0000]],\n",
      "\n",
      "        [[0.5000, 0.5403, 0.0000]],\n",
      "\n",
      "        [[0.5000, 0.5403, 0.0000]]], grad_fn=<AddBackward0>), tensor([[[-0.8415,  0.0000,  0.0000]],\n",
      "\n",
      "        [[-0.8415,  0.0000,  0.0000]],\n",
      "\n",
      "        [[-0.8415,  0.0000,  0.0000]]], grad_fn=<AddBackward0>), tensor([[[0., 2., 0.]],\n",
      "\n",
      "        [[0., 2., 0.]],\n",
      "\n",
      "        [[0., 2., 0.]]], grad_fn=<AddBackward0>)]\n",
      "tensor([[[[ 0.5000,  0.0000,  0.0000],\n",
      "          [ 0.5000,  0.5403,  0.0000],\n",
      "          [-0.8415,  0.0000,  0.0000],\n",
      "          [ 0.0000,  2.0000,  0.0000]]],\n",
      "\n",
      "\n",
      "        [[[ 0.5000,  0.0000,  0.0000],\n",
      "          [ 0.5000,  0.5403,  0.0000],\n",
      "          [-0.8415,  0.0000,  0.0000],\n",
      "          [ 0.0000,  2.0000,  0.0000]]],\n",
      "\n",
      "\n",
      "        [[[ 0.5000,  0.0000,  0.0000],\n",
      "          [ 0.5000,  0.5403,  0.0000],\n",
      "          [-0.8415,  0.0000,  0.0000],\n",
      "          [ 0.0000,  2.0000,  0.0000]]]], grad_fn=<StackBackward0>)\n",
      "torch.Size([3, 1, 4, 3])\n"
     ]
    },
    {
     "data": {
      "text/plain": [
       "torch.Size([3, 1, 3])"
      ]
     },
     "execution_count": 195,
     "metadata": {},
     "output_type": "execute_result"
    }
   ],
   "source": [
    "unit_vectors=torch.eye(4)\n",
    "print(u1)\n",
    "jacobian_rows = [torch.autograd.grad(u1, x1, vec_.unsqueeze(0).unsqueeze(0).tile(u1.shape[0],u1.shape[1],1),\n",
    "            create_graph=True,\n",
    "            retain_graph=True,\n",
    "            allow_unused=True)[0]\n",
    "                     for vec_ in unit_vectors]\n",
    "print(jacobian_rows)\n",
    "print(torch.stack(jacobian_rows,axis=2))\n",
    "print(torch.stack(jacobian_rows,axis=2).shape)\n",
    "\n",
    "torch.autograd.grad(u1, x1, unit_vectors[1].unsqueeze(0).unsqueeze(0).tile(u1.shape[0],u1.shape[1],1),\n",
    "            create_graph=True,\n",
    "            retain_graph=True,\n",
    "            allow_unused=True)[0].shape"
   ]
  },
  {
   "cell_type": "code",
   "execution_count": 73,
   "metadata": {},
   "outputs": [],
   "source": [
    "#\n",
    "\n",
    "def vector_jacobian(u,x):\n",
    "    unit_vectors=torch.eye(u.shape[-1])\n",
    "    jacobian_rows = [torch.autograd.grad(u, x, vec_.unsqueeze(0).unsqueeze(0).tile(u.shape[0],u.shape[1],1),\n",
    "            create_graph=True,\n",
    "            retain_graph=True,\n",
    "            allow_unused=True)[0]\n",
    "                     for vec_ in unit_vectors]\n",
    "    return torch.stack(jacobian_rows,axis=2)\n",
    "\n",
    "\n",
    "def vector_grad(u,x):\n",
    "    unit_vectors=torch.eye(u.shape[-1])\n",
    "    jacobian_rows = [torch.autograd.grad(u, x, vec_.unsqueeze(0).unsqueeze(0).tile(u.shape[0],u.shape[1],1),\n",
    "            create_graph=True,\n",
    "            retain_graph=True,\n",
    "            allow_unused=True)[0]\n",
    "                     for vec_ in unit_vectors]\n",
    "    return torch.diagonal(torch.stack(jacobian_rows,axis=2),dim1=-2,dim2=-1)\n",
    "\n",
    "def x_grad(u,x,i,n):\n",
    "    \"\"\"\n",
    "    gradient of degree wrt x for componen i for u\n",
    "    input:\n",
    "    u and x are tensors with vectors object at dimension -1\n",
    "    [b, n_vectors, vector_dimension]\n",
    "\n",
    "    output:\n",
    "    [b, n_vectors, input_vector_dimension]\n",
    "    \"\"\"\n",
    "    I=torch.eye(u.shape[-1])\n",
    "\n",
    "    u=torch.autograd.grad(u ,x,\n",
    "            I[i].unsqueeze(0).unsqueeze(0).tile(u.shape[0],u.shape[1],1).to(u.device),\n",
    "            create_graph=True,\n",
    "            retain_graph=True,\n",
    "            allow_unused=True)[0]\n",
    "    if n > 1:\n",
    "        for i in range(n-1):\n",
    "            u=vector_grad(u,x)\n",
    "    return u"
   ]
  },
  {
   "cell_type": "code",
   "execution_count": 197,
   "metadata": {},
   "outputs": [
    {
     "name": "stdout",
     "output_type": "stream",
     "text": [
      "tensor([[[0.5000, 0.0000, 0.0000]],\n",
      "\n",
      "        [[0.5000, 0.0000, 0.0000]],\n",
      "\n",
      "        [[0.5000, 0.0000, 0.0000]]], grad_fn=<AddBackward0>)\n"
     ]
    }
   ],
   "source": [
    "print(x_grad(u1,x1,0,1))\n",
    "udx=x_grad(u1,x1,0,1)\n"
   ]
  },
  {
   "cell_type": "code",
   "execution_count": 198,
   "metadata": {},
   "outputs": [
    {
     "name": "stdout",
     "output_type": "stream",
     "text": [
      "torch.Size([3, 1, 3])\n"
     ]
    },
    {
     "data": {
      "text/plain": [
       "tensor([[[1., 1., 1.]],\n",
       "\n",
       "        [[1., 1., 1.]],\n",
       "\n",
       "        [[1., 1., 1.]]], requires_grad=True)"
      ]
     },
     "execution_count": 198,
     "metadata": {},
     "output_type": "execute_result"
    }
   ],
   "source": [
    "print(x1.shape)\n",
    "x1"
   ]
  },
  {
   "cell_type": "code",
   "execution_count": 199,
   "metadata": {},
   "outputs": [
    {
     "data": {
      "text/plain": [
       "tensor([[0.5000],\n",
       "        [0.5000],\n",
       "        [0.5000]], grad_fn=<SumBackward1>)"
      ]
     },
     "execution_count": 199,
     "metadata": {},
     "output_type": "execute_result"
    }
   ],
   "source": [
    "torch.sum(x1*udx,axis=-1)"
   ]
  },
  {
   "cell_type": "code",
   "execution_count": 204,
   "metadata": {},
   "outputs": [
    {
     "data": {
      "text/plain": [
       "tensor([[[0.5000, 0.0000]],\n",
       "\n",
       "        [[0.5000, 0.0000]],\n",
       "\n",
       "        [[0.5000, 0.0000]]], grad_fn=<SliceBackward0>)"
      ]
     },
     "execution_count": 204,
     "metadata": {},
     "output_type": "execute_result"
    }
   ],
   "source": [
    "udx[:,:,:2]"
   ]
  },
  {
   "cell_type": "markdown",
   "metadata": {},
   "source": [
    "# Residuals debug"
   ]
  },
  {
   "cell_type": "markdown",
   "metadata": {},
   "source": [
    "## NS reesidual"
   ]
  },
  {
   "cell_type": "code",
   "execution_count": 259,
   "metadata": {},
   "outputs": [],
   "source": [
    "def incompresibble_fluid_loss(up,xt,mu=1,rho=1):\n",
    "    l=0\n",
    "    # x-velocity components\n",
    "    l+=x_grad(up,xt,0,1)[...,2] # dudt\n",
    "    l+=torch.sum(up[...,:1]*x_grad(up,xt,0,1)[...,:2],axis=-1) # u * grad u\n",
    "    l+=(mu/rho)*(x_grad(up,xt,2,1)[...,0]) #  dpdx\n",
    "    l-=(mu/rho)*torch.sum(x_grad(up,xt,0,2)[...,:2],axis=-1) # grad**2 u\n",
    "    # y-velocity components\n",
    "    l+=x_grad(up,xt,1,1)[...,2] # dvdt\n",
    "    l+=torch.sum(up[...,1:2]*x_grad(up,xt,0,1)[...,:2],axis=-1) # v * grad v\n",
    "    l+=(mu/rho)*(x_grad(up,xt,2,1)[...,1]) #  dpdy\n",
    "    l-=(mu/rho)*torch.sum(x_grad(up,xt,1,2)[...,:2],axis=-1) # grad**2 v\n",
    "    return l"
   ]
  },
  {
   "cell_type": "markdown",
   "metadata": {},
   "source": [
    "### Debug"
   ]
  },
  {
   "cell_type": "code",
   "execution_count": 260,
   "metadata": {},
   "outputs": [
    {
     "name": "stdout",
     "output_type": "stream",
     "text": [
      "tensor([[[-1.5316, -0.0218,  1.3527]],\n",
      "\n",
      "        [[ 2.0246,  0.5625, -0.8633]],\n",
      "\n",
      "        [[ 0.5488, -0.9313,  0.3730]]], requires_grad=True)\n",
      "torch.Size([3, 1, 3])\n",
      "torch.Size([3, 1, 3])\n"
     ]
    }
   ],
   "source": [
    "x1 = torch.randn((3,1,3)).requires_grad_(True)  #\n",
    "print(x1)\n",
    "print(x1.shape)\n",
    "\n",
    "u1 = torch.stack([\n",
    "    x1[:,:,0]**0.5,\n",
    "    torch.sin(x1[:,:,1])+x1[:,:,0]**0.5,\n",
    "    torch.cos(x1[:,:,0]),\n",
    "    ],axis=2)\n",
    "\n",
    "print(u1.shape)"
   ]
  },
  {
   "cell_type": "code",
   "execution_count": 263,
   "metadata": {},
   "outputs": [
    {
     "data": {
      "text/plain": [
       "tensor([[   nan],\n",
       "        [0.9955],\n",
       "        [0.3642]], grad_fn=<SubBackward0>)"
      ]
     },
     "execution_count": 263,
     "metadata": {},
     "output_type": "execute_result"
    }
   ],
   "source": [
    "incompresibble_fluid_loss(u1,x1,1,1)-0\n",
    "#x_grad(u1,x1,0,1)[...,0]\n",
    "#print(x1[:,:,:1])\n",
    "#print(x_grad(u1,x1,0,1)[...,:2])\n",
    "#x_grad(u1,x1,0,1)[...,2]\n",
    "#x_grad(u1,x1,0,2)[...,:2]"
   ]
  },
  {
   "cell_type": "markdown",
   "id": "38ff088b",
   "metadata": {},
   "source": [
    "## 2 phase 2 dimensional Darcy flow"
   ]
  },
  {
   "cell_type": "markdown",
   "id": "06cb2f63",
   "metadata": {},
   "source": [
    "$$\\frac{\\partial}{\\partial t} \\left( \\phi \\frac{S_w}{B_w} \\right)+ \\nabla \\cdot \\left( \\frac{1}{B_w} \\mathbf{u}_w \\right)= 0 \\\\\n",
    "\\frac{\\partial}{\\partial t} \\left( \\phi \\frac{S_o}{B_o} \\right)\n",
    "+ \\nabla \\cdot \\left( \\frac{1}{B_o} \\mathbf{u}_o \\right)\n",
    "= 0 \\\\\n",
    "\\mathbf{u}_\\alpha = -k \\frac{k_{r\\alpha}}{\\mu_\\alpha} \\left( \\nabla P_\\alpha - \\rho_\\alpha g \\nabla z \\right)$$\n",
    "\n",
    "$$\n",
    "\\frac{\\partial}{\\partial t} \\left( \\phi \\frac{S_w}{B_w} \\right)+ \\nabla \\cdot \\left( \\frac{1}{B_w} \\mathbf{u}_w \\right)= 0 \\\\\n",
    "\\frac{\\partial}{\\partial t} \\left( \\phi \\frac{S_o}{B_o} \\right)\n",
    "+ \\nabla \\cdot \\left( \\frac{1}{B_o} \\mathbf{u}_o \\right)\n",
    "= 0 \\\\\n",
    "\\mathbf{u}_\\alpha = -k \\frac{k_{r\\alpha}}{\\mu_\\alpha} \\left( \\nabla P_\\alpha - \\rho_\\alpha g \\nabla z \\right)\n",
    "$$\n",
    "\n",
    "$$\n",
    "\\frac{1}{\\mu_o} \\nabla \\cdot (K_o(S) \\nabla \\Phi_o) = - \\phi \\frac{\\partial S}{\\partial p_c} \\left ( \\frac{\\partial \\Phi_o}{\\partial t} -\\frac{\\partial \\Phi_w}{\\partial t} \\right ) \\\\\n",
    "\\frac{1}{\\mu_w} \\nabla \\cdot (K_w(S) \\nabla \\Phi_w) = \\phi \\frac{\\partial S}{\\partial p_c} \\left ( \\frac{\\partial \\Phi_o}{\\partial t} -\\frac{\\partial \\Phi_w}{\\partial t} \\right )\n",
    "$$\n",
    "\n",
    "$$\n",
    "\\frac{1}{\\mu_o} \\nabla \\cdot (K_o(S) \\nabla \\Phi_o) = - \\phi \\left ( \\frac{\\partial S_o}{\\partial t} \\right ) \\\\\n",
    "\\frac{1}{\\mu_w} \\nabla \\cdot (K_w(S) \\nabla \\Phi_w) = - \\phi \\left ( \\frac{\\partial S_w}{\\partial t} \\right )\n",
    "$$\n",
    "\n",
    "$$p_c=f(S_w)$$\n",
    "\n",
    "$$\n",
    "p_t=p_o+p_w \\\\\n",
    "p_c=p_o-p_w \\\\\n",
    "\n",
    "p_o=\\frac{p_t+p_c}{2} =\\frac{p_t+f(S_w)}{2} \\\\\n",
    "$$\n",
    "$$\n",
    "p_w=\\frac{p_t-p_c}{2}=\\frac{p_t-f(S_w)}{2}\n",
    "$$"
   ]
  },
  {
   "cell_type": "markdown",
   "id": "d58ee356",
   "metadata": {},
   "source": [
    "### Brooks-Corey Model\n",
    "\n",
    "#### **1. Effective Saturation**  \n",
    "$$\n",
    "S_e = \\frac{S_w - S_{wc}}{1 - S_{wc} - S_{or}} \n",
    "$$ \n",
    "- **Variables**:  \n",
    "  - $(S_w)$ : Water saturation $[0, 1]$\n",
    "  - $(S_{wc})$: Irreducible water saturation $[0 \\leq S_{wc} < 1]$\n",
    "  - $(S_{or})$: Residual oil saturation $[0 \\leq S_{or} < 1]$\n",
    "- **Domain**:  \n",
    "  $S_e \\in [0, 1]$ when $S_w \\in [S_{wc}, 1 - S_{or}]$\n",
    "\n",
    "---\n",
    "\n",
    "#### **2. Capillary Pressure**  \n",
    "$$\n",
    "P_c(S_e) = \n",
    "\\begin{cases} \n",
    "P_{\\text{entry}} \\cdot S_e^{-1/\\lambda} & S_e > 0 \\\\\n",
    "\\infty & S_e = 0 \n",
    "\\end{cases}\n",
    "$$  \n",
    "- **Parameters**:  \n",
    "  - $P_{\\text{entry}} > 0$: Entry pressure  \n",
    "  - $\\lambda > 0$: Pore-size distribution index  \n",
    "- **Behavior**:  \n",
    "  - $\\lim_{S_e \\to 0^+} P_c = \\infty$  \n",
    "  - $P_c(S_e=1) = P_{\\text{entry}}$  \n",
    "\n",
    "---\n",
    "\n",
    "#### **3. Relative Permeability**  \n",
    "**Wetting phase (e.g., water)**:  \n",
    "$$\n",
    "k_{rw}(S_e) = k_{rw}^0 \\cdot S_e^{\\frac{2 + 3\\lambda}{\\lambda}}\n",
    "$$  \n",
    "**Non-wetting phase (e.g., oil)**:  \n",
    "$$\n",
    "k_{ro}(S_e) = k_{ro}^0 \\cdot (1 - S_e)^2 \\cdot \\left(1 - S_e^{\\frac{2 + \\lambda}{\\lambda}}\\right)\n",
    "$$  \n",
    "- **Parameters**:  \n",
    "  - $k_{rw}^0 \\in (0, 1]$: Endpoint rel. perm. for water  \n",
    "  - $k_{ro}^0 \\in (0, 1]$: Endpoint rel. perm. for oil  \n",
    "- **Constraints**:  \n",
    "  - $k_{rw}(S_e=0) = 0$, $\\quad k_{rw}(S_e=1) = k_{rw}^0$  \n",
    "  - $k_{ro}(S_e=0) = k_{ro}^0$, $\\quad k_{ro}(S_e=1) = 0$  \n",
    "\n",
    "---\n",
    "\n",
    "#### **4. Key Assumptions**  \n",
    "1. Models **drainage** (non-wetting phase invasion)  \n",
    "2. $\\lambda$ quantifies pore uniformity:  \n",
    "   - High $\\lambda$: Uniform pores (well-sorted sand)  \n",
    "   - Low $\\lambda$: Heterogeneous pores (poorly sorted sand/clay)  \n",
    "3. Irreducible saturations $S_{wc}$, $S_{or}$ are static  \n",
    "\n",
    "---\n",
    "\n",
    "#### **5. Hysteresis**  \n",
    "- Standard model describes **drainage** only  \n",
    "- **Imbibition** requires scanning curves or modified parameters  \n",
    "\n",
    "---\n",
    "\n",
    "#### **6. Parameter Ranges**  \n",
    "| Parameter       | Typical Range          | Dependence               |  \n",
    "|-----------------|------------------------|--------------------------|  \n",
    "| $S_{wc}$      | 0.05–0.45             | Rock type, wettability   |  \n",
    "| $S_{or}$      | 0.20–0.45             | Rock type, fluid properties |  \n",
    "| $\\lambda$     | 0.5–5.0               | Pore-size distribution   |  \n",
    "| $P_{\\text{entry}}$ | 0.1–10 kPa (sand)<br>10–100 kPa (clay) | Interfacial tension,"
   ]
  },
  {
   "cell_type": "code",
   "execution_count": 67,
   "id": "04d0ced4",
   "metadata": {},
   "outputs": [
    {
     "name": "stderr",
     "output_type": "stream",
     "text": [
      "<lambdifygenerated-78>:2: RuntimeWarning: divide by zero encountered in power\n",
      "  return P_i*((-Dummy_262 + S_w)/(-Dummy_262 - Dummy_263 + 1))**(-1/Dummy_261)\n"
     ]
    },
    {
     "data": {
      "image/png": "[encoded data removed]",
      "text/plain": [
       "<Figure size 640x480 with 1 Axes>"
      ]
     },
     "metadata": {},
     "output_type": "display_data"
    },
    {
     "data": {
      "image/png": "[encoded data removed]",
      "text/plain": [
       "<Figure size 640x480 with 1 Axes>"
      ]
     },
     "metadata": {},
     "output_type": "display_data"
    },
    {
     "data": {
      "image/png": "[encoded data removed]",
      "text/plain": [
       "<Figure size 640x480 with 1 Axes>"
      ]
     },
     "metadata": {},
     "output_type": "display_data"
    }
   ],
   "source": [
    "import matplotlib.pyplot as plt\n",
    "import numpy as np\n",
    "import sympy\n",
    "\n",
    "SWC=sympy.symbols(\"S_{wc}\")\n",
    "SOR=sympy.symbols(\"S_{or}\")\n",
    "Sw=sympy.symbols(\"S_w\")\n",
    "lam=sympy.symbols(\"\\lambda\")\n",
    "Pi=sympy.symbols(\"P_i\")\n",
    "K_rw0=sympy.symbols(\"k_{rw0}\")\n",
    "K_ro0=sympy.symbols(\"k_{ro0}\")\n",
    "\n",
    "Sc=(Sw-SWC)/(1-SWC-SOR)\n",
    "Pc=Pi*Sc**(-1/lam)\n",
    "\n",
    "K_rw=K_rw0*Sc**((2+3*lam)/(lam))\n",
    "K_ro=K_ro0*((1-Sc)**2)*(1-Sc**((2+lam)/(lam)))\n",
    "\n",
    "Pc_f=lambda sw: sympy.lambdify((Sw,SOR,SWC,lam,Pi),Pc)(sw,0.05,0.45,0.5,1e5)\n",
    "Se_f=lambda sw: sympy.lambdify((Sw,SOR,SWC),Sc)(sw,0.05,0.45)\n",
    "K_rw_f=lambda sw: sympy.lambdify((Sw,SOR,SWC,lam,Pi,K_rw0),K_rw)(sw,0.05,0.45,0.5,1e5,0.3)\n",
    "K_ro_f=lambda sw: sympy.lambdify((Sw,SOR,SWC,lam,Pi,K_ro0),K_ro)(sw,0.05,0.45,0.5,1e5,0.5)\n",
    "\n",
    "Sw_points=np.arange(0.45,1-0.05,0.001) # SWR,1-SOR\n",
    "plt.plot(Sw_points,Pc_f(Sw_points))\n",
    "plt.show()\n",
    "plt.plot(Sw_points,Se_f(Sw_points))\n",
    "plt.show()\n",
    "plt.plot(Sw_points,K_rw_f(Sw_points))\n",
    "plt.plot(Sw_points,K_ro_f(Sw_points))\n",
    "plt.show()"
   ]
  },
  {
   "cell_type": "code",
   "execution_count": 69,
   "id": "16aaa3f9",
   "metadata": {},
   "outputs": [],
   "source": [
    "import torch\n",
    "def transform_sw_pt2pa(Sw,pt):\n",
    "    pc=Pc_f(Sw)\n",
    "    p_o=(pt+pc)/2\n",
    "    p_w=(pt-pc)/2\n",
    "    return p_o,p_w"
   ]
  },
  {
   "cell_type": "markdown",
   "id": "0618ae8d",
   "metadata": {},
   "source": [
    "$$\n",
    "\\frac{1}{\\mu_o} \\nabla \\cdot (K_o(S) \\nabla \\Phi_o) = - \\phi \\left ( \\frac{\\partial S_o}{\\partial t} \\right ) \\\\\n",
    "\\frac{1}{\\mu_w} \\nabla \\cdot (K_w(S) \\nabla \\Phi_w) = - \\phi \\left ( \\frac{\\partial S_w}{\\partial t} \\right )\n",
    "$$"
   ]
  },
  {
   "cell_type": "code",
   "execution_count": 70,
   "id": "963161eb",
   "metadata": {},
   "outputs": [],
   "source": [
    "#OsWsPoPwBo\n",
    "def two_phase_darcy_flow(Uv,xtk,muw=0.32,muo=1.295,porosity=0.2):\n",
    "    l=0\n",
    "    # grad n of U-ith comp wrt to x, indexing to choose x-ith derivative\n",
    "    # x-velocity components\n",
    "    Ko=torch.tensor([\n",
    "        [xtk[3],0],[0,xtk[4]]\n",
    "        ])\n",
    "    Kw=torch.tensor([\n",
    "        [xtk[3],0],[0,xtk[4]]\n",
    "        ])\n",
    "    l+=vector_grad( # oil pressure gradient\n",
    "            torch.tensordot(\n",
    "            x_grad(Uv,xtk,2,1)[...,:2],\n",
    "            Ko,dims=([-1],[1])),xtk).sum(-1)/muo\n",
    "    l+=porosity * x_grad(Uv,xtk,0,1)[...,2] # Oil saturatin change\n",
    "    l+=vector_grad( # oil pressure gradient\n",
    "            torch.tensordot(\n",
    "            x_grad(Uv,xtk,3,1)[...,:2],\n",
    "            Ko,dims=([-1],[1])),xtk).sum(-1)/muw\n",
    "    l+=porosity * x_grad(Uv,xtk,1,1)[...,2] # Oil saturatin change\n",
    "    \n",
    "    return l"
   ]
  },
  {
   "cell_type": "code",
   "execution_count": 152,
   "id": "af541e42",
   "metadata": {},
   "outputs": [
    {
     "name": "stdout",
     "output_type": "stream",
     "text": [
      "tensor([[[0.7434, 0.6072, 1.2645, 0.5815, 0.0273],\n",
      "         [0.3705, 0.9131, 1.8013, 0.5695, 0.3152]],\n",
      "\n",
      "        [[0.6184, 0.2705, 1.0670, 1.4077, 0.7457],\n",
      "         [0.4989, 0.0922, 0.0203, 1.0605, 0.4518]],\n",
      "\n",
      "        [[0.5878, 0.4296, 0.0558, 0.8286, 1.6997],\n",
      "         [0.4021, 0.7854, 0.5171, 1.0152, 1.4765]]], requires_grad=True)\n",
      "torch.Size([3, 2, 5])\n",
      "tensor([[[0.5000, 0.8212],\n",
      "         [0.5000, 0.6113]],\n",
      "\n",
      "        [[0.5000, 0.9636],\n",
      "         [0.5000, 0.9958]],\n",
      "\n",
      "        [[0.5000, 0.9091],\n",
      "         [0.5000, 0.7071]]], grad_fn=<SliceBackward0>)\n"
     ]
    },
    {
     "data": {
      "text/plain": [
       "torch.Size([3, 2])"
      ]
     },
     "execution_count": 152,
     "metadata": {},
     "output_type": "execute_result"
    }
   ],
   "source": [
    "#from \n",
    "\n",
    "x1 = torch.abs(torch.randn((3,2,5))).requires_grad_(True)  # batch p u\n",
    "print(x1)\n",
    "print(x1.shape)\n",
    "\n",
    "u1 = torch.stack([\n",
    "    x1[:,:,0]**0.5,\n",
    "    x1[:,:,1]*0.5,\n",
    "    torch.sin(x1[:,:,1])+x1[:,:,0]*0.5,\n",
    "    torch.cos(x1[:,:,3]),\n",
    "    torch.cos(x1[:,:,4]),\n",
    "    ],axis=2)\n",
    "\n",
    "Ko=torch.tensor([\n",
    "        [2.,0],[0,2.]\n",
    "        ])\n",
    "\n",
    "print(x_grad(u1,x1,2,1)[...,:2])\n",
    "vector_grad(\n",
    "    torch.tensordot(\n",
    "    x_grad(u1,x1,2,1)[...,:2],\n",
    "    Ko,dims=([-1],[1])\n",
    "),x1).sum(-1)\n",
    "\n",
    "#torch.matmul(\n",
    "#    Ko,\n",
    "#    x_grad(u1,x1,2,1)[...,:2]\n",
    "#)"
   ]
  },
  {
   "cell_type": "code",
   "execution_count": 142,
   "id": "17d04d88",
   "metadata": {},
   "outputs": [
    {
     "data": {
      "text/plain": [
       "tensor([[3., 0.],\n",
       "        [0., 2.]])"
      ]
     },
     "execution_count": 142,
     "metadata": {},
     "output_type": "execute_result"
    }
   ],
   "source": [
    "Ko"
   ]
  },
  {
   "cell_type": "code",
   "execution_count": 102,
   "id": "25699aa4",
   "metadata": {},
   "outputs": [
    {
     "data": {
      "text/plain": [
       "tensor([[[ 0.4180, -0.2189,  0.4524,  1.2193, -0.1428],\n",
       "         [ 0.1802,  0.3464, -0.9281,  1.4344,  0.1749]],\n",
       "\n",
       "        [[-0.2068, -0.2847, -0.4209,  0.0522,  0.5762],\n",
       "         [ 0.0963, -1.1939, -0.7538, -0.4773, -0.3764]],\n",
       "\n",
       "        [[ 0.8863,  0.7170,  1.0575,  0.9020, -0.8876],\n",
       "         [-0.5574,  2.1587, -0.3586,  0.7874, -1.1168]]])"
      ]
     },
     "execution_count": 102,
     "metadata": {},
     "output_type": "execute_result"
    }
   ],
   "source": [
    "torch.randn((3,2,5))"
   ]
  },
  {
   "cell_type": "code",
   "execution_count": 85,
   "id": "09593f42",
   "metadata": {},
   "outputs": [
    {
     "name": "stdout",
     "output_type": "stream",
     "text": [
      "\u001b[0;31mSignature:\u001b[0m \u001b[0mtorch\u001b[0m\u001b[0;34m.\u001b[0m\u001b[0mtensordot\u001b[0m\u001b[0;34m(\u001b[0m\u001b[0ma\u001b[0m\u001b[0;34m,\u001b[0m \u001b[0mb\u001b[0m\u001b[0;34m,\u001b[0m \u001b[0mdims\u001b[0m\u001b[0;34m=\u001b[0m\u001b[0;36m2\u001b[0m\u001b[0;34m,\u001b[0m \u001b[0mout\u001b[0m\u001b[0;34m:\u001b[0m \u001b[0mOptional\u001b[0m\u001b[0;34m[\u001b[0m\u001b[0mtorch\u001b[0m\u001b[0;34m.\u001b[0m\u001b[0mTensor\u001b[0m\u001b[0;34m]\u001b[0m \u001b[0;34m=\u001b[0m \u001b[0;32mNone\u001b[0m\u001b[0;34m)\u001b[0m\u001b[0;34m\u001b[0m\u001b[0;34m\u001b[0m\u001b[0m\n",
      "\u001b[0;31mDocstring:\u001b[0m\n",
      "Returns a contraction of a and b over multiple dimensions.\n",
      "\n",
      ":attr:`tensordot` implements a generalized matrix product.\n",
      "\n",
      "Args:\n",
      "  a (Tensor): Left tensor to contract\n",
      "  b (Tensor): Right tensor to contract\n",
      "  dims (int or Tuple[List[int], List[int]] or List[List[int]] containing two lists or Tensor): number of dimensions to\n",
      "     contract or explicit lists of dimensions for :attr:`a` and\n",
      "     :attr:`b` respectively\n",
      "\n",
      "When called with a non-negative integer argument :attr:`dims` = :math:`d`, and\n",
      "the number of dimensions of :attr:`a` and :attr:`b` is :math:`m` and :math:`n`,\n",
      "respectively, :func:`~torch.tensordot` computes\n",
      "\n",
      ".. math::\n",
      "    r_{i_0,...,i_{m-d}, i_d,...,i_n}\n",
      "      = \\sum_{k_0,...,k_{d-1}} a_{i_0,...,i_{m-d},k_0,...,k_{d-1}} \\times b_{k_0,...,k_{d-1}, i_d,...,i_n}.\n",
      "\n",
      "When called with :attr:`dims` of the list form, the given dimensions will be contracted\n",
      "in place of the last :math:`d` of :attr:`a` and the first :math:`d` of :math:`b`. The sizes\n",
      "in these dimensions must match, but :func:`~torch.tensordot` will deal with broadcasted\n",
      "dimensions.\n",
      "\n",
      "Examples::\n",
      "\n",
      "    >>> a = torch.arange(60.).reshape(3, 4, 5)\n",
      "    >>> b = torch.arange(24.).reshape(4, 3, 2)\n",
      "    >>> torch.tensordot(a, b, dims=([1, 0], [0, 1]))\n",
      "    tensor([[4400., 4730.],\n",
      "            [4532., 4874.],\n",
      "            [4664., 5018.],\n",
      "            [4796., 5162.],\n",
      "            [4928., 5306.]])\n",
      "\n",
      "    >>> # xdoctest: +REQUIRES(env:TORCH_DOCTEST_CUDA)\n",
      "    >>> a = torch.randn(3, 4, 5, device='cuda')\n",
      "    >>> b = torch.randn(4, 5, 6, device='cuda')\n",
      "    >>> c = torch.tensordot(a, b, dims=2).cpu()\n",
      "    tensor([[ 8.3504, -2.5436,  6.2922,  2.7556, -1.0732,  3.2741],\n",
      "            [ 3.3161,  0.0704,  5.0187, -0.4079, -4.3126,  4.8744],\n",
      "            [ 0.8223,  3.9445,  3.2168, -0.2400,  3.4117,  1.7780]])\n",
      "\n",
      "    >>> a = torch.randn(3, 5, 4, 6)\n",
      "    >>> b = torch.randn(6, 4, 5, 3)\n",
      "    >>> torch.tensordot(a, b, dims=([2, 1, 3], [1, 2, 0]))\n",
      "    tensor([[  7.7193,  -2.4867, -10.3204],\n",
      "            [  1.5513, -14.4737,  -6.5113],\n",
      "            [ -0.2850,   4.2573,  -3.5997]])\n",
      "\u001b[0;31mFile:\u001b[0m      /usr/local/lib/python3.10/dist-packages/torch/functional.py\n",
      "\u001b[0;31mType:\u001b[0m      function"
     ]
    }
   ],
   "source": [
    "torch.tensordot?"
   ]
  }
 ],
 "metadata": {
  "kernelspec": {
   "display_name": "Python 3 (ipykernel)",
   "language": "python",
   "name": "python3"
  },
  "language_info": {
   "codemirror_mode": {
    "name": "ipython",
    "version": 3
   },
   "file_extension": ".py",
   "mimetype": "text/x-python",
   "name": "python",
   "nbconvert_exporter": "python",
   "pygments_lexer": "ipython3",
   "version": "3.10.12"
  }
 },
 "nbformat": 4,
 "nbformat_minor": 5
}

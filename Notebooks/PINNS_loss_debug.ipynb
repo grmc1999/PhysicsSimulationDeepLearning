{
 "cells": [
  {
   "cell_type": "markdown",
   "id": "1e951d77-0ee0-4320-8e8b-4fd739711728",
   "metadata": {},
   "source": [
    "# GAN_PI data"
   ]
  },
  {
   "cell_type": "code",
   "execution_count": 1,
   "id": "e4c1c928-c7d8-4487-9046-18288c742b3d",
   "metadata": {},
   "outputs": [
    {
     "name": "stdout",
     "output_type": "stream",
     "text": [
      "Collecting scipy\n",
      "  Downloading scipy-1.15.1-cp312-cp312-manylinux_2_17_x86_64.manylinux2014_x86_64.whl.metadata (61 kB)\n",
      "Requirement already satisfied: numpy<2.5,>=1.23.5 in /dolfinx-env/lib/python3.12/site-packages (from scipy) (2.0.2)\n",
      "Downloading scipy-1.15.1-cp312-cp312-manylinux_2_17_x86_64.manylinux2014_x86_64.whl (40.2 MB)\n",
      "\u001b[2K   \u001b[90m━━━━━━━━━━━━━━━━━━━━━━━━━━━━━━━━━━━━━━━━\u001b[0m \u001b[32m40.2/40.2 MB\u001b[0m \u001b[31m30.7 MB/s\u001b[0m eta \u001b[36m0:00:00\u001b[0ma \u001b[36m0:00:01\u001b[0m\n",
      "\u001b[?25hInstalling collected packages: scipy\n",
      "Successfully installed scipy-1.15.1\n",
      "\n",
      "\u001b[1m[\u001b[0m\u001b[34;49mnotice\u001b[0m\u001b[1;39;49m]\u001b[0m\u001b[39;49m A new release of pip is available: \u001b[0m\u001b[31;49m25.0\u001b[0m\u001b[39;49m -> \u001b[0m\u001b[32;49m25.0.1\u001b[0m\n",
      "\u001b[1m[\u001b[0m\u001b[34;49mnotice\u001b[0m\u001b[1;39;49m]\u001b[0m\u001b[39;49m To update, run: \u001b[0m\u001b[32;49mpip install --upgrade pip\u001b[0m\n"
     ]
    }
   ],
   "source": [
    "!pip install scipy"
   ]
  },
  {
   "cell_type": "code",
   "execution_count": 11,
   "id": "4865e9b0-c759-451f-a019-96d5da1ef942",
   "metadata": {},
   "outputs": [],
   "source": [
    "import scipy\n",
    "import os"
   ]
  },
  {
   "cell_type": "code",
   "execution_count": 9,
   "id": "e701d86b-911d-45e9-a0ff-5d75b9c3c1ce",
   "metadata": {},
   "outputs": [
    {
     "name": "stdout",
     "output_type": "stream",
     "text": [
      "Buckley_Swc_0_Sor_0_M_2.mat  burgers_shock.mat\n"
     ]
    }
   ],
   "source": [
    "!ls ../../gan-pi/resources/data"
   ]
  },
  {
   "cell_type": "code",
   "execution_count": 14,
   "id": "0d3e095b-b0b1-4647-bbb8-1ba25d61a593",
   "metadata": {},
   "outputs": [],
   "source": [
    "path_lib = os.path.dirname(os.getcwd())\n",
    "path_resources = os.path.join(\"../../gan-pi\", 'resources')\n",
    "path_data = os.path.join(path_resources, 'data')\n",
    "\n",
    "filename = 'Buckley_Swc_0_Sor_0_M_2.mat'\n",
    "path_file = os.path.join(path_data, filename)\n",
    "data = scipy.io.loadmat(path_file)"
   ]
  },
  {
   "cell_type": "code",
   "execution_count": 16,
   "id": "1788d435-03f2-4f1a-ab17-3e6c9c4e6e6c",
   "metadata": {},
   "outputs": [
    {
     "data": {
      "text/plain": [
       "dict_keys(['__header__', '__version__', '__globals__', 't', 'usol', 'x'])"
      ]
     },
     "execution_count": 16,
     "metadata": {},
     "output_type": "execute_result"
    }
   ],
   "source": [
    "data.keys()"
   ]
  },
  {
   "cell_type": "code",
   "execution_count": 17,
   "id": "5ef545e8-222a-45b6-8207-391ea7be37a4",
   "metadata": {},
   "outputs": [
    {
     "data": {
      "text/plain": [
       "256"
      ]
     },
     "execution_count": 17,
     "metadata": {},
     "output_type": "execute_result"
    }
   ],
   "source": [
    "len(data[\"usol\"])"
   ]
  },
  {
   "cell_type": "markdown",
   "id": "7a61c630",
   "metadata": {},
   "source": [
    "# Gradient Notes"
   ]
  },
  {
   "cell_type": "code",
   "execution_count": 1,
   "id": "c1455eda",
   "metadata": {},
   "outputs": [],
   "source": [
    "import torch"
   ]
  },
  {
   "cell_type": "markdown",
   "id": "4538b769",
   "metadata": {},
   "source": [
    "### Grandient example"
   ]
  },
  {
   "cell_type": "code",
   "execution_count": 194,
   "id": "45ec2381",
   "metadata": {},
   "outputs": [
    {
     "name": "stdout",
     "output_type": "stream",
     "text": [
      "tensor([[[1., 1., 1.]],\n",
      "\n",
      "        [[1., 1., 1.]],\n",
      "\n",
      "        [[1., 1., 1.]]], requires_grad=True)\n",
      "tensor([[[1.0000, 1.8415, 0.5403, 1.0000]],\n",
      "\n",
      "        [[1.0000, 1.8415, 0.5403, 1.0000]],\n",
      "\n",
      "        [[1.0000, 1.8415, 0.5403, 1.0000]]], grad_fn=<StackBackward0>)\n",
      "torch.Size([3, 1, 4])\n"
     ]
    },
    {
     "data": {
      "text/plain": [
       "(tensor([[[0.1585, 2.5403, 0.0000]],\n",
       " \n",
       "         [[0.1585, 2.5403, 0.0000]],\n",
       " \n",
       "         [[0.1585, 2.5403, 0.0000]]], grad_fn=<AddBackward0>),)"
      ]
     },
     "execution_count": 194,
     "metadata": {},
     "output_type": "execute_result"
    }
   ],
   "source": [
    "x1 = torch.ones((3,1,3)).requires_grad_(True)  #\n",
    "print(x1)\n",
    "\n",
    "u1 = torch.stack([\n",
    "    x1[:,:,0]**0.5,\n",
    "    torch.sin(x1[:,:,1])+x1[:,:,0]**0.5,\n",
    "    torch.cos(x1[:,:,0]),\n",
    "    x1[:,:,1]**2,\n",
    "    ],axis=2)\n",
    "\n",
    "#u1 = torch.matmul(M,x1)\n",
    "\n",
    "\n",
    "#u1=torch.sin(torch.matmul(torch.rand(2,2).requires_grad_(True),x1))\n",
    "print(u1)\n",
    "print(u1.shape)\n",
    "torch.autograd.grad(\n",
    "    u1,x1,\n",
    "            grad_outputs=torch.ones_like(u1).to(u1.device),\n",
    "            create_graph=True,\n",
    "            retain_graph=True,\n",
    "            allow_unused=True\n",
    "            )"
   ]
  },
  {
   "cell_type": "markdown",
   "id": "7edf0efc",
   "metadata": {},
   "source": [
    "### Jacobian computation\n",
    "\n",
    "Expressed in pytorch with torch.autograd.grad\n",
    "\n",
    "$$ \\textbf{u} \\in \\mathbb{R}^n \\\\ \\textbf{x},\\textbf{e}_i \\in \\mathbb{R}^m $$\n",
    "$$ T_{ag} (\\textbf{u},\\textbf{x},\\textbf{e}_i) = \\nabla_{\\textbf{x}} \\textbf{u}_i  $$\n",
    "$$ T_{ag} (\\textbf{u},\\textbf{x},\\textbf{e}_i) = \\nabla_{\\textbf{x}} \\textbf{u}_i  $$\n",
    "$$ T_{ag} (\\textbf{u},\\textbf{x},\\textbf{e}_i+\\textbf{e}_j) = \\nabla_{\\textbf{x}} \\textbf{u}_i + \\nabla_{\\textbf{x}} \\textbf{u}_j $$\n",
    "$$ [T_{ag} (\\textbf{u},\\textbf{x},\\textbf{e}_i)]_{i=1}^n = J_{\\textbf{x}}(\\textbf{u})$$\n"
   ]
  },
  {
   "cell_type": "code",
   "execution_count": 195,
   "id": "a3fabb29",
   "metadata": {},
   "outputs": [
    {
     "name": "stdout",
     "output_type": "stream",
     "text": [
      "tensor([[[1.0000, 1.8415, 0.5403, 1.0000]],\n",
      "\n",
      "        [[1.0000, 1.8415, 0.5403, 1.0000]],\n",
      "\n",
      "        [[1.0000, 1.8415, 0.5403, 1.0000]]], grad_fn=<StackBackward0>)\n",
      "[tensor([[[0.5000, 0.0000, 0.0000]],\n",
      "\n",
      "        [[0.5000, 0.0000, 0.0000]],\n",
      "\n",
      "        [[0.5000, 0.0000, 0.0000]]], grad_fn=<AddBackward0>), tensor([[[0.5000, 0.5403, 0.0000]],\n",
      "\n",
      "        [[0.5000, 0.5403, 0.0000]],\n",
      "\n",
      "        [[0.5000, 0.5403, 0.0000]]], grad_fn=<AddBackward0>), tensor([[[-0.8415,  0.0000,  0.0000]],\n",
      "\n",
      "        [[-0.8415,  0.0000,  0.0000]],\n",
      "\n",
      "        [[-0.8415,  0.0000,  0.0000]]], grad_fn=<AddBackward0>), tensor([[[0., 2., 0.]],\n",
      "\n",
      "        [[0., 2., 0.]],\n",
      "\n",
      "        [[0., 2., 0.]]], grad_fn=<AddBackward0>)]\n",
      "tensor([[[[ 0.5000,  0.0000,  0.0000],\n",
      "          [ 0.5000,  0.5403,  0.0000],\n",
      "          [-0.8415,  0.0000,  0.0000],\n",
      "          [ 0.0000,  2.0000,  0.0000]]],\n",
      "\n",
      "\n",
      "        [[[ 0.5000,  0.0000,  0.0000],\n",
      "          [ 0.5000,  0.5403,  0.0000],\n",
      "          [-0.8415,  0.0000,  0.0000],\n",
      "          [ 0.0000,  2.0000,  0.0000]]],\n",
      "\n",
      "\n",
      "        [[[ 0.5000,  0.0000,  0.0000],\n",
      "          [ 0.5000,  0.5403,  0.0000],\n",
      "          [-0.8415,  0.0000,  0.0000],\n",
      "          [ 0.0000,  2.0000,  0.0000]]]], grad_fn=<StackBackward0>)\n",
      "torch.Size([3, 1, 4, 3])\n"
     ]
    },
    {
     "data": {
      "text/plain": [
       "torch.Size([3, 1, 3])"
      ]
     },
     "execution_count": 195,
     "metadata": {},
     "output_type": "execute_result"
    }
   ],
   "source": [
    "unit_vectors=torch.eye(4)\n",
    "print(u1)\n",
    "jacobian_rows = [torch.autograd.grad(u1, x1, vec_.unsqueeze(0).unsqueeze(0).tile(u1.shape[0],u1.shape[1],1),\n",
    "            create_graph=True,\n",
    "            retain_graph=True,\n",
    "            allow_unused=True)[0]\n",
    "                     for vec_ in unit_vectors]\n",
    "print(jacobian_rows)\n",
    "print(torch.stack(jacobian_rows,axis=2))\n",
    "print(torch.stack(jacobian_rows,axis=2).shape)\n",
    "\n",
    "torch.autograd.grad(u1, x1, unit_vectors[1].unsqueeze(0).unsqueeze(0).tile(u1.shape[0],u1.shape[1],1),\n",
    "            create_graph=True,\n",
    "            retain_graph=True,\n",
    "            allow_unused=True)[0].shape"
   ]
  },
  {
   "cell_type": "code",
   "execution_count": 73,
   "id": "086a6575",
   "metadata": {},
   "outputs": [],
   "source": [
    "#\n",
    "\n",
    "def vector_jacobian(u,x):\n",
    "    unit_vectors=torch.eye(u.shape[-1])\n",
    "    jacobian_rows = [torch.autograd.grad(u, x, vec_.unsqueeze(0).unsqueeze(0).tile(u.shape[0],u.shape[1],1),\n",
    "            create_graph=True,\n",
    "            retain_graph=True,\n",
    "            allow_unused=True)[0]\n",
    "                     for vec_ in unit_vectors]\n",
    "    return torch.stack(jacobian_rows,axis=2)\n",
    "\n",
    "\n",
    "def vector_grad(u,x):\n",
    "    unit_vectors=torch.eye(u.shape[-1])\n",
    "    jacobian_rows = [torch.autograd.grad(u, x, vec_.unsqueeze(0).unsqueeze(0).tile(u.shape[0],u.shape[1],1),\n",
    "            create_graph=True,\n",
    "            retain_graph=True,\n",
    "            allow_unused=True)[0]\n",
    "                     for vec_ in unit_vectors]\n",
    "    return torch.diagonal(torch.stack(jacobian_rows,axis=2),dim1=-2,dim2=-1)\n",
    "\n",
    "def x_grad(u,x,i,n):\n",
    "    \"\"\"\n",
    "    gradient of degree wrt x for componen i for u\n",
    "    input:\n",
    "    u and x are tensors with vectors object at dimension -1\n",
    "    [b, n_vectors, vector_dimension]\n",
    "\n",
    "    output:\n",
    "    [b, n_vectors, input_vector_dimension]\n",
    "    \"\"\"\n",
    "    I=torch.eye(u.shape[-1])\n",
    "\n",
    "    u=torch.autograd.grad(u ,x,\n",
    "            I[i].unsqueeze(0).unsqueeze(0).tile(u.shape[0],u.shape[1],1).to(u.device),\n",
    "            create_graph=True,\n",
    "            retain_graph=True,\n",
    "            allow_unused=True)[0]\n",
    "    if n > 1:\n",
    "        for i in range(n-1):\n",
    "            u=vector_grad(u,x)\n",
    "    return u"
   ]
  },
  {
   "cell_type": "code",
   "execution_count": 197,
   "id": "7f519d0c",
   "metadata": {},
   "outputs": [
    {
     "name": "stdout",
     "output_type": "stream",
     "text": [
      "tensor([[[0.5000, 0.0000, 0.0000]],\n",
      "\n",
      "        [[0.5000, 0.0000, 0.0000]],\n",
      "\n",
      "        [[0.5000, 0.0000, 0.0000]]], grad_fn=<AddBackward0>)\n"
     ]
    }
   ],
   "source": [
    "print(x_grad(u1,x1,0,1))\n",
    "udx=x_grad(u1,x1,0,1)\n"
   ]
  },
  {
   "cell_type": "code",
   "execution_count": 198,
   "id": "0219aa9d",
   "metadata": {},
   "outputs": [
    {
     "name": "stdout",
     "output_type": "stream",
     "text": [
      "torch.Size([3, 1, 3])\n"
     ]
    },
    {
     "data": {
      "text/plain": [
       "tensor([[[1., 1., 1.]],\n",
       "\n",
       "        [[1., 1., 1.]],\n",
       "\n",
       "        [[1., 1., 1.]]], requires_grad=True)"
      ]
     },
     "execution_count": 198,
     "metadata": {},
     "output_type": "execute_result"
    }
   ],
   "source": [
    "print(x1.shape)\n",
    "x1"
   ]
  },
  {
   "cell_type": "code",
   "execution_count": 199,
   "id": "53505733",
   "metadata": {},
   "outputs": [
    {
     "data": {
      "text/plain": [
       "tensor([[0.5000],\n",
       "        [0.5000],\n",
       "        [0.5000]], grad_fn=<SumBackward1>)"
      ]
     },
     "execution_count": 199,
     "metadata": {},
     "output_type": "execute_result"
    }
   ],
   "source": [
    "torch.sum(x1*udx,axis=-1)"
   ]
  },
  {
   "cell_type": "code",
   "execution_count": 204,
   "id": "71aec231",
   "metadata": {},
   "outputs": [
    {
     "data": {
      "text/plain": [
       "tensor([[[0.5000, 0.0000]],\n",
       "\n",
       "        [[0.5000, 0.0000]],\n",
       "\n",
       "        [[0.5000, 0.0000]]], grad_fn=<SliceBackward0>)"
      ]
     },
     "execution_count": 204,
     "metadata": {},
     "output_type": "execute_result"
    }
   ],
   "source": [
    "udx[:,:,:2]"
   ]
  },
  {
   "cell_type": "markdown",
   "id": "87a14e01",
   "metadata": {},
   "source": [
    "# Residuals debug"
   ]
  },
  {
   "cell_type": "markdown",
   "id": "c9bd3008",
   "metadata": {},
   "source": [
    "## NS reesidual"
   ]
  },
  {
   "cell_type": "code",
   "execution_count": 259,
   "id": "1e1b7a8e",
   "metadata": {},
   "outputs": [],
   "source": [
    "def incompresibble_fluid_loss(up,xt,mu=1,rho=1):\n",
    "    l=0\n",
    "    # x-velocity components\n",
    "    l+=x_grad(up,xt,0,1)[...,2] # dudt\n",
    "    l+=torch.sum(up[...,:1]*x_grad(up,xt,0,1)[...,:2],axis=-1) # u * grad u\n",
    "    l+=(mu/rho)*(x_grad(up,xt,2,1)[...,0]) #  dpdx\n",
    "    l-=(mu/rho)*torch.sum(x_grad(up,xt,0,2)[...,:2],axis=-1) # grad**2 u\n",
    "    # y-velocity components\n",
    "    l+=x_grad(up,xt,1,1)[...,2] # dvdt\n",
    "    l+=torch.sum(up[...,1:2]*x_grad(up,xt,0,1)[...,:2],axis=-1) # v * grad v\n",
    "    l+=(mu/rho)*(x_grad(up,xt,2,1)[...,1]) #  dpdy\n",
    "    l-=(mu/rho)*torch.sum(x_grad(up,xt,1,2)[...,:2],axis=-1) # grad**2 v\n",
    "    return l"
   ]
  },
  {
   "cell_type": "markdown",
   "id": "9baf731f",
   "metadata": {},
   "source": [
    "### Debug"
   ]
  },
  {
   "cell_type": "code",
   "execution_count": 260,
   "id": "ab70b55c",
   "metadata": {},
   "outputs": [
    {
     "name": "stdout",
     "output_type": "stream",
     "text": [
      "tensor([[[-1.5316, -0.0218,  1.3527]],\n",
      "\n",
      "        [[ 2.0246,  0.5625, -0.8633]],\n",
      "\n",
      "        [[ 0.5488, -0.9313,  0.3730]]], requires_grad=True)\n",
      "torch.Size([3, 1, 3])\n",
      "torch.Size([3, 1, 3])\n"
     ]
    }
   ],
   "source": [
    "x1 = torch.randn((3,1,3)).requires_grad_(True)  #\n",
    "print(x1)\n",
    "print(x1.shape)\n",
    "\n",
    "u1 = torch.stack([\n",
    "    x1[:,:,0]**0.5,\n",
    "    torch.sin(x1[:,:,1])+x1[:,:,0]**0.5,\n",
    "    torch.cos(x1[:,:,0]),\n",
    "    ],axis=2)\n",
    "\n",
    "print(u1.shape)"
   ]
  },
  {
   "cell_type": "code",
   "execution_count": 263,
   "id": "01428474",
   "metadata": {},
   "outputs": [
    {
     "data": {
      "text/plain": [
       "tensor([[   nan],\n",
       "        [0.9955],\n",
       "        [0.3642]], grad_fn=<SubBackward0>)"
      ]
     },
     "execution_count": 263,
     "metadata": {},
     "output_type": "execute_result"
    }
   ],
   "source": [
    "incompresibble_fluid_loss(u1,x1,1,1)-0\n",
    "#x_grad(u1,x1,0,1)[...,0]\n",
    "#print(x1[:,:,:1])\n",
    "#print(x_grad(u1,x1,0,1)[...,:2])\n",
    "#x_grad(u1,x1,0,1)[...,2]\n",
    "#x_grad(u1,x1,0,2)[...,:2]"
   ]
  },
  {
   "cell_type": "markdown",
   "id": "38ff088b",
   "metadata": {},
   "source": [
    "## 2 phase 2 dimensional Darcy flow"
   ]
  },
  {
   "cell_type": "markdown",
   "id": "06cb2f63",
   "metadata": {},
   "source": [
    "$$\\frac{\\partial}{\\partial t} \\left( \\phi \\frac{S_w}{B_w} \\right)+ \\nabla \\cdot \\left( \\frac{1}{B_w} \\mathbf{u}_w \\right)= 0 \\\\\n",
    "\\frac{\\partial}{\\partial t} \\left( \\phi \\frac{S_o}{B_o} \\right)\n",
    "+ \\nabla \\cdot \\left( \\frac{1}{B_o} \\mathbf{u}_o \\right)\n",
    "= 0 \\\\\n",
    "\\mathbf{u}_\\alpha = -k \\frac{k_{r\\alpha}}{\\mu_\\alpha} \\left( \\nabla P_\\alpha - \\rho_\\alpha g \\nabla z \\right)$$\n",
    "\n",
    "$$\n",
    "\\frac{\\partial}{\\partial t} \\left( \\phi \\frac{S_w}{B_w} \\right)+ \\nabla \\cdot \\left( \\frac{1}{B_w} \\mathbf{u}_w \\right)= 0 \\\\\n",
    "\\frac{\\partial}{\\partial t} \\left( \\phi \\frac{S_o}{B_o} \\right)\n",
    "+ \\nabla \\cdot \\left( \\frac{1}{B_o} \\mathbf{u}_o \\right)\n",
    "= 0 \\\\\n",
    "\\mathbf{u}_\\alpha = -k \\frac{k_{r\\alpha}}{\\mu_\\alpha} \\left( \\nabla P_\\alpha - \\rho_\\alpha g \\nabla z \\right)\n",
    "$$\n",
    "\n",
    "$$\n",
    "\\frac{1}{\\mu_o} \\nabla \\cdot (K_o(S) \\nabla \\Phi_o) = - \\phi \\frac{\\partial S}{\\partial p_c} \\left ( \\frac{\\partial \\Phi_o}{\\partial t} -\\frac{\\partial \\Phi_w}{\\partial t} \\right ) \\\\\n",
    "\\frac{1}{\\mu_w} \\nabla \\cdot (K_w(S) \\nabla \\Phi_w) = \\phi \\frac{\\partial S}{\\partial p_c} \\left ( \\frac{\\partial \\Phi_o}{\\partial t} -\\frac{\\partial \\Phi_w}{\\partial t} \\right )\n",
    "$$\n",
    "\n",
    "$$\n",
    "\\frac{1}{\\mu_o} \\nabla \\cdot (K_o(S) \\nabla \\Phi_o) = - \\phi \\left ( \\frac{\\partial S_o}{\\partial t} \\right ) \\\\\n",
    "\\frac{1}{\\mu_w} \\nabla \\cdot (K_w(S) \\nabla \\Phi_w) = - \\phi \\left ( \\frac{\\partial S_w}{\\partial t} \\right )\n",
    "$$\n",
    "\n",
    "$$p_c=f(S_w)$$\n",
    "\n",
    "$$\n",
    "p_t=p_o+p_w \\\\\n",
    "p_c=p_o-p_w \\\\\n",
    "\n",
    "p_o=\\frac{p_t+p_c}{2} =\\frac{p_t+f(S_w)}{2} \\\\\n",
    "$$\n",
    "$$\n",
    "p_w=\\frac{p_t-p_c}{2}=\\frac{p_t-f(S_w)}{2}\n",
    "$$"
   ]
  },
  {
   "cell_type": "markdown",
   "id": "d58ee356",
   "metadata": {},
   "source": [
    "### Brooks-Corey Model\n",
    "\n",
    "#### **1. Effective Saturation**  \n",
    "$$\n",
    "S_e = \\frac{S_w - S_{wc}}{1 - S_{wc} - S_{or}} \n",
    "$$ \n",
    "- **Variables**:  \n",
    "  - $(S_w)$ : Water saturation $[0, 1]$\n",
    "  - $(S_{wc})$: Irreducible water saturation $[0 \\leq S_{wc} < 1]$\n",
    "  - $(S_{or})$: Residual oil saturation $[0 \\leq S_{or} < 1]$\n",
    "- **Domain**:  \n",
    "  $S_e \\in [0, 1]$ when $S_w \\in [S_{wc}, 1 - S_{or}]$\n",
    "\n",
    "---\n",
    "\n",
    "#### **2. Capillary Pressure**  \n",
    "$$\n",
    "P_c(S_e) = \n",
    "\\begin{cases} \n",
    "P_{\\text{entry}} \\cdot S_e^{-1/\\lambda} & S_e > 0 \\\\\n",
    "\\infty & S_e = 0 \n",
    "\\end{cases}\n",
    "$$  \n",
    "- **Parameters**:  \n",
    "  - $P_{\\text{entry}} > 0$: Entry pressure  \n",
    "  - $\\lambda > 0$: Pore-size distribution index  \n",
    "- **Behavior**:  \n",
    "  - $\\lim_{S_e \\to 0^+} P_c = \\infty$  \n",
    "  - $P_c(S_e=1) = P_{\\text{entry}}$  \n",
    "\n",
    "---\n",
    "\n",
    "#### **3. Relative Permeability**  \n",
    "**Wetting phase (e.g., water)**:  \n",
    "$$\n",
    "k_{rw}(S_e) = k_{rw}^0 \\cdot S_e^{\\frac{2 + 3\\lambda}{\\lambda}}\n",
    "$$  \n",
    "**Non-wetting phase (e.g., oil)**:  \n",
    "$$\n",
    "k_{ro}(S_e) = k_{ro}^0 \\cdot (1 - S_e)^2 \\cdot \\left(1 - S_e^{\\frac{2 + \\lambda}{\\lambda}}\\right)\n",
    "$$  \n",
    "- **Parameters**:  \n",
    "  - $k_{rw}^0 \\in (0, 1]$: Endpoint rel. perm. for water  \n",
    "  - $k_{ro}^0 \\in (0, 1]$: Endpoint rel. perm. for oil  \n",
    "- **Constraints**:  \n",
    "  - $k_{rw}(S_e=0) = 0$, $\\quad k_{rw}(S_e=1) = k_{rw}^0$  \n",
    "  - $k_{ro}(S_e=0) = k_{ro}^0$, $\\quad k_{ro}(S_e=1) = 0$  \n",
    "\n",
    "---\n",
    "\n",
    "#### **4. Key Assumptions**  \n",
    "1. Models **drainage** (non-wetting phase invasion)  \n",
    "2. $\\lambda$ quantifies pore uniformity:  \n",
    "   - High $\\lambda$: Uniform pores (well-sorted sand)  \n",
    "   - Low $\\lambda$: Heterogeneous pores (poorly sorted sand/clay)  \n",
    "3. Irreducible saturations $S_{wc}$, $S_{or}$ are static  \n",
    "\n",
    "---\n",
    "\n",
    "#### **5. Hysteresis**  \n",
    "- Standard model describes **drainage** only  \n",
    "- **Imbibition** requires scanning curves or modified parameters  \n",
    "\n",
    "---\n",
    "\n",
    "#### **6. Parameter Ranges**  \n",
    "| Parameter       | Typical Range          | Dependence               |  \n",
    "|-----------------|------------------------|--------------------------|  \n",
    "| $S_{wc}$      | 0.05–0.45             | Rock type, wettability   |  \n",
    "| $S_{or}$      | 0.20–0.45             | Rock type, fluid properties |  \n",
    "| $\\lambda$     | 0.5–5.0               | Pore-size distribution   |  \n",
    "| $P_{\\text{entry}}$ | 0.1–10 kPa (sand)<br>10–100 kPa (clay) | Interfacial tension,"
   ]
  },
  {
   "cell_type": "code",
   "execution_count": 1,
   "id": "193def0c",
   "metadata": {},
   "outputs": [
    {
     "name": "stderr",
     "output_type": "stream",
     "text": [
      "/usr/local/lib/python3.10/dist-packages/matplotlib/projections/__init__.py:63: UserWarning: Unable to import Axes3D. This may be due to multiple versions of Matplotlib being installed (e.g. as a system package and as a pip package). As a result, the 3D projection is not available.\n",
      "  warnings.warn(\"Unable to import Axes3D. This may be due to multiple versions of \"\n"
     ]
    },
    {
     "data": {
      "text/latex": [
       "$\\displaystyle P_{i} \\left(\\frac{S_{w} - S_{wc}}{- S_{or} - S_{wc} + 1}\\right)^{- \\frac{1}{\\lambda}} = P_{c}$"
      ],
      "text/plain": [
       "Eq(P_i/((S_w - S_{wc})/(-S_{or} - S_{wc} + 1))**(1/\\lambda), P_c)"
      ]
     },
     "execution_count": 1,
     "metadata": {},
     "output_type": "execute_result"
    }
   ],
   "source": [
    "import matplotlib.pyplot as plt\n",
    "import numpy as np\n",
    "import sympy\n",
    "\n",
    "SWC=sympy.symbols(\"S_{wc}\")\n",
    "SOR=sympy.symbols(\"S_{or}\")\n",
    "Sw=sympy.symbols(\"S_w\")\n",
    "lam=sympy.symbols(\"\\lambda\")\n",
    "Pi=sympy.symbols(\"P_i\")\n",
    "K_rw0=sympy.symbols(\"k_{rw0}\")\n",
    "K_ro0=sympy.symbols(\"k_{ro0}\")\n",
    "\n",
    "Pc_=sympy.symbols(\"P_c\")\n",
    "\n",
    "Sc=(Sw-SWC)/(1-SWC-SOR)\n",
    "Pc=Pi*Sc**(-1/lam)\n",
    "\n",
    "K_rw=K_rw0*Sc**((2+3*lam)/(lam))\n",
    "K_ro=K_ro0*((1-Sc)**2)*(1-Sc**((2+lam)/(lam)))\n",
    "Pc\n",
    "sympy.Eq(Pc,Pc_)"
   ]
  },
  {
   "cell_type": "code",
   "execution_count": null,
   "id": "683a5edc",
   "metadata": {},
   "outputs": [],
   "source": []
  },
  {
   "cell_type": "code",
   "execution_count": null,
   "id": "28a419b2",
   "metadata": {},
   "outputs": [
    {
     "data": {
      "text/latex": [
       "$\\displaystyle - \\frac{\\lambda \\left(\\frac{P_{c}}{P_{i}}\\right)^{- \\lambda} \\left(- S_{or} - S_{wc} + 1\\right)}{P_{c}}$"
      ],
      "text/plain": [
       "-\\lambda*(-S_{or} - S_{wc} + 1)/(P_c*(P_c/P_i)**\\lambda)"
      ]
     },
     "execution_count": 104,
     "metadata": {},
     "output_type": "execute_result"
    },
    {
     "ename": "",
     "evalue": "",
     "output_type": "error",
     "traceback": [
      "\u001b[1;31mnotebook controller is DISPOSED. \n",
      "\u001b[1;31mView Jupyter <a href='command:jupyter.viewOutput'>log</a> for further details."
     ]
    }
   ],
   "source": [
    "Sw_Pc=(1-SWC-SOR)*((Pc_/Pi)**(-1*lam))+SWC\n",
    "sympy.diff(Sw_Pc,Pc_)\n",
    "\n"
   ]
  },
  {
   "cell_type": "code",
   "execution_count": 11,
   "id": "04d0ced4",
   "metadata": {},
   "outputs": [
    {
     "name": "stderr",
     "output_type": "stream",
     "text": [
      "<lambdifygenerated-13>:2: RuntimeWarning: divide by zero encountered in power\n",
      "  return P_i*((-Dummy_74 + S_w)/(-Dummy_74 - Dummy_75 + 1))**(-1/Dummy_73)\n"
     ]
    },
    {
     "data": {
      "image/png": "[encoded data removed]",
      "text/plain": [
       "<Figure size 640x480 with 1 Axes>"
      ]
     },
     "metadata": {},
     "output_type": "display_data"
    },
    {
     "data": {
      "image/png": "[encoded data removed]",
      "text/plain": [
       "<Figure size 640x480 with 1 Axes>"
      ]
     },
     "metadata": {},
     "output_type": "display_data"
    },
    {
     "data": {
      "image/png": "[encoded data removed]",
      "text/plain": [
       "<Figure size 640x480 with 1 Axes>"
      ]
     },
     "metadata": {},
     "output_type": "display_data"
    },
    {
     "name": "stderr",
     "output_type": "stream",
     "text": [
      "<lambdifygenerated-17>:2: RuntimeWarning: invalid value encountered in divide\n",
      "  return Dummy_86*((-Dummy_88 + S_w)/(-Dummy_88 - Dummy_89 + 1))**((3*Dummy_87 + 2)/Dummy_87)*(3*Dummy_87 + 2)/(Dummy_87*(-Dummy_88 + S_w))\n",
      "<lambdifygenerated-18>:2: RuntimeWarning: invalid value encountered in divide\n",
      "  return -2*Dummy_90*(1 - ((-Dummy_92 + S_w)/(-Dummy_92 - Dummy_93 + 1))**((Dummy_91 + 2)/Dummy_91))*(-(-Dummy_92 + S_w)/(-Dummy_92 - Dummy_93 + 1) + 1)/(-Dummy_92 - Dummy_93 + 1) - Dummy_90*((-Dummy_92 + S_w)/(-Dummy_92 - Dummy_93 + 1))**((Dummy_91 + 2)/Dummy_91)*(Dummy_91 + 2)*(-(-Dummy_92 + S_w)/(-Dummy_92 - Dummy_93 + 1) + 1)**2/(Dummy_91*(-Dummy_92 + S_w))\n"
     ]
    },
    {
     "data": {
      "image/png": "[encoded data removed]",
      "text/plain": [
       "<Figure size 640x480 with 1 Axes>"
      ]
     },
     "metadata": {},
     "output_type": "display_data"
    },
    {
     "data": {
      "image/png": "[encoded data removed]",
      "text/plain": [
       "<Figure size 640x480 with 1 Axes>"
      ]
     },
     "metadata": {},
     "output_type": "display_data"
    },
    {
     "data": {
      "image/png": "[encoded data removed]",
      "text/plain": [
       "<Figure size 640x480 with 1 Axes>"
      ]
     },
     "metadata": {},
     "output_type": "display_data"
    },
    {
     "data": {
      "image/png": "[encoded data removed]",
      "text/plain": [
       "<Figure size 640x480 with 1 Axes>"
      ]
     },
     "metadata": {},
     "output_type": "display_data"
    }
   ],
   "source": [
    "import matplotlib.pyplot as plt\n",
    "import numpy as np\n",
    "import sympy\n",
    "from copy import deepcopy\n",
    "Sw_args={\n",
    "    \"SOR\":0.05,\n",
    "    \"SWC\":0.45\n",
    "}\n",
    "Pc_args=Sw_args.copy()\n",
    "Pc_args.update({\n",
    "    \"lam\":0.5,\n",
    "    \"Pi\":1e3\n",
    "    })\n",
    "\n",
    "SWC=sympy.symbols(\"S_{wc}\")\n",
    "SOR=sympy.symbols(\"S_{or}\")\n",
    "Sw=sympy.symbols(\"S_w\")\n",
    "lam=sympy.symbols(\"\\lambda\")\n",
    "Pi=sympy.symbols(\"P_i\")\n",
    "K_rw0=sympy.symbols(\"k_{rw0}\")\n",
    "K_ro0=sympy.symbols(\"k_{ro0}\")\n",
    "\n",
    "Sc=(Sw-SWC)/(1-SWC-SOR)\n",
    "Pc=Pi*Sc**(-1/lam)\n",
    "\n",
    "Sw_Pc=(1-SWC-SOR)*((Pc_/Pi)**(-1*lam))+SWC\n",
    "dScdPc=sympy.diff(Sw_Pc,Pc_)\n",
    "\n",
    "\n",
    "K_rw=K_rw0*Sc**((2+3*lam)/(lam))\n",
    "K_ro=K_ro0*((1-Sc)**2)*(1-Sc**((2+lam)/(lam)))\n",
    "\n",
    "#Pc_f=lambda sw: sympy.lambdify((Sw,SOR,SWC,lam,Pi),Pc)(sw,0.05,0.45,0.5,1e5)\n",
    "Pc_f=lambda sw: sympy.lambdify((Sw,SOR,SWC,lam,Pi),Pc)(sw,*tuple(Pc_args.values()))\n",
    "Se_f=lambda sw: sympy.lambdify((Sw,SOR,SWC),Sc)(sw,*tuple(Sw_args.values()))\n",
    "K_rw_f=lambda sw: sympy.lambdify((Sw,SOR,SWC,lam,Pi,K_rw0),K_rw)(sw,*tuple(Pc_args.values()),0.3)\n",
    "K_ro_f=lambda sw: sympy.lambdify((Sw,SOR,SWC,lam,Pi,K_ro0),K_ro)(sw,*tuple(Pc_args.values()),0.5)\n",
    "\n",
    "sympy.diff(K_rw,Sw)\n",
    "sympy.diff(K_ro,Sw)\n",
    "dK_rw_f=lambda sw: sympy.lambdify((Sw,SOR,SWC,lam,Pi,K_rw0),sympy.diff(K_rw,Sw))(sw,*tuple(Pc_args.values()),0.3)\n",
    "dK_ro_f=lambda sw: sympy.lambdify((Sw,SOR,SWC,lam,Pi,K_ro0),sympy.diff(K_ro,Sw))(sw,*tuple(Pc_args.values()),0.5)\n",
    "\n",
    "Sw_Pc_f=lambda sw: sympy.lambdify((Pc_,SOR,SWC,lam,Pi),Sw_Pc)(sw,*tuple(Pc_args.values()))\n",
    "dScdPc_f=lambda sw: sympy.lambdify((Pc_,SOR,SWC,lam,Pi),dScdPc)(sw,*tuple(Pc_args.values()))\n",
    "\n",
    "Sw_points=np.arange(0.45,1-0.05,0.001) # SWR,1-SOR\n",
    "Pc_points=np.arange(1e5,1e10,10.0) # SWR,1-SOR\n",
    "plt.plot(Sw_points,Pc_f(Sw_points))\n",
    "plt.show()\n",
    "plt.plot(Sw_points,Se_f(Sw_points))\n",
    "plt.show()\n",
    "plt.plot(Sw_points,K_rw_f(Sw_points))\n",
    "plt.plot(Sw_points,K_ro_f(Sw_points))\n",
    "plt.show()\n",
    "plt.plot(Sw_points,dK_rw_f(Sw_points))\n",
    "plt.plot(Sw_points,dK_ro_f(Sw_points))\n",
    "plt.show()\n",
    "\n",
    "plt.plot(Pc_points,Sw_Pc_f(Pc_points))\n",
    "plt.show()\n",
    "\n",
    "plt.plot(Pc_points,dScdPc_f(Pc_points))\n",
    "plt.show()\n",
    "\n",
    "plt.plot(Pc_points,1/(dScdPc_f(Pc_points)))\n",
    "plt.show()"
   ]
  },
  {
   "cell_type": "code",
   "execution_count": 9,
   "id": "e0cf4296",
   "metadata": {},
   "outputs": [
    {
     "data": {
      "text/latex": [
       "$\\displaystyle k_{rw0} \\left(\\frac{S_{w} - S_{wc}}{- S_{or} - S_{wc} + 1}\\right)^{\\frac{3 \\lambda + 2}{\\lambda}}$"
      ],
      "text/plain": [
       "k_{rw0}*((S_w - S_{wc})/(-S_{or} - S_{wc} + 1))**((3*\\lambda + 2)/\\lambda)"
      ]
     },
     "execution_count": 9,
     "metadata": {},
     "output_type": "execute_result"
    }
   ],
   "source": [
    "K_rw"
   ]
  },
  {
   "cell_type": "code",
   "execution_count": 10,
   "id": "a6643ebb",
   "metadata": {},
   "outputs": [
    {
     "name": "stdout",
     "output_type": "stream",
     "text": [
      "-399999.99999999994\n",
      "-12649110621699.85\n"
     ]
    }
   ],
   "source": [
    "#Pc_points[0]\n",
    "print(1/(dScdPc_f(Pc_points[0])))\n",
    "print(1/(dScdPc_f(Pc_points[-1])))"
   ]
  },
  {
   "cell_type": "code",
   "execution_count": 69,
   "id": "16aaa3f9",
   "metadata": {},
   "outputs": [],
   "source": [
    "import torch\n",
    "def transform_sw_pt2pa(Sw,pt):\n",
    "    pc=Pc_f(Sw)\n",
    "    p_o=(pt+pc)/2\n",
    "    p_w=(pt-pc)/2\n",
    "    return p_o,p_w"
   ]
  },
  {
   "cell_type": "markdown",
   "id": "0618ae8d",
   "metadata": {},
   "source": [
    "$$\n",
    "\\frac{1}{\\mu_o} \\nabla \\cdot (K_o(S) \\nabla \\Phi_o) = - \\phi \\left ( \\frac{\\partial S_o}{\\partial t} \\right ) \\\\\n",
    "\\frac{1}{\\mu_w} \\nabla \\cdot (K_w(S) \\nabla \\Phi_w) = - \\phi \\left ( \\frac{\\partial S_w}{\\partial t} \\right )\n",
    "$$"
   ]
  },
  {
   "cell_type": "code",
   "execution_count": 70,
   "id": "963161eb",
   "metadata": {},
   "outputs": [],
   "source": [
    "#OsWsPoPwBo\n",
    "def two_phase_darcy_flow(Uv,xtk,muw=0.32,muo=1.295,porosity=0.2):\n",
    "    l=0\n",
    "    # grad n of U-ith comp wrt to x, indexing to choose x-ith derivative\n",
    "    # x-velocity components\n",
    "    Ko=torch.tensor([\n",
    "        [xtk[3],0],[0,xtk[4]]\n",
    "        ])\n",
    "    Kw=torch.tensor([\n",
    "        [xtk[3],0],[0,xtk[4]]\n",
    "        ])\n",
    "    l+=vector_grad( # oil pressure gradient\n",
    "            torch.tensordot(\n",
    "            x_grad(Uv,xtk,2,1)[...,:2],\n",
    "            Ko,dims=([-1],[1])),xtk).sum(-1)/muo\n",
    "    l+=porosity * x_grad(Uv,xtk,0,1)[...,2] # Oil saturatin change\n",
    "    l+=vector_grad( # oil pressure gradient\n",
    "            torch.tensordot(\n",
    "            x_grad(Uv,xtk,3,1)[...,:2],\n",
    "            Ko,dims=([-1],[1])),xtk).sum(-1)/muw\n",
    "    l+=porosity * x_grad(Uv,xtk,1,1)[...,2] # Oil saturatin change\n",
    "    \n",
    "    return l"
   ]
  },
  {
   "cell_type": "code",
   "execution_count": 152,
   "id": "af541e42",
   "metadata": {},
   "outputs": [
    {
     "name": "stdout",
     "output_type": "stream",
     "text": [
      "tensor([[[0.7434, 0.6072, 1.2645, 0.5815, 0.0273],\n",
      "         [0.3705, 0.9131, 1.8013, 0.5695, 0.3152]],\n",
      "\n",
      "        [[0.6184, 0.2705, 1.0670, 1.4077, 0.7457],\n",
      "         [0.4989, 0.0922, 0.0203, 1.0605, 0.4518]],\n",
      "\n",
      "        [[0.5878, 0.4296, 0.0558, 0.8286, 1.6997],\n",
      "         [0.4021, 0.7854, 0.5171, 1.0152, 1.4765]]], requires_grad=True)\n",
      "torch.Size([3, 2, 5])\n",
      "tensor([[[0.5000, 0.8212],\n",
      "         [0.5000, 0.6113]],\n",
      "\n",
      "        [[0.5000, 0.9636],\n",
      "         [0.5000, 0.9958]],\n",
      "\n",
      "        [[0.5000, 0.9091],\n",
      "         [0.5000, 0.7071]]], grad_fn=<SliceBackward0>)\n"
     ]
    },
    {
     "data": {
      "text/plain": [
       "torch.Size([3, 2])"
      ]
     },
     "execution_count": 152,
     "metadata": {},
     "output_type": "execute_result"
    }
   ],
   "source": [
    "#from \n",
    "\n",
    "x1 = torch.abs(torch.randn((3,2,5))).requires_grad_(True)  # batch p u\n",
    "print(x1)\n",
    "print(x1.shape)\n",
    "\n",
    "u1 = torch.stack([\n",
    "    x1[:,:,0]**0.5,\n",
    "    x1[:,:,1]*0.5,\n",
    "    torch.sin(x1[:,:,1])+x1[:,:,0]*0.5,\n",
    "    torch.cos(x1[:,:,3]),\n",
    "    torch.cos(x1[:,:,4]),\n",
    "    ],axis=2)\n",
    "\n",
    "Ko=torch.tensor([\n",
    "        [2.,0],[0,2.]\n",
    "        ])\n",
    "\n",
    "print(x_grad(u1,x1,2,1)[...,:2])\n",
    "vector_grad(\n",
    "    torch.tensordot(\n",
    "    x_grad(u1,x1,2,1)[...,:2],\n",
    "    Ko,dims=([-1],[1])\n",
    "),x1).sum(-1)\n",
    "\n",
    "#torch.matmul(\n",
    "#    Ko,\n",
    "#    x_grad(u1,x1,2,1)[...,:2]\n",
    "#)"
   ]
  },
  {
   "cell_type": "code",
   "execution_count": null,
   "id": "de382ac7",
   "metadata": {},
   "outputs": [],
   "source": [
    "x1 = torch.abs(torch.randn((3,2,5))).requires_grad_(True)  # batch p u\n",
    "print(x1)\n",
    "print(x1.shape)\n",
    "\n",
    "u1 = torch.stack([\n",
    "    x1[:,:,0]**0.5,\n",
    "    x1[:,:,1]*0.5,\n",
    "    torch.sin(x1[:,:,1])+x1[:,:,0]*0.5,\n",
    "    torch.cos(x1[:,:,3]),\n",
    "    torch.cos(x1[:,:,4]),\n",
    "    ],axis=2)\n",
    "\n",
    "Ko=torch.tensor([\n",
    "        [2.,0],[0,2.]\n",
    "        ])\n",
    "\n",
    "print(x_grad(u1,x1,2,1)[...,:2])\n",
    "vector_grad(\n",
    "    torch.tensordot(\n",
    "    x_grad(u1,x1,2,1)[...,:2],\n",
    "    Ko,dims=([-1],[1])\n",
    "),x1).sum(-1)"
   ]
  },
  {
   "cell_type": "code",
   "execution_count": 197,
   "id": "757160d0",
   "metadata": {},
   "outputs": [],
   "source": [
    "Ko=torch.stack(\n",
    "    [torch.stack([x1[...,2],torch.zeros_like(x1[...,2])],axis=2),\n",
    "     torch.stack([torch.zeros_like(x1[...,2]),x1[...,2]],axis=2)],axis=3)\n",
    "\n",
    "\n",
    "Ko=torch.stack(\n",
    "    [torch.stack([torch.ones_like(x1[...,2]),torch.zeros_like(x1[...,2])],axis=2),\n",
    "     torch.stack([torch.zeros_like(x1[...,2]),torch.ones_like(x1[...,2])],axis=2)],axis=3)"
   ]
  },
  {
   "cell_type": "code",
   "execution_count": 198,
   "id": "17d04d88",
   "metadata": {},
   "outputs": [
    {
     "data": {
      "text/plain": [
       "torch.Size([3, 2, 2, 2])"
      ]
     },
     "execution_count": 198,
     "metadata": {},
     "output_type": "execute_result"
    }
   ],
   "source": [
    "Ko.shape"
   ]
  },
  {
   "cell_type": "code",
   "execution_count": 220,
   "id": "d6ad062b",
   "metadata": {},
   "outputs": [
    {
     "data": {
      "text/plain": [
       "torch.Size([3, 2, 1, 2])"
      ]
     },
     "execution_count": 220,
     "metadata": {},
     "output_type": "execute_result"
    }
   ],
   "source": [
    "x_grad(u1,x1,2,1)[...,:2].unsqueeze(-2).shape"
   ]
  },
  {
   "cell_type": "code",
   "execution_count": 223,
   "id": "25699aa4",
   "metadata": {},
   "outputs": [
    {
     "data": {
      "text/plain": [
       "tensor([[[[1.3212, 1.1113],\n",
       "          [1.4636, 1.4958],\n",
       "          [1.4091, 1.2071]],\n",
       "\n",
       "         [[1.3212, 1.1113],\n",
       "          [1.4636, 1.4958],\n",
       "          [1.4091, 1.2071]]],\n",
       "\n",
       "\n",
       "        [[[1.3212, 1.1113],\n",
       "          [1.4636, 1.4958],\n",
       "          [1.4091, 1.2071]],\n",
       "\n",
       "         [[1.3212, 1.1113],\n",
       "          [1.4636, 1.4958],\n",
       "          [1.4091, 1.2071]]],\n",
       "\n",
       "\n",
       "        [[[1.3212, 1.1113],\n",
       "          [1.4636, 1.4958],\n",
       "          [1.4091, 1.2071]],\n",
       "\n",
       "         [[1.3212, 1.1113],\n",
       "          [1.4636, 1.4958],\n",
       "          [1.4091, 1.2071]]]], grad_fn=<ViewBackward0>)"
      ]
     },
     "execution_count": 223,
     "metadata": {},
     "output_type": "execute_result"
    }
   ],
   "source": [
    "torch.tensordot(\n",
    "    Ko,\n",
    "    x_grad(u1,x1,2,1)[...,:2].unsqueeze(-2),\n",
    "    dims=([-2,-1],[-2,-1])\n",
    ")"
   ]
  },
  {
   "cell_type": "code",
   "execution_count": 174,
   "id": "09593f42",
   "metadata": {},
   "outputs": [
    {
     "ename": "RuntimeError",
     "evalue": "The size of tensor a (2) must match the size of tensor b (3) at non-singleton dimension 1",
     "output_type": "error",
     "traceback": [
      "\u001b[0;31m---------------------------------------------------------------------------\u001b[0m",
      "\u001b[0;31mRuntimeError\u001b[0m                              Traceback (most recent call last)",
      "Cell \u001b[0;32mIn[174], line 1\u001b[0m\n\u001b[0;32m----> 1\u001b[0m \u001b[43mtorch\u001b[49m\u001b[38;5;241;43m.\u001b[39;49m\u001b[43mmatmul\u001b[49m\u001b[43m(\u001b[49m\n\u001b[1;32m      2\u001b[0m \u001b[43m    \u001b[49m\u001b[43mKo\u001b[49m\u001b[43m,\u001b[49m\n\u001b[1;32m      3\u001b[0m \u001b[43m    \u001b[49m\u001b[43mx_grad\u001b[49m\u001b[43m(\u001b[49m\u001b[43mu1\u001b[49m\u001b[43m,\u001b[49m\u001b[43mx1\u001b[49m\u001b[43m,\u001b[49m\u001b[38;5;241;43m2\u001b[39;49m\u001b[43m,\u001b[49m\u001b[38;5;241;43m1\u001b[39;49m\u001b[43m)\u001b[49m\u001b[43m[\u001b[49m\u001b[38;5;241;43m.\u001b[39;49m\u001b[38;5;241;43m.\u001b[39;49m\u001b[38;5;241;43m.\u001b[39;49m\u001b[43m,\u001b[49m\u001b[43m:\u001b[49m\u001b[38;5;241;43m2\u001b[39;49m\u001b[43m]\u001b[49m\n\u001b[1;32m      4\u001b[0m \u001b[43m)\u001b[49m\u001b[38;5;241m.\u001b[39mshape\n",
      "\u001b[0;31mRuntimeError\u001b[0m: The size of tensor a (2) must match the size of tensor b (3) at non-singleton dimension 1"
     ]
    }
   ],
   "source": [
    "torch.matmul(\n",
    "    Ko,\n",
    "    x_grad(u1,x1,2,1)[...,:2]\n",
    ").shape"
   ]
  },
  {
   "cell_type": "markdown",
   "id": "2301920c",
   "metadata": {},
   "source": [
    "# DATALOADER DEBUG"
   ]
  },
  {
   "cell_type": "code",
   "execution_count": 1,
   "id": "0ccdbbd0",
   "metadata": {},
   "outputs": [],
   "source": [
    "import sys\n",
    "import os\n",
    "\n",
    "sys.path.append(\"..\")\n"
   ]
  },
  {
   "cell_type": "code",
   "execution_count": 2,
   "id": "9cc3b756",
   "metadata": {},
   "outputs": [
    {
     "data": {
      "text/html": [
       "<div>\n",
       "<style scoped>\n",
       "    .dataframe tbody tr th:only-of-type {\n",
       "        vertical-align: middle;\n",
       "    }\n",
       "\n",
       "    .dataframe tbody tr th {\n",
       "        vertical-align: top;\n",
       "    }\n",
       "\n",
       "    .dataframe thead th {\n",
       "        text-align: right;\n",
       "    }\n",
       "</style>\n",
       "<table border=\"1\" class=\"dataframe\">\n",
       "  <thead>\n",
       "    <tr style=\"text-align: right;\">\n",
       "      <th></th>\n",
       "      <th>X</th>\n",
       "      <th>Y</th>\n",
       "      <th>Z</th>\n",
       "      <th>FR</th>\n",
       "      <th>Porosity</th>\n",
       "      <th>PermeabilityK</th>\n",
       "      <th>NetPay</th>\n",
       "      <th>PermeabilityJ</th>\n",
       "      <th>GridCentroidY</th>\n",
       "      <th>GridTop</th>\n",
       "      <th>...</th>\n",
       "      <th>PermeabilityI</th>\n",
       "      <th>NettoGrossRatio</th>\n",
       "      <th>t</th>\n",
       "      <th>OS</th>\n",
       "      <th>OV</th>\n",
       "      <th>OVF</th>\n",
       "      <th>P</th>\n",
       "      <th>SGR</th>\n",
       "      <th>WS</th>\n",
       "      <th>WV</th>\n",
       "    </tr>\n",
       "  </thead>\n",
       "  <tbody>\n",
       "    <tr>\n",
       "      <th>0</th>\n",
       "      <td>1.0</td>\n",
       "      <td>1.0</td>\n",
       "      <td>1.0</td>\n",
       "      <td>0.0</td>\n",
       "      <td>0.2</td>\n",
       "      <td>100.0</td>\n",
       "      <td>25.0</td>\n",
       "      <td>100.0</td>\n",
       "      <td>-50.0</td>\n",
       "      <td>2500.0</td>\n",
       "      <td>...</td>\n",
       "      <td>100.0</td>\n",
       "      <td>1.0</td>\n",
       "      <td>1.0</td>\n",
       "      <td>0.700000</td>\n",
       "      <td>1.295</td>\n",
       "      <td>0.967360</td>\n",
       "      <td>248.840</td>\n",
       "      <td>1.0</td>\n",
       "      <td>0.300000</td>\n",
       "      <td>0.32</td>\n",
       "    </tr>\n",
       "    <tr>\n",
       "      <th>1</th>\n",
       "      <td>1.0</td>\n",
       "      <td>2.0</td>\n",
       "      <td>1.0</td>\n",
       "      <td>0.0</td>\n",
       "      <td>0.2</td>\n",
       "      <td>100.0</td>\n",
       "      <td>25.0</td>\n",
       "      <td>100.0</td>\n",
       "      <td>-150.0</td>\n",
       "      <td>2500.0</td>\n",
       "      <td>...</td>\n",
       "      <td>100.0</td>\n",
       "      <td>1.0</td>\n",
       "      <td>1.0</td>\n",
       "      <td>0.700000</td>\n",
       "      <td>1.295</td>\n",
       "      <td>0.967360</td>\n",
       "      <td>248.840</td>\n",
       "      <td>1.0</td>\n",
       "      <td>0.300000</td>\n",
       "      <td>0.32</td>\n",
       "    </tr>\n",
       "    <tr>\n",
       "      <th>2</th>\n",
       "      <td>1.0</td>\n",
       "      <td>3.0</td>\n",
       "      <td>1.0</td>\n",
       "      <td>0.0</td>\n",
       "      <td>0.2</td>\n",
       "      <td>100.0</td>\n",
       "      <td>25.0</td>\n",
       "      <td>100.0</td>\n",
       "      <td>-250.0</td>\n",
       "      <td>2500.0</td>\n",
       "      <td>...</td>\n",
       "      <td>100.0</td>\n",
       "      <td>1.0</td>\n",
       "      <td>1.0</td>\n",
       "      <td>0.700000</td>\n",
       "      <td>1.295</td>\n",
       "      <td>0.967360</td>\n",
       "      <td>248.840</td>\n",
       "      <td>1.0</td>\n",
       "      <td>0.300000</td>\n",
       "      <td>0.32</td>\n",
       "    </tr>\n",
       "    <tr>\n",
       "      <th>3</th>\n",
       "      <td>1.0</td>\n",
       "      <td>4.0</td>\n",
       "      <td>1.0</td>\n",
       "      <td>0.0</td>\n",
       "      <td>0.2</td>\n",
       "      <td>100.0</td>\n",
       "      <td>25.0</td>\n",
       "      <td>100.0</td>\n",
       "      <td>-350.0</td>\n",
       "      <td>2500.0</td>\n",
       "      <td>...</td>\n",
       "      <td>100.0</td>\n",
       "      <td>1.0</td>\n",
       "      <td>1.0</td>\n",
       "      <td>0.700000</td>\n",
       "      <td>1.295</td>\n",
       "      <td>0.967360</td>\n",
       "      <td>248.840</td>\n",
       "      <td>1.0</td>\n",
       "      <td>0.300000</td>\n",
       "      <td>0.32</td>\n",
       "    </tr>\n",
       "    <tr>\n",
       "      <th>4</th>\n",
       "      <td>1.0</td>\n",
       "      <td>5.0</td>\n",
       "      <td>1.0</td>\n",
       "      <td>0.0</td>\n",
       "      <td>0.2</td>\n",
       "      <td>100.0</td>\n",
       "      <td>25.0</td>\n",
       "      <td>100.0</td>\n",
       "      <td>-450.0</td>\n",
       "      <td>2500.0</td>\n",
       "      <td>...</td>\n",
       "      <td>100.0</td>\n",
       "      <td>1.0</td>\n",
       "      <td>1.0</td>\n",
       "      <td>0.700000</td>\n",
       "      <td>1.295</td>\n",
       "      <td>0.967360</td>\n",
       "      <td>248.840</td>\n",
       "      <td>1.0</td>\n",
       "      <td>0.300000</td>\n",
       "      <td>0.32</td>\n",
       "    </tr>\n",
       "    <tr>\n",
       "      <th>...</th>\n",
       "      <td>...</td>\n",
       "      <td>...</td>\n",
       "      <td>...</td>\n",
       "      <td>...</td>\n",
       "      <td>...</td>\n",
       "      <td>...</td>\n",
       "      <td>...</td>\n",
       "      <td>...</td>\n",
       "      <td>...</td>\n",
       "      <td>...</td>\n",
       "      <td>...</td>\n",
       "      <td>...</td>\n",
       "      <td>...</td>\n",
       "      <td>...</td>\n",
       "      <td>...</td>\n",
       "      <td>...</td>\n",
       "      <td>...</td>\n",
       "      <td>...</td>\n",
       "      <td>...</td>\n",
       "      <td>...</td>\n",
       "      <td>...</td>\n",
       "    </tr>\n",
       "    <tr>\n",
       "      <th>863995</th>\n",
       "      <td>60.0</td>\n",
       "      <td>56.0</td>\n",
       "      <td>1.0</td>\n",
       "      <td>0.0</td>\n",
       "      <td>0.2</td>\n",
       "      <td>100.0</td>\n",
       "      <td>25.0</td>\n",
       "      <td>100.0</td>\n",
       "      <td>-5550.0</td>\n",
       "      <td>2500.0</td>\n",
       "      <td>...</td>\n",
       "      <td>100.0</td>\n",
       "      <td>1.0</td>\n",
       "      <td>240.0</td>\n",
       "      <td>0.474551</td>\n",
       "      <td>1.295</td>\n",
       "      <td>0.967726</td>\n",
       "      <td>246.060</td>\n",
       "      <td>1.0</td>\n",
       "      <td>0.525449</td>\n",
       "      <td>0.32</td>\n",
       "    </tr>\n",
       "    <tr>\n",
       "      <th>863996</th>\n",
       "      <td>60.0</td>\n",
       "      <td>57.0</td>\n",
       "      <td>1.0</td>\n",
       "      <td>0.0</td>\n",
       "      <td>0.2</td>\n",
       "      <td>100.0</td>\n",
       "      <td>25.0</td>\n",
       "      <td>100.0</td>\n",
       "      <td>-5650.0</td>\n",
       "      <td>2500.0</td>\n",
       "      <td>...</td>\n",
       "      <td>100.0</td>\n",
       "      <td>1.0</td>\n",
       "      <td>240.0</td>\n",
       "      <td>0.475113</td>\n",
       "      <td>1.295</td>\n",
       "      <td>0.969137</td>\n",
       "      <td>235.345</td>\n",
       "      <td>1.0</td>\n",
       "      <td>0.524887</td>\n",
       "      <td>0.32</td>\n",
       "    </tr>\n",
       "    <tr>\n",
       "      <th>863997</th>\n",
       "      <td>60.0</td>\n",
       "      <td>58.0</td>\n",
       "      <td>1.0</td>\n",
       "      <td>0.0</td>\n",
       "      <td>0.2</td>\n",
       "      <td>100.0</td>\n",
       "      <td>25.0</td>\n",
       "      <td>100.0</td>\n",
       "      <td>-5750.0</td>\n",
       "      <td>2500.0</td>\n",
       "      <td>...</td>\n",
       "      <td>100.0</td>\n",
       "      <td>1.0</td>\n",
       "      <td>240.0</td>\n",
       "      <td>0.476337</td>\n",
       "      <td>1.295</td>\n",
       "      <td>0.970766</td>\n",
       "      <td>222.972</td>\n",
       "      <td>1.0</td>\n",
       "      <td>0.523663</td>\n",
       "      <td>0.32</td>\n",
       "    </tr>\n",
       "    <tr>\n",
       "      <th>863998</th>\n",
       "      <td>60.0</td>\n",
       "      <td>59.0</td>\n",
       "      <td>1.0</td>\n",
       "      <td>0.0</td>\n",
       "      <td>0.2</td>\n",
       "      <td>100.0</td>\n",
       "      <td>25.0</td>\n",
       "      <td>100.0</td>\n",
       "      <td>-5850.0</td>\n",
       "      <td>2500.0</td>\n",
       "      <td>...</td>\n",
       "      <td>100.0</td>\n",
       "      <td>1.0</td>\n",
       "      <td>240.0</td>\n",
       "      <td>0.477238</td>\n",
       "      <td>1.295</td>\n",
       "      <td>0.972369</td>\n",
       "      <td>210.800</td>\n",
       "      <td>1.0</td>\n",
       "      <td>0.522762</td>\n",
       "      <td>0.32</td>\n",
       "    </tr>\n",
       "    <tr>\n",
       "      <th>863999</th>\n",
       "      <td>60.0</td>\n",
       "      <td>60.0</td>\n",
       "      <td>1.0</td>\n",
       "      <td>0.0</td>\n",
       "      <td>0.2</td>\n",
       "      <td>100.0</td>\n",
       "      <td>25.0</td>\n",
       "      <td>100.0</td>\n",
       "      <td>-5950.0</td>\n",
       "      <td>2500.0</td>\n",
       "      <td>...</td>\n",
       "      <td>100.0</td>\n",
       "      <td>1.0</td>\n",
       "      <td>240.0</td>\n",
       "      <td>0.600589</td>\n",
       "      <td>1.295</td>\n",
       "      <td>0.972380</td>\n",
       "      <td>210.715</td>\n",
       "      <td>1.0</td>\n",
       "      <td>0.399411</td>\n",
       "      <td>0.32</td>\n",
       "    </tr>\n",
       "  </tbody>\n",
       "</table>\n",
       "<p>864000 rows × 23 columns</p>\n",
       "</div>"
      ],
      "text/plain": [
       "           X     Y    Z   FR  Porosity  PermeabilityK  NetPay  PermeabilityJ  \\\n",
       "0        1.0   1.0  1.0  0.0       0.2          100.0    25.0          100.0   \n",
       "1        1.0   2.0  1.0  0.0       0.2          100.0    25.0          100.0   \n",
       "2        1.0   3.0  1.0  0.0       0.2          100.0    25.0          100.0   \n",
       "3        1.0   4.0  1.0  0.0       0.2          100.0    25.0          100.0   \n",
       "4        1.0   5.0  1.0  0.0       0.2          100.0    25.0          100.0   \n",
       "...      ...   ...  ...  ...       ...            ...     ...            ...   \n",
       "863995  60.0  56.0  1.0  0.0       0.2          100.0    25.0          100.0   \n",
       "863996  60.0  57.0  1.0  0.0       0.2          100.0    25.0          100.0   \n",
       "863997  60.0  58.0  1.0  0.0       0.2          100.0    25.0          100.0   \n",
       "863998  60.0  59.0  1.0  0.0       0.2          100.0    25.0          100.0   \n",
       "863999  60.0  60.0  1.0  0.0       0.2          100.0    25.0          100.0   \n",
       "\n",
       "        GridCentroidY  GridTop  ...  PermeabilityI  NettoGrossRatio      t  \\\n",
       "0               -50.0   2500.0  ...          100.0              1.0    1.0   \n",
       "1              -150.0   2500.0  ...          100.0              1.0    1.0   \n",
       "2              -250.0   2500.0  ...          100.0              1.0    1.0   \n",
       "3              -350.0   2500.0  ...          100.0              1.0    1.0   \n",
       "4              -450.0   2500.0  ...          100.0              1.0    1.0   \n",
       "...               ...      ...  ...            ...              ...    ...   \n",
       "863995        -5550.0   2500.0  ...          100.0              1.0  240.0   \n",
       "863996        -5650.0   2500.0  ...          100.0              1.0  240.0   \n",
       "863997        -5750.0   2500.0  ...          100.0              1.0  240.0   \n",
       "863998        -5850.0   2500.0  ...          100.0              1.0  240.0   \n",
       "863999        -5950.0   2500.0  ...          100.0              1.0  240.0   \n",
       "\n",
       "              OS     OV       OVF        P  SGR        WS    WV  \n",
       "0       0.700000  1.295  0.967360  248.840  1.0  0.300000  0.32  \n",
       "1       0.700000  1.295  0.967360  248.840  1.0  0.300000  0.32  \n",
       "2       0.700000  1.295  0.967360  248.840  1.0  0.300000  0.32  \n",
       "3       0.700000  1.295  0.967360  248.840  1.0  0.300000  0.32  \n",
       "4       0.700000  1.295  0.967360  248.840  1.0  0.300000  0.32  \n",
       "...          ...    ...       ...      ...  ...       ...   ...  \n",
       "863995  0.474551  1.295  0.967726  246.060  1.0  0.525449  0.32  \n",
       "863996  0.475113  1.295  0.969137  235.345  1.0  0.524887  0.32  \n",
       "863997  0.476337  1.295  0.970766  222.972  1.0  0.523663  0.32  \n",
       "863998  0.477238  1.295  0.972369  210.800  1.0  0.522762  0.32  \n",
       "863999  0.600589  1.295  0.972380  210.715  1.0  0.399411  0.32  \n",
       "\n",
       "[864000 rows x 23 columns]"
      ]
     },
     "execution_count": 2,
     "metadata": {},
     "output_type": "execute_result"
    }
   ],
   "source": [
    "from data_utils.dataloaders import simulationbasedh5Dataset\n",
    "\n",
    "data=simulationbasedh5Dataset(\n",
    "    path=\"../PhysicsSimulationDeepLearning/Data\",\n",
    "    training_mode=\"point_prediction\",\n",
    "    prediction_horizon=None,\n",
    "    sequence_dim=None,\n",
    "    simulation_time_step=1,\n",
    "    start_time=1,\n",
    "    position_fields=[\"GridCentroidX\",\"GridCentroidY\"],\n",
    "    files_extension=\"h5\")\n",
    "\n",
    "data[0][0].T"
   ]
  },
  {
   "cell_type": "code",
   "execution_count": 2,
   "id": "196979e3",
   "metadata": {},
   "outputs": [],
   "source": [
    "from data_utils.dataloaders import pointbasedh5Dataset\n",
    "\n",
    "data=pointbasedh5Dataset(\n",
    "    path=\"../PhysicsSimulationDeepLearning/Data\",\n",
    "    training_mode=\"point_prediction\",\n",
    "    prediction_horizon=None,\n",
    "    sequence_dim=None,\n",
    "    simulation_time_step=1,\n",
    "    start_time=1,\n",
    "    position_fields=[\"GridCentroidX\",\"GridCentroidY\"],\n",
    "    files_extension=\"h5\")\n",
    "\n"
   ]
  },
  {
   "cell_type": "code",
   "execution_count": 6,
   "id": "c249c9d6",
   "metadata": {},
   "outputs": [
    {
     "data": {
      "text/plain": [
       "4320000"
      ]
     },
     "execution_count": 6,
     "metadata": {},
     "output_type": "execute_result"
    }
   ],
   "source": [
    "len(data)\n",
    "#data.data\n",
    "#list(map(lambda d: len(data.dataFrame2Tensor(data.h52dataFrames(d))[0]),data.data))"
   ]
  },
  {
   "cell_type": "code",
   "execution_count": 3,
   "id": "0fbdc6ca",
   "metadata": {},
   "outputs": [
    {
     "data": {
      "text/plain": [
       "X                        1.00000\n",
       "Y                        1.00000\n",
       "Z                        1.00000\n",
       "FR                       0.00000\n",
       "Porosity                 0.20000\n",
       "PermeabilityK          100.00000\n",
       "NetPay                  25.00000\n",
       "PermeabilityJ          100.00000\n",
       "GridCentroidY          -50.00000\n",
       "GridTop               2500.00000\n",
       "GridThickness           25.00000\n",
       "GrossBlockVolume    250000.00000\n",
       "GridCentroidX           50.00000\n",
       "PermeabilityI          100.00000\n",
       "NettoGrossRatio          1.00000\n",
       "t                        1.00000\n",
       "OS                       0.70000\n",
       "OV                       1.29500\n",
       "OVF                      0.96736\n",
       "P                      248.84000\n",
       "SGR                      1.00000\n",
       "WS                       0.30000\n",
       "WV                       0.32000\n",
       "Name: 0, dtype: float64"
      ]
     },
     "execution_count": 3,
     "metadata": {},
     "output_type": "execute_result"
    }
   ],
   "source": [
    "data[0]"
   ]
  },
  {
   "cell_type": "code",
   "execution_count": 4,
   "id": "8802a0b4",
   "metadata": {},
   "outputs": [],
   "source": [
    "from data_utils.dataloaders import pointbasedPandasDataset\n",
    "\n",
    "data=pointbasedPandasDataset(\n",
    "    path=\"../PhysicsSimulationDeepLearning/Data\",\n",
    "    training_mode=\"point_prediction\",\n",
    "    prediction_horizon=None,\n",
    "    sequence_dim=None,\n",
    "    simulation_time_step=1,\n",
    "    start_time=1,\n",
    "    position_fields=[\"GridCentroidX\",\"GridCentroidY\"],\n",
    "    )"
   ]
  },
  {
   "cell_type": "code",
   "execution_count": 5,
   "id": "3ba959d7",
   "metadata": {},
   "outputs": [
    {
     "data": {
      "text/plain": [
       "32039348"
      ]
     },
     "execution_count": 5,
     "metadata": {},
     "output_type": "execute_result"
    }
   ],
   "source": [
    "len(data)\n",
    "#import pandas as pd\n",
    "#len(pd.read_csv(data.data[2]))\n",
    "#list(map(lambda d: len(pd.read_csv(d)),data.data))\n"
   ]
  },
  {
   "cell_type": "code",
   "execution_count": 6,
   "id": "cc85c061",
   "metadata": {},
   "outputs": [
    {
     "name": "stdout",
     "output_type": "stream",
     "text": [
      "[       0     4225     8450   283075   724075   998700 10259700 10320200\n",
      " 10324425 19585425 19589650 19593875 19598100 19602325 19606550 28867550\n",
      " 28871775 28876000 28877089 29318089 29322314 29763314 31351634 31355859\n",
      " 31356948 31361173 32026673 32030898 32035123 32039348]\n",
      "[ True False False False False False False False False False False False\n",
      " False False False False False False False False False False False False\n",
      " False False False False False False]\n"
     ]
    },
    {
     "data": {
      "text/plain": [
       "Unnamed: 0    0.000000e+00\n",
       "u             1.504633e-36\n",
       "x             0.000000e+00\n",
       "y             0.000000e+00\n",
       "z             0.000000e+00\n",
       "t                      NaN\n",
       "Name: 0, dtype: float64"
      ]
     },
     "execution_count": 6,
     "metadata": {},
     "output_type": "execute_result"
    }
   ],
   "source": [
    "data[0]"
   ]
  }
 ],
 "metadata": {
  "kernelspec": {
   "display_name": "Python 3 (ipykernel)",
   "language": "python",
   "name": "python3"
  },
  "language_info": {
   "codemirror_mode": {
    "name": "ipython",
    "version": 3
   },
   "file_extension": ".py",
   "mimetype": "text/x-python",
   "name": "python",
   "nbconvert_exporter": "python",
   "pygments_lexer": "ipython3",
   "version": "3.10.12"
  }
 },
 "nbformat": 4,
 "nbformat_minor": 5
}

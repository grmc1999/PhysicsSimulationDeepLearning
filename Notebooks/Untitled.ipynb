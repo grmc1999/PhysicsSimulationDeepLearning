{
 "cells": [
  {
   "cell_type": "markdown",
   "id": "1e951d77-0ee0-4320-8e8b-4fd739711728",
   "metadata": {},
   "source": [
    "# GAN_PI data"
   ]
  },
  {
   "cell_type": "code",
   "execution_count": 1,
   "id": "e4c1c928-c7d8-4487-9046-18288c742b3d",
   "metadata": {},
   "outputs": [
    {
     "name": "stdout",
     "output_type": "stream",
     "text": [
      "Collecting scipy\n",
      "  Downloading scipy-1.15.1-cp312-cp312-manylinux_2_17_x86_64.manylinux2014_x86_64.whl.metadata (61 kB)\n",
      "Requirement already satisfied: numpy<2.5,>=1.23.5 in /dolfinx-env/lib/python3.12/site-packages (from scipy) (2.0.2)\n",
      "Downloading scipy-1.15.1-cp312-cp312-manylinux_2_17_x86_64.manylinux2014_x86_64.whl (40.2 MB)\n",
      "\u001b[2K   \u001b[90m━━━━━━━━━━━━━━━━━━━━━━━━━━━━━━━━━━━━━━━━\u001b[0m \u001b[32m40.2/40.2 MB\u001b[0m \u001b[31m30.7 MB/s\u001b[0m eta \u001b[36m0:00:00\u001b[0ma \u001b[36m0:00:01\u001b[0m\n",
      "\u001b[?25hInstalling collected packages: scipy\n",
      "Successfully installed scipy-1.15.1\n",
      "\n",
      "\u001b[1m[\u001b[0m\u001b[34;49mnotice\u001b[0m\u001b[1;39;49m]\u001b[0m\u001b[39;49m A new release of pip is available: \u001b[0m\u001b[31;49m25.0\u001b[0m\u001b[39;49m -> \u001b[0m\u001b[32;49m25.0.1\u001b[0m\n",
      "\u001b[1m[\u001b[0m\u001b[34;49mnotice\u001b[0m\u001b[1;39;49m]\u001b[0m\u001b[39;49m To update, run: \u001b[0m\u001b[32;49mpip install --upgrade pip\u001b[0m\n"
     ]
    }
   ],
   "source": [
    "!pip install scipy"
   ]
  },
  {
   "cell_type": "code",
   "execution_count": 11,
   "id": "4865e9b0-c759-451f-a019-96d5da1ef942",
   "metadata": {},
   "outputs": [],
   "source": [
    "import scipy\n",
    "import os"
   ]
  },
  {
   "cell_type": "code",
   "execution_count": 9,
   "id": "e701d86b-911d-45e9-a0ff-5d75b9c3c1ce",
   "metadata": {},
   "outputs": [
    {
     "name": "stdout",
     "output_type": "stream",
     "text": [
      "Buckley_Swc_0_Sor_0_M_2.mat  burgers_shock.mat\n"
     ]
    }
   ],
   "source": [
    "!ls ../../gan-pi/resources/data"
   ]
  },
  {
   "cell_type": "code",
   "execution_count": 14,
   "id": "0d3e095b-b0b1-4647-bbb8-1ba25d61a593",
   "metadata": {},
   "outputs": [],
   "source": [
    "path_lib = os.path.dirname(os.getcwd())\n",
    "path_resources = os.path.join(\"../../gan-pi\", 'resources')\n",
    "path_data = os.path.join(path_resources, 'data')\n",
    "\n",
    "filename = 'Buckley_Swc_0_Sor_0_M_2.mat'\n",
    "path_file = os.path.join(path_data, filename)\n",
    "data = scipy.io.loadmat(path_file)"
   ]
  },
  {
   "cell_type": "code",
   "execution_count": 16,
   "id": "1788d435-03f2-4f1a-ab17-3e6c9c4e6e6c",
   "metadata": {},
   "outputs": [
    {
     "data": {
      "text/plain": [
       "dict_keys(['__header__', '__version__', '__globals__', 't', 'usol', 'x'])"
      ]
     },
     "execution_count": 16,
     "metadata": {},
     "output_type": "execute_result"
    }
   ],
   "source": [
    "data.keys()"
   ]
  },
  {
   "cell_type": "code",
   "execution_count": 17,
   "id": "5ef545e8-222a-45b6-8207-391ea7be37a4",
   "metadata": {},
   "outputs": [
    {
     "data": {
      "text/plain": [
       "256"
      ]
     },
     "execution_count": 17,
     "metadata": {},
     "output_type": "execute_result"
    }
   ],
   "source": [
    "len(data[\"usol\"])"
   ]
  }
 ],
 "metadata": {
  "kernelspec": {
   "display_name": "Python 3 (ipykernel)",
   "language": "python",
   "name": "python3"
  },
  "language_info": {
   "codemirror_mode": {
    "name": "ipython",
    "version": 3
   },
   "file_extension": ".py",
   "mimetype": "text/x-python",
   "name": "python",
   "nbconvert_exporter": "python",
   "pygments_lexer": "ipython3",
   "version": "3.10.12"
  }
 },
 "nbformat": 4,
 "nbformat_minor": 5
}
